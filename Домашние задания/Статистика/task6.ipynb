{
 "cells": [
  {
   "cell_type": "markdown",
   "metadata": {},
   "source": [
    "# Прикладная статистика и анализ данных\n",
    "## Задание 6\n",
    "\n",
    "**Правила:**\n",
    "\n",
    "* Дедлайн **23 марта 16:30**. После дедлайна работы не принимаются кроме случаев наличия уважительной причины.\n",
    "* Выполненную работу нужно отправить на почту ` mipt.stats@yandex.ru`, указав тему письма `\"[asda] Фамилия Имя - задание 6\"`. Квадратные скобки обязательны. Если письмо дошло, придет ответ от автоответчика.\n",
    "* Прислать нужно ноутбук и его pdf-версию (без архивов). Названия файлов должны быть такими: `6.N.ipynb` и `6.N.pdf`, где `N` - ваш номер из таблицы с оценками.\n",
    "* Задачу 3 необходимо оформить в tex’е и прислать `pdf` или же прислать фотку в правильной ориентации рукописного решения, где **все четко видно**.\n",
    "* Решения, размещенные на каких-либо интернет-ресурсах не принимаются. Кроме того, публикация решения в открытом доступе может быть приравнена к предоставлении возможности списать.\n",
    "* Для выполнения задания используйте этот ноутбук в качествие основы, ничего не удаляя из него.\n",
    "* Никакой код из данного задания при проверке запускаться не будет.\n",
    "* В каждой задаче не забывайте делать **пояснения и выводы**.\n",
    "\n",
    "**Баллы за задание:**\n",
    "\n",
    "* Задача 1 -  5 баллов\n",
    "* Задача 2 -  2 балла\n",
    "* Задача 3 -  4 балла\n",
    "* Задача 4 -  8 баллов"
   ]
  },
  {
   "cell_type": "code",
   "execution_count": null,
   "metadata": {
    "ExecuteTime": {
     "end_time": "2020-03-18T06:45:27.782625Z",
     "start_time": "2020-03-18T06:45:27.765788Z"
    }
   },
   "outputs": [],
   "source": [
    "import numpy as np\n",
    "import pandas as pd\n",
    "import scipy.stats as sps\n",
    "import warnings\n",
    "warnings.filterwarnings(\"ignore\")\n",
    "\n",
    "import matplotlib.pyplot as plt\n",
    "import seaborn as sns\n",
    "\n",
    "%matplotlib inline"
   ]
  },
  {
   "cell_type": "markdown",
   "metadata": {},
   "source": [
    "### Задача 1\n",
    "Рассмотрим таблицу с оценками за осенний семестр. Предполагая нормальность распределений проверьте следующие гипотезы:\n",
    "* средний балл за первое и последнее практические задания не отличается;\n",
    "* средний балл по решению домашних заданий в группах Димы и Ромы;\n",
    "* средний балл за вторую контрольную в группах Димы и Ромы.\n",
    "\n",
    "В каждом случае:\n",
    "* для каждой выборки на одном графике постройте ядерные оценки плотности;\n",
    "* постройте боксплоты;\n",
    "* постройте доверительный интервал для разности средних.\n",
    "\n",
    "Сделайте выводы."
   ]
  },
  {
   "cell_type": "markdown",
   "metadata": {},
   "source": [
    "### Задача 2\n",
    "\n",
    "Сравните вероятности получения конфет на экзамене в зависимости от семинарской группы в осеннем семестре. В каких случаях имеется статистически значимое отличие?\n",
    "\n",
    "Сделайте выводы."
   ]
  },
  {
   "cell_type": "markdown",
   "metadata": {},
   "source": [
    "### Задача 3\n",
    "\n",
    "Пусть $X=(X_1, ..., X_n)$ и $Y=(Y_1, ..., Y_m)$ --- нормальные выборки с одинаковой неизвестной дисперсией. Докажите что статистика $T$-критерия о равенстве средних имеет распределение Стьюдента с $n-m-2$ степенями свободы.\n",
    "\n",
    "*Указание.* Воспользуйтесь теоремой об ортогональном разложении гауссовского вектора."
   ]
  },
  {
   "cell_type": "markdown",
   "metadata": {},
   "source": [
    "### Задача 4\n",
    "Для анализа будем использоваться датасет <a href=\"https://ru.wikipedia.org/wiki/Экспрессия_генов\">экспресии генов</a> в нормальных тканях и в <a href=\"https://ru.wikipedia.org/wiki/Карцинома\">карциномах</a>, полученные c помощью нуклеотидных микрочипов. Данные опубликованы в работе `Notterman, et al, Cancer Research vol. 61: 2001`.\n",
    "Всего доступна информация о 18 опухолевых образцах и о соответсвующих им здоровых тканях.\n",
    "\n",
    "Для лучшего понимания задачи можно почитать следующие статьи:\n",
    "* https://fb.ru/article/256575/ekspressiya-genov---eto-chto-takoe-opredelenie-ponyatiya\n",
    "* https://ru.qwe.wiki/wiki/Gene_expression"
   ]
  },
  {
   "cell_type": "markdown",
   "metadata": {},
   "source": [
    "#### Шаг 1. Загрузка и подготовка датасета\n",
    "Загрузим данные"
   ]
  },
  {
   "cell_type": "code",
   "execution_count": null,
   "metadata": {
    "ExecuteTime": {
     "end_time": "2020-03-18T00:34:23.752937Z",
     "start_time": "2020-03-18T00:34:21.953424Z"
    }
   },
   "outputs": [],
   "source": [
    "! wget http://genomics-pubs.princeton.edu/oncology/Data/CarcinomaNormalDatasetCancerResearchText.zip\n",
    "! unzip CarcinomaNormalDatasetCancerResearchText.zip"
   ]
  },
  {
   "cell_type": "markdown",
   "metadata": {},
   "source": [
    "Загрузим данные в `pandas` и посмотрим на них:"
   ]
  },
  {
   "cell_type": "code",
   "execution_count": null,
   "metadata": {
    "ExecuteTime": {
     "end_time": "2020-03-18T05:40:10.753696Z",
     "start_time": "2020-03-18T05:40:10.684979Z"
    }
   },
   "outputs": [],
   "source": [
    "data = pd.read_table(\n",
    "    \"CarcinomaNormalDatasetCancerResearch.txt\", \n",
    "    skiprows=range(1,8), index_col=0, usecols=range(39)\n",
    ")\n",
    "data = data.drop(['Sample'], axis=1)\n",
    "\n",
    "data.head()"
   ]
  },
  {
   "cell_type": "markdown",
   "metadata": {},
   "source": [
    "Посмотрим также на хвост данных"
   ]
  },
  {
   "cell_type": "code",
   "execution_count": null,
   "metadata": {
    "ExecuteTime": {
     "end_time": "2020-03-18T05:40:53.096947Z",
     "start_time": "2020-03-18T05:40:53.065480Z"
    }
   },
   "outputs": [],
   "source": [
    "data.tail()"
   ]
  },
  {
   "cell_type": "markdown",
   "metadata": {},
   "source": [
    "В конце прочитались две пустых строки. Удалим их и убедимся, что пропусков в данных нет"
   ]
  },
  {
   "cell_type": "code",
   "execution_count": null,
   "metadata": {
    "ExecuteTime": {
     "end_time": "2020-03-18T05:43:27.464608Z",
     "start_time": "2020-03-18T05:43:27.446631Z"
    }
   },
   "outputs": [],
   "source": [
    "data = data.iloc[:-2]\n",
    "data.isna().sum()"
   ]
  },
  {
   "cell_type": "markdown",
   "metadata": {},
   "source": [
    "Каждый ряд соответствует какому-то из интересующих нас генов, а колонка соответствует данным об экспресии каждого гена в опухолевых (`Tumor`) и контрольных (`Normal`) клеток."
   ]
  },
  {
   "cell_type": "markdown",
   "metadata": {},
   "source": [
    "Явно укажем вещественный тип данных"
   ]
  },
  {
   "cell_type": "code",
   "execution_count": null,
   "metadata": {
    "ExecuteTime": {
     "end_time": "2020-03-18T05:46:07.080931Z",
     "start_time": "2020-03-18T05:46:07.036213Z"
    }
   },
   "outputs": [],
   "source": [
    "data.iloc[:, 2:] = data.iloc[:, 2:].astype('float')"
   ]
  },
  {
   "cell_type": "markdown",
   "metadata": {},
   "source": [
    "Проверим, уникальны ли все образцы в датасете, для этого сравним количество уникальных ID генов с количеством строк:"
   ]
  },
  {
   "cell_type": "code",
   "execution_count": null,
   "metadata": {
    "ExecuteTime": {
     "end_time": "2020-03-18T05:46:27.444793Z",
     "start_time": "2020-03-18T05:46:27.419607Z"
    }
   },
   "outputs": [],
   "source": [
    "len(np.unique(data.index)), len(data.index)"
   ]
  },
  {
   "cell_type": "markdown",
   "metadata": {},
   "source": [
    "Некоторые эксперименты повторялись более одного раза. Оставим те, где средний уровень экспрессии выше."
   ]
  },
  {
   "cell_type": "code",
   "execution_count": null,
   "metadata": {
    "ExecuteTime": {
     "end_time": "2020-03-18T05:46:47.940456Z",
     "start_time": "2020-03-18T05:46:47.912747Z"
    }
   },
   "outputs": [],
   "source": [
    "data['mean_expr'] = data.iloc[:, 1:-1].mean(axis=1)\n",
    "data.sort_values(by=['mean_expr'], ascending=False)\n",
    "data = data.groupby('Accession Number').first()"
   ]
  },
  {
   "cell_type": "markdown",
   "metadata": {},
   "source": [
    "Сохраним описания генов и данные по их экспрессии отдельно. Значение средней экспрессии нам не нужны, поэтому избавимся от них"
   ]
  },
  {
   "cell_type": "code",
   "execution_count": null,
   "metadata": {
    "ExecuteTime": {
     "end_time": "2020-03-18T05:47:46.560262Z",
     "start_time": "2020-03-18T05:47:46.551463Z"
    }
   },
   "outputs": [],
   "source": [
    "expr_data, descr = data.drop(\n",
    "    ['Description', 'mean_expr'], axis=1\n",
    "), data.Description"
   ]
  },
  {
   "cell_type": "code",
   "execution_count": null,
   "metadata": {
    "ExecuteTime": {
     "end_time": "2020-03-18T05:47:47.824998Z",
     "start_time": "2020-03-18T05:47:47.785550Z"
    }
   },
   "outputs": [],
   "source": [
    "expr_data.head()"
   ]
  },
  {
   "cell_type": "markdown",
   "metadata": {},
   "source": [
    "Для удобства работы транспонируем матрицу данных об экспрессии, и разметим для каждой строки, является ли образец опухолевым или нормой"
   ]
  },
  {
   "cell_type": "code",
   "execution_count": null,
   "metadata": {
    "ExecuteTime": {
     "end_time": "2020-03-18T05:48:43.773104Z",
     "start_time": "2020-03-18T05:48:43.767489Z"
    }
   },
   "outputs": [],
   "source": [
    "expr_data = expr_data.T"
   ]
  },
  {
   "cell_type": "markdown",
   "metadata": {},
   "source": [
    "Осуществите разметку данных (`-1` -- опухолевые, `1` -- здоровые)"
   ]
  },
  {
   "cell_type": "code",
   "execution_count": null,
   "metadata": {},
   "outputs": [],
   "source": [
    "<...>"
   ]
  },
  {
   "cell_type": "code",
   "execution_count": null,
   "metadata": {
    "ExecuteTime": {
     "end_time": "2020-03-18T05:50:29.261628Z",
     "start_time": "2020-03-18T05:50:29.228568Z"
    },
    "scrolled": true
   },
   "outputs": [],
   "source": [
    "expr_data.head()"
   ]
  },
  {
   "cell_type": "code",
   "execution_count": null,
   "metadata": {
    "ExecuteTime": {
     "end_time": "2020-03-18T05:50:31.895420Z",
     "start_time": "2020-03-18T05:50:31.400298Z"
    }
   },
   "outputs": [],
   "source": [
    "expr_data.info()"
   ]
  },
  {
   "cell_type": "markdown",
   "metadata": {},
   "source": [
    "Значения дифференциальной эскпрессии гена в образцах могут быть крайне различны. \n",
    "Для каждого гена можно характеризовать разброс экспрессии как среднее, максимум и минимум (отдельно в опухолевых и в контролях). Постройте гистограммы этих значений в опухолевых образцах и в контролях. "
   ]
  },
  {
   "cell_type": "code",
   "execution_count": null,
   "metadata": {},
   "outputs": [],
   "source": [
    "<...>"
   ]
  },
  {
   "cell_type": "markdown",
   "metadata": {},
   "source": [
    "#### 1. Предварительная визуализация"
   ]
  },
  {
   "cell_type": "markdown",
   "metadata": {},
   "source": [
    "Посмотрим на значения экспрессии случайного гена"
   ]
  },
  {
   "cell_type": "code",
   "execution_count": null,
   "metadata": {
    "ExecuteTime": {
     "end_time": "2020-03-18T00:40:07.769736Z",
     "start_time": "2020-03-18T00:40:07.350082Z"
    }
   },
   "outputs": [],
   "source": [
    "plt.figure(figsize=(12, 6))\n",
    "\n",
    "plt.subplot(121)\n",
    "sns.distplot(expr_data[expr_data.Label==1].iloc[:, 6], kde=True)\n",
    "plt.title('Normal')\n",
    "\n",
    "plt.subplot(122)\n",
    "sns.distplot(expr_data[expr_data.Label==-1].iloc[:, 6], kde=True)\n",
    "plt.title('Tumor');"
   ]
  },
  {
   "cell_type": "markdown",
   "metadata": {},
   "source": [
    "Сравним плотности этих распределений с помощью `kdeplot` и разброс значений с помощью `boxplot`:"
   ]
  },
  {
   "cell_type": "code",
   "execution_count": null,
   "metadata": {},
   "outputs": [],
   "source": [
    "<...>"
   ]
  },
  {
   "cell_type": "markdown",
   "metadata": {},
   "source": [
    "На графиках видно, что для одного случайного гена профили экспрессии возможно различаются.  \n",
    "Но насколько это статистически достоверно и такова ли эта картина в целом?   \n",
    "  \n",
    "  \n",
    "Для продолжения анализа необходимо понять, как именно были получены данные. Для этого обратимся к статье:  \n",
    "_Gene intensity information was converted to a mean intensity for each gene by proprietary software (Affymetrix), which includes routines for filtering and centering the data (in these experiments, to 50 intensity units). Expression of genes related to smooth muscle and connective tissue was consistently greater in the normal than the tumor samples, probably because of the greater heterogeneity of tissue type in the normal samples_\n",
    "\n",
    "Видим, что нормализация данных уже выполнена.\n",
    "Во многих случаях для визуализации удобно переходить к логарифмическому формату данных."
   ]
  },
  {
   "cell_type": "markdown",
   "metadata": {},
   "source": [
    "#### 2. Анализ распределений"
   ]
  },
  {
   "cell_type": "markdown",
   "metadata": {},
   "source": [
    "Предварительный зрительный анализ может сказать очень многое о том, как устроены наши данные. Тем не менее, для получения полной картины простого взгляда на данные недостаточно. Первое на что нужно обрать внимание -- это параметры распределения. Все распределения в первую очередь характеризуются медианой и средним. Для гена `D00137` вычислите медиану и средний уровень экспрессии в опухолевых и нормальных тканей."
   ]
  },
  {
   "cell_type": "code",
   "execution_count": null,
   "metadata": {},
   "outputs": [],
   "source": [
    "<...>"
   ]
  },
  {
   "cell_type": "markdown",
   "metadata": {},
   "source": [
    "#### 3. Проверка статистических гипотез"
   ]
  },
  {
   "cell_type": "markdown",
   "metadata": {},
   "source": [
    "Для того, чтобы утверждать, что \"ген `X` овер-экспрессирован в опухолевых образцах\", недостаточно просто посмотреть на боксплоты, необходимо провести статистический анализ.\n",
    "\n",
    "Для анализ одного гена проверяются гипотезы о сравнении профилей экспрессий между опухолевыми и контрольными образцами:  \n",
    "    $\\mathsf{H}_0\\colon$ для гена `X` не наблюдается разницы средних экспрессий;  \n",
    "    $\\mathsf{H}_1\\colon$ для гена `X` наблюдается разница средних экспрессий.\n",
    "    \n",
    "Какой критерий стоит выбрать для проверки в предположении нормальности распределений? Воспользуйтесь этим критерием для проверки гипотезы для гена `Human class I alcohol dehydrogenase beta-1 subunit, allele 1 mRNA, complete cds`."
   ]
  },
  {
   "cell_type": "code",
   "execution_count": null,
   "metadata": {},
   "outputs": [],
   "source": [
    "<...>"
   ]
  },
  {
   "cell_type": "markdown",
   "metadata": {},
   "source": [
    "Проинтерпретируйте результаты:"
   ]
  },
  {
   "cell_type": "markdown",
   "metadata": {},
   "source": []
  },
  {
   "cell_type": "markdown",
   "metadata": {},
   "source": [
    "Давайте проверим, что наши данные действительно разделяются на два разных распределения. Для этого проверим, как будет работать этот же метод, если случайным образом перемешать метки подгрупп. Реализуйте случайное сэмплирование с помощью функции `random.choice` из библиотеки `numpy` и посмотрите, как изменится p-value (и изменится ли)."
   ]
  },
  {
   "cell_type": "code",
   "execution_count": null,
   "metadata": {},
   "outputs": [],
   "source": [
    "<...>"
   ]
  },
  {
   "cell_type": "markdown",
   "metadata": {},
   "source": [
    "Сделайте вывод"
   ]
  },
  {
   "cell_type": "markdown",
   "metadata": {},
   "source": [
    "<...>"
   ]
  },
  {
   "cell_type": "markdown",
   "metadata": {},
   "source": [
    "И, наконец, самое интересное. Посчитайте, в каком проценте генов, для которых с уровнем значимости 0.05 наблюдается овер-экспрессия в опухолевых тканях.\n",
    "При этом важно выполнить поправку на множественное тестирование. "
   ]
  },
  {
   "cell_type": "code",
   "execution_count": null,
   "metadata": {},
   "outputs": [],
   "source": [
    "<...>"
   ]
  },
  {
   "cell_type": "markdown",
   "metadata": {},
   "source": [
    "Постройте гистограмму полученных значений p-value и скорректированных."
   ]
  },
  {
   "cell_type": "code",
   "execution_count": null,
   "metadata": {},
   "outputs": [],
   "source": [
    "<...>"
   ]
  },
  {
   "cell_type": "markdown",
   "metadata": {},
   "source": [
    "Напечатайте число генов, для которых можно отвергнуть нулевую гипотезу, а также их долю среди всех генов"
   ]
  },
  {
   "cell_type": "code",
   "execution_count": null,
   "metadata": {},
   "outputs": [],
   "source": [
    "<...>"
   ]
  },
  {
   "cell_type": "markdown",
   "metadata": {},
   "source": [
    "#### 4. Немного поближе взглянем на результаты"
   ]
  },
  {
   "cell_type": "markdown",
   "metadata": {},
   "source": [
    "Посмотрим, какие же гены оверэкспрессированы. В коде ниже `p_vals_adjusted` -- скорректированные значения p-value."
   ]
  },
  {
   "cell_type": "code",
   "execution_count": null,
   "metadata": {},
   "outputs": [],
   "source": [
    "for name, function in zip(\n",
    "    expr_data.columns[np.where([p_vals_adjusted < 0.05])[1]], \n",
    "    descr[np.where([p_vals_adjusted < 0.05])[1]]\n",
    "):\n",
    "    print(name + \": \" + function)"
   ]
  }
 ],
 "metadata": {
  "kernelspec": {
   "display_name": "Python 3",
   "language": "python",
   "name": "python3"
  },
  "language_info": {
   "codemirror_mode": {
    "name": "ipython",
    "version": 3
   },
   "file_extension": ".py",
   "mimetype": "text/x-python",
   "name": "python",
   "nbconvert_exporter": "python",
   "pygments_lexer": "ipython3",
   "version": "3.7.3"
  }
 },
 "nbformat": 4,
 "nbformat_minor": 2
}
