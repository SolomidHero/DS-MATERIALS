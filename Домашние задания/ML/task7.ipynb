{
 "cells": [
  {
   "cell_type": "markdown",
   "metadata": {},
   "source": [
    "# Машинное обучение, DS-поток\n",
    "## Домашнее задание 7\n",
    "\n",
    "**Правила:**\n",
    "\n",
    "* Дедлайн **10 апреля 02:00** (по состоянию на момент выдачи). После дедлайна работы не принимаются кроме случаев наличия уважительной причины.\n",
    "* Выполненную работу нужно отправить на почту ` mipt.stats@yandex.ru`, указав тему письма `\"[ml] Фамилия Имя - задание 7\"`. Квадратные скобки обязательны. Если письмо дошло, придет ответ от автоответчика.\n",
    "* Прислать нужно ноутбук и его pdf-версию (без архивов). Названия файлов должны быть такими: `7.N.ipynb` и `7.N.pdf`, где `N` - ваш номер из таблицы с оценками.\n",
    "* Теоретические задачи необходимо оформить в техе/markdown или же прислать фотку в правильной ориентации рукописного решения, **где все четко видно**.\n",
    "* Решения, размещенные на каких-либо интернет-ресурсах не принимаются. Кроме того, публикация решения в открытом доступе может быть приравнена к предоставлении возможности списать.\n",
    "* Для выполнения задания используйте этот ноутбук в качествие основы, ничего не удаляя из него.\n",
    "* Никакой код из данного задания при проверке запускаться не будет.\n",
    "\n",
    "**Баллы за задание:**\n",
    "\n",
    "* Задача 1 -  3 балла\n",
    "* Задача 2 -  4 балла\n",
    "* Задача 3 -  3 балла\n",
    "* Задача 4 -  3 балла\n",
    "* Задача 5 -  5 баллов\n",
    "* Задача 5 -  6 баллов"
   ]
  },
  {
   "cell_type": "code",
   "execution_count": null,
   "metadata": {
    "ExecuteTime": {
     "end_time": "2020-03-30T08:18:39.059510Z",
     "start_time": "2020-03-30T08:18:39.053095Z"
    },
    "colab": {},
    "colab_type": "code",
    "id": "KnxRnJPqfp_T"
   },
   "outputs": [],
   "source": [
    "import os \n",
    "\n",
    "import numpy as np\n",
    "import scipy.stats as sps\n",
    "import pandas as pd\n",
    "import seaborn as sns\n",
    "import matplotlib.pyplot as plt\n",
    "\n",
    "from sklearn.pipeline import Pipeline\n",
    "from sklearn.svm import SVC, SVR\n",
    "from sklearn.metrics import accuracy_score, mean_absolute_error\n",
    "from sklearn.model_selection import train_test_split, RandomizedSearchCV\n",
    "from sklearn.preprocessing import StandardScaler\n",
    "from sklearn.datasets import make_moons, make_blobs, make_circles\n",
    "\n",
    "sns.set(font_scale=1.2, palette='Set2') "
   ]
  },
  {
   "cell_type": "markdown",
   "metadata": {
    "ExecuteTime": {
     "end_time": "2020-03-29T19:51:16.025215Z",
     "start_time": "2020-03-29T19:51:14.845922Z"
    }
   },
   "source": [
    "### Задача 1.\n",
    "\n",
    "Рассмотрим следующие функции\n",
    "* $K(x, z) = \\langle x, z \\rangle^k$, где $x, z\\in \\mathscr{X} = \\mathbb{R}^2, k \\in \\mathbb{N}$\n",
    "* $K(x, z) = \\exp\\left(-\\gamma \\|x-z\\|^2\\right)$, где $x, z\\in\\mathscr{X} = \\mathbb{R}^2, \\gamma>0$\n",
    "\n",
    "Для этих ядер найдите спрямляющее пространство $\\mathscr{H}$ и отображение $\\psi: \\mathscr{X} \\to \\mathscr{H}$, для которого верно $K(x, z) = \\langle \\psi(x), \\psi(z) \\rangle$. Какой вид имеет классификатор SVM, основанный на этих ядрах? "
   ]
  },
  {
   "cell_type": "markdown",
   "metadata": {},
   "source": [
    "### Задача 2.\n",
    "\n",
    "Какие из следующих функций являются ядрами?\n",
    "* $K(x, z) = \\cos(x - z)$, где $x, z\\in\\mathbb{R}$\n",
    "* $K(x, z) = \\cos^2(x - z)$, где $x, z\\in\\mathbb{R}$\n",
    "* $K(x, z) = \\sin^2(x - z)$, где $x, z\\in\\mathbb{R}$\n",
    "* $K(x, z) = \\min\\{x, z\\}$, где $x, z\\in\\mathbb{R}_+$"
   ]
  },
  {
   "cell_type": "markdown",
   "metadata": {},
   "source": [
    "### Задача 3.\n",
    "\n",
    "Рассмотрите следующую двумерную выборку"
   ]
  },
  {
   "cell_type": "code",
   "execution_count": null,
   "metadata": {},
   "outputs": [],
   "source": [
    "X, Y = make_circles(n_samples=100)"
   ]
  },
  {
   "cell_type": "markdown",
   "metadata": {},
   "source": [
    "Изобразите эти выборки на плоскости, используя `Y` в качестве цвета точек."
   ]
  },
  {
   "cell_type": "code",
   "execution_count": null,
   "metadata": {},
   "outputs": [],
   "source": []
  },
  {
   "cell_type": "markdown",
   "metadata": {},
   "source": [
    "Рассмотрим ядро $K(x, z) = \\langle x, z \\rangle^2$. Переведите точки выборки в соответствующее данному ядру спрямляющее пространство и визуализируйте все проекции на пары координат. Рисуйте эти графики в строчку."
   ]
  },
  {
   "cell_type": "code",
   "execution_count": null,
   "metadata": {},
   "outputs": [],
   "source": []
  },
  {
   "cell_type": "markdown",
   "metadata": {},
   "source": [
    "Добавьте к признакам некоторый сдвиг и повторите те же действия. Что можно наблюдать?"
   ]
  },
  {
   "cell_type": "code",
   "execution_count": null,
   "metadata": {},
   "outputs": [],
   "source": []
  },
  {
   "cell_type": "markdown",
   "metadata": {},
   "source": [
    "Повторите те же действия с RBF-ядром $K(x, z) = \\exp\\left(-\\gamma \\|x-z\\|^2\\right)$, рассмотрев проекции на пары координат спрямляющего пространства, которые соответствуют многочленам степени не более 3 исходного пространства. Для простоты рисуйте графики в виде сетки $k \\times k$."
   ]
  },
  {
   "cell_type": "code",
   "execution_count": null,
   "metadata": {},
   "outputs": [],
   "source": []
  },
  {
   "cell_type": "markdown",
   "metadata": {},
   "source": [
    "Для RBF-ядра повторите те же действия для следующей выборки."
   ]
  },
  {
   "cell_type": "code",
   "execution_count": null,
   "metadata": {},
   "outputs": [],
   "source": [
    "X, Y = make_moons(n_samples=100)"
   ]
  },
  {
   "cell_type": "code",
   "execution_count": null,
   "metadata": {},
   "outputs": [],
   "source": []
  },
  {
   "cell_type": "markdown",
   "metadata": {},
   "source": [
    "Сделайте выводы."
   ]
  },
  {
   "cell_type": "markdown",
   "metadata": {
    "colab_type": "text",
    "id": "ZRyMX75H1vPe"
   },
   "source": [
    "### Задача 4.\n",
    "\n",
    "Даны три случайные двумерные выборки для бинарной классификации: \n",
    "\n",
    "* С линейно разделимыми классами\n",
    "* С изогнутыми классами в виде лун\n",
    "* С вложенными друг в друга классами\n",
    "\n",
    "Код для генерации каждой выборки приводится далее.\n",
    "\n"
   ]
  },
  {
   "cell_type": "code",
   "execution_count": null,
   "metadata": {
    "ExecuteTime": {
     "end_time": "2020-03-30T05:22:27.219074Z",
     "start_time": "2020-03-30T05:22:26.974851Z"
    }
   },
   "outputs": [],
   "source": [
    "random_state = 20200329\n",
    "n_samples = 500\n",
    "\n",
    "X, Y = np.zeros((3, n_samples, 2)), np.zeros((3, n_samples))\n",
    "X[0], Y[0] = make_blobs(n_samples=n_samples, n_features=2, \n",
    "                        centers=2, random_state=random_state)\n",
    "X[1], Y[1] = make_moons(n_samples=n_samples, \n",
    "                        noise=0.2, random_state=random_state)\n",
    "X[2], Y[2] = make_circles(n_samples=n_samples, \n",
    "                          noise=0.1, random_state=random_state)"
   ]
  },
  {
   "cell_type": "markdown",
   "metadata": {},
   "source": [
    "Визуализация этих выборок"
   ]
  },
  {
   "cell_type": "code",
   "execution_count": null,
   "metadata": {
    "ExecuteTime": {
     "end_time": "2020-03-30T05:22:28.567993Z",
     "start_time": "2020-03-30T05:22:27.365309Z"
    }
   },
   "outputs": [],
   "source": [
    "plt.figure(figsize=(16, 5))\n",
    "\n",
    "for i, name in enumerate(['Линейно разделимые', 'Изогнутые', 'Вложенные']):\n",
    "    plt.subplot(1, 3, i+1)\n",
    "    plt.scatter(X[i, :, 0], X[i, :, 1], c=Y[i], cmap='spring')\n",
    "    plt.title(name)\n",
    "plt.show()"
   ]
  },
  {
   "cell_type": "markdown",
   "metadata": {
    "colab_type": "text",
    "id": "6cBPVFO2uzZ1"
   },
   "source": [
    "Для решения задачи вам выдается функция, аналогичная функции с семинара, но с некоторыми изменениями"
   ]
  },
  {
   "cell_type": "code",
   "execution_count": null,
   "metadata": {
    "ExecuteTime": {
     "end_time": "2020-03-30T05:25:48.234702Z",
     "start_time": "2020-03-30T05:25:48.218154Z"
    }
   },
   "outputs": [],
   "source": [
    "def draw_graphics(models, X, Y, X_test, Y_test, point_size=35, \n",
    "                  ncol=3, margin=False, params=['C']):\n",
    "    '''\n",
    "    Визуализирует решающие правила для каждой модели.\n",
    "    models --- все обученные SVM-модели, которые нужно визуализировать.\n",
    "    X --- объекты для визуализации (предполагается обучающая выборка)\n",
    "    Y --- ответы для визуализации (предполагается обучающая выборка)\n",
    "    X_test --- объекты, на которых необходимо посчитать качество\n",
    "    Y_test --- соответствующие им ответы.\n",
    "    point_size --- размер точки на графике\n",
    "    ncol --- количество колонок у таблицы графиков\n",
    "    margin --- если True, то визуализируется решающая функция, \n",
    "                иначе решающее правило\n",
    "    params --- список параметров SVM, которые нужно напечатать на графике\n",
    "    '''\n",
    "    \n",
    "    # определение количества строк таблицы графиков в зависимости\n",
    "    # от количества колонок и количества моделей\n",
    "    n_rows = (len(models) + ncol-1) // ncol\n",
    "    \n",
    "    plt.figure(figsize=(16, 5*n_rows))\n",
    "    for i_model, model in enumerate(models):\n",
    "        plt.subplot(n_rows, 3, i_model+1)\n",
    "        \n",
    "        # Визуализация опорных векторов model.support_vectors_\n",
    "        plt.scatter(\n",
    "            model.support_vectors_[:, 0], model.support_vectors_[:, 1],\n",
    "            edgecolor='black', s=1.5*point_size,\n",
    "            alpha=0.5, zorder=10, linewidths=7\n",
    "        )\n",
    "        \n",
    "        # Визуализация остальных точек\n",
    "        plt.scatter(\n",
    "            X[:, 0], X[:, 1], c=Y, zorder=10, s=point_size, alpha=0.7,\n",
    "            cmap=plt.cm.spring, edgecolor='black', linewidths=1.5\n",
    "        )\n",
    "            \n",
    "        # Определение границ графика\n",
    "        x_min = X[:, 0].min() - 1.5\n",
    "        x_max = X[:, 0].max() + 1.5\n",
    "        y_min = X[:, 1].min() - 1.5\n",
    "        y_max = X[:, 1].max() + 1.5\n",
    "\n",
    "        # Сетка точек в пространстве\n",
    "        XX, YY = np.mgrid[x_min:x_max:500j, y_min:y_max:500j]\n",
    "        # Значения решающей функции для этой сетки.\n",
    "        # Чтобы их получить, нужно передать матрицу размера (N, 2)\n",
    "        Z = model.decision_function(np.c_[XX.ravel(), YY.ravel()])\n",
    "        # Ответы -- вектор. Переводим их к размеру сетки\n",
    "        Z = Z.reshape(XX.shape)\n",
    "        \n",
    "        # Отрисовка решающей функции\n",
    "        if margin:\n",
    "            plt.pcolormesh(XX, YY, Z, cmap=plt.cm.RdBu)\n",
    "        else:\n",
    "            plt.pcolormesh(XX, YY, Z > 0, cmap=plt.cm.spring)\n",
    "            \n",
    "        # Отрисовка разделяющей прямой и разделяющей полосы\n",
    "        plt.contour(\n",
    "            XX, YY, Z, colors=['k', 'k', 'k'], \n",
    "            linestyles=['--', '-', '--'], \n",
    "            levels=[-1, 0, 1]\n",
    "        )\n",
    " \n",
    "        plt.xlim(x_min, x_max)\n",
    "        plt.ylim(y_min, y_max)\n",
    "        plt.xticks(())\n",
    "        plt.yticks(())\n",
    "        \n",
    "        # Вычисление качества\n",
    "        score = accuracy_score(Y_test, model.predict(X_test))\n",
    "        # Значения гиперпараметров\n",
    "        params_line = ', '.join([\n",
    "            name + '=' + str(model.get_params()[name]) for name in params\n",
    "        ])\n",
    "        \n",
    "        plt.title(params_line + ', {}, Acc. = {:.1f}%'.format(\n",
    "            model.get_params()['kernel'], score*100\n",
    "        ))\n",
    "        \n",
    "    plt.tight_layout()\n",
    "    plt.show()"
   ]
  },
  {
   "cell_type": "markdown",
   "metadata": {},
   "source": [
    "Разбейте выборки на обучающую и тестовую в соотношении 7:3.\n",
    "\n",
    "Далее для каждой выборки и для каждого случая постройте сетку графиков:\n",
    "* Линейное ядро, три значения `C`, сетка графиков 1x3\n",
    "* Полиномиальное ядро степени 2, три значения `C` и три значения `gamma`, сетка графиков 3x3\n",
    "* RBF-ядро степени 2, три значения `C` и три значения `gamma`, сетка графиков 3x3\n",
    "* RBF-ядро степени 2, три значения `C` и три значения `gamma`, сетка графиков 3x3, визуализировать саму решающую функцию\n",
    "\n",
    "Значения гиперпараметров подберите так, чтобы визуально получились \"хороший\", \"средний\" и \"плохой\" результаты.\n",
    "Какие значения гиперпараметров приводят к хорошему качеству визуально? По значению метрики? Какая форма разделяющей поверхности возможна для квадратичного ядра? Сделайте выводы."
   ]
  },
  {
   "cell_type": "markdown",
   "metadata": {},
   "source": [
    "### Задача 5.\n",
    "\n",
    "Оптимизационная задача в методе SVM-регрессии имеет вид.\n",
    "\n",
    "$$\\left\\{\\begin{aligned}\n",
    "& \\frac{1}{2} \\|\\theta\\| ^2 + C \\sum_{i=1}^n \\left( \\xi_i^+ + \\eta_i^+ \\right) \\longrightarrow \\max_{\\theta, \\theta_0, \\xi, \\eta}\n",
    "\\\\ \n",
    "& Y_i - \\varepsilon - \\eta_i \\leqslant \\theta^T X_i + \\theta_0 \\leqslant Y_i + \\varepsilon + \\xi_i, \\quad i = 1, \\dots, n,\n",
    "\\end{aligned} \\right.$$\n",
    "где\n",
    "$\\xi_i^+ = \\max\\left\\{0,\\ \\xi_i\\right\\}$ и  $\\eta_i^+ = \\max\\left\\{0,\\ \\eta_i\\right\\}$.\n",
    "\n",
    "Сведите задачу к двойственной. Какие объекты являются опорными?"
   ]
  },
  {
   "cell_type": "markdown",
   "metadata": {
    "colab_type": "text",
    "id": "SZuDYarnd9nd"
   },
   "source": [
    "### Задача 6.\n",
    "\n",
    "\n",
    "Рассмотрим <a href=\"https://archive.ics.uci.edu/ml/datasets/Forest+Fires\">данные</a> о лесных пожарах.\n",
    "Необходимо по различным показателям предсказать площадь лесного пожара. Описание данных приведено по ссылке. \n",
    "\n",
    "**1.** Загрузите данные и постройте гистограмму целевого признака. Что можно сказать по гистограмме? Какое преобразование лучше совершить над ним?"
   ]
  },
  {
   "cell_type": "code",
   "execution_count": null,
   "metadata": {
    "ExecuteTime": {
     "end_time": "2020-03-30T08:39:25.788523Z",
     "start_time": "2020-03-30T08:39:25.440474Z"
    },
    "colab": {
     "base_uri": "https://localhost:8080/",
     "height": 423
    },
    "colab_type": "code",
    "id": "I8kDtoUogAzu",
    "outputId": "39b982fb-1192-4c06-b068-f6591accc51d"
   },
   "outputs": [],
   "source": []
  },
  {
   "cell_type": "markdown",
   "metadata": {},
   "source": [
    "Сделайте это преобразование и еще раз посмотрите на гистограмму. Стало ли лучше?"
   ]
  },
  {
   "cell_type": "code",
   "execution_count": null,
   "metadata": {
    "ExecuteTime": {
     "end_time": "2020-03-30T08:39:27.201809Z",
     "start_time": "2020-03-30T08:39:27.196262Z"
    },
    "colab": {},
    "colab_type": "code",
    "id": "7npGlEUGh2ZX"
   },
   "outputs": [],
   "source": []
  },
  {
   "cell_type": "markdown",
   "metadata": {},
   "source": [
    "**2.** Оставьте только 4 признака: `'temp', 'RH', 'wind', 'rain'`, которые отвечают за температуру воздуха, влажность, скорость ветра и количество осадков соответственно."
   ]
  },
  {
   "cell_type": "code",
   "execution_count": null,
   "metadata": {
    "ExecuteTime": {
     "end_time": "2020-03-30T08:39:28.681477Z",
     "start_time": "2020-03-30T08:39:28.673070Z"
    },
    "scrolled": true
   },
   "outputs": [],
   "source": []
  },
  {
   "cell_type": "markdown",
   "metadata": {},
   "source": [
    "Разбейте выборку на обучающую и тестовую."
   ]
  },
  {
   "cell_type": "code",
   "execution_count": null,
   "metadata": {
    "ExecuteTime": {
     "end_time": "2020-03-30T08:39:29.686018Z",
     "start_time": "2020-03-30T08:39:29.673642Z"
    },
    "colab": {},
    "colab_type": "code",
    "id": "ZFI7DPpJidov"
   },
   "outputs": [],
   "source": []
  },
  {
   "cell_type": "markdown",
   "metadata": {},
   "source": [
    "Обучите линейную SVM-регрессию с $\\varepsilon=1$, предварительно отмасштабировав признаки. "
   ]
  },
  {
   "cell_type": "code",
   "execution_count": null,
   "metadata": {
    "ExecuteTime": {
     "end_time": "2020-03-30T07:49:14.714686Z",
     "start_time": "2020-03-30T07:49:14.668981Z"
    }
   },
   "outputs": [],
   "source": []
  },
  {
   "cell_type": "markdown",
   "metadata": {},
   "source": [
    "Какова доля опорных векторов? Визуализируйте гистограмму значений двойственных коэффициентов. Что можно по ней сказать?"
   ]
  },
  {
   "cell_type": "code",
   "execution_count": null,
   "metadata": {
    "ExecuteTime": {
     "end_time": "2020-03-30T07:49:15.383918Z",
     "start_time": "2020-03-30T07:49:15.372744Z"
    }
   },
   "outputs": [],
   "source": []
  },
  {
   "cell_type": "markdown",
   "metadata": {},
   "source": [
    "Посчитайте ошибки предсказаний для каждого объекта обучающей выборки. Какие значения ошибок имеют опорные векторы? Остальные?"
   ]
  },
  {
   "cell_type": "code",
   "execution_count": null,
   "metadata": {
    "ExecuteTime": {
     "end_time": "2020-03-30T08:05:15.710398Z",
     "start_time": "2020-03-30T08:05:15.697909Z"
    }
   },
   "outputs": [],
   "source": []
  },
  {
   "cell_type": "markdown",
   "metadata": {
    "colab_type": "text",
    "id": "-S2G8cVlmkpc"
   },
   "source": [
    "**3.** Подберите оптимальные гиперпараметры SVM: величины `C`, `epsilon`, ядро, а также параметры ядра. Перед обучением необходимо провести стандартизацию признаков.\n",
    "\n",
    "Для реализации используйте `Pipeline`. Учтите, что в таком случае для сетки гиперпараметров их имена должны иметь вид `model__param`, где `model` -- имя модели в `Pipeline`, а `param` -- имя ее гиперпараметра."
   ]
  },
  {
   "cell_type": "code",
   "execution_count": null,
   "metadata": {
    "ExecuteTime": {
     "end_time": "2020-03-30T08:39:36.495043Z",
     "start_time": "2020-03-30T08:39:32.444095Z"
    },
    "colab": {
     "base_uri": "https://localhost:8080/",
     "height": 358
    },
    "colab_type": "code",
    "id": "uIEuoA3cmor6",
    "outputId": "15581579-1add-4554-a713-51ae2b9508ab",
    "scrolled": true
   },
   "outputs": [],
   "source": []
  },
  {
   "cell_type": "markdown",
   "metadata": {},
   "source": [
    "Посчитайте MAE-ошибку предсказания и доверительный интервал для нее. Перед этим не забудьте сделать обратное преобразование."
   ]
  },
  {
   "cell_type": "code",
   "execution_count": null,
   "metadata": {
    "ExecuteTime": {
     "end_time": "2020-03-30T08:39:36.502999Z",
     "start_time": "2020-03-30T08:39:36.496881Z"
    },
    "colab": {
     "base_uri": "https://localhost:8080/",
     "height": 33
    },
    "colab_type": "code",
    "id": "6j_dQ2BVu36y",
    "outputId": "3057150d-88f1-4b77-95e9-22551a7b8816"
   },
   "outputs": [],
   "source": []
  },
  {
   "cell_type": "markdown",
   "metadata": {},
   "source": [
    "**4.** Выполните п.3 для всех признаков и сравните качество полученных моделей. Является ли разница статистически значимой?"
   ]
  },
  {
   "cell_type": "code",
   "execution_count": null,
   "metadata": {
    "ExecuteTime": {
     "end_time": "2020-03-30T08:40:07.063908Z",
     "start_time": "2020-03-30T08:40:07.037336Z"
    }
   },
   "outputs": [],
   "source": []
  }
 ],
 "metadata": {
  "colab": {
   "collapsed_sections": [],
   "name": "SVM_hw.ipynb",
   "provenance": []
  },
  "kernelspec": {
   "display_name": "Python 3",
   "language": "python",
   "name": "python3"
  },
  "language_info": {
   "codemirror_mode": {
    "name": "ipython",
    "version": 3
   },
   "file_extension": ".py",
   "mimetype": "text/x-python",
   "name": "python",
   "nbconvert_exporter": "python",
   "pygments_lexer": "ipython3",
   "version": "3.7.3"
  }
 },
 "nbformat": 4,
 "nbformat_minor": 1
}
