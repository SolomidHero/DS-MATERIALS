{
 "cells": [
  {
   "cell_type": "code",
   "execution_count": 53,
   "metadata": {},
   "outputs": [],
   "source": [
    "import numpy as np\n",
    "import scipy.stats as sps"
   ]
  },
  {
   "cell_type": "markdown",
   "metadata": {},
   "source": [
    "## Оптимизация по времени:"
   ]
  },
  {
   "cell_type": "markdown",
   "metadata": {},
   "source": [
    "**Подумай, необходима ли оптимизация!**\n",
    "\n",
    "1. На оптимизацию тратится время.\n",
    "2. Скорее всего код станет непонятнее.\n",
    "3. Не все оптимизации полезны. Оптимизируя по времени, вы можете увеличить расход памяти.\n",
    "\n",
    "Перед оптимизацией стоит написать работающий код и тесты к нему."
   ]
  },
  {
   "cell_type": "markdown",
   "metadata": {},
   "source": [
    "### Профилирование:\n",
    "\n",
    "Профилирование - сбор характеристик работы программы.\n",
    "\n",
    "Прежде чем приступать к оптимизации, нужно понять какой фрагмент кода нужно оптимизировать."
   ]
  },
  {
   "cell_type": "markdown",
   "metadata": {},
   "source": [
    "**Профилирование по времени исполнения:**\n",
    "\n",
    "Инструменты, которые мы рассмотрим:\n",
    "\n",
    "* cProfile\n",
    "* line_profiler\n",
    "\n",
    "Другие инструменты:\n",
    "\n",
    "* py-spy\n",
    "* pstats\n",
    "* RunSnakeRun\n",
    "* SnakeViz\n",
    "\n",
    "py-spy позволяет визуализировать потребление времени во время выполнения программы без модификаций её кода"
   ]
  },
  {
   "cell_type": "markdown",
   "metadata": {},
   "source": [
    "**Измерение времени:**\n",
    "\n",
    "Иногда хочется измерить время исполнения участков кода целиком. При использовании IPython можно воспользоваться магическими функциями `%timeit` и `%%timeit`\n",
    "\n",
    "`%timeit` позволяет измерить время исполнения одной строки"
   ]
  },
  {
   "cell_type": "code",
   "execution_count": 54,
   "metadata": {},
   "outputs": [],
   "source": [
    "def slow_reverse(s):\n",
    "    \"\"\"\n",
    "    :param s: list\n",
    "    :return: reversed list\n",
    "    \"\"\"\n",
    "    reversed_s = np.zeros(len(s))\n",
    "    for i in range(len(s)):\n",
    "        reversed_s[i] = s[len(s) - i - 1]\n",
    "    return reversed_s"
   ]
  },
  {
   "cell_type": "code",
   "execution_count": 55,
   "metadata": {},
   "outputs": [],
   "source": [
    "s = sps.randint(0, 100).rvs(100)"
   ]
  },
  {
   "cell_type": "code",
   "execution_count": 56,
   "metadata": {},
   "outputs": [
    {
     "name": "stdout",
     "output_type": "stream",
     "text": [
      "44.2 µs ± 2.2 µs per loop (mean ± std. dev. of 7 runs, 10000 loops each)\n",
      "278 ns ± 2.42 ns per loop (mean ± std. dev. of 7 runs, 1000000 loops each)\n"
     ]
    }
   ],
   "source": [
    "%timeit slow_reverse(s)\n",
    "%timeit s[::-1]"
   ]
  },
  {
   "cell_type": "code",
   "execution_count": 57,
   "metadata": {},
   "outputs": [
    {
     "name": "stdout",
     "output_type": "stream",
     "text": [
      "3.23 ms ± 422 µs per loop (mean ± std. dev. of 7 runs, 100 loops each)\n"
     ]
    }
   ],
   "source": [
    "%%timeit \n",
    "s = sps.randint(0, 100).rvs(100)\n",
    "reversed_s = np.zeros(len(s))\n",
    "for i in range(len(s)):\n",
    "    reversed_s[i] = s[len(s) - i - 1]"
   ]
  },
  {
   "cell_type": "markdown",
   "metadata": {},
   "source": [
    "Выводится среднее значение и среднеквадратичное отклонение."
   ]
  },
  {
   "cell_type": "markdown",
   "metadata": {},
   "source": [
    "Другой синтаксис:"
   ]
  },
  {
   "cell_type": "code",
   "execution_count": 58,
   "metadata": {},
   "outputs": [],
   "source": [
    "import timeit\n",
    "\n",
    "setup = \"\"\"\n",
    "import numpy as np\n",
    "import scipy.stats as sps\n",
    "\n",
    "def slow_reverse(s):\n",
    "    reversed_s = np.zeros(len(s))\n",
    "    for i in range(len(s)):\n",
    "        reversed_s[i] = s[len(s) - i - 1]\n",
    "    return reversed_s\n",
    "    \n",
    "s = sps.randint(0, 100).rvs(100)\n",
    "\"\"\"\n",
    "\n",
    "t = timeit.Timer(\"\"\"slow_reverse(s)\"\"\", setup=setup)"
   ]
  },
  {
   "cell_type": "markdown",
   "metadata": {},
   "source": [
    "Мы передаем все параметры `timeit.Timer` в строках из-за того, что `timeit` реализован в виде <a href=\"https://github.com/python/cpython/blob/master/Lib/timeit.py#L68\">шаблоннонй строки</a>, куда передаются параметры. <br>\n",
    "Это позволяет сэкономить время на вызове функции, если бы мы передавали её в качестве объекта. <br>"
   ]
  },
  {
   "cell_type": "code",
   "execution_count": 59,
   "metadata": {},
   "outputs": [],
   "source": [
    "?timeit.Timer "
   ]
  },
  {
   "cell_type": "code",
   "execution_count": 105,
   "metadata": {},
   "outputs": [
    {
     "name": "stdout",
     "output_type": "stream",
     "text": [
      "0.0013150400191079825\n",
      "0.010520849988097325\n",
      "[0.0005955360247753561, 0.0014676569844596088, 0.0009530319948680699]\n"
     ]
    }
   ],
   "source": [
    "print(t.timeit(number=10))\n",
    "print(t.timeit(number=100))\n",
    "print(t.repeat(repeat=3, number=10))"
   ]
  },
  {
   "cell_type": "markdown",
   "metadata": {},
   "source": [
    "**cProfiler**\n",
    "\n",
    "Позволяет собрать аналитику по вызовам функций: \n",
    "* ncals - кол-во вызовов. Если в этой колонке стоит два числа $3/1$, то это значит, что функция рекурсивная. Первое число - общее кол-во вызовов, второе - кол-во нерекурсивных вызовов.\n",
    "* totime - время исполнения функции без учета времени вызова подфункций\n",
    "* cumtime - время исполнения функции с учетом времени вызова подфункций"
   ]
  },
  {
   "cell_type": "code",
   "execution_count": 27,
   "metadata": {},
   "outputs": [],
   "source": [
    "def fib(n):\n",
    "    if n == 0:\n",
    "        return 1\n",
    "    if n == 1:\n",
    "        return 1\n",
    "    return fib(n - 1) + fib(n - 2)"
   ]
  },
  {
   "cell_type": "code",
   "execution_count": 46,
   "metadata": {},
   "outputs": [
    {
     "name": "stdout",
     "output_type": "stream",
     "text": [
      "         2692540 function calls (4 primitive calls) in 0.789 seconds\n",
      "\n",
      "   Ordered by: internal time\n",
      "\n",
      "   ncalls  tottime  percall  cumtime  percall filename:lineno(function)\n",
      "2692537/1    0.789    0.000    0.789    0.789 <ipython-input-27-99a0d869b1b2>:1(fib)\n",
      "        1    0.000    0.000    0.789    0.789 {built-in method builtins.exec}\n",
      "        1    0.000    0.000    0.789    0.789 <string>:1(<module>)\n",
      "        1    0.000    0.000    0.000    0.000 {method 'disable' of '_lsprof.Profiler' objects}\n",
      "\n",
      "\n"
     ]
    }
   ],
   "source": [
    "import cProfile\n",
    "cProfile.run('fib(30)', sort='tottime')"
   ]
  },
  {
   "cell_type": "code",
   "execution_count": 39,
   "metadata": {},
   "outputs": [
    {
     "name": "stdout",
     "output_type": "stream",
     "text": [
      "Overwriting slow_reverse.py\n"
     ]
    }
   ],
   "source": [
    "%%writefile slow_reverse.py\n",
    "\n",
    "import numpy as np\n",
    "import scipy.stats as sps\n",
    "\n",
    "def slow_reverse(s):\n",
    "    reversed_s = np.zeros(len(s))\n",
    "    for i in range(len(s)):\n",
    "        reversed_s[i] = s[len(s) - i - 1]\n",
    "    return reversed_s\n",
    "\n",
    "s = sps.randint(0, 100).rvs(1000)\n",
    "slow_reverse(s)"
   ]
  },
  {
   "cell_type": "code",
   "execution_count": 40,
   "metadata": {},
   "outputs": [
    {
     "name": "stdout",
     "output_type": "stream",
     "text": [
      "         9306 function calls (9304 primitive calls) in 0.039 seconds\n",
      "\n",
      "   Ordered by: internal time\n",
      "\n",
      "   ncalls  tottime  percall  cumtime  percall filename:lineno(function)\n",
      "        1    0.023    0.023    0.034    0.034 function_base.py:2154(_vectorize_call)\n",
      "     1000    0.004    0.000    0.011    0.000 _dtype.py:319(_name_get)\n",
      "     2000    0.003    0.000    0.004    0.000 numerictypes.py:293(issubclass_)\n",
      "     1000    0.003    0.000    0.007    0.000 numerictypes.py:365(issubdtype)\n",
      "     3000    0.002    0.000    0.002    0.000 {built-in method builtins.issubclass}\n",
      "        1    0.002    0.002    0.002    0.002 <string>:5(slow_reverse)\n",
      "        2    0.001    0.000    0.001    0.001 doccer.py:12(docformat)\n",
      "      2/1    0.000    0.000    0.039    0.039 {built-in method builtins.exec}\n",
      "     1186    0.000    0.000    0.000    0.000 {built-in method builtins.len}\n",
      "       10    0.000    0.000    0.000    0.000 {built-in method numpy.array}\n",
      "        2    0.000    0.000    0.000    0.000 doccer.py:179(indentcount_lines)\n",
      "       64    0.000    0.000    0.000    0.000 {method 'splitlines' of 'str' objects}\n",
      "       64    0.000    0.000    0.000    0.000 {method 'expandtabs' of 'str' objects}\n",
      "      460    0.000    0.000    0.000    0.000 {method 'append' of 'list' objects}\n",
      "        1    0.000    0.000    0.035    0.035 _distn_infrastructure.py:931(rvs)\n",
      "        2    0.000    0.000    0.000    0.000 inspect.py:2750(__init__)\n",
      "       66    0.000    0.000    0.000    0.000 {method 'join' of 'str' objects}\n",
      "        2    0.000    0.000    0.000    0.000 stride_tricks.py:116(_broadcast_to)\n",
      "        1    0.000    0.000    0.000    0.000 _distn_infrastructure.py:622(_construct_argparser)\n",
      "        5    0.000    0.000    0.000    0.000 function_base.py:2031(__init__)\n",
      "       88    0.000    0.000    0.000    0.000 {built-in method builtins.min}\n",
      "        1    0.000    0.000    0.002    0.002 _distn_infrastructure.py:2777(__init__)\n",
      "        1    0.000    0.000    0.000    0.000 _distn_infrastructure.py:788(_argcheck_rvs)\n",
      "        1    0.000    0.000    0.000    0.000 inspect.py:2117(_signature_from_function)\n",
      "      120    0.000    0.000    0.000    0.000 {method 'lstrip' of 'str' objects}\n",
      "        2    0.000    0.000    0.000    0.000 {method 'reduce' of 'numpy.ufunc' objects}\n",
      "        1    0.000    0.000    0.001    0.001 _distn_infrastructure.py:702(_construct_doc)\n",
      "      2/1    0.000    0.000    0.000    0.000 inspect.py:2198(_signature_from_callable)\n",
      "        4    0.000    0.000    0.000    0.000 {method 'replace' of 'str' objects}\n",
      "        1    0.000    0.000    0.002    0.002 _distn_infrastructure.py:422(__init__)\n",
      "        6    0.000    0.000    0.000    0.000 {built-in method numpy.core._multiarray_umath.implement_array_function}\n",
      "        3    0.000    0.000    0.000    0.000 inspect.py:2467(__init__)\n",
      "        2    0.000    0.000    0.000    0.000 fromnumeric.py:73(_wrapreduction)\n",
      "        1    0.000    0.000    0.034    0.034 _discrete_distns.py:742(_rvs)\n",
      "        1    0.000    0.000    0.001    0.001 _distn_infrastructure.py:2826(_construct_docstrings)\n",
      "        1    0.000    0.000    0.034    0.034 function_base.py:2063(__call__)\n",
      "        1    0.000    0.000    0.000    0.000 _util.py:270(getargspec_no_self)\n",
      "        1    0.000    0.000    0.035    0.035 _distn_infrastructure.py:460(rvs)\n",
      "        1    0.000    0.000    0.000    0.000 stride_tricks.py:185(_broadcast_shape)\n",
      "        1    0.000    0.000    0.000    0.000 inspect.py:1799(_signature_bound_method)\n",
      "        2    0.000    0.000    0.000    0.000 _discrete_distns.py:712(_argcheck)\n",
      "        1    0.000    0.000    0.000    0.000 _distn_infrastructure.py:2766(__new__)\n",
      "        1    0.000    0.000    0.000    0.000 stride_tricks.py:206(broadcast_arrays)\n",
      "        1    0.000    0.000    0.000    0.000 _distn_infrastructure.py:587(__init__)\n",
      "        1    0.000    0.000    0.035    0.035 _distn_infrastructure.py:2893(rvs)\n",
      "        2    0.000    0.000    0.000    0.000 {method 'all' of 'numpy.generic' objects}\n",
      "        1    0.000    0.000    0.000    0.000 _distn_infrastructure.py:2856(_updated_ctor_param)\n",
      "        4    0.000    0.000    0.000    0.000 function_base.py:257(iterable)\n",
      "       16    0.000    0.000    0.000    0.000 {built-in method builtins.isinstance}\n",
      "        2    0.000    0.000    0.000    0.000 _internal.py:865(npy_ctypes_check)\n",
      "        1    0.000    0.000    0.000    0.000 shape_base.py:24(atleast_1d)\n",
      "        2    0.000    0.000    0.000    0.000 fromnumeric.py:2277(all)\n",
      "        1    0.000    0.000    0.000    0.000 stride_tricks.py:262(<listcomp>)\n",
      "        1    0.000    0.000    0.000    0.000 inspect.py:484(unwrap)\n",
      "        1    0.000    0.000    0.000    0.000 {built-in method numpy.zeros}\n",
      "        2    0.000    0.000    0.000    0.000 re.py:170(match)\n",
      "        3    0.000    0.000    0.000    0.000 enum.py:284(__call__)\n",
      "        3    0.000    0.000    0.000    0.000 _distn_infrastructure.py:710(<genexpr>)\n",
      "        1    0.000    0.000    0.000    0.000 _util.py:293(<listcomp>)\n",
      "        1    0.000    0.000    0.000    0.000 function_base.py:2093(_get_ufunc_and_otypes)\n",
      "        1    0.000    0.000    0.000    0.000 {method 'reshape' of 'numpy.ndarray' objects}\n",
      "        1    0.000    0.000    0.000    0.000 {built-in method numpy.frompyfunc}\n",
      "        2    0.000    0.000    0.000    0.000 {method 'match' of 're.Pattern' objects}\n",
      "        1    0.000    0.000    0.000    0.000 _util.py:307(<listcomp>)\n",
      "        4    0.000    0.000    0.000    0.000 stride_tricks.py:121(<genexpr>)\n",
      "        1    0.000    0.000    0.000    0.000 <__array_function__ internals>:2(broadcast_arrays)\n",
      "        2    0.000    0.000    0.000    0.000 <__array_function__ internals>:2(all)\n",
      "        1    0.000    0.000    0.000    0.000 {method 'astype' of 'numpy.ndarray' objects}\n",
      "        2    0.000    0.000    0.000    0.000 re.py:271(_compile)\n",
      "        5    0.000    0.000    0.000    0.000 {method 'values' of 'mappingproxy' objects}\n",
      "        2    0.000    0.000    0.000    0.000 {built-in method builtins.any}\n",
      "        4    0.000    0.000    0.000    0.000 {built-in method builtins.iter}\n",
      "        3    0.000    0.000    0.000    0.000 {method 'copy' of 'dict' objects}\n",
      "        1    0.000    0.000    0.002    0.002 _distn_infrastructure.py:753(freeze)\n",
      "        5    0.000    0.000    0.000    0.000 _distn_infrastructure.py:41(instancemethod)\n",
      "        1    0.000    0.000    0.000    0.000 function_base.py:2048(<listcomp>)\n",
      "        2    0.000    0.000    0.000    0.000 _methods.py:47(_all)\n",
      "        4    0.000    0.000    0.000    0.000 inspect.py:2799(<genexpr>)\n",
      "        1    0.000    0.000    0.000    0.000 inspect.py:3081(signature)\n",
      "        2    0.000    0.000    0.000    0.000 {built-in method builtins.all}\n",
      "        3    0.000    0.000    0.000    0.000 {built-in method builtins.setattr}\n",
      "        1    0.000    0.000    0.000    0.000 <string>:5(_parse_args_rvs)\n",
      "        1    0.000    0.000    0.002    0.002 _distn_infrastructure.py:770(__call__)\n",
      "        2    0.000    0.000    0.000    0.000 stride_tricks.py:143(broadcast_to)\n",
      "        5    0.000    0.000    0.000    0.000 stride_tricks.py:266(<genexpr>)\n",
      "        2    0.000    0.000    0.000    0.000 <__array_function__ internals>:2(broadcast_to)\n",
      "        1    0.000    0.000    0.000    0.000 inspect.py:504(_is_wrapper)\n",
      "       12    0.000    0.000    0.000    0.000 inspect.py:2529(kind)\n",
      "        1    0.000    0.000    0.000    0.000 inspect.py:2829(from_callable)\n",
      "        1    0.000    0.000    0.000    0.000 inspect.py:2843(replace)\n",
      "        2    0.000    0.000    0.000    0.000 {built-in method __new__ of type object at 0x559c89e95260}\n",
      "        3    0.000    0.000    0.000    0.000 {method 'pop' of 'dict' objects}\n",
      "        4    0.000    0.000    0.000    0.000 _distn_infrastructure.py:802(squeeze_left)\n",
      "        1    0.000    0.000    0.000    0.000 _util.py:174(check_random_state)\n",
      "        1    0.000    0.000    0.000    0.000 _util.py:297(<listcomp>)\n",
      "        1    0.000    0.000    0.000    0.000 _util.py:302(<listcomp>)\n",
      "        1    0.000    0.000    0.000    0.000 function_base.py:2164(<listcomp>)\n",
      "        2    0.000    0.000    0.000    0.000 stride_tricks.py:26(_maybe_view_as_subclass)\n",
      "        1    0.000    0.000    0.000    0.000 <__array_function__ internals>:2(atleast_1d)\n",
      "        1    0.000    0.000    0.000    0.000 _asarray.py:88(asanyarray)\n",
      "        2    0.000    0.000    0.000    0.000 fromnumeric.py:74(<dictcomp>)\n",
      "        7    0.000    0.000    0.000    0.000 inspect.py:2517(name)\n",
      "        2    0.000    0.000    0.000    0.000 {built-in method builtins.getattr}\n",
      "        2    0.000    0.000    0.000    0.000 {built-in method builtins.hasattr}\n",
      "        1    0.000    0.000    0.000    0.000 {method 'split' of 'str' objects}\n",
      "        2    0.000    0.000    0.000    0.000 {method '__contains__' of 'frozenset' objects}\n",
      "        6    0.000    0.000    0.000    0.000 {method 'get' of 'dict' objects}\n",
      "        1    0.000    0.000    0.000    0.000 {method 'update' of 'dict' objects}\n",
      "        1    0.000    0.000    0.000    0.000 <string>:2(<module>)\n",
      "        1    0.000    0.000    0.000    0.000 _distn_infrastructure.py:818(<listcomp>)\n",
      "        1    0.000    0.000    0.000    0.000 _distn_infrastructure.py:847(<listcomp>)\n",
      "        1    0.000    0.000    0.000    0.000 <string>:1(__new__)\n",
      "        2    0.000    0.000    0.000    0.000 inspect.py:158(isfunction)\n",
      "        5    0.000    0.000    0.000    0.000 inspect.py:2835(parameters)\n",
      "        3    0.000    0.000    0.000    0.000 enum.py:526(__new__)\n",
      "        1    0.000    0.000    0.000    0.000 {built-in method sys.getrecursionlimit}\n",
      "        1    0.000    0.000    0.000    0.000 <string>:2(_parse_args)\n",
      "        2    0.000    0.000    0.000    0.000 stride_tricks.py:139(_broadcast_to_dispatcher)\n",
      "        1    0.000    0.000    0.000    0.000 stride_tricks.py:202(_broadcast_arrays_dispatcher)\n",
      "        2    0.000    0.000    0.000    0.000 {built-in method builtins.callable}\n",
      "        1    0.000    0.000    0.000    0.000 {built-in method builtins.id}\n",
      "        3    0.000    0.000    0.000    0.000 {method 'isidentifier' of 'str' objects}\n",
      "        4    0.000    0.000    0.000    0.000 {method 'items' of 'dict' objects}\n",
      "        1    0.000    0.000    0.000    0.000 shape_base.py:20(_atleast_1d_dispatcher)\n",
      "        2    0.000    0.000    0.000    0.000 fromnumeric.py:2273(_all_dispatcher)\n",
      "        1    0.000    0.000    0.000    0.000 {method 'disable' of '_lsprof.Profiler' objects}\n",
      "        4    0.000    0.000    0.000    0.000 inspect.py:2521(default)\n",
      "\n",
      "\n"
     ]
    }
   ],
   "source": [
    "import cProfile\n",
    "\n",
    "code = open('slow_reverse.py', 'r')\n",
    "cProfile.run(code.read(), sort='tottime')"
   ]
  },
  {
   "cell_type": "markdown",
   "metadata": {},
   "source": [
    "**line_profiler**\n",
    "\n",
    "Позволяет собрать построчную аналитику для нескольких функций"
   ]
  },
  {
   "cell_type": "code",
   "execution_count": 47,
   "metadata": {},
   "outputs": [],
   "source": [
    "%load_ext line_profiler\n",
    "def source(length=100):\n",
    "    \"\"\"\n",
    "    A statement to execute under the line-by-line profiler.\n",
    "    :param length: length of the list to reverse\n",
    "    \"\"\"\n",
    "    s = sps.randint(0, 100).rvs(length)\n",
    "    slow_reverse(s)\n",
    "    fast_reverse(s)"
   ]
  },
  {
   "cell_type": "code",
   "execution_count": 48,
   "metadata": {},
   "outputs": [],
   "source": [
    "def slow_reverse(s):\n",
    "    reversed_s = np.zeros(len(s))\n",
    "    for i in range(len(s)):\n",
    "        reversed_s[i] = s[len(s) - i - 1]\n",
    "    return reversed_s\n",
    "\n",
    "def fast_reverse(s):\n",
    "    return s[::-1]\n",
    "\n",
    "%lprun -f slow_reverse -f fast_reverse source()"
   ]
  },
  {
   "cell_type": "code",
   "execution_count": 60,
   "metadata": {},
   "outputs": [],
   "source": [
    "%lprun?"
   ]
  },
  {
   "cell_type": "markdown",
   "metadata": {},
   "source": [
    "**Профилирование по памяти:**\n",
    "\n",
    "* memory_profiler\n",
    "\n",
    "Позволяет измерить общее и построчное потребление памяти."
   ]
  },
  {
   "cell_type": "code",
   "execution_count": 64,
   "metadata": {},
   "outputs": [],
   "source": [
    "def memory_func():\n",
    "    x = [1] * 10 ** 4\n",
    "    y = [2] * 10 ** 6\n",
    "    del x\n",
    "    return y"
   ]
  },
  {
   "cell_type": "code",
   "execution_count": 65,
   "metadata": {},
   "outputs": [
    {
     "name": "stdout",
     "output_type": "stream",
     "text": [
      "The memory_profiler extension is already loaded. To reload it, use:\n",
      "  %reload_ext memory_profiler\n"
     ]
    }
   ],
   "source": [
    "%load_ext memory_profiler"
   ]
  },
  {
   "cell_type": "markdown",
   "metadata": {},
   "source": [
    "Можно измерить общее потребление памяти (аналогично `%timeit`):"
   ]
  },
  {
   "cell_type": "code",
   "execution_count": 66,
   "metadata": {},
   "outputs": [
    {
     "name": "stdout",
     "output_type": "stream",
     "text": [
      "peak memory: 77.99 MiB, increment: 7.35 MiB\n"
     ]
    }
   ],
   "source": [
    "%memit memory_func()"
   ]
  },
  {
   "cell_type": "markdown",
   "metadata": {},
   "source": [
    "`peak memory` - наибольшее значение расходуемой памяти системы во время работы программы. Нужно, чтобы посмотреть, насколько мы близки к тому, чтобы израсходовать всю RAM.\n",
    "\n",
    "`increment` = `peak memory` - `starting memory`"
   ]
  },
  {
   "cell_type": "code",
   "execution_count": 67,
   "metadata": {},
   "outputs": [],
   "source": [
    "%memit?"
   ]
  },
  {
   "cell_type": "markdown",
   "metadata": {},
   "source": [
    "Можно измерить потребление памяти по строкам (аналогично `%lprun`). Однако `%mprun` не может работать с функциями из ноутбука, их нужно записывать в файл."
   ]
  },
  {
   "cell_type": "code",
   "execution_count": 4,
   "metadata": {},
   "outputs": [
    {
     "name": "stdout",
     "output_type": "stream",
     "text": [
      "Writing memory_demo.py\n"
     ]
    }
   ],
   "source": [
    "%%writefile memory_demo.py\n",
    "\n",
    "def memory_func():\n",
    "    x = [1] * 10 ** 4\n",
    "    y = [2] * (2 * 10 ** 6)\n",
    "    del y\n",
    "    return x"
   ]
  },
  {
   "cell_type": "code",
   "execution_count": 5,
   "metadata": {},
   "outputs": [
    {
     "name": "stdout",
     "output_type": "stream",
     "text": [
      "\n"
     ]
    }
   ],
   "source": [
    "from memory_demo import memory_func\n",
    "%mprun -f memory_func memory_func()"
   ]
  }
 ],
 "metadata": {
  "kernelspec": {
   "display_name": "Python 3",
   "language": "python",
   "name": "python3"
  },
  "language_info": {
   "codemirror_mode": {
    "name": "ipython",
    "version": 3
   },
   "file_extension": ".py",
   "mimetype": "text/x-python",
   "name": "python",
   "nbconvert_exporter": "python",
   "pygments_lexer": "ipython3",
   "version": "3.7.3"
  }
 },
 "nbformat": 4,
 "nbformat_minor": 2
}
