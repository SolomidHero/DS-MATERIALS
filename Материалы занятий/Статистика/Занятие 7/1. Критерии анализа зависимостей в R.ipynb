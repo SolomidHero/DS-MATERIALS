{
 "cells": [
  {
   "cell_type": "markdown",
   "metadata": {},
   "source": [
    "# Критерии анализа зависимостей в R\n",
    "\n",
    "### Дисперсия, ковариация, корреляция"
   ]
  },
  {
   "cell_type": "raw",
   "metadata": {},
   "source": [
    "var(x, y = NULL, na.rm = FALSE, use)\n",
    "cov(x, y = NULL, use = \"everything\",\n",
    "    method = c(\"pearson\", \"kendall\", \"spearman\"))\n",
    "\n",
    "cor(x, y = NULL, use = \"everything\",\n",
    "    method = c(\"pearson\", \"kendall\", \"spearman\"))"
   ]
  },
  {
   "cell_type": "markdown",
   "metadata": {},
   "source": [
    "Параметры\n",
    "* `x` и `y` -- выборки (вектор, матрица, таблица). Если `y = NULL`, то `x=y`;\n",
    "* `na.rm` -- удалить ли пропуски;\n",
    "* `method` -- метод: корреляции Пирсона, Спирмена, Кендалла.\n",
    "\n",
    "Примеры:"
   ]
  },
  {
   "cell_type": "code",
   "execution_count": 1,
   "metadata": {
    "scrolled": true
   },
   "outputs": [
    {
     "data": {
      "text/html": [
       "1"
      ],
      "text/latex": [
       "1"
      ],
      "text/markdown": [
       "1"
      ],
      "text/plain": [
       "[1] 1"
      ]
     },
     "metadata": {},
     "output_type": "display_data"
    }
   ],
   "source": [
    "cor(1:10, 2:11)"
   ]
  },
  {
   "cell_type": "code",
   "execution_count": 2,
   "metadata": {},
   "outputs": [
    {
     "data": {
      "text/html": [
       "<table>\n",
       "<thead><tr><th></th><th scope=col>x1</th><th scope=col>x2</th><th scope=col>x3</th></tr></thead>\n",
       "<tbody>\n",
       "\t<tr><th scope=row>x1</th><td> 1.00000000</td><td>-1.00000000</td><td> 0.05076731</td></tr>\n",
       "\t<tr><th scope=row>x2</th><td>-1.00000000</td><td> 1.00000000</td><td>-0.05076731</td></tr>\n",
       "\t<tr><th scope=row>x3</th><td> 0.05076731</td><td>-0.05076731</td><td> 1.00000000</td></tr>\n",
       "</tbody>\n",
       "</table>\n"
      ],
      "text/latex": [
       "\\begin{tabular}{r|lll}\n",
       "  & x1 & x2 & x3\\\\\n",
       "\\hline\n",
       "\tx1 &  1.00000000 & -1.00000000 &  0.05076731\\\\\n",
       "\tx2 & -1.00000000 &  1.00000000 & -0.05076731\\\\\n",
       "\tx3 &  0.05076731 & -0.05076731 &  1.00000000\\\\\n",
       "\\end{tabular}\n"
      ],
      "text/markdown": [
       "\n",
       "| <!--/--> | x1 | x2 | x3 |\n",
       "|---|---|---|---|\n",
       "| x1 |  1.00000000 | -1.00000000 |  0.05076731 |\n",
       "| x2 | -1.00000000 |  1.00000000 | -0.05076731 |\n",
       "| x3 |  0.05076731 | -0.05076731 |  1.00000000 |\n",
       "\n"
      ],
      "text/plain": [
       "   x1          x2          x3         \n",
       "x1  1.00000000 -1.00000000  0.05076731\n",
       "x2 -1.00000000  1.00000000 -0.05076731\n",
       "x3  0.05076731 -0.05076731  1.00000000"
      ]
     },
     "metadata": {},
     "output_type": "display_data"
    }
   ],
   "source": [
    "cor(data.frame(x1 = 1:5, x2 = 8:4, x3 = c(4, 2, 3, 9, 1)))"
   ]
  },
  {
   "cell_type": "markdown",
   "metadata": {},
   "source": [
    "### Критерии, соответствующие коэффициентам корреляции"
   ]
  },
  {
   "cell_type": "raw",
   "metadata": {},
   "source": [
    "# S3 method for default\n",
    "cor.test(x, y,\n",
    "         alternative = c(\"two.sided\", \"less\", \"greater\"),\n",
    "         method = c(\"pearson\", \"kendall\", \"spearman\"),\n",
    "         exact = NULL, conf.level = 0.95, continuity = FALSE, …)\n",
    "\n",
    "# S3 method for formula\n",
    "cor.test(formula, data, subset, na.action, …)"
   ]
  },
  {
   "cell_type": "markdown",
   "metadata": {},
   "source": [
    "Параметры\n",
    "* `x` и `y` -- выборки, должны иметь одинаковую длину;\n",
    "* `alternative` -- тип альтернативной гипотезы. Двусторонняя гипотеза соответствует высказываю о ненулевой корреляции между выборками. Тип `greater` соответствует альтернативной гипотезе о положительной корреляции (при увеличении значений одной выборки значения другой в среднем увеличиваются). Тип `less` соответствует альтернативной гипотезе об отрицательной корреляции;\n",
    "* `method` -- метод: корреляции Пирсона, Спирмена, Кендалла;\n",
    "* `exact` -- использовать ли точные вычисления или же асимптотические (для Спирмена и Кендалла);\n",
    "* `formula` -- формула в виде `~ u + v`;\n",
    "* `data` -- данные (матрица или таблица);\n",
    "* `na.action` -- функция, указывающая что делать с пропусками в данных.\n",
    "\n",
    "Возвращают:\n",
    "* `statistic` -- статистика критерия;\n",
    "* `parameter` -- число степеней свободы в случае распределения Стьюдента;\n",
    "* `p.value` -- p-value критерия;\n",
    "* `estimate` -- коэффициент корреляции.\n",
    "\n",
    "Примеры:"
   ]
  },
  {
   "cell_type": "code",
   "execution_count": 3,
   "metadata": {},
   "outputs": [
    {
     "data": {
      "text/plain": [
       "\n",
       "\tKendall's rank correlation tau\n",
       "\n",
       "data:  x and y\n",
       "T = 35, p-value = 0.0143\n",
       "alternative hypothesis: true tau is greater than 0\n",
       "sample estimates:\n",
       "      tau \n",
       "0.5555556 \n"
      ]
     },
     "metadata": {},
     "output_type": "display_data"
    }
   ],
   "source": [
    "x <- c(44.4, 45.9, 41.9, 53.3, 44.7, 44.1, 50.7, 45.2, 60.1, 66.6)\n",
    "y <- c( 2.6,  3.1,  2.5,  5.0,  3.6,  4.0,  5.2,  2.8,  3.8, 5.6)\n",
    "cor.test(x, y, method = \"kendall\", alternative = \"greater\")"
   ]
  },
  {
   "cell_type": "code",
   "execution_count": 4,
   "metadata": {
    "scrolled": true
   },
   "outputs": [
    {
     "data": {
      "text/plain": [
       "\n",
       "\tKendall's rank correlation tau\n",
       "\n",
       "data:  x and y\n",
       "T = 35, p-value = 0.9917\n",
       "alternative hypothesis: true tau is less than 0\n",
       "sample estimates:\n",
       "      tau \n",
       "0.5555556 \n"
      ]
     },
     "metadata": {},
     "output_type": "display_data"
    }
   ],
   "source": [
    "cor.test(x, y, method = \"kendall\", alternative = \"less\")"
   ]
  },
  {
   "cell_type": "code",
   "execution_count": 5,
   "metadata": {},
   "outputs": [
    {
     "data": {
      "text/html": [
       "0.991666942239859"
      ],
      "text/latex": [
       "0.991666942239859"
      ],
      "text/markdown": [
       "0.991666942239859"
      ],
      "text/plain": [
       "[1] 0.9916669"
      ]
     },
     "metadata": {},
     "output_type": "display_data"
    }
   ],
   "source": [
    "cor.test(x, y, method = \"kendall\", alternative = \"less\")$p.value"
   ]
  },
  {
   "cell_type": "markdown",
   "metadata": {},
   "source": [
    "Датасет `mtcars` встроен в R"
   ]
  },
  {
   "cell_type": "code",
   "execution_count": 6,
   "metadata": {
    "scrolled": false
   },
   "outputs": [
    {
     "data": {
      "text/html": [
       "<table>\n",
       "<thead><tr><th></th><th scope=col>mpg</th><th scope=col>cyl</th><th scope=col>disp</th><th scope=col>hp</th><th scope=col>drat</th><th scope=col>wt</th><th scope=col>qsec</th><th scope=col>vs</th><th scope=col>am</th><th scope=col>gear</th><th scope=col>carb</th></tr></thead>\n",
       "<tbody>\n",
       "\t<tr><th scope=row>Mazda RX4</th><td>21.0 </td><td>6    </td><td>160  </td><td>110  </td><td>3.90 </td><td>2.620</td><td>16.46</td><td>0    </td><td>1    </td><td>4    </td><td>4    </td></tr>\n",
       "\t<tr><th scope=row>Mazda RX4 Wag</th><td>21.0 </td><td>6    </td><td>160  </td><td>110  </td><td>3.90 </td><td>2.875</td><td>17.02</td><td>0    </td><td>1    </td><td>4    </td><td>4    </td></tr>\n",
       "\t<tr><th scope=row>Datsun 710</th><td>22.8 </td><td>4    </td><td>108  </td><td> 93  </td><td>3.85 </td><td>2.320</td><td>18.61</td><td>1    </td><td>1    </td><td>4    </td><td>1    </td></tr>\n",
       "\t<tr><th scope=row>Hornet 4 Drive</th><td>21.4 </td><td>6    </td><td>258  </td><td>110  </td><td>3.08 </td><td>3.215</td><td>19.44</td><td>1    </td><td>0    </td><td>3    </td><td>1    </td></tr>\n",
       "\t<tr><th scope=row>Hornet Sportabout</th><td>18.7 </td><td>8    </td><td>360  </td><td>175  </td><td>3.15 </td><td>3.440</td><td>17.02</td><td>0    </td><td>0    </td><td>3    </td><td>2    </td></tr>\n",
       "\t<tr><th scope=row>Valiant</th><td>18.1 </td><td>6    </td><td>225  </td><td>105  </td><td>2.76 </td><td>3.460</td><td>20.22</td><td>1    </td><td>0    </td><td>3    </td><td>1    </td></tr>\n",
       "</tbody>\n",
       "</table>\n"
      ],
      "text/latex": [
       "\\begin{tabular}{r|lllllllllll}\n",
       "  & mpg & cyl & disp & hp & drat & wt & qsec & vs & am & gear & carb\\\\\n",
       "\\hline\n",
       "\tMazda RX4 & 21.0  & 6     & 160   & 110   & 3.90  & 2.620 & 16.46 & 0     & 1     & 4     & 4    \\\\\n",
       "\tMazda RX4 Wag & 21.0  & 6     & 160   & 110   & 3.90  & 2.875 & 17.02 & 0     & 1     & 4     & 4    \\\\\n",
       "\tDatsun 710 & 22.8  & 4     & 108   &  93   & 3.85  & 2.320 & 18.61 & 1     & 1     & 4     & 1    \\\\\n",
       "\tHornet 4 Drive & 21.4  & 6     & 258   & 110   & 3.08  & 3.215 & 19.44 & 1     & 0     & 3     & 1    \\\\\n",
       "\tHornet Sportabout & 18.7  & 8     & 360   & 175   & 3.15  & 3.440 & 17.02 & 0     & 0     & 3     & 2    \\\\\n",
       "\tValiant & 18.1  & 6     & 225   & 105   & 2.76  & 3.460 & 20.22 & 1     & 0     & 3     & 1    \\\\\n",
       "\\end{tabular}\n"
      ],
      "text/markdown": [
       "\n",
       "| <!--/--> | mpg | cyl | disp | hp | drat | wt | qsec | vs | am | gear | carb |\n",
       "|---|---|---|---|---|---|---|---|---|---|---|---|\n",
       "| Mazda RX4 | 21.0  | 6     | 160   | 110   | 3.90  | 2.620 | 16.46 | 0     | 1     | 4     | 4     |\n",
       "| Mazda RX4 Wag | 21.0  | 6     | 160   | 110   | 3.90  | 2.875 | 17.02 | 0     | 1     | 4     | 4     |\n",
       "| Datsun 710 | 22.8  | 4     | 108   |  93   | 3.85  | 2.320 | 18.61 | 1     | 1     | 4     | 1     |\n",
       "| Hornet 4 Drive | 21.4  | 6     | 258   | 110   | 3.08  | 3.215 | 19.44 | 1     | 0     | 3     | 1     |\n",
       "| Hornet Sportabout | 18.7  | 8     | 360   | 175   | 3.15  | 3.440 | 17.02 | 0     | 0     | 3     | 2     |\n",
       "| Valiant | 18.1  | 6     | 225   | 105   | 2.76  | 3.460 | 20.22 | 1     | 0     | 3     | 1     |\n",
       "\n"
      ],
      "text/plain": [
       "                  mpg  cyl disp hp  drat wt    qsec  vs am gear carb\n",
       "Mazda RX4         21.0 6   160  110 3.90 2.620 16.46 0  1  4    4   \n",
       "Mazda RX4 Wag     21.0 6   160  110 3.90 2.875 17.02 0  1  4    4   \n",
       "Datsun 710        22.8 4   108   93 3.85 2.320 18.61 1  1  4    1   \n",
       "Hornet 4 Drive    21.4 6   258  110 3.08 3.215 19.44 1  0  3    1   \n",
       "Hornet Sportabout 18.7 8   360  175 3.15 3.440 17.02 0  0  3    2   \n",
       "Valiant           18.1 6   225  105 2.76 3.460 20.22 1  0  3    1   "
      ]
     },
     "metadata": {},
     "output_type": "display_data"
    }
   ],
   "source": [
    "head(mtcars)"
   ]
  },
  {
   "cell_type": "markdown",
   "metadata": {},
   "source": [
    "В примере ниже вычисляется корреляция Спирмена между признаками `hp` и `drat` таблицы `mtcars`."
   ]
  },
  {
   "cell_type": "code",
   "execution_count": 7,
   "metadata": {
    "scrolled": true
   },
   "outputs": [
    {
     "name": "stderr",
     "output_type": "stream",
     "text": [
      "Warning message in cor.test.default(x = c(110, 110, 93, 110, 175, 105, 245, 62, :\n",
      "“Cannot compute exact p-value with ties”"
     ]
    },
    {
     "data": {
      "text/plain": [
       "\n",
       "\tSpearman's rank correlation rho\n",
       "\n",
       "data:  hp and drat\n",
       "S = 8293.8, p-value = 0.002278\n",
       "alternative hypothesis: true rho is not equal to 0\n",
       "sample estimates:\n",
       "      rho \n",
       "-0.520125 \n"
      ]
     },
     "metadata": {},
     "output_type": "display_data"
    }
   ],
   "source": [
    "cor.test(formula = ~ hp + drat, data = mtcars, method = \"spearman\")"
   ]
  },
  {
   "cell_type": "code",
   "execution_count": 8,
   "metadata": {},
   "outputs": [
    {
     "name": "stderr",
     "output_type": "stream",
     "text": [
      "Warning message in cor.test.default(x = c(110, 110, 93, 110, 175, 105, 245, 62, :\n",
      "“Cannot compute exact p-value with ties”"
     ]
    },
    {
     "data": {
      "text/html": [
       "<strong>rho:</strong> -0.520124985810847"
      ],
      "text/latex": [
       "\\textbf{rho:} -0.520124985810847"
      ],
      "text/markdown": [
       "**rho:** -0.520124985810847"
      ],
      "text/plain": [
       "      rho \n",
       "-0.520125 "
      ]
     },
     "metadata": {},
     "output_type": "display_data"
    }
   ],
   "source": [
    "cor.test(formula = ~ hp + drat, data = mtcars, method = \"spearman\")$estimate"
   ]
  },
  {
   "cell_type": "markdown",
   "metadata": {},
   "source": [
    "### Критерий хи-квадрат (обычный и для таблиц сопряженности)"
   ]
  },
  {
   "cell_type": "code",
   "execution_count": 9,
   "metadata": {},
   "outputs": [
    {
     "data": {
      "text/plain": [
       "\n",
       "\tChi-squared test for given probabilities\n",
       "\n",
       "data:  x\n",
       "X-squared = 11.828, df = 9, p-value = 0.2232\n"
      ]
     },
     "metadata": {},
     "output_type": "display_data"
    }
   ],
   "source": [
    "chisq.test(x, y = NULL, correct = TRUE,\n",
    "           p = rep(1/length(x), length(x)), rescale.p = FALSE,\n",
    "           simulate.p.value = FALSE, B = 2000)"
   ]
  },
  {
   "cell_type": "markdown",
   "metadata": {},
   "source": [
    "Параметры\n",
    "* - `x` -- таблица сопряженности, значение `y` игнорируется;\n",
    "\n",
    "    или\n",
    "    \n",
    "* - `x` и `y` категориальные признаки, длинна одинаковая, по ним вычисляется таблица сопряженности;\n",
    "\n",
    "    или\n",
    "    \n",
    "* - `x` -- категориальный признак (обычный критерий хи-квадрат);\n",
    "* - `p` -- вектор вероятностей, соответствующий основной гипотезе (по умолчанию равномерное распределение);\n",
    "\n",
    "\n",
    "* `simulate.p.value` -- вычисление p-value методом Монте-Карло;\n",
    "* `B` -- количество итераций метода Монте-Карло.\n",
    "\n",
    "Возвращает:\n",
    "* `statistic` -- статистика критерия;\n",
    "* `parameter` -- число степеней свободы распределения хи-квадрат (если не используется метод Монте-Карло);\n",
    "* `p.value` -- p-value критерия;\n",
    "* `observed` -- наблюдаемые значения по корзинкам;\n",
    "* `expected` -- ожидаемые значения по корзинкам;\n",
    "* `residuals` -- остатки вида `(observed - expected) / sqrt(expected)`.\n",
    "\n",
    "Примеры:\n",
    "\n",
    "В данном примере три корзинки A, B, C с наблюдаемыми значениями 20, 15, 25 и ожидемыми значениями 1/3, 1/3, 1/3 (по умолчанию)."
   ]
  },
  {
   "cell_type": "code",
   "execution_count": 10,
   "metadata": {},
   "outputs": [
    {
     "data": {
      "text/plain": [
       "\n",
       "\tChi-squared test for given probabilities\n",
       "\n",
       "data:  x\n",
       "X-squared = 2.5, df = 2, p-value = 0.2865\n"
      ]
     },
     "metadata": {},
     "output_type": "display_data"
    }
   ],
   "source": [
    "x <- c(A = 20, B = 15, C = 25)\n",
    "chisq.test(x)"
   ]
  },
  {
   "cell_type": "markdown",
   "metadata": {},
   "source": [
    "Создадим таблицу сопряженности"
   ]
  },
  {
   "cell_type": "code",
   "execution_count": 11,
   "metadata": {
    "scrolled": true
   },
   "outputs": [
    {
     "data": {
      "text/plain": [
       "      party\n",
       "gender Democrat Independent Republican\n",
       "     F      762         327        468\n",
       "     M      484         239        477"
      ]
     },
     "metadata": {},
     "output_type": "display_data"
    }
   ],
   "source": [
    "M <- as.table(rbind(c(762, 327, 468), c(484, 239, 477)))\n",
    "dimnames(M) <- list(gender = c(\"F\", \"M\"),\n",
    "                    party = c(\"Democrat\",\"Independent\", \"Republican\"))\n",
    "M"
   ]
  },
  {
   "cell_type": "markdown",
   "metadata": {},
   "source": [
    "Проверка гипотезы о независимости признаков: пол и партия"
   ]
  },
  {
   "cell_type": "code",
   "execution_count": 12,
   "metadata": {},
   "outputs": [
    {
     "data": {
      "text/plain": [
       "\n",
       "\tPearson's Chi-squared test\n",
       "\n",
       "data:  M\n",
       "X-squared = 30.07, df = 2, p-value = 2.954e-07\n"
      ]
     },
     "metadata": {},
     "output_type": "display_data"
    }
   ],
   "source": [
    "chisq.test(M)"
   ]
  },
  {
   "cell_type": "markdown",
   "metadata": {},
   "source": [
    "### Точный тест Фишера"
   ]
  },
  {
   "cell_type": "raw",
   "metadata": {},
   "source": [
    "fisher.test(x, y = NULL, workspace = 200000, hybrid = FALSE,\n",
    "            control = list(), or = 1, alternative = \"two.sided\",\n",
    "            conf.int = TRUE, conf.level = 0.95,\n",
    "            simulate.p.value = FALSE, B = 2000)"
   ]
  },
  {
   "cell_type": "markdown",
   "metadata": {},
   "source": [
    "Параметры\n",
    "* - `x` -- таблица сопряженности, значение `y` игнорируется;\n",
    "\n",
    "    или\n",
    "    \n",
    "* - `x` и `y` категориальные признаки, длинна одинаковая, по ним вычисляется таблица сопряженности;\n",
    "\n",
    "* `alternative` -- тип альтернативной гипотезы для таблиц 2x2;\n",
    "* `simulate.p.value` -- вычисление p-value методом Монте-Карло для таблиц 2x2;\n",
    "* `B` -- количество итераций метода Монте-Карло для таблиц 2x2.\n",
    "\n",
    "Примеры:\n"
   ]
  },
  {
   "cell_type": "code",
   "execution_count": 13,
   "metadata": {},
   "outputs": [
    {
     "data": {
      "text/plain": [
       "\n",
       "\tFisher's Exact Test for Count Data\n",
       "\n",
       "data:  dat\n",
       "p-value = 0.0002381\n",
       "alternative hypothesis: true odds ratio is not equal to 1\n",
       "95 percent confidence interval:\n",
       " 0.09056509 0.54780215\n",
       "sample estimates:\n",
       "odds ratio \n",
       " 0.2311144 \n"
      ]
     },
     "metadata": {},
     "output_type": "display_data"
    }
   ],
   "source": [
    "dat = matrix(c(10, 50, 35, 40), ncol = 2)\n",
    "fisher.test(dat)"
   ]
  },
  {
   "cell_type": "markdown",
   "metadata": {},
   "source": [
    "---------\n",
    "\n",
    "Прикладная статистика и анализ данных, 2019\n",
    "\n",
    "Никита Волков\n",
    "\n",
    "https://mipt-stats.gitlab.io/"
   ]
  }
 ],
 "metadata": {
  "kernelspec": {
   "display_name": "R",
   "language": "R",
   "name": "ir"
  },
  "language_info": {
   "codemirror_mode": "r",
   "file_extension": ".r",
   "mimetype": "text/x-r-source",
   "name": "R",
   "pygments_lexer": "r",
   "version": "3.6.2"
  }
 },
 "nbformat": 4,
 "nbformat_minor": 2
}
