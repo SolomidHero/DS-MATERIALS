{
 "cells": [
  {
   "cell_type": "code",
   "execution_count": 1,
   "metadata": {},
   "outputs": [],
   "source": [
    "import numpy as np\n",
    "import scipy.stats as sps\n",
    "from tqdm import tqdm"
   ]
  },
  {
   "cell_type": "markdown",
   "metadata": {},
   "source": [
    "# Проверка гипотезы однородности для нормальных выборок"
   ]
  },
  {
   "cell_type": "code",
   "execution_count": 2,
   "metadata": {},
   "outputs": [],
   "source": [
    "def ftest(x, y):\n",
    "    \"\"\" Критерий Фишера \"\"\"\n",
    "    \n",
    "    fstat = x.var(ddof=1) / y.var(ddof=1)\n",
    "    pvalue = 2 * np.min([sps.f(len(x)-1, len(y)-1).sf(fstat), \n",
    "                         sps.f(len(x)-1, len(y)-1).cdf(fstat)])\n",
    "    return pvalue"
   ]
  },
  {
   "cell_type": "markdown",
   "metadata": {},
   "source": [
    "Параметры для всех запусков"
   ]
  },
  {
   "cell_type": "code",
   "execution_count": null,
   "metadata": {},
   "outputs": [],
   "source": [
    "size = 100  # размер выборки\n",
    "n_iter = 200000  # количество итераций в одном эксперименте\n",
    "alpha = 0.05  # уровень значимости"
   ]
  },
  {
   "cell_type": "markdown",
   "metadata": {},
   "source": [
    "### Эксперимент 1\n",
    "\n",
    "Проверяем, что критерий Стьюдента правильно работает, т.е. верная гипотеза отвергается не более чем в $\\alpha$ случаях."
   ]
  },
  {
   "cell_type": "code",
   "execution_count": 3,
   "metadata": {},
   "outputs": [
    {
     "name": "stderr",
     "output_type": "stream",
     "text": [
      "100%|██████████| 200000/200000 [00:45<00:00, 4348.58it/s]\n"
     ]
    },
    {
     "name": "stdout",
     "output_type": "stream",
     "text": [
      "0.0503 +/- 0.0010\n"
     ]
    }
   ],
   "source": [
    "n_errors = 0\n",
    "\n",
    "for _ in tqdm(range(n_iter)):\n",
    "    x, y = sps.norm.rvs(size=(2, size))\n",
    "    n_errors += sps.ttest_ind(x, y, equal_var=True)[1] < alpha\n",
    "    \n",
    "print('{:.4f} +/- {:.4f}'.format(n_errors / n_iter,\n",
    "                                 2 * np.sqrt(alpha / n_iter)))"
   ]
  },
  {
   "cell_type": "markdown",
   "metadata": {},
   "source": [
    "### Эксперимент 2\n",
    "\n",
    "Проверяем, что критерий Фишера правильно работает"
   ]
  },
  {
   "cell_type": "code",
   "execution_count": 4,
   "metadata": {},
   "outputs": [
    {
     "name": "stderr",
     "output_type": "stream",
     "text": [
      "100%|██████████| 200000/200000 [05:16<00:00, 631.78it/s]\n"
     ]
    },
    {
     "name": "stdout",
     "output_type": "stream",
     "text": [
      "0.0505 +/- 0.0010\n"
     ]
    }
   ],
   "source": [
    "n_errors = 0\n",
    "\n",
    "for _ in tqdm(range(n_iter)):\n",
    "    x, y = sps.norm.rvs(size=(2, size))\n",
    "    n_errors += ftest(x, y) < alpha\n",
    "    \n",
    "print('{:.4f} +/- {:.4f}'.format(n_errors / n_iter,\n",
    "                                 2 * np.sqrt(alpha / n_iter)))"
   ]
  },
  {
   "cell_type": "markdown",
   "metadata": {},
   "source": [
    "### Эксперимент 3\n",
    "\n",
    "Для пары выборок применим сначала критерий Фишера.\n",
    "Если он не отвергает гипотезу, то применим критерий Стьюдента.\n",
    "Поправку на множественную проверку делать не будем.\n",
    "Как видим, реальный уровень значимости полученного критерия почти в 2 раза превышает заявленный."
   ]
  },
  {
   "cell_type": "code",
   "execution_count": 5,
   "metadata": {},
   "outputs": [
    {
     "name": "stderr",
     "output_type": "stream",
     "text": [
      "100%|██████████| 200000/200000 [06:50<00:00, 487.68it/s]\n"
     ]
    },
    {
     "name": "stdout",
     "output_type": "stream",
     "text": [
      "0.0978 +/- 0.0010\n"
     ]
    }
   ],
   "source": [
    "n_errors = 0\n",
    "\n",
    "for _ in tqdm(range(n_iter)):\n",
    "    x, y = sps.norm.rvs(size=(2, size))\n",
    "    is_reject = ftest(x, y) < alpha\n",
    "    n_errors += is_reject or (sps.ttest_ind(x, y, equal_var=True)[1] < alpha)\n",
    "    \n",
    "print('{:.4f} +/- {:.4f}'.format(n_errors / n_iter,\n",
    "                                 2 * np.sqrt(alpha / n_iter)))"
   ]
  },
  {
   "cell_type": "markdown",
   "metadata": {},
   "source": [
    "### Эксперимент 4\n",
    "\n",
    "Теперь применим множественную проверку гипотез.\n",
    "Для этого достаточно сравнить минимальное pvalue со значением $\\alpha / 2$.\n",
    "Тут реальный уровень значимости соответствует заявленному."
   ]
  },
  {
   "cell_type": "code",
   "execution_count": 6,
   "metadata": {
    "scrolled": true
   },
   "outputs": [
    {
     "name": "stderr",
     "output_type": "stream",
     "text": [
      "100%|██████████| 200000/200000 [06:55<00:00, 481.76it/s]\n"
     ]
    },
    {
     "name": "stdout",
     "output_type": "stream",
     "text": [
      "0.0494 +/- 0.0010\n"
     ]
    }
   ],
   "source": [
    "n_errors = 0\n",
    "\n",
    "for _ in tqdm(range(n_iter)):\n",
    "    x, y = sps.norm.rvs(size=(2, size))\n",
    "    pval1 = ftest(x, y) \n",
    "    pval2 = sps.ttest_ind(x, y, equal_var=True)[1]\n",
    "    n_errors += min(pval1, pval2) < alpha / 2\n",
    "    \n",
    "print('{:.4f} +/- {:.4f}'.format(n_errors / n_iter,\n",
    "                                 2 * np.sqrt(alpha / n_iter)))"
   ]
  },
  {
   "cell_type": "markdown",
   "metadata": {},
   "source": [
    "---------\n",
    "\n",
    "Прикладная статистика и анализ данных, 2019\n",
    "\n",
    "Никита Волков\n",
    "\n",
    "https://mipt-stats.gitlab.io/"
   ]
  }
 ],
 "metadata": {
  "kernelspec": {
   "display_name": "Python 3",
   "language": "python",
   "name": "python3"
  },
  "language_info": {
   "codemirror_mode": {
    "name": "ipython",
    "version": 3
   },
   "file_extension": ".py",
   "mimetype": "text/x-python",
   "name": "python",
   "nbconvert_exporter": "python",
   "pygments_lexer": "ipython3",
   "version": "3.7.3"
  }
 },
 "nbformat": 4,
 "nbformat_minor": 2
}
