{
 "cells": [
  {
   "cell_type": "code",
   "execution_count": 1,
   "metadata": {},
   "outputs": [],
   "source": [
    "import numpy as np\n",
    "import scipy.stats as sps\n",
    "from tqdm import tqdm\n",
    "import pandas as pd\n",
    "from statsmodels.sandbox.stats.multicomp import multipletests"
   ]
  },
  {
   "cell_type": "markdown",
   "metadata": {},
   "source": [
    "# Комбинирование критериев\n",
    "\n",
    "$(X_1, ..., X_n), (Y_1, ..., Y_m)$ --- выборки\n",
    "\n",
    "Являются ли они нормальными или нет, однородными или нет?\n",
    "\n",
    "$\\mathsf{H}_1$: выборка $(X_1, ..., X_n)$ нормальна\n",
    "\n",
    "$\\mathsf{H}_2$: выборка $(Y_1, ..., Y_m)$ нормальна\n",
    "\n",
    "$\\mathsf{H}_3$: выборки однородны\n"
   ]
  },
  {
   "cell_type": "code",
   "execution_count": 2,
   "metadata": {},
   "outputs": [],
   "source": [
    "def test(x, y, alpha=0.05):\n",
    "    \"\"\"\n",
    "    Реализация комбинации критериев с условием FWER <= alpha. \n",
    "    Возвращает три булевских значения. Если True, то соответствующая гипотеза отклоняется.\n",
    "    \"\"\"\n",
    "    \n",
    "    result = np.zeros(3, dtype=bool)\n",
    "    \n",
    "    # Первая процедура\n",
    "    rejected = multipletests([# критерий Шапиро-Уилка для выборки X\n",
    "                              sps.shapiro(x)[1],\n",
    "                              # критерий Шапиро-Уилка для выборки Y\n",
    "                              sps.shapiro(y)[1],\n",
    "                              # критерий Стьюдента для проверки однородности\n",
    "                              sps.ttest_ind(x, y)[1]], \n",
    "                             method='holm',\n",
    "                             alpha=alpha)[0]\n",
    "    \n",
    "    # Результат проверки нормальности сразу пишем в ответ\n",
    "    result[:2] = rejected[:2]\n",
    "    \n",
    "    # Если нормальность отвергается хотя бы для одной выборки,\n",
    "    # то для проверки однородности реализуем вторую процедуру,\n",
    "    # в которой в данном случае только критерий Уилкоксона-Манна-Уитни.\n",
    "    # Результат применения этой процедуры пишем в ответ.\n",
    "    if rejected[:2].any():\n",
    "        result[2] = sps.mannwhitneyu(x, y, alternative='two-sided')[1] < alpha\n",
    "        \n",
    "    # Если нормальность не отвергается, то в ответ пишем результат Стьюдента\n",
    "    else:\n",
    "        result[2] = rejected[2]\n",
    "        \n",
    "    return result\n",
    "\n",
    "\n",
    "def result_table(rejected):\n",
    "    \"\"\" Составляет красивую таблицу \"\"\"\n",
    "    \n",
    "    # Трюк с категориальными нужен, чтобы явно указать множество значений.\n",
    "    # Если этого не сделать, то при отсутствии какого-то значения все полетит.\n",
    "    table = pd.crosstab(index=pd.Categorical(rejected[:, :2].any(axis=1), \n",
    "                                             categories=[False, True]), \n",
    "                        columns=pd.Categorical(rejected[:, 2],  \n",
    "                                               categories=[False, True]), \n",
    "                        normalize=True)\n",
    "    \n",
    "    table.index = ['Нормальность не отвергается', \n",
    "                   'Нормальность отвергается хотя бы для одной']\n",
    "    table.columns = ['Однородность не отвергается', \n",
    "                     'Однородность отвергается']\n",
    "    \n",
    "    return table"
   ]
  },
  {
   "cell_type": "markdown",
   "metadata": {},
   "source": [
    "Параметры для всех запусков"
   ]
  },
  {
   "cell_type": "code",
   "execution_count": 3,
   "metadata": {},
   "outputs": [],
   "source": [
    "size = 100  # размер выборки\n",
    "n_iter = 200000  # количество итераций в одном эксперименте\n",
    "alpha = 0.05  # уровень значимости"
   ]
  },
  {
   "cell_type": "markdown",
   "metadata": {},
   "source": [
    "### Эксперимент 1\n",
    "\n",
    "Все гипотезы верны.\n",
    "Ошибка первого рода происходит, если хотя бы одна гипотеза отвергается.\n",
    "Из таблицы видно, что бОльшая часть ошибок приходится на отвержение нормальности.\n",
    "Это объясняется тем, что для этого используется два критерия, причем доля соответствующих ошибок примерно в 2 раза больше доле случаев отвержения однородности."
   ]
  },
  {
   "cell_type": "code",
   "execution_count": 4,
   "metadata": {},
   "outputs": [
    {
     "name": "stderr",
     "output_type": "stream",
     "text": [
      "100%|██████████| 200000/200000 [1:14:33<00:00, 44.70it/s]\n"
     ]
    },
    {
     "name": "stdout",
     "output_type": "stream",
     "text": [
      "FWER = 0.0495 +/- 0.0010\n"
     ]
    },
    {
     "data": {
      "text/html": [
       "<div>\n",
       "<style scoped>\n",
       "    .dataframe tbody tr th:only-of-type {\n",
       "        vertical-align: middle;\n",
       "    }\n",
       "\n",
       "    .dataframe tbody tr th {\n",
       "        vertical-align: top;\n",
       "    }\n",
       "\n",
       "    .dataframe thead th {\n",
       "        text-align: right;\n",
       "    }\n",
       "</style>\n",
       "<table border=\"1\" class=\"dataframe\">\n",
       "  <thead>\n",
       "    <tr style=\"text-align: right;\">\n",
       "      <th></th>\n",
       "      <th>Однородность не отвергается</th>\n",
       "      <th>Однородность отвергается</th>\n",
       "    </tr>\n",
       "  </thead>\n",
       "  <tbody>\n",
       "    <tr>\n",
       "      <th>Нормальность не отвергается</th>\n",
       "      <td>0.950535</td>\n",
       "      <td>0.016020</td>\n",
       "    </tr>\n",
       "    <tr>\n",
       "      <th>Нормальность отвергается хотя бы для одной</th>\n",
       "      <td>0.031070</td>\n",
       "      <td>0.002375</td>\n",
       "    </tr>\n",
       "  </tbody>\n",
       "</table>\n",
       "</div>"
      ],
      "text/plain": [
       "                                            Однородность не отвергается  \\\n",
       "Нормальность не отвергается                                    0.950535   \n",
       "Нормальность отвергается хотя бы для одной                     0.031070   \n",
       "\n",
       "                                            Однородность отвергается  \n",
       "Нормальность не отвергается                                 0.016020  \n",
       "Нормальность отвергается хотя бы для одной                  0.002375  "
      ]
     },
     "execution_count": 4,
     "metadata": {},
     "output_type": "execute_result"
    }
   ],
   "source": [
    "rejected = np.zeros((n_iter, 3),  dtype=bool)\n",
    "x = sps.norm.rvs(size=(n_iter, size))\n",
    "y = sps.norm.rvs(size=(n_iter, size))\n",
    "\n",
    "for i in tqdm(range(n_iter)):\n",
    "    rejected[i] = test(x[i], y[i])\n",
    "    \n",
    "n_errors = rejected.any(axis=1).sum()\n",
    "print('FWER = {:.4f} +/- {:.4f}'.format(n_errors / n_iter, 2 * np.sqrt(alpha / n_iter)))\n",
    "result_table(rejected)"
   ]
  },
  {
   "cell_type": "markdown",
   "metadata": {},
   "source": [
    "### Эксперимент 2\n",
    "\n",
    "Выборки нормальные, но имеют разное среднее.\n",
    "Ошибка первого рода происходит, если отвергается нормальность хотя бы одной из выборок.\n",
    "Во всех случаях комбинированный критерий верно отверг однородность."
   ]
  },
  {
   "cell_type": "code",
   "execution_count": 5,
   "metadata": {},
   "outputs": [
    {
     "name": "stderr",
     "output_type": "stream",
     "text": [
      "100%|██████████| 200000/200000 [1:15:42<00:00, 44.03it/s]\n"
     ]
    },
    {
     "name": "stdout",
     "output_type": "stream",
     "text": [
      "FWER = 0.0490 +/- 0.0010\n"
     ]
    },
    {
     "data": {
      "text/html": [
       "<div>\n",
       "<style scoped>\n",
       "    .dataframe tbody tr th:only-of-type {\n",
       "        vertical-align: middle;\n",
       "    }\n",
       "\n",
       "    .dataframe tbody tr th {\n",
       "        vertical-align: top;\n",
       "    }\n",
       "\n",
       "    .dataframe thead th {\n",
       "        text-align: right;\n",
       "    }\n",
       "</style>\n",
       "<table border=\"1\" class=\"dataframe\">\n",
       "  <thead>\n",
       "    <tr style=\"text-align: right;\">\n",
       "      <th></th>\n",
       "      <th>Однородность не отвергается</th>\n",
       "      <th>Однородность отвергается</th>\n",
       "    </tr>\n",
       "  </thead>\n",
       "  <tbody>\n",
       "    <tr>\n",
       "      <th>Нормальность не отвергается</th>\n",
       "      <td>0.0</td>\n",
       "      <td>0.951015</td>\n",
       "    </tr>\n",
       "    <tr>\n",
       "      <th>Нормальность отвергается хотя бы для одной</th>\n",
       "      <td>0.0</td>\n",
       "      <td>0.048985</td>\n",
       "    </tr>\n",
       "  </tbody>\n",
       "</table>\n",
       "</div>"
      ],
      "text/plain": [
       "                                            Однородность не отвергается  \\\n",
       "Нормальность не отвергается                                    0.0   \n",
       "Нормальность отвергается хотя бы для одной                     0.951015   \n",
       "\n",
       "                                            Однородность отвергается  \n",
       "Нормальность не отвергается                                 0.0  \n",
       "Нормальность отвергается хотя бы для одной                  0.048985  "
      ]
     },
     "execution_count": 5,
     "metadata": {},
     "output_type": "execute_result"
    }
   ],
   "source": [
    "rejected = np.zeros((n_iter, 3),  dtype=bool)\n",
    "x = sps.norm.rvs(size=(n_iter, size))\n",
    "y = sps.norm(loc=1).rvs(size=(n_iter, size))\n",
    "\n",
    "for i in tqdm(range(n_iter)):\n",
    "    rejected[i] = test(x[i], y[i])\n",
    "    \n",
    "n_errors = rejected[:, :2].any(axis=1).sum()\n",
    "print('FWER = {:.4f} +/- {:.4f}'.format(n_errors / n_iter, 2 * np.sqrt(alpha / n_iter)))\n",
    "result_table(rejected)"
   ]
  },
  {
   "cell_type": "markdown",
   "metadata": {},
   "source": [
    "### Эксперимент 3\n",
    "\n",
    "Выборки не являются нормальными, но при этом имеют распределение Стьюдента с 10 степенями свободы, которое достаточно похоже на нормальное.\n",
    "Ошибка первого рода происходит только при отвержении однородности, что происходит только примерно в $\\alpha / 2$ случаев.\n",
    "Почти в 3/4 случаев нормальность не отвергается, т.е. предположения критерия Стьюдента, вообще говоря, не выполнены.\n",
    "Тем не менее, он хорошо работает, поскольку выборки в целом обладают некоторыми свойствами нормальности."
   ]
  },
  {
   "cell_type": "code",
   "execution_count": 6,
   "metadata": {},
   "outputs": [
    {
     "name": "stderr",
     "output_type": "stream",
     "text": [
      "100%|██████████| 200000/200000 [1:21:09<00:00, 41.07it/s]\n"
     ]
    },
    {
     "name": "stdout",
     "output_type": "stream",
     "text": [
      "FWER = 0.0258 +/- 0.0010\n"
     ]
    },
    {
     "data": {
      "text/html": [
       "<div>\n",
       "<style scoped>\n",
       "    .dataframe tbody tr th:only-of-type {\n",
       "        vertical-align: middle;\n",
       "    }\n",
       "\n",
       "    .dataframe tbody tr th {\n",
       "        vertical-align: top;\n",
       "    }\n",
       "\n",
       "    .dataframe thead th {\n",
       "        text-align: right;\n",
       "    }\n",
       "</style>\n",
       "<table border=\"1\" class=\"dataframe\">\n",
       "  <thead>\n",
       "    <tr style=\"text-align: right;\">\n",
       "      <th></th>\n",
       "      <th>Однородность не отвергается</th>\n",
       "      <th>Однородность отвергается</th>\n",
       "    </tr>\n",
       "  </thead>\n",
       "  <tbody>\n",
       "    <tr>\n",
       "      <th>Нормальность не отвергается</th>\n",
       "      <td>0.71739</td>\n",
       "      <td>0.01102</td>\n",
       "    </tr>\n",
       "    <tr>\n",
       "      <th>Нормальность отвергается хотя бы для одной</th>\n",
       "      <td>0.25682</td>\n",
       "      <td>0.01477</td>\n",
       "    </tr>\n",
       "  </tbody>\n",
       "</table>\n",
       "</div>"
      ],
      "text/plain": [
       "                                            Однородность не отвергается  \\\n",
       "Нормальность не отвергается                                     0.71739   \n",
       "Нормальность отвергается хотя бы для одной                      0.25682   \n",
       "\n",
       "                                            Однородность отвергается  \n",
       "Нормальность не отвергается                                  0.01102  \n",
       "Нормальность отвергается хотя бы для одной                   0.01477  "
      ]
     },
     "execution_count": 6,
     "metadata": {},
     "output_type": "execute_result"
    }
   ],
   "source": [
    "rejected = np.zeros((n_iter, 3),  dtype=bool)\n",
    "x = sps.t(df=10).rvs(size=(n_iter, size))\n",
    "y = sps.t(df=10).rvs(size=(n_iter, size))\n",
    "\n",
    "for i in tqdm(range(n_iter)):\n",
    "    rejected[i] = test(x[i], y[i])\n",
    "    \n",
    "n_errors = rejected[:, 2].sum()\n",
    "print('FWER = {:.4f} +/- {:.4f}'.format(n_errors / n_iter, 2 * np.sqrt(alpha / n_iter)))\n",
    "result_table(rejected)"
   ]
  },
  {
   "cell_type": "markdown",
   "metadata": {},
   "source": [
    "### Эксперимент 4\n",
    "\n",
    "Аналогично предыдущему случаю, но используется распределение Стьюдента с 5 степенями свободы, которое уже менее похоже на нормальное.\n",
    "Это приводит к тому, что почти в 3/4 случаев нормальность все же отвергается.\n",
    "Реальное значение FWER выше, чем в предыдущем случает, но уровня $\\alpha$ не достигает."
   ]
  },
  {
   "cell_type": "code",
   "execution_count": 7,
   "metadata": {},
   "outputs": [
    {
     "name": "stderr",
     "output_type": "stream",
     "text": [
      "100%|██████████| 200000/200000 [1:23:41<00:00, 39.83it/s]\n"
     ]
    },
    {
     "name": "stdout",
     "output_type": "stream",
     "text": [
      "FWER = 0.0407 +/- 0.0010\n"
     ]
    },
    {
     "data": {
      "text/html": [
       "<div>\n",
       "<style scoped>\n",
       "    .dataframe tbody tr th:only-of-type {\n",
       "        vertical-align: middle;\n",
       "    }\n",
       "\n",
       "    .dataframe tbody tr th {\n",
       "        vertical-align: top;\n",
       "    }\n",
       "\n",
       "    .dataframe thead th {\n",
       "        text-align: right;\n",
       "    }\n",
       "</style>\n",
       "<table border=\"1\" class=\"dataframe\">\n",
       "  <thead>\n",
       "    <tr style=\"text-align: right;\">\n",
       "      <th></th>\n",
       "      <th>Однородность не отвергается</th>\n",
       "      <th>Однородность отвергается</th>\n",
       "    </tr>\n",
       "  </thead>\n",
       "  <tbody>\n",
       "    <tr>\n",
       "      <th>Нормальность не отвергается</th>\n",
       "      <td>0.288485</td>\n",
       "      <td>0.003995</td>\n",
       "    </tr>\n",
       "    <tr>\n",
       "      <th>Нормальность отвергается хотя бы для одной</th>\n",
       "      <td>0.670800</td>\n",
       "      <td>0.036720</td>\n",
       "    </tr>\n",
       "  </tbody>\n",
       "</table>\n",
       "</div>"
      ],
      "text/plain": [
       "                                            Однородность не отвергается  \\\n",
       "Нормальность не отвергается                                    0.288485   \n",
       "Нормальность отвергается хотя бы для одной                     0.670800   \n",
       "\n",
       "                                            Однородность отвергается  \n",
       "Нормальность не отвергается                                 0.003995  \n",
       "Нормальность отвергается хотя бы для одной                  0.036720  "
      ]
     },
     "execution_count": 7,
     "metadata": {},
     "output_type": "execute_result"
    }
   ],
   "source": [
    "rejected = np.zeros((n_iter, 3),  dtype=bool)\n",
    "x = sps.t(df=5).rvs(size=(n_iter, size))\n",
    "y = sps.t(df=5).rvs(size=(n_iter, size))\n",
    "\n",
    "for i in tqdm(range(n_iter)):\n",
    "    rejected[i] = test(x[i], y[i])\n",
    "    \n",
    "n_errors = rejected[:, 2].sum()\n",
    "print('FWER = {:.4f} +/- {:.4f}'.format(n_errors / n_iter, 2 * np.sqrt(alpha / n_iter)))\n",
    "result_table(rejected)"
   ]
  },
  {
   "cell_type": "markdown",
   "metadata": {},
   "source": [
    "### Эксперимент 5\n",
    "\n",
    "Выборки по-прежнему однородны, но при этом имеют экспоненциальное распределение, которое совсем не похоже на нормальное.\n",
    "В каждом случае нормальность была отвергнута хотя бы для одной выборки (а может всегда для обоих выборок), поэтому однородность всегда проверялась во второй процедуре."
   ]
  },
  {
   "cell_type": "code",
   "execution_count": 8,
   "metadata": {},
   "outputs": [
    {
     "name": "stderr",
     "output_type": "stream",
     "text": [
      "100%|██████████| 200000/200000 [1:22:52<00:00, 40.22it/s]\n"
     ]
    },
    {
     "name": "stdout",
     "output_type": "stream",
     "text": [
      "FWER = 0.0497 +/- 0.0010\n"
     ]
    },
    {
     "data": {
      "text/html": [
       "<div>\n",
       "<style scoped>\n",
       "    .dataframe tbody tr th:only-of-type {\n",
       "        vertical-align: middle;\n",
       "    }\n",
       "\n",
       "    .dataframe tbody tr th {\n",
       "        vertical-align: top;\n",
       "    }\n",
       "\n",
       "    .dataframe thead th {\n",
       "        text-align: right;\n",
       "    }\n",
       "</style>\n",
       "<table border=\"1\" class=\"dataframe\">\n",
       "  <thead>\n",
       "    <tr style=\"text-align: right;\">\n",
       "      <th></th>\n",
       "      <th>Однородность не отвергается</th>\n",
       "      <th>Однородность отвергается</th>\n",
       "    </tr>\n",
       "  </thead>\n",
       "  <tbody>\n",
       "    <tr>\n",
       "      <th>Нормальность не отвергается</th>\n",
       "      <td>0.00000</td>\n",
       "      <td>0.00000</td>\n",
       "    </tr>\n",
       "    <tr>\n",
       "      <th>Нормальность отвергается хотя бы для одной</th>\n",
       "      <td>0.95031</td>\n",
       "      <td>0.04969</td>\n",
       "    </tr>\n",
       "  </tbody>\n",
       "</table>\n",
       "</div>"
      ],
      "text/plain": [
       "                                            Однородность не отвергается  \\\n",
       "Нормальность не отвергается                                     0.00000   \n",
       "Нормальность отвергается хотя бы для одной                      0.95031   \n",
       "\n",
       "                                            Однородность отвергается  \n",
       "Нормальность не отвергается                                  0.00000  \n",
       "Нормальность отвергается хотя бы для одной                   0.04969  "
      ]
     },
     "execution_count": 8,
     "metadata": {},
     "output_type": "execute_result"
    }
   ],
   "source": [
    "rejected = np.zeros((n_iter, 3),  dtype=bool)\n",
    "x = sps.expon.rvs(size=(n_iter, size))\n",
    "y = sps.expon.rvs(size=(n_iter, size))\n",
    "\n",
    "for i in tqdm(range(n_iter)):\n",
    "    rejected[i] = test(x[i], y[i])\n",
    "    \n",
    "n_errors = rejected[:, 2].sum()\n",
    "print('FWER = {:.4f} +/- {:.4f}'.format(n_errors / n_iter, 2 * np.sqrt(alpha / n_iter)))\n",
    "result_table(rejected)"
   ]
  },
  {
   "cell_type": "markdown",
   "metadata": {},
   "source": [
    "---------\n",
    "\n",
    "Прикладная статистика и анализ данных, 2019\n",
    "\n",
    "Никита Волков\n",
    "\n",
    "https://mipt-stats.gitlab.io/"
   ]
  }
 ],
 "metadata": {
  "kernelspec": {
   "display_name": "Python 3",
   "language": "python",
   "name": "python3"
  },
  "language_info": {
   "codemirror_mode": {
    "name": "ipython",
    "version": 3
   },
   "file_extension": ".py",
   "mimetype": "text/x-python",
   "name": "python",
   "nbconvert_exporter": "python",
   "pygments_lexer": "ipython3",
   "version": "3.7.3"
  }
 },
 "nbformat": 4,
 "nbformat_minor": 2
}
