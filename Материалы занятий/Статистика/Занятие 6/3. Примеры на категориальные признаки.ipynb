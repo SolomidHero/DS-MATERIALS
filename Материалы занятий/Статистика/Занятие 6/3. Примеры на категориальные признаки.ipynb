{
 "cells": [
  {
   "cell_type": "code",
   "execution_count": 1,
   "metadata": {},
   "outputs": [],
   "source": [
    "import numpy as np\n",
    "import pandas as pd\n",
    "import seaborn as sns\n",
    "import scipy.stats as sps\n",
    "from statsmodels.sandbox.stats.multicomp import multipletests\n",
    "import matplotlib.pyplot as plt\n",
    "%matplotlib inline"
   ]
  },
  {
   "cell_type": "markdown",
   "metadata": {},
   "source": [
    "Реализация коэффициентов Крамера и Мэтьюса"
   ]
  },
  {
   "cell_type": "code",
   "execution_count": 2,
   "metadata": {},
   "outputs": [],
   "source": [
    "def cramer(chi2, n, k1, k2):\n",
    "    return np.sqrt(chi2 / (n * min(k1, k2) - 1))\n",
    "\n",
    "def matthews(table2x2):\n",
    "    table2x2 = np.array(table2x2)\n",
    "    a, b = table2x2[0]\n",
    "    c, d = table2x2[1]\n",
    "    return (a*d - b*c) / np.sqrt((a+b) * (a+c) * (b+d) * (c+d))"
   ]
  },
  {
   "cell_type": "markdown",
   "metadata": {},
   "source": [
    "# Отток клиентов телекома\n",
    "\n",
    "Данные https://github.com/Yorko/mlcourse_open/blob/master/data/telecom_churn.csv"
   ]
  },
  {
   "cell_type": "code",
   "execution_count": 3,
   "metadata": {},
   "outputs": [
    {
     "data": {
      "text/html": [
       "<div>\n",
       "<style scoped>\n",
       "    .dataframe tbody tr th:only-of-type {\n",
       "        vertical-align: middle;\n",
       "    }\n",
       "\n",
       "    .dataframe tbody tr th {\n",
       "        vertical-align: top;\n",
       "    }\n",
       "\n",
       "    .dataframe thead th {\n",
       "        text-align: right;\n",
       "    }\n",
       "</style>\n",
       "<table border=\"1\" class=\"dataframe\">\n",
       "  <thead>\n",
       "    <tr style=\"text-align: right;\">\n",
       "      <th></th>\n",
       "      <th>State</th>\n",
       "      <th>Account length</th>\n",
       "      <th>Area code</th>\n",
       "      <th>International plan</th>\n",
       "      <th>Voice mail plan</th>\n",
       "      <th>Number vmail messages</th>\n",
       "      <th>Total day minutes</th>\n",
       "      <th>Total day calls</th>\n",
       "      <th>Total day charge</th>\n",
       "      <th>Total eve minutes</th>\n",
       "      <th>Total eve calls</th>\n",
       "      <th>Total eve charge</th>\n",
       "      <th>Total night minutes</th>\n",
       "      <th>Total night calls</th>\n",
       "      <th>Total night charge</th>\n",
       "      <th>Total intl minutes</th>\n",
       "      <th>Total intl calls</th>\n",
       "      <th>Total intl charge</th>\n",
       "      <th>Customer service calls</th>\n",
       "      <th>Churn</th>\n",
       "    </tr>\n",
       "  </thead>\n",
       "  <tbody>\n",
       "    <tr>\n",
       "      <th>0</th>\n",
       "      <td>KS</td>\n",
       "      <td>128</td>\n",
       "      <td>415</td>\n",
       "      <td>No</td>\n",
       "      <td>Yes</td>\n",
       "      <td>25</td>\n",
       "      <td>265.1</td>\n",
       "      <td>110</td>\n",
       "      <td>45.07</td>\n",
       "      <td>197.4</td>\n",
       "      <td>99</td>\n",
       "      <td>16.78</td>\n",
       "      <td>244.7</td>\n",
       "      <td>91</td>\n",
       "      <td>11.01</td>\n",
       "      <td>10.0</td>\n",
       "      <td>3</td>\n",
       "      <td>2.70</td>\n",
       "      <td>1</td>\n",
       "      <td>False</td>\n",
       "    </tr>\n",
       "    <tr>\n",
       "      <th>1</th>\n",
       "      <td>OH</td>\n",
       "      <td>107</td>\n",
       "      <td>415</td>\n",
       "      <td>No</td>\n",
       "      <td>Yes</td>\n",
       "      <td>26</td>\n",
       "      <td>161.6</td>\n",
       "      <td>123</td>\n",
       "      <td>27.47</td>\n",
       "      <td>195.5</td>\n",
       "      <td>103</td>\n",
       "      <td>16.62</td>\n",
       "      <td>254.4</td>\n",
       "      <td>103</td>\n",
       "      <td>11.45</td>\n",
       "      <td>13.7</td>\n",
       "      <td>3</td>\n",
       "      <td>3.70</td>\n",
       "      <td>1</td>\n",
       "      <td>False</td>\n",
       "    </tr>\n",
       "    <tr>\n",
       "      <th>2</th>\n",
       "      <td>NJ</td>\n",
       "      <td>137</td>\n",
       "      <td>415</td>\n",
       "      <td>No</td>\n",
       "      <td>No</td>\n",
       "      <td>0</td>\n",
       "      <td>243.4</td>\n",
       "      <td>114</td>\n",
       "      <td>41.38</td>\n",
       "      <td>121.2</td>\n",
       "      <td>110</td>\n",
       "      <td>10.30</td>\n",
       "      <td>162.6</td>\n",
       "      <td>104</td>\n",
       "      <td>7.32</td>\n",
       "      <td>12.2</td>\n",
       "      <td>5</td>\n",
       "      <td>3.29</td>\n",
       "      <td>0</td>\n",
       "      <td>False</td>\n",
       "    </tr>\n",
       "    <tr>\n",
       "      <th>3</th>\n",
       "      <td>OH</td>\n",
       "      <td>84</td>\n",
       "      <td>408</td>\n",
       "      <td>Yes</td>\n",
       "      <td>No</td>\n",
       "      <td>0</td>\n",
       "      <td>299.4</td>\n",
       "      <td>71</td>\n",
       "      <td>50.90</td>\n",
       "      <td>61.9</td>\n",
       "      <td>88</td>\n",
       "      <td>5.26</td>\n",
       "      <td>196.9</td>\n",
       "      <td>89</td>\n",
       "      <td>8.86</td>\n",
       "      <td>6.6</td>\n",
       "      <td>7</td>\n",
       "      <td>1.78</td>\n",
       "      <td>2</td>\n",
       "      <td>False</td>\n",
       "    </tr>\n",
       "    <tr>\n",
       "      <th>4</th>\n",
       "      <td>OK</td>\n",
       "      <td>75</td>\n",
       "      <td>415</td>\n",
       "      <td>Yes</td>\n",
       "      <td>No</td>\n",
       "      <td>0</td>\n",
       "      <td>166.7</td>\n",
       "      <td>113</td>\n",
       "      <td>28.34</td>\n",
       "      <td>148.3</td>\n",
       "      <td>122</td>\n",
       "      <td>12.61</td>\n",
       "      <td>186.9</td>\n",
       "      <td>121</td>\n",
       "      <td>8.41</td>\n",
       "      <td>10.1</td>\n",
       "      <td>3</td>\n",
       "      <td>2.73</td>\n",
       "      <td>3</td>\n",
       "      <td>False</td>\n",
       "    </tr>\n",
       "  </tbody>\n",
       "</table>\n",
       "</div>"
      ],
      "text/plain": [
       "  State  Account length  Area code International plan Voice mail plan  \\\n",
       "0    KS             128        415                 No             Yes   \n",
       "1    OH             107        415                 No             Yes   \n",
       "2    NJ             137        415                 No              No   \n",
       "3    OH              84        408                Yes              No   \n",
       "4    OK              75        415                Yes              No   \n",
       "\n",
       "   Number vmail messages  Total day minutes  Total day calls  \\\n",
       "0                     25              265.1              110   \n",
       "1                     26              161.6              123   \n",
       "2                      0              243.4              114   \n",
       "3                      0              299.4               71   \n",
       "4                      0              166.7              113   \n",
       "\n",
       "   Total day charge  Total eve minutes  Total eve calls  Total eve charge  \\\n",
       "0             45.07              197.4               99             16.78   \n",
       "1             27.47              195.5              103             16.62   \n",
       "2             41.38              121.2              110             10.30   \n",
       "3             50.90               61.9               88              5.26   \n",
       "4             28.34              148.3              122             12.61   \n",
       "\n",
       "   Total night minutes  Total night calls  Total night charge  \\\n",
       "0                244.7                 91               11.01   \n",
       "1                254.4                103               11.45   \n",
       "2                162.6                104                7.32   \n",
       "3                196.9                 89                8.86   \n",
       "4                186.9                121                8.41   \n",
       "\n",
       "   Total intl minutes  Total intl calls  Total intl charge  \\\n",
       "0                10.0                 3               2.70   \n",
       "1                13.7                 3               3.70   \n",
       "2                12.2                 5               3.29   \n",
       "3                 6.6                 7               1.78   \n",
       "4                10.1                 3               2.73   \n",
       "\n",
       "   Customer service calls  Churn  \n",
       "0                       1  False  \n",
       "1                       1  False  \n",
       "2                       0  False  \n",
       "3                       2  False  \n",
       "4                       3  False  "
      ]
     },
     "execution_count": 3,
     "metadata": {},
     "output_type": "execute_result"
    }
   ],
   "source": [
    "telecom = pd.read_csv('./telecom_churn.csv')\n",
    "telecom.head()"
   ]
  },
  {
   "cell_type": "markdown",
   "metadata": {},
   "source": [
    "Количество клиентов в данных"
   ]
  },
  {
   "cell_type": "code",
   "execution_count": 4,
   "metadata": {},
   "outputs": [
    {
     "data": {
      "text/plain": [
       "3333"
      ]
     },
     "execution_count": 4,
     "metadata": {},
     "output_type": "execute_result"
    }
   ],
   "source": [
    "n = len(telecom)\n",
    "n"
   ]
  },
  {
   "cell_type": "markdown",
   "metadata": {},
   "source": [
    "### Зависимость оттока от количества звонков в службу поддержки\n",
    "\n",
    "Гистограмма количества звонков в службу поддержки для клиентов в оттоке и не в оттоке.\n",
    "Как видим, клиенты из оттока в среднем чаще совершают звонки в службу поддержки."
   ]
  },
  {
   "cell_type": "code",
   "execution_count": 5,
   "metadata": {},
   "outputs": [
    {
     "data": {
      "image/png": "[encoded data removed]",
      "text/plain": [
       "<matplotlib.figure.Figure at 0x27f22ff8ba8>"
      ]
     },
     "metadata": {},
     "output_type": "display_data"
    }
   ],
   "source": [
    "d1, x1 = np.histogram(telecom[telecom['Churn']]['Customer service calls'], \n",
    "                      range=(0, 10), bins=10, normed=True)\n",
    "d2, x2 = np.histogram(telecom[~telecom['Churn']]['Customer service calls'], \n",
    "                      range=(0, 10), bins=10, normed=True)\n",
    "dens = pd.DataFrame(np.array([np.append(d1, d2), \n",
    "                              np.append(x1[:-1], x2[:-1]),\n",
    "                              [1]*10 + [0]*10]).T,\n",
    "                    columns=['density', 'Customer service calls', 'Churn'])\n",
    "\n",
    "sns.set(style='white', font_scale=1.3)\n",
    "sns.factorplot(data=dens, x='Customer service calls', y='density', \n",
    "               hue='Churn', kind='bar', size=6)\n",
    "plt.xticks(np.arange(10), np.arange(10).astype(str));"
   ]
  },
  {
   "cell_type": "markdown",
   "metadata": {},
   "source": [
    "Будем применять критерий хи-квадрат. Подадим таблицу как есть, и проверим применимость. Доля клеток, в которых ожидаемое количество меньше 5 получилась больше 20%, поэтому надо делать объединения клеток."
   ]
  },
  {
   "cell_type": "code",
   "execution_count": 6,
   "metadata": {},
   "outputs": [
    {
     "data": {
      "text/plain": [
       "0.3"
      ]
     },
     "execution_count": 6,
     "metadata": {},
     "output_type": "execute_result"
    }
   ],
   "source": [
    "obs = pd.crosstab(telecom['Churn'], \n",
    "                  telecom['Customer service calls'])\n",
    "\n",
    "chi2, p, dof, expected = sps.chi2_contingency(obs)\n",
    "(expected < 5).mean()"
   ]
  },
  {
   "cell_type": "code",
   "execution_count": 7,
   "metadata": {},
   "outputs": [
    {
     "data": {
      "text/html": [
       "<div>\n",
       "<style scoped>\n",
       "    .dataframe tbody tr th:only-of-type {\n",
       "        vertical-align: middle;\n",
       "    }\n",
       "\n",
       "    .dataframe tbody tr th {\n",
       "        vertical-align: top;\n",
       "    }\n",
       "\n",
       "    .dataframe thead th {\n",
       "        text-align: right;\n",
       "    }\n",
       "</style>\n",
       "<table border=\"1\" class=\"dataframe\">\n",
       "  <thead>\n",
       "    <tr style=\"text-align: right;\">\n",
       "      <th>Customer service calls</th>\n",
       "      <th>0</th>\n",
       "      <th>1</th>\n",
       "      <th>2</th>\n",
       "      <th>3</th>\n",
       "      <th>4</th>\n",
       "      <th>5</th>\n",
       "      <th>6</th>\n",
       "      <th>7</th>\n",
       "      <th>8</th>\n",
       "      <th>9</th>\n",
       "    </tr>\n",
       "    <tr>\n",
       "      <th>Churn</th>\n",
       "      <th></th>\n",
       "      <th></th>\n",
       "      <th></th>\n",
       "      <th></th>\n",
       "      <th></th>\n",
       "      <th></th>\n",
       "      <th></th>\n",
       "      <th></th>\n",
       "      <th></th>\n",
       "      <th></th>\n",
       "    </tr>\n",
       "  </thead>\n",
       "  <tbody>\n",
       "    <tr>\n",
       "      <th>False</th>\n",
       "      <td>605</td>\n",
       "      <td>1059</td>\n",
       "      <td>672</td>\n",
       "      <td>385</td>\n",
       "      <td>90</td>\n",
       "      <td>26</td>\n",
       "      <td>8</td>\n",
       "      <td>4</td>\n",
       "      <td>1</td>\n",
       "      <td>0</td>\n",
       "    </tr>\n",
       "    <tr>\n",
       "      <th>True</th>\n",
       "      <td>92</td>\n",
       "      <td>122</td>\n",
       "      <td>87</td>\n",
       "      <td>44</td>\n",
       "      <td>76</td>\n",
       "      <td>40</td>\n",
       "      <td>14</td>\n",
       "      <td>5</td>\n",
       "      <td>1</td>\n",
       "      <td>2</td>\n",
       "    </tr>\n",
       "  </tbody>\n",
       "</table>\n",
       "</div>"
      ],
      "text/plain": [
       "Customer service calls    0     1    2    3   4   5   6  7  8  9\n",
       "Churn                                                           \n",
       "False                   605  1059  672  385  90  26   8  4  1  0\n",
       "True                     92   122   87   44  76  40  14  5  1  2"
      ]
     },
     "execution_count": 7,
     "metadata": {},
     "output_type": "execute_result"
    }
   ],
   "source": [
    "obs"
   ]
  },
  {
   "cell_type": "markdown",
   "metadata": {},
   "source": [
    "Объединяем два последних столбца"
   ]
  },
  {
   "cell_type": "code",
   "execution_count": 8,
   "metadata": {},
   "outputs": [
    {
     "data": {
      "text/html": [
       "<div>\n",
       "<style scoped>\n",
       "    .dataframe tbody tr th:only-of-type {\n",
       "        vertical-align: middle;\n",
       "    }\n",
       "\n",
       "    .dataframe tbody tr th {\n",
       "        vertical-align: top;\n",
       "    }\n",
       "\n",
       "    .dataframe thead th {\n",
       "        text-align: right;\n",
       "    }\n",
       "</style>\n",
       "<table border=\"1\" class=\"dataframe\">\n",
       "  <thead>\n",
       "    <tr style=\"text-align: right;\">\n",
       "      <th>Customer service calls</th>\n",
       "      <th>0</th>\n",
       "      <th>1</th>\n",
       "      <th>2</th>\n",
       "      <th>3</th>\n",
       "      <th>4</th>\n",
       "      <th>5</th>\n",
       "      <th>6</th>\n",
       "      <th>7</th>\n",
       "      <th>&gt;7</th>\n",
       "    </tr>\n",
       "    <tr>\n",
       "      <th>Churn</th>\n",
       "      <th></th>\n",
       "      <th></th>\n",
       "      <th></th>\n",
       "      <th></th>\n",
       "      <th></th>\n",
       "      <th></th>\n",
       "      <th></th>\n",
       "      <th></th>\n",
       "      <th></th>\n",
       "    </tr>\n",
       "  </thead>\n",
       "  <tbody>\n",
       "    <tr>\n",
       "      <th>False</th>\n",
       "      <td>605</td>\n",
       "      <td>1059</td>\n",
       "      <td>672</td>\n",
       "      <td>385</td>\n",
       "      <td>90</td>\n",
       "      <td>26</td>\n",
       "      <td>8</td>\n",
       "      <td>4</td>\n",
       "      <td>1</td>\n",
       "    </tr>\n",
       "    <tr>\n",
       "      <th>True</th>\n",
       "      <td>92</td>\n",
       "      <td>122</td>\n",
       "      <td>87</td>\n",
       "      <td>44</td>\n",
       "      <td>76</td>\n",
       "      <td>40</td>\n",
       "      <td>14</td>\n",
       "      <td>5</td>\n",
       "      <td>3</td>\n",
       "    </tr>\n",
       "  </tbody>\n",
       "</table>\n",
       "</div>"
      ],
      "text/plain": [
       "Customer service calls    0     1    2    3   4   5   6  7  >7\n",
       "Churn                                                         \n",
       "False                   605  1059  672  385  90  26   8  4   1\n",
       "True                     92   122   87   44  76  40  14  5   3"
      ]
     },
     "execution_count": 8,
     "metadata": {},
     "output_type": "execute_result"
    }
   ],
   "source": [
    "obs['>7'] = obs[8] + obs[9]\n",
    "del obs[8], obs[9]\n",
    "\n",
    "obs"
   ]
  },
  {
   "cell_type": "markdown",
   "metadata": {},
   "source": [
    "Опять не получилось..."
   ]
  },
  {
   "cell_type": "code",
   "execution_count": 9,
   "metadata": {},
   "outputs": [
    {
     "data": {
      "text/plain": [
       "0.2222222222222222"
      ]
     },
     "execution_count": 9,
     "metadata": {},
     "output_type": "execute_result"
    }
   ],
   "source": [
    "chi2, p, dof, expected = sps.chi2_contingency(obs)\n",
    "(expected < 5).mean()"
   ]
  },
  {
   "cell_type": "markdown",
   "metadata": {},
   "source": [
    "Еще раз объединяем последние столбцы"
   ]
  },
  {
   "cell_type": "code",
   "execution_count": 10,
   "metadata": {},
   "outputs": [
    {
     "data": {
      "text/html": [
       "<div>\n",
       "<style scoped>\n",
       "    .dataframe tbody tr th:only-of-type {\n",
       "        vertical-align: middle;\n",
       "    }\n",
       "\n",
       "    .dataframe tbody tr th {\n",
       "        vertical-align: top;\n",
       "    }\n",
       "\n",
       "    .dataframe thead th {\n",
       "        text-align: right;\n",
       "    }\n",
       "</style>\n",
       "<table border=\"1\" class=\"dataframe\">\n",
       "  <thead>\n",
       "    <tr style=\"text-align: right;\">\n",
       "      <th>Customer service calls</th>\n",
       "      <th>0</th>\n",
       "      <th>1</th>\n",
       "      <th>2</th>\n",
       "      <th>3</th>\n",
       "      <th>4</th>\n",
       "      <th>5</th>\n",
       "      <th>6</th>\n",
       "      <th>&gt;6</th>\n",
       "    </tr>\n",
       "    <tr>\n",
       "      <th>Churn</th>\n",
       "      <th></th>\n",
       "      <th></th>\n",
       "      <th></th>\n",
       "      <th></th>\n",
       "      <th></th>\n",
       "      <th></th>\n",
       "      <th></th>\n",
       "      <th></th>\n",
       "    </tr>\n",
       "  </thead>\n",
       "  <tbody>\n",
       "    <tr>\n",
       "      <th>False</th>\n",
       "      <td>605</td>\n",
       "      <td>1059</td>\n",
       "      <td>672</td>\n",
       "      <td>385</td>\n",
       "      <td>90</td>\n",
       "      <td>26</td>\n",
       "      <td>8</td>\n",
       "      <td>5</td>\n",
       "    </tr>\n",
       "    <tr>\n",
       "      <th>True</th>\n",
       "      <td>92</td>\n",
       "      <td>122</td>\n",
       "      <td>87</td>\n",
       "      <td>44</td>\n",
       "      <td>76</td>\n",
       "      <td>40</td>\n",
       "      <td>14</td>\n",
       "      <td>8</td>\n",
       "    </tr>\n",
       "  </tbody>\n",
       "</table>\n",
       "</div>"
      ],
      "text/plain": [
       "Customer service calls    0     1    2    3   4   5   6  >6\n",
       "Churn                                                      \n",
       "False                   605  1059  672  385  90  26   8   5\n",
       "True                     92   122   87   44  76  40  14   8"
      ]
     },
     "execution_count": 10,
     "metadata": {},
     "output_type": "execute_result"
    }
   ],
   "source": [
    "obs['>6'] = obs[7] + obs['>7']\n",
    "del obs[7], obs['>7']\n",
    "\n",
    "obs"
   ]
  },
  {
   "cell_type": "markdown",
   "metadata": {},
   "source": [
    "На этот раз все нормально"
   ]
  },
  {
   "cell_type": "code",
   "execution_count": 11,
   "metadata": {},
   "outputs": [
    {
     "data": {
      "text/plain": [
       "0.125"
      ]
     },
     "execution_count": 11,
     "metadata": {},
     "output_type": "execute_result"
    }
   ],
   "source": [
    "chi2, p, dof, expected = sps.chi2_contingency(obs)\n",
    "(expected < 5).mean()"
   ]
  },
  {
   "cell_type": "markdown",
   "metadata": {},
   "source": [
    "Получаемое число степеней свободы, все правильно"
   ]
  },
  {
   "cell_type": "code",
   "execution_count": 12,
   "metadata": {},
   "outputs": [
    {
     "data": {
      "text/plain": [
       "7"
      ]
     },
     "execution_count": 12,
     "metadata": {},
     "output_type": "execute_result"
    }
   ],
   "source": [
    "dof"
   ]
  },
  {
   "cell_type": "markdown",
   "metadata": {},
   "source": [
    "Значение статистики и pvalue, **наблюдается статистически значимая зависимость**"
   ]
  },
  {
   "cell_type": "code",
   "execution_count": 13,
   "metadata": {},
   "outputs": [
    {
     "data": {
      "text/plain": [
       "(339.8121374370096, 1.8667121238838202e-69)"
      ]
     },
     "execution_count": 13,
     "metadata": {},
     "output_type": "execute_result"
    }
   ],
   "source": [
    "chi2, p"
   ]
  },
  {
   "cell_type": "markdown",
   "metadata": {},
   "source": [
    "Коэффициент Крамера"
   ]
  },
  {
   "cell_type": "code",
   "execution_count": 14,
   "metadata": {},
   "outputs": [
    {
     "data": {
      "text/plain": [
       "0.22579762345348267"
      ]
     },
     "execution_count": 14,
     "metadata": {},
     "output_type": "execute_result"
    }
   ],
   "source": [
    "cramer(chi2, n, 8, 2)"
   ]
  },
  {
   "cell_type": "markdown",
   "metadata": {},
   "source": [
    "### Зависимость оттока от тарифного плана"
   ]
  },
  {
   "cell_type": "code",
   "execution_count": 15,
   "metadata": {},
   "outputs": [
    {
     "data": {
      "text/plain": [
       "array(['No', 'Yes'], dtype=object)"
      ]
     },
     "execution_count": 15,
     "metadata": {},
     "output_type": "execute_result"
    }
   ],
   "source": [
    "np.unique(telecom['International plan'])"
   ]
  },
  {
   "cell_type": "markdown",
   "metadata": {},
   "source": [
    "В этом случае получаем таблицу 2 на 2"
   ]
  },
  {
   "cell_type": "code",
   "execution_count": 16,
   "metadata": {},
   "outputs": [
    {
     "data": {
      "text/html": [
       "<div>\n",
       "<style scoped>\n",
       "    .dataframe tbody tr th:only-of-type {\n",
       "        vertical-align: middle;\n",
       "    }\n",
       "\n",
       "    .dataframe tbody tr th {\n",
       "        vertical-align: top;\n",
       "    }\n",
       "\n",
       "    .dataframe thead th {\n",
       "        text-align: right;\n",
       "    }\n",
       "</style>\n",
       "<table border=\"1\" class=\"dataframe\">\n",
       "  <thead>\n",
       "    <tr style=\"text-align: right;\">\n",
       "      <th>International plan</th>\n",
       "      <th>No</th>\n",
       "      <th>Yes</th>\n",
       "    </tr>\n",
       "    <tr>\n",
       "      <th>Churn</th>\n",
       "      <th></th>\n",
       "      <th></th>\n",
       "    </tr>\n",
       "  </thead>\n",
       "  <tbody>\n",
       "    <tr>\n",
       "      <th>False</th>\n",
       "      <td>2664</td>\n",
       "      <td>186</td>\n",
       "    </tr>\n",
       "    <tr>\n",
       "      <th>True</th>\n",
       "      <td>346</td>\n",
       "      <td>137</td>\n",
       "    </tr>\n",
       "  </tbody>\n",
       "</table>\n",
       "</div>"
      ],
      "text/plain": [
       "International plan    No  Yes\n",
       "Churn                        \n",
       "False               2664  186\n",
       "True                 346  137"
      ]
     },
     "execution_count": 16,
     "metadata": {},
     "output_type": "execute_result"
    }
   ],
   "source": [
    "obs = pd.crosstab(telecom['Churn'], telecom['International plan'])\n",
    "obs"
   ]
  },
  {
   "cell_type": "markdown",
   "metadata": {},
   "source": [
    "Результат применения критерия хи-квадрат **статистически значим**"
   ]
  },
  {
   "cell_type": "code",
   "execution_count": 17,
   "metadata": {},
   "outputs": [
    {
     "data": {
      "text/plain": [
       "(222.5657566499376, 2.4931077033159556e-50, 1)"
      ]
     },
     "execution_count": 17,
     "metadata": {},
     "output_type": "execute_result"
    }
   ],
   "source": [
    "chi2, p, dof, expected = sps.chi2_contingency(obs)\n",
    "chi2, p, dof"
   ]
  },
  {
   "cell_type": "markdown",
   "metadata": {},
   "source": [
    "Коэффициенты Крамера и Мэтьюса"
   ]
  },
  {
   "cell_type": "code",
   "execution_count": 18,
   "metadata": {},
   "outputs": [
    {
     "data": {
      "text/plain": [
       "(0.1827380961935435, 0.25985184734548217)"
      ]
     },
     "execution_count": 18,
     "metadata": {},
     "output_type": "execute_result"
    }
   ],
   "source": [
    "cramer(chi2, n, 2, 2), matthews(obs)"
   ]
  },
  {
   "cell_type": "markdown",
   "metadata": {},
   "source": [
    "### Зависимость оттока от тарифного плана голосовой почты\n",
    "\n",
    "Все аналогично."
   ]
  },
  {
   "cell_type": "code",
   "execution_count": 19,
   "metadata": {},
   "outputs": [
    {
     "data": {
      "text/plain": [
       "array(['No', 'Yes'], dtype=object)"
      ]
     },
     "execution_count": 19,
     "metadata": {},
     "output_type": "execute_result"
    }
   ],
   "source": [
    "np.unique(telecom['Voice mail plan'])"
   ]
  },
  {
   "cell_type": "code",
   "execution_count": 20,
   "metadata": {},
   "outputs": [
    {
     "data": {
      "text/html": [
       "<div>\n",
       "<style scoped>\n",
       "    .dataframe tbody tr th:only-of-type {\n",
       "        vertical-align: middle;\n",
       "    }\n",
       "\n",
       "    .dataframe tbody tr th {\n",
       "        vertical-align: top;\n",
       "    }\n",
       "\n",
       "    .dataframe thead th {\n",
       "        text-align: right;\n",
       "    }\n",
       "</style>\n",
       "<table border=\"1\" class=\"dataframe\">\n",
       "  <thead>\n",
       "    <tr style=\"text-align: right;\">\n",
       "      <th>Voice mail plan</th>\n",
       "      <th>No</th>\n",
       "      <th>Yes</th>\n",
       "    </tr>\n",
       "    <tr>\n",
       "      <th>Churn</th>\n",
       "      <th></th>\n",
       "      <th></th>\n",
       "    </tr>\n",
       "  </thead>\n",
       "  <tbody>\n",
       "    <tr>\n",
       "      <th>False</th>\n",
       "      <td>2008</td>\n",
       "      <td>842</td>\n",
       "    </tr>\n",
       "    <tr>\n",
       "      <th>True</th>\n",
       "      <td>403</td>\n",
       "      <td>80</td>\n",
       "    </tr>\n",
       "  </tbody>\n",
       "</table>\n",
       "</div>"
      ],
      "text/plain": [
       "Voice mail plan    No  Yes\n",
       "Churn                     \n",
       "False            2008  842\n",
       "True              403   80"
      ]
     },
     "execution_count": 20,
     "metadata": {},
     "output_type": "execute_result"
    }
   ],
   "source": [
    "obs = pd.crosstab(telecom['Churn'], telecom['Voice mail plan'])\n",
    "obs"
   ]
  },
  {
   "cell_type": "code",
   "execution_count": 21,
   "metadata": {},
   "outputs": [
    {
     "data": {
      "text/plain": [
       "(34.13166001075673, 5.15063965903898e-09, 1)"
      ]
     },
     "execution_count": 21,
     "metadata": {},
     "output_type": "execute_result"
    }
   ],
   "source": [
    "chi2, p, dof, expected = sps.chi2_contingency(obs)\n",
    "chi2, p, dof"
   ]
  },
  {
   "cell_type": "markdown",
   "metadata": {},
   "source": [
    "Статистическая значимость имеется, в то время как практическая значимость может быть поставлена под сомнение"
   ]
  },
  {
   "cell_type": "code",
   "execution_count": 22,
   "metadata": {},
   "outputs": [
    {
     "data": {
      "text/plain": [
       "(0.07156136708398074, -0.10214814067014692)"
      ]
     },
     "execution_count": 22,
     "metadata": {},
     "output_type": "execute_result"
    }
   ],
   "source": [
    "cramer(chi2, n, 2, 2), matthews(obs)"
   ]
  },
  {
   "cell_type": "markdown",
   "metadata": {},
   "source": [
    "### Зависимость оттока от количества минут днем\n",
    "\n",
    "В данном случае нужно исследовать зависимость двух переменных, из которых одна вещественная, а другая -- бинарная.\n",
    "Для начала можно построить две KDE, по которым уже видна зависимость."
   ]
  },
  {
   "cell_type": "code",
   "execution_count": 23,
   "metadata": {},
   "outputs": [
    {
     "data": {
      "image/png": "[encoded data removed]",
      "text/plain": [
       "<matplotlib.figure.Figure at 0x27f235b6860>"
      ]
     },
     "metadata": {},
     "output_type": "display_data"
    }
   ],
   "source": [
    "sns.set(font_scale=1.3)\n",
    "plt.figure(figsize=(12, 5))\n",
    "sns.kdeplot(telecom[telecom['Churn'] == True]['Total day minutes'], \n",
    "            label='True', lw=3)\n",
    "sns.kdeplot(telecom[telecom['Churn'] == False]['Total day minutes'], \n",
    "            label='False', lw=3)\n",
    "plt.xlabel('Total day minutes')\n",
    "plt.legend(title='Churn');"
   ]
  },
  {
   "cell_type": "markdown",
   "metadata": {},
   "source": [
    "Чтобы исследовать статистическую зависимость, разобьем вещественную переменную на несколько интервал, тем самым сведя ее к категориальной.\n",
    "После этого можно построить таблицу сопряженности."
   ]
  },
  {
   "cell_type": "code",
   "execution_count": 24,
   "metadata": {},
   "outputs": [
    {
     "data": {
      "text/plain": [
       "array([[  71.,  592., 1478.,  674.,   35.],\n",
       "       [  10.,   88.,  132.,  184.,   69.]])"
      ]
     },
     "execution_count": 24,
     "metadata": {},
     "output_type": "execute_result"
    }
   ],
   "source": [
    "obs = np.histogram2d(telecom['Churn'], \n",
    "                     telecom['Total day minutes'], \n",
    "                     bins=(2, 5))[0]\n",
    "obs"
   ]
  },
  {
   "cell_type": "markdown",
   "metadata": {},
   "source": [
    "Применяем критерий хи-квадрат. **Статистическая значимость имеется.**"
   ]
  },
  {
   "cell_type": "code",
   "execution_count": 25,
   "metadata": {},
   "outputs": [
    {
     "data": {
      "text/plain": [
       "(312.22807558569394,\n",
       " 2.4931581541229795e-66,\n",
       " 4,\n",
       " array([[  69.26192619,  581.45814581, 1376.68766877,  733.66336634,\n",
       "           88.92889289],\n",
       "        [  11.73807381,   98.54185419,  233.31233123,  124.33663366,\n",
       "           15.07110711]]))"
      ]
     },
     "execution_count": 25,
     "metadata": {},
     "output_type": "execute_result"
    }
   ],
   "source": [
    "sps.chi2_contingency(obs)"
   ]
  },
  {
   "cell_type": "markdown",
   "metadata": {},
   "source": [
    "### Зависимость оттока от количества минут ночью\n",
    "Все аналогично"
   ]
  },
  {
   "cell_type": "code",
   "execution_count": 26,
   "metadata": {},
   "outputs": [
    {
     "data": {
      "image/png": "[encoded data removed]",
      "text/plain": [
       "<matplotlib.figure.Figure at 0x27f235fc128>"
      ]
     },
     "metadata": {},
     "output_type": "display_data"
    }
   ],
   "source": [
    "sns.set(font_scale=1.3)\n",
    "plt.figure(figsize=(12, 5))\n",
    "sns.kdeplot(telecom[telecom['Churn'] == True]['Total night minutes'], \n",
    "            label='True', lw=3)\n",
    "sns.kdeplot(telecom[telecom['Churn'] == False]['Total night minutes'], \n",
    "            label='False', lw=3)\n",
    "plt.xlabel('Total day minutes')\n",
    "plt.legend(title='Churn');"
   ]
  },
  {
   "cell_type": "code",
   "execution_count": 27,
   "metadata": {},
   "outputs": [
    {
     "data": {
      "text/plain": [
       "array([[  62.,  772., 1499.,  488.,   29.],\n",
       "       [   5.,  120.,  259.,   96.,    3.]])"
      ]
     },
     "execution_count": 27,
     "metadata": {},
     "output_type": "execute_result"
    }
   ],
   "source": [
    "obs = np.histogram2d(telecom['Churn'], \n",
    "                     telecom['Total night minutes'], \n",
    "                     bins=(2, 5))[0]\n",
    "obs"
   ]
  },
  {
   "cell_type": "code",
   "execution_count": 28,
   "metadata": {},
   "outputs": [
    {
     "data": {
      "text/plain": [
       "(5.992610695316391,\n",
       " 0.19970079123233955,\n",
       " 4,\n",
       " array([[  57.29072907,  762.73627363, 1503.24032403,  499.36993699,\n",
       "           27.36273627],\n",
       "        [   9.70927093,  129.26372637,  254.75967597,   84.63006301,\n",
       "            4.63726373]]))"
      ]
     },
     "execution_count": 28,
     "metadata": {},
     "output_type": "execute_result"
    }
   ],
   "source": [
    "sps.chi2_contingency(obs)"
   ]
  },
  {
   "cell_type": "markdown",
   "metadata": {},
   "source": [
    "Интересно, что в этом случае **результат статистически незначим**.\n",
    "Т.е. получаем, что отток зависит от дневных минут и не зависит от ночных."
   ]
  },
  {
   "cell_type": "markdown",
   "metadata": {},
   "source": [
    "### Итог:\n",
    "\n",
    "* Зависимость оттока от количества звонков в службу поддержки --- **да**;\n",
    "* Зависимость оттока от тарифного плана --- **да**;\n",
    "* Зависимость оттока от тарифного плана голосовой почты --- **сомнительно**;\n",
    "* Зависимость оттока от количества минут днем --- **да**;\n",
    "* Зависимость оттока от количества минут ночью --- **нет**."
   ]
  },
  {
   "cell_type": "markdown",
   "metadata": {},
   "source": [
    "# Chess (King-Rook vs. King) Data Set \n",
    "https://archive.ics.uci.edu/ml/datasets/Chess+(King-Rook+vs.+King)\n",
    "\n",
    "Данные состоят некоторого количества бинарных переменных, которые задают комбинацию в игре, а так же результата игры с такой позицией. "
   ]
  },
  {
   "cell_type": "code",
   "execution_count": 30,
   "metadata": {},
   "outputs": [
    {
     "data": {
      "text/html": [
       "<div>\n",
       "<style scoped>\n",
       "    .dataframe tbody tr th:only-of-type {\n",
       "        vertical-align: middle;\n",
       "    }\n",
       "\n",
       "    .dataframe tbody tr th {\n",
       "        vertical-align: top;\n",
       "    }\n",
       "\n",
       "    .dataframe thead th {\n",
       "        text-align: right;\n",
       "    }\n",
       "</style>\n",
       "<table border=\"1\" class=\"dataframe\">\n",
       "  <thead>\n",
       "    <tr style=\"text-align: right;\">\n",
       "      <th></th>\n",
       "      <th>bkblk</th>\n",
       "      <th>bknwy</th>\n",
       "      <th>bkon8</th>\n",
       "      <th>bkona</th>\n",
       "      <th>bkspr</th>\n",
       "      <th>bkxbq</th>\n",
       "      <th>bkxcr</th>\n",
       "      <th>bkxwp</th>\n",
       "      <th>blxwp</th>\n",
       "      <th>bxqsq</th>\n",
       "      <th>...</th>\n",
       "      <th>spcop</th>\n",
       "      <th>stlmt</th>\n",
       "      <th>thrsk</th>\n",
       "      <th>wkcti</th>\n",
       "      <th>wkna8</th>\n",
       "      <th>wknck</th>\n",
       "      <th>wkovl</th>\n",
       "      <th>wkpos</th>\n",
       "      <th>wtoeg</th>\n",
       "      <th>result</th>\n",
       "    </tr>\n",
       "  </thead>\n",
       "  <tbody>\n",
       "    <tr>\n",
       "      <th>0</th>\n",
       "      <td>f</td>\n",
       "      <td>f</td>\n",
       "      <td>f</td>\n",
       "      <td>f</td>\n",
       "      <td>f</td>\n",
       "      <td>f</td>\n",
       "      <td>f</td>\n",
       "      <td>f</td>\n",
       "      <td>f</td>\n",
       "      <td>f</td>\n",
       "      <td>...</td>\n",
       "      <td>f</td>\n",
       "      <td>f</td>\n",
       "      <td>f</td>\n",
       "      <td>f</td>\n",
       "      <td>f</td>\n",
       "      <td>f</td>\n",
       "      <td>t</td>\n",
       "      <td>t</td>\n",
       "      <td>n</td>\n",
       "      <td>won</td>\n",
       "    </tr>\n",
       "    <tr>\n",
       "      <th>1</th>\n",
       "      <td>f</td>\n",
       "      <td>f</td>\n",
       "      <td>f</td>\n",
       "      <td>f</td>\n",
       "      <td>t</td>\n",
       "      <td>f</td>\n",
       "      <td>f</td>\n",
       "      <td>f</td>\n",
       "      <td>f</td>\n",
       "      <td>f</td>\n",
       "      <td>...</td>\n",
       "      <td>f</td>\n",
       "      <td>f</td>\n",
       "      <td>f</td>\n",
       "      <td>f</td>\n",
       "      <td>f</td>\n",
       "      <td>f</td>\n",
       "      <td>t</td>\n",
       "      <td>t</td>\n",
       "      <td>n</td>\n",
       "      <td>won</td>\n",
       "    </tr>\n",
       "    <tr>\n",
       "      <th>2</th>\n",
       "      <td>f</td>\n",
       "      <td>f</td>\n",
       "      <td>f</td>\n",
       "      <td>f</td>\n",
       "      <td>t</td>\n",
       "      <td>f</td>\n",
       "      <td>t</td>\n",
       "      <td>f</td>\n",
       "      <td>f</td>\n",
       "      <td>f</td>\n",
       "      <td>...</td>\n",
       "      <td>f</td>\n",
       "      <td>f</td>\n",
       "      <td>f</td>\n",
       "      <td>f</td>\n",
       "      <td>f</td>\n",
       "      <td>f</td>\n",
       "      <td>t</td>\n",
       "      <td>t</td>\n",
       "      <td>n</td>\n",
       "      <td>won</td>\n",
       "    </tr>\n",
       "    <tr>\n",
       "      <th>3</th>\n",
       "      <td>f</td>\n",
       "      <td>f</td>\n",
       "      <td>f</td>\n",
       "      <td>f</td>\n",
       "      <td>f</td>\n",
       "      <td>f</td>\n",
       "      <td>f</td>\n",
       "      <td>f</td>\n",
       "      <td>t</td>\n",
       "      <td>f</td>\n",
       "      <td>...</td>\n",
       "      <td>f</td>\n",
       "      <td>f</td>\n",
       "      <td>f</td>\n",
       "      <td>f</td>\n",
       "      <td>f</td>\n",
       "      <td>f</td>\n",
       "      <td>t</td>\n",
       "      <td>t</td>\n",
       "      <td>n</td>\n",
       "      <td>won</td>\n",
       "    </tr>\n",
       "    <tr>\n",
       "      <th>4</th>\n",
       "      <td>f</td>\n",
       "      <td>f</td>\n",
       "      <td>f</td>\n",
       "      <td>f</td>\n",
       "      <td>f</td>\n",
       "      <td>f</td>\n",
       "      <td>f</td>\n",
       "      <td>f</td>\n",
       "      <td>f</td>\n",
       "      <td>f</td>\n",
       "      <td>...</td>\n",
       "      <td>f</td>\n",
       "      <td>f</td>\n",
       "      <td>f</td>\n",
       "      <td>f</td>\n",
       "      <td>f</td>\n",
       "      <td>f</td>\n",
       "      <td>t</td>\n",
       "      <td>t</td>\n",
       "      <td>n</td>\n",
       "      <td>won</td>\n",
       "    </tr>\n",
       "  </tbody>\n",
       "</table>\n",
       "<p>5 rows × 37 columns</p>\n",
       "</div>"
      ],
      "text/plain": [
       "  bkblk bknwy bkon8 bkona bkspr bkxbq bkxcr bkxwp blxwp bxqsq  ...   spcop  \\\n",
       "0     f     f     f     f     f     f     f     f     f     f  ...       f   \n",
       "1     f     f     f     f     t     f     f     f     f     f  ...       f   \n",
       "2     f     f     f     f     t     f     t     f     f     f  ...       f   \n",
       "3     f     f     f     f     f     f     f     f     t     f  ...       f   \n",
       "4     f     f     f     f     f     f     f     f     f     f  ...       f   \n",
       "\n",
       "  stlmt thrsk wkcti wkna8 wknck wkovl wkpos wtoeg result  \n",
       "0     f     f     f     f     f     t     t     n    won  \n",
       "1     f     f     f     f     f     t     t     n    won  \n",
       "2     f     f     f     f     f     t     t     n    won  \n",
       "3     f     f     f     f     f     t     t     n    won  \n",
       "4     f     f     f     f     f     t     t     n    won  \n",
       "\n",
       "[5 rows x 37 columns]"
      ]
     },
     "execution_count": 30,
     "metadata": {},
     "output_type": "execute_result"
    }
   ],
   "source": [
    "kr_vs_kp = pd.read_csv('kr-vs-kp.data')\n",
    "kr_vs_kp.head()"
   ]
  },
  {
   "cell_type": "markdown",
   "metadata": {},
   "source": [
    "Проведем анализ влияния параметров позиции на итог игры.\n",
    "Для этого для каждого параметра применим критерий хи-квадрат, посчитаем коэффициенты Крамера и Мэтьюса.\n",
    "К результатам применения критерия хи-квадрат применим так же МПГ по методу Холма.\n",
    "Столбец `value` соответствует \"положительному\" значению в терминах коэффициентов Крамера и Мэтьса."
   ]
  },
  {
   "cell_type": "code",
   "execution_count": 31,
   "metadata": {},
   "outputs": [],
   "source": [
    "influence = pd.DataFrame(columns=['value', 'chi2', 'pvalue', \n",
    "                                  'reject', 'cramer', 'matthews'])\n",
    "features = kr_vs_kp.columns[:-1]\n",
    "n = len(kr_vs_kp)\n",
    "\n",
    "for f in features:\n",
    "    obs = pd.crosstab(kr_vs_kp[f], kr_vs_kp['result'])\n",
    "    chi2, p, _, _ = sps.chi2_contingency(obs)\n",
    "    series = pd.Series({'value': obs.index[0], \n",
    "                        'chi2': chi2, \n",
    "                        'pvalue': p, \n",
    "                        'reject': p < 0.05,\n",
    "                        'cramer': cramer(chi2, n, 2, 2), \n",
    "                        'matthews': matthews(obs)})\n",
    "    series.name = f\n",
    "    influence = influence.append(series)\n",
    "    \n",
    "influence['reject_holm'] = multipletests(influence['pvalue'], \n",
    "                                         method='holm')[0]"
   ]
  },
  {
   "cell_type": "code",
   "execution_count": 32,
   "metadata": {
    "scrolled": false
   },
   "outputs": [
    {
     "data": {
      "text/html": [
       "<div>\n",
       "<style scoped>\n",
       "    .dataframe tbody tr th:only-of-type {\n",
       "        vertical-align: middle;\n",
       "    }\n",
       "\n",
       "    .dataframe tbody tr th {\n",
       "        vertical-align: top;\n",
       "    }\n",
       "\n",
       "    .dataframe thead th {\n",
       "        text-align: right;\n",
       "    }\n",
       "</style>\n",
       "<table border=\"1\" class=\"dataframe\">\n",
       "  <thead>\n",
       "    <tr style=\"text-align: right;\">\n",
       "      <th></th>\n",
       "      <th>value</th>\n",
       "      <th>chi2</th>\n",
       "      <th>pvalue</th>\n",
       "      <th>reject</th>\n",
       "      <th>cramer</th>\n",
       "      <th>matthews</th>\n",
       "      <th>reject_holm</th>\n",
       "    </tr>\n",
       "  </thead>\n",
       "  <tbody>\n",
       "    <tr>\n",
       "      <th>rimmx</th>\n",
       "      <td>f</td>\n",
       "      <td>651.435295</td>\n",
       "      <td>1.088838e-143</td>\n",
       "      <td>True</td>\n",
       "      <td>0.319265</td>\n",
       "      <td>0.452284</td>\n",
       "      <td>True</td>\n",
       "    </tr>\n",
       "    <tr>\n",
       "      <th>bxqsq</th>\n",
       "      <td>f</td>\n",
       "      <td>460.095072</td>\n",
       "      <td>4.583551e-102</td>\n",
       "      <td>True</td>\n",
       "      <td>0.268312</td>\n",
       "      <td>-0.380101</td>\n",
       "      <td>True</td>\n",
       "    </tr>\n",
       "    <tr>\n",
       "      <th>wknck</th>\n",
       "      <td>f</td>\n",
       "      <td>424.899908</td>\n",
       "      <td>2.093813e-94</td>\n",
       "      <td>True</td>\n",
       "      <td>0.257845</td>\n",
       "      <td>-0.365265</td>\n",
       "      <td>True</td>\n",
       "    </tr>\n",
       "    <tr>\n",
       "      <th>bkxwp</th>\n",
       "      <td>f</td>\n",
       "      <td>172.243093</td>\n",
       "      <td>2.394809e-39</td>\n",
       "      <td>True</td>\n",
       "      <td>0.164167</td>\n",
       "      <td>-0.232908</td>\n",
       "      <td>True</td>\n",
       "    </tr>\n",
       "    <tr>\n",
       "      <th>wkna8</th>\n",
       "      <td>f</td>\n",
       "      <td>121.752418</td>\n",
       "      <td>2.615189e-28</td>\n",
       "      <td>True</td>\n",
       "      <td>0.138024</td>\n",
       "      <td>-0.196557</td>\n",
       "      <td>True</td>\n",
       "    </tr>\n",
       "    <tr>\n",
       "      <th>r2ar8</th>\n",
       "      <td>f</td>\n",
       "      <td>85.803472</td>\n",
       "      <td>1.987369e-20</td>\n",
       "      <td>True</td>\n",
       "      <td>0.115869</td>\n",
       "      <td>-0.164526</td>\n",
       "      <td>True</td>\n",
       "    </tr>\n",
       "    <tr>\n",
       "      <th>bkxcr</th>\n",
       "      <td>f</td>\n",
       "      <td>85.100239</td>\n",
       "      <td>2.836162e-20</td>\n",
       "      <td>True</td>\n",
       "      <td>0.115393</td>\n",
       "      <td>-0.163828</td>\n",
       "      <td>True</td>\n",
       "    </tr>\n",
       "    <tr>\n",
       "      <th>mulch</th>\n",
       "      <td>f</td>\n",
       "      <td>78.661185</td>\n",
       "      <td>7.373009e-19</td>\n",
       "      <td>True</td>\n",
       "      <td>0.110942</td>\n",
       "      <td>-0.158337</td>\n",
       "      <td>True</td>\n",
       "    </tr>\n",
       "    <tr>\n",
       "      <th>wkpos</th>\n",
       "      <td>f</td>\n",
       "      <td>67.971542</td>\n",
       "      <td>1.658723e-16</td>\n",
       "      <td>True</td>\n",
       "      <td>0.103129</td>\n",
       "      <td>0.146543</td>\n",
       "      <td>True</td>\n",
       "    </tr>\n",
       "    <tr>\n",
       "      <th>bkxbq</th>\n",
       "      <td>f</td>\n",
       "      <td>61.903982</td>\n",
       "      <td>3.606196e-15</td>\n",
       "      <td>True</td>\n",
       "      <td>0.098418</td>\n",
       "      <td>0.139802</td>\n",
       "      <td>True</td>\n",
       "    </tr>\n",
       "    <tr>\n",
       "      <th>skrxp</th>\n",
       "      <td>f</td>\n",
       "      <td>53.266420</td>\n",
       "      <td>2.912429e-13</td>\n",
       "      <td>True</td>\n",
       "      <td>0.091294</td>\n",
       "      <td>-0.130476</td>\n",
       "      <td>True</td>\n",
       "    </tr>\n",
       "    <tr>\n",
       "      <th>stlmt</th>\n",
       "      <td>f</td>\n",
       "      <td>50.034793</td>\n",
       "      <td>1.510438e-12</td>\n",
       "      <td>True</td>\n",
       "      <td>0.088481</td>\n",
       "      <td>-0.127724</td>\n",
       "      <td>True</td>\n",
       "    </tr>\n",
       "    <tr>\n",
       "      <th>wkcti</th>\n",
       "      <td>f</td>\n",
       "      <td>50.360744</td>\n",
       "      <td>1.279278e-12</td>\n",
       "      <td>True</td>\n",
       "      <td>0.088769</td>\n",
       "      <td>0.126350</td>\n",
       "      <td>True</td>\n",
       "    </tr>\n",
       "    <tr>\n",
       "      <th>rkxwp</th>\n",
       "      <td>f</td>\n",
       "      <td>32.356829</td>\n",
       "      <td>1.283055e-08</td>\n",
       "      <td>True</td>\n",
       "      <td>0.071154</td>\n",
       "      <td>0.101402</td>\n",
       "      <td>True</td>\n",
       "    </tr>\n",
       "    <tr>\n",
       "      <th>dwipd</th>\n",
       "      <td>g</td>\n",
       "      <td>31.251496</td>\n",
       "      <td>2.266727e-08</td>\n",
       "      <td>True</td>\n",
       "      <td>0.069928</td>\n",
       "      <td>0.099563</td>\n",
       "      <td>True</td>\n",
       "    </tr>\n",
       "    <tr>\n",
       "      <th>bkon8</th>\n",
       "      <td>f</td>\n",
       "      <td>25.609635</td>\n",
       "      <td>4.179472e-07</td>\n",
       "      <td>True</td>\n",
       "      <td>0.063302</td>\n",
       "      <td>-0.091163</td>\n",
       "      <td>True</td>\n",
       "    </tr>\n",
       "    <tr>\n",
       "      <th>rxmsq</th>\n",
       "      <td>f</td>\n",
       "      <td>23.886245</td>\n",
       "      <td>1.021994e-06</td>\n",
       "      <td>True</td>\n",
       "      <td>0.061135</td>\n",
       "      <td>-0.087799</td>\n",
       "      <td>True</td>\n",
       "    </tr>\n",
       "    <tr>\n",
       "      <th>blxwp</th>\n",
       "      <td>f</td>\n",
       "      <td>22.834490</td>\n",
       "      <td>1.765684e-06</td>\n",
       "      <td>True</td>\n",
       "      <td>0.059774</td>\n",
       "      <td>-0.085171</td>\n",
       "      <td>True</td>\n",
       "    </tr>\n",
       "    <tr>\n",
       "      <th>katri</th>\n",
       "      <td>b</td>\n",
       "      <td>154.274708</td>\n",
       "      <td>3.159896e-34</td>\n",
       "      <td>True</td>\n",
       "      <td>0.155368</td>\n",
       "      <td>0.076105</td>\n",
       "      <td>True</td>\n",
       "    </tr>\n",
       "    <tr>\n",
       "      <th>hdchk</th>\n",
       "      <td>f</td>\n",
       "      <td>14.436453</td>\n",
       "      <td>1.449688e-04</td>\n",
       "      <td>True</td>\n",
       "      <td>0.047528</td>\n",
       "      <td>-0.071791</td>\n",
       "      <td>True</td>\n",
       "    </tr>\n",
       "    <tr>\n",
       "      <th>cntxt</th>\n",
       "      <td>f</td>\n",
       "      <td>14.558650</td>\n",
       "      <td>1.358635e-04</td>\n",
       "      <td>True</td>\n",
       "      <td>0.047728</td>\n",
       "      <td>0.068125</td>\n",
       "      <td>True</td>\n",
       "    </tr>\n",
       "    <tr>\n",
       "      <th>simpl</th>\n",
       "      <td>f</td>\n",
       "      <td>6.460625</td>\n",
       "      <td>1.102909e-02</td>\n",
       "      <td>True</td>\n",
       "      <td>0.031795</td>\n",
       "      <td>0.045605</td>\n",
       "      <td>False</td>\n",
       "    </tr>\n",
       "    <tr>\n",
       "      <th>wkovl</th>\n",
       "      <td>f</td>\n",
       "      <td>5.021603</td>\n",
       "      <td>2.503299e-02</td>\n",
       "      <td>True</td>\n",
       "      <td>0.028031</td>\n",
       "      <td>-0.040287</td>\n",
       "      <td>False</td>\n",
       "    </tr>\n",
       "    <tr>\n",
       "      <th>thrsk</th>\n",
       "      <td>f</td>\n",
       "      <td>4.792972</td>\n",
       "      <td>2.857607e-02</td>\n",
       "      <td>True</td>\n",
       "      <td>0.027385</td>\n",
       "      <td>0.040277</td>\n",
       "      <td>False</td>\n",
       "    </tr>\n",
       "    <tr>\n",
       "      <th>skach</th>\n",
       "      <td>f</td>\n",
       "      <td>3.848425</td>\n",
       "      <td>4.979273e-02</td>\n",
       "      <td>True</td>\n",
       "      <td>0.024539</td>\n",
       "      <td>-0.040049</td>\n",
       "      <td>False</td>\n",
       "    </tr>\n",
       "    <tr>\n",
       "      <th>bkspr</th>\n",
       "      <td>f</td>\n",
       "      <td>4.645799</td>\n",
       "      <td>3.112965e-02</td>\n",
       "      <td>True</td>\n",
       "      <td>0.026962</td>\n",
       "      <td>-0.038791</td>\n",
       "      <td>False</td>\n",
       "    </tr>\n",
       "    <tr>\n",
       "      <th>skewr</th>\n",
       "      <td>f</td>\n",
       "      <td>4.214011</td>\n",
       "      <td>4.009142e-02</td>\n",
       "      <td>True</td>\n",
       "      <td>0.025678</td>\n",
       "      <td>-0.036991</td>\n",
       "      <td>False</td>\n",
       "    </tr>\n",
       "    <tr>\n",
       "      <th>reskd</th>\n",
       "      <td>f</td>\n",
       "      <td>2.391095</td>\n",
       "      <td>1.220282e-01</td>\n",
       "      <td>False</td>\n",
       "      <td>0.019343</td>\n",
       "      <td>0.030839</td>\n",
       "      <td>False</td>\n",
       "    </tr>\n",
       "    <tr>\n",
       "      <th>spcop</th>\n",
       "      <td>f</td>\n",
       "      <td>0.001979</td>\n",
       "      <td>9.645207e-01</td>\n",
       "      <td>False</td>\n",
       "      <td>0.000556</td>\n",
       "      <td>-0.018496</td>\n",
       "      <td>False</td>\n",
       "    </tr>\n",
       "    <tr>\n",
       "      <th>dsopp</th>\n",
       "      <td>f</td>\n",
       "      <td>0.659828</td>\n",
       "      <td>4.166208e-01</td>\n",
       "      <td>False</td>\n",
       "      <td>0.010161</td>\n",
       "      <td>0.015390</td>\n",
       "      <td>False</td>\n",
       "    </tr>\n",
       "    <tr>\n",
       "      <th>bkona</th>\n",
       "      <td>f</td>\n",
       "      <td>0.442373</td>\n",
       "      <td>5.059792e-01</td>\n",
       "      <td>False</td>\n",
       "      <td>0.008320</td>\n",
       "      <td>-0.012806</td>\n",
       "      <td>False</td>\n",
       "    </tr>\n",
       "    <tr>\n",
       "      <th>qxmsq</th>\n",
       "      <td>f</td>\n",
       "      <td>0.344931</td>\n",
       "      <td>5.569966e-01</td>\n",
       "      <td>False</td>\n",
       "      <td>0.007347</td>\n",
       "      <td>0.012214</td>\n",
       "      <td>False</td>\n",
       "    </tr>\n",
       "    <tr>\n",
       "      <th>reskr</th>\n",
       "      <td>f</td>\n",
       "      <td>0.140819</td>\n",
       "      <td>7.074687e-01</td>\n",
       "      <td>False</td>\n",
       "      <td>0.004694</td>\n",
       "      <td>0.007513</td>\n",
       "      <td>False</td>\n",
       "    </tr>\n",
       "    <tr>\n",
       "      <th>bknwy</th>\n",
       "      <td>f</td>\n",
       "      <td>0.019222</td>\n",
       "      <td>8.897321e-01</td>\n",
       "      <td>False</td>\n",
       "      <td>0.001734</td>\n",
       "      <td>0.003677</td>\n",
       "      <td>False</td>\n",
       "    </tr>\n",
       "    <tr>\n",
       "      <th>bkblk</th>\n",
       "      <td>f</td>\n",
       "      <td>0.000060</td>\n",
       "      <td>9.937975e-01</td>\n",
       "      <td>False</td>\n",
       "      <td>0.000097</td>\n",
       "      <td>0.001132</td>\n",
       "      <td>False</td>\n",
       "    </tr>\n",
       "    <tr>\n",
       "      <th>wtoeg</th>\n",
       "      <td>n</td>\n",
       "      <td>0.001504</td>\n",
       "      <td>9.690686e-01</td>\n",
       "      <td>False</td>\n",
       "      <td>0.000485</td>\n",
       "      <td>-0.000040</td>\n",
       "      <td>False</td>\n",
       "    </tr>\n",
       "  </tbody>\n",
       "</table>\n",
       "</div>"
      ],
      "text/plain": [
       "      value        chi2         pvalue reject    cramer  matthews  reject_holm\n",
       "rimmx     f  651.435295  1.088838e-143   True  0.319265  0.452284         True\n",
       "bxqsq     f  460.095072  4.583551e-102   True  0.268312 -0.380101         True\n",
       "wknck     f  424.899908   2.093813e-94   True  0.257845 -0.365265         True\n",
       "bkxwp     f  172.243093   2.394809e-39   True  0.164167 -0.232908         True\n",
       "wkna8     f  121.752418   2.615189e-28   True  0.138024 -0.196557         True\n",
       "r2ar8     f   85.803472   1.987369e-20   True  0.115869 -0.164526         True\n",
       "bkxcr     f   85.100239   2.836162e-20   True  0.115393 -0.163828         True\n",
       "mulch     f   78.661185   7.373009e-19   True  0.110942 -0.158337         True\n",
       "wkpos     f   67.971542   1.658723e-16   True  0.103129  0.146543         True\n",
       "bkxbq     f   61.903982   3.606196e-15   True  0.098418  0.139802         True\n",
       "skrxp     f   53.266420   2.912429e-13   True  0.091294 -0.130476         True\n",
       "stlmt     f   50.034793   1.510438e-12   True  0.088481 -0.127724         True\n",
       "wkcti     f   50.360744   1.279278e-12   True  0.088769  0.126350         True\n",
       "rkxwp     f   32.356829   1.283055e-08   True  0.071154  0.101402         True\n",
       "dwipd     g   31.251496   2.266727e-08   True  0.069928  0.099563         True\n",
       "bkon8     f   25.609635   4.179472e-07   True  0.063302 -0.091163         True\n",
       "rxmsq     f   23.886245   1.021994e-06   True  0.061135 -0.087799         True\n",
       "blxwp     f   22.834490   1.765684e-06   True  0.059774 -0.085171         True\n",
       "katri     b  154.274708   3.159896e-34   True  0.155368  0.076105         True\n",
       "hdchk     f   14.436453   1.449688e-04   True  0.047528 -0.071791         True\n",
       "cntxt     f   14.558650   1.358635e-04   True  0.047728  0.068125         True\n",
       "simpl     f    6.460625   1.102909e-02   True  0.031795  0.045605        False\n",
       "wkovl     f    5.021603   2.503299e-02   True  0.028031 -0.040287        False\n",
       "thrsk     f    4.792972   2.857607e-02   True  0.027385  0.040277        False\n",
       "skach     f    3.848425   4.979273e-02   True  0.024539 -0.040049        False\n",
       "bkspr     f    4.645799   3.112965e-02   True  0.026962 -0.038791        False\n",
       "skewr     f    4.214011   4.009142e-02   True  0.025678 -0.036991        False\n",
       "reskd     f    2.391095   1.220282e-01  False  0.019343  0.030839        False\n",
       "spcop     f    0.001979   9.645207e-01  False  0.000556 -0.018496        False\n",
       "dsopp     f    0.659828   4.166208e-01  False  0.010161  0.015390        False\n",
       "bkona     f    0.442373   5.059792e-01  False  0.008320 -0.012806        False\n",
       "qxmsq     f    0.344931   5.569966e-01  False  0.007347  0.012214        False\n",
       "reskr     f    0.140819   7.074687e-01  False  0.004694  0.007513        False\n",
       "bknwy     f    0.019222   8.897321e-01  False  0.001734  0.003677        False\n",
       "bkblk     f    0.000060   9.937975e-01  False  0.000097  0.001132        False\n",
       "wtoeg     n    0.001504   9.690686e-01  False  0.000485 -0.000040        False"
      ]
     },
     "execution_count": 32,
     "metadata": {},
     "output_type": "execute_result"
    }
   ],
   "source": [
    "influence['matthews_abs'] = np.abs(influence['matthews'])\n",
    "influence.sort_values(by='matthews_abs', ascending=False).iloc[:, :-1]"
   ]
  },
  {
   "cell_type": "markdown",
   "metadata": {},
   "source": [
    "---------\n",
    "\n",
    "Прикладная статистика и анализ данных, 2019\n",
    "\n",
    "Никита Волков\n",
    "\n",
    "https://mipt-stats.gitlab.io/"
   ]
  }
 ],
 "metadata": {
  "kernelspec": {
   "display_name": "Python 3",
   "language": "python",
   "name": "python3"
  },
  "language_info": {
   "codemirror_mode": {
    "name": "ipython",
    "version": 3
   },
   "file_extension": ".py",
   "mimetype": "text/x-python",
   "name": "python",
   "nbconvert_exporter": "python",
   "pygments_lexer": "ipython3",
   "version": "3.7.3"
  }
 },
 "nbformat": 4,
 "nbformat_minor": 2
}
