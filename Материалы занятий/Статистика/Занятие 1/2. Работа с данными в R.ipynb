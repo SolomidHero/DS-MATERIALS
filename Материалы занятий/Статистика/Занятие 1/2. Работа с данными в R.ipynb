{
 "cells": [
  {
   "cell_type": "code",
   "execution_count": 1,
   "metadata": {},
   "outputs": [],
   "source": [
    "options(repr.plot.width = 8, repr.plot.height = 6)"
   ]
  },
  {
   "cell_type": "markdown",
   "metadata": {},
   "source": [
    "# Работа с данными в R\n",
    "\n",
    "### Табличные данные\n",
    "\n",
    "Создание таблиц"
   ]
  },
  {
   "cell_type": "code",
   "execution_count": 2,
   "metadata": {},
   "outputs": [
    {
     "data": {
      "text/html": [
       "3"
      ],
      "text/latex": [
       "3"
      ],
      "text/markdown": [
       "3"
      ],
      "text/plain": [
       "[1] 3"
      ]
     },
     "metadata": {},
     "output_type": "display_data"
    },
    {
     "data": {
      "text/html": [
       "4"
      ],
      "text/latex": [
       "4"
      ],
      "text/markdown": [
       "4"
      ],
      "text/plain": [
       "[1] 4"
      ]
     },
     "metadata": {},
     "output_type": "display_data"
    },
    {
     "data": {
      "text/html": [
       "<table>\n",
       "<caption>A data.frame: 3 × 4</caption>\n",
       "<thead>\n",
       "\t<tr><th scope=col>x</th><th scope=col>x2</th><th scope=col>y</th><th scope=col>NA</th></tr>\n",
       "\t<tr><th scope=col>&lt;int&gt;</th><th scope=col>&lt;int&gt;</th><th scope=col>&lt;int&gt;</th><th scope=col>&lt;int&gt;</th></tr>\n",
       "</thead>\n",
       "<tbody>\n",
       "\t<tr><td>1</td><td>4</td><td>7</td><td>10</td></tr>\n",
       "\t<tr><td>2</td><td>5</td><td>8</td><td>11</td></tr>\n",
       "\t<tr><td>3</td><td>6</td><td>9</td><td>12</td></tr>\n",
       "</tbody>\n",
       "</table>\n"
      ],
      "text/latex": [
       "A data.frame: 3 × 4\n",
       "\\begin{tabular}{r|llll}\n",
       " x & x2 & y & NA\\\\\n",
       " <int> & <int> & <int> & <int>\\\\\n",
       "\\hline\n",
       "\t 1 & 4 & 7 & 10\\\\\n",
       "\t 2 & 5 & 8 & 11\\\\\n",
       "\t 3 & 6 & 9 & 12\\\\\n",
       "\\end{tabular}\n"
      ],
      "text/markdown": [
       "\n",
       "A data.frame: 3 × 4\n",
       "\n",
       "| x &lt;int&gt; | x2 &lt;int&gt; | y &lt;int&gt; | NA &lt;int&gt; |\n",
       "|---|---|---|---|\n",
       "| 1 | 4 | 7 | 10 |\n",
       "| 2 | 5 | 8 | 11 |\n",
       "| 3 | 6 | 9 | 12 |\n",
       "\n"
      ],
      "text/plain": [
       "  x x2 y <NA>\n",
       "1 1 4  7 10  \n",
       "2 2 5  8 11  \n",
       "3 3 6  9 12  "
      ]
     },
     "metadata": {},
     "output_type": "display_data"
    }
   ],
   "source": [
    "t <- data.frame(matrix(nrow = 3, ncol = 4, data = 1:12))\n",
    "colnames(t) <- c('x', 'x2', 'y')\n",
    "nrow(t)\n",
    "ncol(t)\n",
    "t"
   ]
  },
  {
   "cell_type": "markdown",
   "metadata": {},
   "source": [
    "Столбцы"
   ]
  },
  {
   "cell_type": "code",
   "execution_count": 3,
   "metadata": {},
   "outputs": [
    {
     "data": {
      "text/html": [
       "<ol class=list-inline>\n",
       "\t<li>1</li>\n",
       "\t<li>2</li>\n",
       "\t<li>3</li>\n",
       "</ol>\n"
      ],
      "text/latex": [
       "\\begin{enumerate*}\n",
       "\\item 1\n",
       "\\item 2\n",
       "\\item 3\n",
       "\\end{enumerate*}\n"
      ],
      "text/markdown": [
       "1. 1\n",
       "2. 2\n",
       "3. 3\n",
       "\n",
       "\n"
      ],
      "text/plain": [
       "[1] 1 2 3"
      ]
     },
     "metadata": {},
     "output_type": "display_data"
    },
    {
     "data": {
      "text/html": [
       "<table>\n",
       "<caption>A data.frame: 3 × 1</caption>\n",
       "<thead>\n",
       "\t<tr><th scope=col>x</th></tr>\n",
       "\t<tr><th scope=col>&lt;int&gt;</th></tr>\n",
       "</thead>\n",
       "<tbody>\n",
       "\t<tr><td>1</td></tr>\n",
       "\t<tr><td>2</td></tr>\n",
       "\t<tr><td>3</td></tr>\n",
       "</tbody>\n",
       "</table>\n"
      ],
      "text/latex": [
       "A data.frame: 3 × 1\n",
       "\\begin{tabular}{r|l}\n",
       " x\\\\\n",
       " <int>\\\\\n",
       "\\hline\n",
       "\t 1\\\\\n",
       "\t 2\\\\\n",
       "\t 3\\\\\n",
       "\\end{tabular}\n"
      ],
      "text/markdown": [
       "\n",
       "A data.frame: 3 × 1\n",
       "\n",
       "| x &lt;int&gt; |\n",
       "|---|\n",
       "| 1 |\n",
       "| 2 |\n",
       "| 3 |\n",
       "\n"
      ],
      "text/plain": [
       "  x\n",
       "1 1\n",
       "2 2\n",
       "3 3"
      ]
     },
     "metadata": {},
     "output_type": "display_data"
    },
    {
     "data": {
      "text/html": [
       "<ol class=list-inline>\n",
       "\t<li>1</li>\n",
       "\t<li>2</li>\n",
       "\t<li>3</li>\n",
       "</ol>\n"
      ],
      "text/latex": [
       "\\begin{enumerate*}\n",
       "\\item 1\n",
       "\\item 2\n",
       "\\item 3\n",
       "\\end{enumerate*}\n"
      ],
      "text/markdown": [
       "1. 1\n",
       "2. 2\n",
       "3. 3\n",
       "\n",
       "\n"
      ],
      "text/plain": [
       "[1] 1 2 3"
      ]
     },
     "metadata": {},
     "output_type": "display_data"
    }
   ],
   "source": [
    "t[[1]]  # первый столбец\n",
    "t[1]\n",
    "t[,1]"
   ]
  },
  {
   "cell_type": "markdown",
   "metadata": {},
   "source": [
    "Строки, элементы и подматрицы"
   ]
  },
  {
   "cell_type": "code",
   "execution_count": 4,
   "metadata": {},
   "outputs": [
    {
     "data": {
      "text/html": [
       "<table>\n",
       "<caption>A data.frame: 1 × 4</caption>\n",
       "<thead>\n",
       "\t<tr><th scope=col>x</th><th scope=col>x2</th><th scope=col>y</th><th scope=col>NA</th></tr>\n",
       "\t<tr><th scope=col>&lt;int&gt;</th><th scope=col>&lt;int&gt;</th><th scope=col>&lt;int&gt;</th><th scope=col>&lt;int&gt;</th></tr>\n",
       "</thead>\n",
       "<tbody>\n",
       "\t<tr><td>1</td><td>4</td><td>7</td><td>10</td></tr>\n",
       "</tbody>\n",
       "</table>\n"
      ],
      "text/latex": [
       "A data.frame: 1 × 4\n",
       "\\begin{tabular}{r|llll}\n",
       " x & x2 & y & NA\\\\\n",
       " <int> & <int> & <int> & <int>\\\\\n",
       "\\hline\n",
       "\t 1 & 4 & 7 & 10\\\\\n",
       "\\end{tabular}\n"
      ],
      "text/markdown": [
       "\n",
       "A data.frame: 1 × 4\n",
       "\n",
       "| x &lt;int&gt; | x2 &lt;int&gt; | y &lt;int&gt; | NA &lt;int&gt; |\n",
       "|---|---|---|---|\n",
       "| 1 | 4 | 7 | 10 |\n",
       "\n"
      ],
      "text/plain": [
       "  x x2 y <NA>\n",
       "1 1 4  7 10  "
      ]
     },
     "metadata": {},
     "output_type": "display_data"
    },
    {
     "data": {
      "text/html": [
       "8"
      ],
      "text/latex": [
       "8"
      ],
      "text/markdown": [
       "8"
      ],
      "text/plain": [
       "[1] 8"
      ]
     },
     "metadata": {},
     "output_type": "display_data"
    },
    {
     "data": {
      "text/html": [
       "<table>\n",
       "<caption>A data.frame: 2 × 2</caption>\n",
       "<thead>\n",
       "\t<tr><th></th><th scope=col>x2</th><th scope=col>NA</th></tr>\n",
       "\t<tr><th></th><th scope=col>&lt;int&gt;</th><th scope=col>&lt;int&gt;</th></tr>\n",
       "</thead>\n",
       "<tbody>\n",
       "\t<tr><th scope=row>1</th><td>4</td><td>10</td></tr>\n",
       "\t<tr><th scope=row>3</th><td>6</td><td>12</td></tr>\n",
       "</tbody>\n",
       "</table>\n"
      ],
      "text/latex": [
       "A data.frame: 2 × 2\n",
       "\\begin{tabular}{r|ll}\n",
       "  & x2 & NA\\\\\n",
       "  & <int> & <int>\\\\\n",
       "\\hline\n",
       "\t1 & 4 & 10\\\\\n",
       "\t3 & 6 & 12\\\\\n",
       "\\end{tabular}\n"
      ],
      "text/markdown": [
       "\n",
       "A data.frame: 2 × 2\n",
       "\n",
       "| <!--/--> | x2 &lt;int&gt; | NA &lt;int&gt; |\n",
       "|---|---|---|\n",
       "| 1 | 4 | 10 |\n",
       "| 3 | 6 | 12 |\n",
       "\n"
      ],
      "text/plain": [
       "  x2 <NA>\n",
       "1 4  10  \n",
       "3 6  12  "
      ]
     },
     "metadata": {},
     "output_type": "display_data"
    }
   ],
   "source": [
    "t[1,]  # первая строка\n",
    "t[2, 3]\n",
    "t[c(1, 3), c(2, 4)]"
   ]
  },
  {
   "cell_type": "markdown",
   "metadata": {},
   "source": [
    "Изменение значений"
   ]
  },
  {
   "cell_type": "code",
   "execution_count": 5,
   "metadata": {},
   "outputs": [
    {
     "data": {
      "text/html": [
       "<ol class=list-inline>\n",
       "\t<li>1</li>\n",
       "\t<li>2</li>\n",
       "\t<li>3</li>\n",
       "</ol>\n"
      ],
      "text/latex": [
       "\\begin{enumerate*}\n",
       "\\item 1\n",
       "\\item 2\n",
       "\\item 3\n",
       "\\end{enumerate*}\n"
      ],
      "text/markdown": [
       "1. 1\n",
       "2. 2\n",
       "3. 3\n",
       "\n",
       "\n"
      ],
      "text/plain": [
       "[1] 1 2 3"
      ]
     },
     "metadata": {},
     "output_type": "display_data"
    },
    {
     "data": {
      "text/html": [
       "<table>\n",
       "<caption>A data.frame: 3 × 4</caption>\n",
       "<thead>\n",
       "\t<tr><th scope=col>x</th><th scope=col>x2</th><th scope=col>y</th><th scope=col>NA</th></tr>\n",
       "\t<tr><th scope=col>&lt;dbl&gt;</th><th scope=col>&lt;int&gt;</th><th scope=col>&lt;int&gt;</th><th scope=col>&lt;int&gt;</th></tr>\n",
       "</thead>\n",
       "<tbody>\n",
       "\t<tr><td>  1</td><td>4</td><td>7</td><td>10</td></tr>\n",
       "\t<tr><td>100</td><td>5</td><td>8</td><td>11</td></tr>\n",
       "\t<tr><td>  3</td><td>6</td><td>9</td><td>12</td></tr>\n",
       "</tbody>\n",
       "</table>\n"
      ],
      "text/latex": [
       "A data.frame: 3 × 4\n",
       "\\begin{tabular}{r|llll}\n",
       " x & x2 & y & NA\\\\\n",
       " <dbl> & <int> & <int> & <int>\\\\\n",
       "\\hline\n",
       "\t   1 & 4 & 7 & 10\\\\\n",
       "\t 100 & 5 & 8 & 11\\\\\n",
       "\t   3 & 6 & 9 & 12\\\\\n",
       "\\end{tabular}\n"
      ],
      "text/markdown": [
       "\n",
       "A data.frame: 3 × 4\n",
       "\n",
       "| x &lt;dbl&gt; | x2 &lt;int&gt; | y &lt;int&gt; | NA &lt;int&gt; |\n",
       "|---|---|---|---|\n",
       "|   1 | 4 | 7 | 10 |\n",
       "| 100 | 5 | 8 | 11 |\n",
       "|   3 | 6 | 9 | 12 |\n",
       "\n"
      ],
      "text/plain": [
       "  x   x2 y <NA>\n",
       "1   1 4  7 10  \n",
       "2 100 5  8 11  \n",
       "3   3 6  9 12  "
      ]
     },
     "metadata": {},
     "output_type": "display_data"
    }
   ],
   "source": [
    "t$x\n",
    "t$x[2] <- 100\n",
    "t"
   ]
  },
  {
   "cell_type": "markdown",
   "metadata": {},
   "source": [
    "Данные, удовлетвояющие условию"
   ]
  },
  {
   "cell_type": "code",
   "execution_count": 6,
   "metadata": {},
   "outputs": [
    {
     "data": {
      "text/html": [
       "<table>\n",
       "<caption>A data.frame: 1 × 4</caption>\n",
       "<thead>\n",
       "\t<tr><th></th><th scope=col>x</th><th scope=col>x2</th><th scope=col>y</th><th scope=col>NA</th></tr>\n",
       "\t<tr><th></th><th scope=col>&lt;dbl&gt;</th><th scope=col>&lt;int&gt;</th><th scope=col>&lt;int&gt;</th><th scope=col>&lt;int&gt;</th></tr>\n",
       "</thead>\n",
       "<tbody>\n",
       "\t<tr><th scope=row>2</th><td>100</td><td>5</td><td>8</td><td>11</td></tr>\n",
       "</tbody>\n",
       "</table>\n"
      ],
      "text/latex": [
       "A data.frame: 1 × 4\n",
       "\\begin{tabular}{r|llll}\n",
       "  & x & x2 & y & NA\\\\\n",
       "  & <dbl> & <int> & <int> & <int>\\\\\n",
       "\\hline\n",
       "\t2 & 100 & 5 & 8 & 11\\\\\n",
       "\\end{tabular}\n"
      ],
      "text/markdown": [
       "\n",
       "A data.frame: 1 × 4\n",
       "\n",
       "| <!--/--> | x &lt;dbl&gt; | x2 &lt;int&gt; | y &lt;int&gt; | NA &lt;int&gt; |\n",
       "|---|---|---|---|---|\n",
       "| 2 | 100 | 5 | 8 | 11 |\n",
       "\n"
      ],
      "text/plain": [
       "  x   x2 y <NA>\n",
       "2 100 5  8 11  "
      ]
     },
     "metadata": {},
     "output_type": "display_data"
    }
   ],
   "source": [
    "t[(t$x2 > 4) & (t$y < 9), ]"
   ]
  },
  {
   "cell_type": "markdown",
   "metadata": {},
   "source": [
    "**Упражнение.** Создайте датасет из 1000 строк и 5 столбцов с помощью генерации случайных чисел от 0 до 100. Присвойте столбцам некоторые имена. Посчитайте количество строк, для которых сумма квадратов значений в первых двух строках не превосходит квадрата значения в четвертой строке, а значение в пятой строке меньше значения в третьей."
   ]
  },
  {
   "cell_type": "code",
   "execution_count": 7,
   "metadata": {},
   "outputs": [
    {
     "data": {
      "text/html": [
       "<table>\n",
       "<caption>A data.frame: 5 × 5</caption>\n",
       "<thead>\n",
       "\t<tr><th scope=col>cat</th><th scope=col>dog</th><th scope=col>snake</th><th scope=col>wolf</th><th scope=col>tiger</th></tr>\n",
       "\t<tr><th scope=col>&lt;dbl&gt;</th><th scope=col>&lt;dbl&gt;</th><th scope=col>&lt;dbl&gt;</th><th scope=col>&lt;dbl&gt;</th><th scope=col>&lt;dbl&gt;</th></tr>\n",
       "</thead>\n",
       "<tbody>\n",
       "\t<tr><td>52.675643</td><td>15.58754</td><td>89.14285</td><td>99.80145</td><td>37.232733</td></tr>\n",
       "\t<tr><td>14.328834</td><td>17.75583</td><td>84.79620</td><td>38.19774</td><td> 6.013008</td></tr>\n",
       "\t<tr><td> 1.232147</td><td>51.22265</td><td>98.96202</td><td>49.52443</td><td>66.994241</td></tr>\n",
       "\t<tr><td>22.613924</td><td>19.12695</td><td>60.32961</td><td>83.87787</td><td> 6.930470</td></tr>\n",
       "\t<tr><td>82.703759</td><td>61.50999</td><td>25.23991</td><td>31.01396</td><td>76.672180</td></tr>\n",
       "</tbody>\n",
       "</table>\n"
      ],
      "text/latex": [
       "A data.frame: 5 × 5\n",
       "\\begin{tabular}{r|lllll}\n",
       " cat & dog & snake & wolf & tiger\\\\\n",
       " <dbl> & <dbl> & <dbl> & <dbl> & <dbl>\\\\\n",
       "\\hline\n",
       "\t 52.675643 & 15.58754 & 89.14285 & 99.80145 & 37.232733\\\\\n",
       "\t 14.328834 & 17.75583 & 84.79620 & 38.19774 &  6.013008\\\\\n",
       "\t  1.232147 & 51.22265 & 98.96202 & 49.52443 & 66.994241\\\\\n",
       "\t 22.613924 & 19.12695 & 60.32961 & 83.87787 &  6.930470\\\\\n",
       "\t 82.703759 & 61.50999 & 25.23991 & 31.01396 & 76.672180\\\\\n",
       "\\end{tabular}\n"
      ],
      "text/markdown": [
       "\n",
       "A data.frame: 5 × 5\n",
       "\n",
       "| cat &lt;dbl&gt; | dog &lt;dbl&gt; | snake &lt;dbl&gt; | wolf &lt;dbl&gt; | tiger &lt;dbl&gt; |\n",
       "|---|---|---|---|---|\n",
       "| 52.675643 | 15.58754 | 89.14285 | 99.80145 | 37.232733 |\n",
       "| 14.328834 | 17.75583 | 84.79620 | 38.19774 |  6.013008 |\n",
       "|  1.232147 | 51.22265 | 98.96202 | 49.52443 | 66.994241 |\n",
       "| 22.613924 | 19.12695 | 60.32961 | 83.87787 |  6.930470 |\n",
       "| 82.703759 | 61.50999 | 25.23991 | 31.01396 | 76.672180 |\n",
       "\n"
      ],
      "text/plain": [
       "  cat       dog      snake    wolf     tiger    \n",
       "1 52.675643 15.58754 89.14285 99.80145 37.232733\n",
       "2 14.328834 17.75583 84.79620 38.19774  6.013008\n",
       "3  1.232147 51.22265 98.96202 49.52443 66.994241\n",
       "4 22.613924 19.12695 60.32961 83.87787  6.930470\n",
       "5 82.703759 61.50999 25.23991 31.01396 76.672180"
      ]
     },
     "metadata": {},
     "output_type": "display_data"
    }
   ],
   "source": [
    "t <- data.frame(matrix(runif(n = 1000 * 5, min = 0, max = 100), ncol = 5))\n",
    "colnames(t) <- c('cat', 'dog', 'snake', 'wolf', 'tiger')\n",
    "t[1:5,]"
   ]
  },
  {
   "cell_type": "code",
   "execution_count": 8,
   "metadata": {},
   "outputs": [
    {
     "data": {
      "text/html": [
       "135"
      ],
      "text/latex": [
       "135"
      ],
      "text/markdown": [
       "135"
      ],
      "text/plain": [
       "[1] 135"
      ]
     },
     "metadata": {},
     "output_type": "display_data"
    }
   ],
   "source": [
    "first_condition <- t$cat^2 + t$dog^2 <= t$wolf^2\n",
    "second_condition <- t$tiger < t$snake\n",
    "sum(first_condition & second_condition)"
   ]
  },
  {
   "cell_type": "markdown",
   "metadata": {},
   "source": [
    "### Статистические методы\n",
    "\n",
    "* `summary` -- основные описательные статистики;\n",
    "* `hist` -- гистограмма;\n",
    "* `qqnorm` -- строит Q-Q plot, `qqline` -- проводит прямую по точкам на Q-Q plot;\n",
    "* `ks.test` -- критерий Колмогорова;\n",
    "* `shapiro.test` -- критерий Шапиро-Уилка;\n",
    "* `density` -- ядерная оценка плотности;\n",
    "* `ecdf` -- эмпирическая функция распределения;\n",
    "* `lillie.test` -- критерий Лиллиефорса (критерий Колмогорова для проверки нормальности), пакет `nortest`;\n",
    "* `ad.test` -- критерий Андерсона-Дарлинга;\n",
    "* `cvm.test` -- критерий Крамера-фон Мизеса;\n",
    "* `jb.norm.test` -- критерий Жарка-Бера для проверки нормальности, пакет `normtest`;\n",
    "* `p.adjust` -- множественная проверка гипотез"
   ]
  },
  {
   "cell_type": "code",
   "execution_count": 9,
   "metadata": {},
   "outputs": [],
   "source": [
    "?shapiro.test"
   ]
  },
  {
   "cell_type": "code",
   "execution_count": 10,
   "metadata": {},
   "outputs": [],
   "source": [
    "?density"
   ]
  },
  {
   "cell_type": "code",
   "execution_count": 11,
   "metadata": {},
   "outputs": [],
   "source": [
    "?p.adjust"
   ]
  },
  {
   "cell_type": "markdown",
   "metadata": {},
   "source": [
    "<a href=\"https://stat.ethz.ch/R-manual/R-devel/library/stats/html/00Index.html\">Полное описание пакета `stats`.</a>\n",
    "\n",
    "<a href=\"https://stat.ethz.ch/R-manual/R-devel/library/datasets/html/00Index.html\">Пакет `datasets`</a> --- встроенные в R датасеты."
   ]
  },
  {
   "cell_type": "markdown",
   "metadata": {},
   "source": [
    "### Wine Data Set \n",
    "http://archive.ics.uci.edu/ml/datasets/Wine\n",
    "\n",
    "<img src=\"./pic/Large109.jpg\" width=\"189\" height=\"255\">\n",
    "\n",
    "Читаем данные"
   ]
  },
  {
   "cell_type": "code",
   "execution_count": 12,
   "metadata": {},
   "outputs": [
    {
     "data": {
      "text/html": [
       "<table>\n",
       "<caption>A data.frame: 5 × 14</caption>\n",
       "<thead>\n",
       "\t<tr><th scope=col>V1</th><th scope=col>V2</th><th scope=col>V3</th><th scope=col>V4</th><th scope=col>V5</th><th scope=col>V6</th><th scope=col>V7</th><th scope=col>V8</th><th scope=col>V9</th><th scope=col>V10</th><th scope=col>V11</th><th scope=col>V12</th><th scope=col>V13</th><th scope=col>V14</th></tr>\n",
       "\t<tr><th scope=col>&lt;int&gt;</th><th scope=col>&lt;dbl&gt;</th><th scope=col>&lt;dbl&gt;</th><th scope=col>&lt;dbl&gt;</th><th scope=col>&lt;dbl&gt;</th><th scope=col>&lt;int&gt;</th><th scope=col>&lt;dbl&gt;</th><th scope=col>&lt;dbl&gt;</th><th scope=col>&lt;dbl&gt;</th><th scope=col>&lt;dbl&gt;</th><th scope=col>&lt;dbl&gt;</th><th scope=col>&lt;dbl&gt;</th><th scope=col>&lt;dbl&gt;</th><th scope=col>&lt;int&gt;</th></tr>\n",
       "</thead>\n",
       "<tbody>\n",
       "\t<tr><td>1</td><td>14.23</td><td>1.71</td><td>2.43</td><td>15.6</td><td>127</td><td>2.80</td><td>3.06</td><td>0.28</td><td>2.29</td><td>5.64</td><td>1.04</td><td>3.92</td><td>1065</td></tr>\n",
       "\t<tr><td>1</td><td>13.20</td><td>1.78</td><td>2.14</td><td>11.2</td><td>100</td><td>2.65</td><td>2.76</td><td>0.26</td><td>1.28</td><td>4.38</td><td>1.05</td><td>3.40</td><td>1050</td></tr>\n",
       "\t<tr><td>1</td><td>13.16</td><td>2.36</td><td>2.67</td><td>18.6</td><td>101</td><td>2.80</td><td>3.24</td><td>0.30</td><td>2.81</td><td>5.68</td><td>1.03</td><td>3.17</td><td>1185</td></tr>\n",
       "\t<tr><td>1</td><td>14.37</td><td>1.95</td><td>2.50</td><td>16.8</td><td>113</td><td>3.85</td><td>3.49</td><td>0.24</td><td>2.18</td><td>7.80</td><td>0.86</td><td>3.45</td><td>1480</td></tr>\n",
       "\t<tr><td>1</td><td>13.24</td><td>2.59</td><td>2.87</td><td>21.0</td><td>118</td><td>2.80</td><td>2.69</td><td>0.39</td><td>1.82</td><td>4.32</td><td>1.04</td><td>2.93</td><td> 735</td></tr>\n",
       "</tbody>\n",
       "</table>\n"
      ],
      "text/latex": [
       "A data.frame: 5 × 14\n",
       "\\begin{tabular}{r|llllllllllllll}\n",
       " V1 & V2 & V3 & V4 & V5 & V6 & V7 & V8 & V9 & V10 & V11 & V12 & V13 & V14\\\\\n",
       " <int> & <dbl> & <dbl> & <dbl> & <dbl> & <int> & <dbl> & <dbl> & <dbl> & <dbl> & <dbl> & <dbl> & <dbl> & <int>\\\\\n",
       "\\hline\n",
       "\t 1 & 14.23 & 1.71 & 2.43 & 15.6 & 127 & 2.80 & 3.06 & 0.28 & 2.29 & 5.64 & 1.04 & 3.92 & 1065\\\\\n",
       "\t 1 & 13.20 & 1.78 & 2.14 & 11.2 & 100 & 2.65 & 2.76 & 0.26 & 1.28 & 4.38 & 1.05 & 3.40 & 1050\\\\\n",
       "\t 1 & 13.16 & 2.36 & 2.67 & 18.6 & 101 & 2.80 & 3.24 & 0.30 & 2.81 & 5.68 & 1.03 & 3.17 & 1185\\\\\n",
       "\t 1 & 14.37 & 1.95 & 2.50 & 16.8 & 113 & 3.85 & 3.49 & 0.24 & 2.18 & 7.80 & 0.86 & 3.45 & 1480\\\\\n",
       "\t 1 & 13.24 & 2.59 & 2.87 & 21.0 & 118 & 2.80 & 2.69 & 0.39 & 1.82 & 4.32 & 1.04 & 2.93 &  735\\\\\n",
       "\\end{tabular}\n"
      ],
      "text/markdown": [
       "\n",
       "A data.frame: 5 × 14\n",
       "\n",
       "| V1 &lt;int&gt; | V2 &lt;dbl&gt; | V3 &lt;dbl&gt; | V4 &lt;dbl&gt; | V5 &lt;dbl&gt; | V6 &lt;int&gt; | V7 &lt;dbl&gt; | V8 &lt;dbl&gt; | V9 &lt;dbl&gt; | V10 &lt;dbl&gt; | V11 &lt;dbl&gt; | V12 &lt;dbl&gt; | V13 &lt;dbl&gt; | V14 &lt;int&gt; |\n",
       "|---|---|---|---|---|---|---|---|---|---|---|---|---|---|\n",
       "| 1 | 14.23 | 1.71 | 2.43 | 15.6 | 127 | 2.80 | 3.06 | 0.28 | 2.29 | 5.64 | 1.04 | 3.92 | 1065 |\n",
       "| 1 | 13.20 | 1.78 | 2.14 | 11.2 | 100 | 2.65 | 2.76 | 0.26 | 1.28 | 4.38 | 1.05 | 3.40 | 1050 |\n",
       "| 1 | 13.16 | 2.36 | 2.67 | 18.6 | 101 | 2.80 | 3.24 | 0.30 | 2.81 | 5.68 | 1.03 | 3.17 | 1185 |\n",
       "| 1 | 14.37 | 1.95 | 2.50 | 16.8 | 113 | 3.85 | 3.49 | 0.24 | 2.18 | 7.80 | 0.86 | 3.45 | 1480 |\n",
       "| 1 | 13.24 | 2.59 | 2.87 | 21.0 | 118 | 2.80 | 2.69 | 0.39 | 1.82 | 4.32 | 1.04 | 2.93 |  735 |\n",
       "\n"
      ],
      "text/plain": [
       "  V1 V2    V3   V4   V5   V6  V7   V8   V9   V10  V11  V12  V13  V14 \n",
       "1 1  14.23 1.71 2.43 15.6 127 2.80 3.06 0.28 2.29 5.64 1.04 3.92 1065\n",
       "2 1  13.20 1.78 2.14 11.2 100 2.65 2.76 0.26 1.28 4.38 1.05 3.40 1050\n",
       "3 1  13.16 2.36 2.67 18.6 101 2.80 3.24 0.30 2.81 5.68 1.03 3.17 1185\n",
       "4 1  14.37 1.95 2.50 16.8 113 3.85 3.49 0.24 2.18 7.80 0.86 3.45 1480\n",
       "5 1  13.24 2.59 2.87 21.0 118 2.80 2.69 0.39 1.82 4.32 1.04 2.93  735"
      ]
     },
     "metadata": {},
     "output_type": "display_data"
    }
   ],
   "source": [
    "t <- read.table('wine.data', sep=',')\n",
    "t[1:5,]"
   ]
  },
  {
   "cell_type": "markdown",
   "metadata": {},
   "source": [
    "Присвоение названий столбцам"
   ]
  },
  {
   "cell_type": "code",
   "execution_count": 13,
   "metadata": {},
   "outputs": [
    {
     "data": {
      "text/html": [
       "<table>\n",
       "<caption>A data.frame: 5 × 14</caption>\n",
       "<thead>\n",
       "\t<tr><th scope=col>Class</th><th scope=col>Alcohol</th><th scope=col>Malic_acid</th><th scope=col>Ash</th><th scope=col>Alcalinity_of_ash</th><th scope=col>Magnesium</th><th scope=col>Total_phenols</th><th scope=col>Flavanoids</th><th scope=col>Nonflavanoid_phenols</th><th scope=col>Proanthocyanins</th><th scope=col>Color_intensity</th><th scope=col>Hue</th><th scope=col>OD_OD_of_diluted_wines</th><th scope=col>Proline</th></tr>\n",
       "\t<tr><th scope=col>&lt;int&gt;</th><th scope=col>&lt;dbl&gt;</th><th scope=col>&lt;dbl&gt;</th><th scope=col>&lt;dbl&gt;</th><th scope=col>&lt;dbl&gt;</th><th scope=col>&lt;int&gt;</th><th scope=col>&lt;dbl&gt;</th><th scope=col>&lt;dbl&gt;</th><th scope=col>&lt;dbl&gt;</th><th scope=col>&lt;dbl&gt;</th><th scope=col>&lt;dbl&gt;</th><th scope=col>&lt;dbl&gt;</th><th scope=col>&lt;dbl&gt;</th><th scope=col>&lt;int&gt;</th></tr>\n",
       "</thead>\n",
       "<tbody>\n",
       "\t<tr><td>1</td><td>14.23</td><td>1.71</td><td>2.43</td><td>15.6</td><td>127</td><td>2.80</td><td>3.06</td><td>0.28</td><td>2.29</td><td>5.64</td><td>1.04</td><td>3.92</td><td>1065</td></tr>\n",
       "\t<tr><td>1</td><td>13.20</td><td>1.78</td><td>2.14</td><td>11.2</td><td>100</td><td>2.65</td><td>2.76</td><td>0.26</td><td>1.28</td><td>4.38</td><td>1.05</td><td>3.40</td><td>1050</td></tr>\n",
       "\t<tr><td>1</td><td>13.16</td><td>2.36</td><td>2.67</td><td>18.6</td><td>101</td><td>2.80</td><td>3.24</td><td>0.30</td><td>2.81</td><td>5.68</td><td>1.03</td><td>3.17</td><td>1185</td></tr>\n",
       "\t<tr><td>1</td><td>14.37</td><td>1.95</td><td>2.50</td><td>16.8</td><td>113</td><td>3.85</td><td>3.49</td><td>0.24</td><td>2.18</td><td>7.80</td><td>0.86</td><td>3.45</td><td>1480</td></tr>\n",
       "\t<tr><td>1</td><td>13.24</td><td>2.59</td><td>2.87</td><td>21.0</td><td>118</td><td>2.80</td><td>2.69</td><td>0.39</td><td>1.82</td><td>4.32</td><td>1.04</td><td>2.93</td><td> 735</td></tr>\n",
       "</tbody>\n",
       "</table>\n"
      ],
      "text/latex": [
       "A data.frame: 5 × 14\n",
       "\\begin{tabular}{r|llllllllllllll}\n",
       " Class & Alcohol & Malic\\_acid & Ash & Alcalinity\\_of\\_ash & Magnesium & Total\\_phenols & Flavanoids & Nonflavanoid\\_phenols & Proanthocyanins & Color\\_intensity & Hue & OD\\_OD\\_of\\_diluted\\_wines & Proline\\\\\n",
       " <int> & <dbl> & <dbl> & <dbl> & <dbl> & <int> & <dbl> & <dbl> & <dbl> & <dbl> & <dbl> & <dbl> & <dbl> & <int>\\\\\n",
       "\\hline\n",
       "\t 1 & 14.23 & 1.71 & 2.43 & 15.6 & 127 & 2.80 & 3.06 & 0.28 & 2.29 & 5.64 & 1.04 & 3.92 & 1065\\\\\n",
       "\t 1 & 13.20 & 1.78 & 2.14 & 11.2 & 100 & 2.65 & 2.76 & 0.26 & 1.28 & 4.38 & 1.05 & 3.40 & 1050\\\\\n",
       "\t 1 & 13.16 & 2.36 & 2.67 & 18.6 & 101 & 2.80 & 3.24 & 0.30 & 2.81 & 5.68 & 1.03 & 3.17 & 1185\\\\\n",
       "\t 1 & 14.37 & 1.95 & 2.50 & 16.8 & 113 & 3.85 & 3.49 & 0.24 & 2.18 & 7.80 & 0.86 & 3.45 & 1480\\\\\n",
       "\t 1 & 13.24 & 2.59 & 2.87 & 21.0 & 118 & 2.80 & 2.69 & 0.39 & 1.82 & 4.32 & 1.04 & 2.93 &  735\\\\\n",
       "\\end{tabular}\n"
      ],
      "text/markdown": [
       "\n",
       "A data.frame: 5 × 14\n",
       "\n",
       "| Class &lt;int&gt; | Alcohol &lt;dbl&gt; | Malic_acid &lt;dbl&gt; | Ash &lt;dbl&gt; | Alcalinity_of_ash &lt;dbl&gt; | Magnesium &lt;int&gt; | Total_phenols &lt;dbl&gt; | Flavanoids &lt;dbl&gt; | Nonflavanoid_phenols &lt;dbl&gt; | Proanthocyanins &lt;dbl&gt; | Color_intensity &lt;dbl&gt; | Hue &lt;dbl&gt; | OD_OD_of_diluted_wines &lt;dbl&gt; | Proline &lt;int&gt; |\n",
       "|---|---|---|---|---|---|---|---|---|---|---|---|---|---|\n",
       "| 1 | 14.23 | 1.71 | 2.43 | 15.6 | 127 | 2.80 | 3.06 | 0.28 | 2.29 | 5.64 | 1.04 | 3.92 | 1065 |\n",
       "| 1 | 13.20 | 1.78 | 2.14 | 11.2 | 100 | 2.65 | 2.76 | 0.26 | 1.28 | 4.38 | 1.05 | 3.40 | 1050 |\n",
       "| 1 | 13.16 | 2.36 | 2.67 | 18.6 | 101 | 2.80 | 3.24 | 0.30 | 2.81 | 5.68 | 1.03 | 3.17 | 1185 |\n",
       "| 1 | 14.37 | 1.95 | 2.50 | 16.8 | 113 | 3.85 | 3.49 | 0.24 | 2.18 | 7.80 | 0.86 | 3.45 | 1480 |\n",
       "| 1 | 13.24 | 2.59 | 2.87 | 21.0 | 118 | 2.80 | 2.69 | 0.39 | 1.82 | 4.32 | 1.04 | 2.93 |  735 |\n",
       "\n"
      ],
      "text/plain": [
       "  Class Alcohol Malic_acid Ash  Alcalinity_of_ash Magnesium Total_phenols\n",
       "1 1     14.23   1.71       2.43 15.6              127       2.80         \n",
       "2 1     13.20   1.78       2.14 11.2              100       2.65         \n",
       "3 1     13.16   2.36       2.67 18.6              101       2.80         \n",
       "4 1     14.37   1.95       2.50 16.8              113       3.85         \n",
       "5 1     13.24   2.59       2.87 21.0              118       2.80         \n",
       "  Flavanoids Nonflavanoid_phenols Proanthocyanins Color_intensity Hue \n",
       "1 3.06       0.28                 2.29            5.64            1.04\n",
       "2 2.76       0.26                 1.28            4.38            1.05\n",
       "3 3.24       0.30                 2.81            5.68            1.03\n",
       "4 3.49       0.24                 2.18            7.80            0.86\n",
       "5 2.69       0.39                 1.82            4.32            1.04\n",
       "  OD_OD_of_diluted_wines Proline\n",
       "1 3.92                   1065   \n",
       "2 3.40                   1050   \n",
       "3 3.17                   1185   \n",
       "4 3.45                   1480   \n",
       "5 2.93                    735   "
      ]
     },
     "metadata": {},
     "output_type": "display_data"
    }
   ],
   "source": [
    "colnames(t) <- c('Class', 'Alcohol', 'Malic_acid', 'Ash', 'Alcalinity_of_ash', 'Magnesium', \n",
    "                 'Total_phenols', 'Flavanoids', 'Nonflavanoid_phenols', 'Proanthocyanins', \n",
    "                 'Color_intensity', 'Hue', 'OD_OD_of_diluted_wines', 'Proline')\n",
    "t[1:5,]"
   ]
  },
  {
   "cell_type": "markdown",
   "metadata": {},
   "source": [
    "Значения признака"
   ]
  },
  {
   "cell_type": "code",
   "execution_count": 14,
   "metadata": {},
   "outputs": [
    {
     "data": {
      "text/html": [
       "<ol class=list-inline>\n",
       "\t<li>15.6</li>\n",
       "\t<li>11.2</li>\n",
       "\t<li>18.6</li>\n",
       "\t<li>16.8</li>\n",
       "\t<li>21</li>\n",
       "\t<li>15.2</li>\n",
       "\t<li>14.6</li>\n",
       "\t<li>17.6</li>\n",
       "\t<li>14</li>\n",
       "\t<li>16</li>\n",
       "\t<li>18</li>\n",
       "\t<li>16.8</li>\n",
       "\t<li>16</li>\n",
       "\t<li>11.4</li>\n",
       "\t<li>12</li>\n",
       "\t<li>17.2</li>\n",
       "\t<li>20</li>\n",
       "\t<li>20</li>\n",
       "\t<li>16.5</li>\n",
       "\t<li>15.2</li>\n",
       "\t<li>16</li>\n",
       "\t<li>18.6</li>\n",
       "\t<li>16.6</li>\n",
       "\t<li>17.8</li>\n",
       "\t<li>20</li>\n",
       "\t<li>25</li>\n",
       "\t<li>16.1</li>\n",
       "\t<li>17</li>\n",
       "\t<li>19.4</li>\n",
       "\t<li>16</li>\n",
       "\t<li>22.5</li>\n",
       "\t<li>19.1</li>\n",
       "\t<li>17.2</li>\n",
       "\t<li>19.5</li>\n",
       "\t<li>19</li>\n",
       "\t<li>20.5</li>\n",
       "\t<li>15.5</li>\n",
       "\t<li>18</li>\n",
       "\t<li>15.5</li>\n",
       "\t<li>13.2</li>\n",
       "\t<li>16.2</li>\n",
       "\t<li>18.8</li>\n",
       "\t<li>15</li>\n",
       "\t<li>17.5</li>\n",
       "\t<li>17</li>\n",
       "\t<li>18.9</li>\n",
       "\t<li>16</li>\n",
       "\t<li>16</li>\n",
       "\t<li>18.8</li>\n",
       "\t<li>17.4</li>\n",
       "\t<li>12.4</li>\n",
       "\t<li>17.2</li>\n",
       "\t<li>14</li>\n",
       "\t<li>17.1</li>\n",
       "\t<li>16.4</li>\n",
       "\t<li>20.5</li>\n",
       "\t<li>16.3</li>\n",
       "\t<li>16.8</li>\n",
       "\t<li>16.7</li>\n",
       "\t<li>10.6</li>\n",
       "\t<li>16</li>\n",
       "\t<li>16.8</li>\n",
       "\t<li>18</li>\n",
       "\t<li>19</li>\n",
       "\t<li>19</li>\n",
       "\t<li>18.1</li>\n",
       "\t<li>15</li>\n",
       "\t<li>19.6</li>\n",
       "\t<li>17</li>\n",
       "\t<li>16.8</li>\n",
       "\t<li>20.4</li>\n",
       "\t<li>25</li>\n",
       "\t<li>24</li>\n",
       "\t<li>30</li>\n",
       "\t<li>21</li>\n",
       "\t<li>16</li>\n",
       "\t<li>16</li>\n",
       "\t<li>18</li>\n",
       "\t<li>14.8</li>\n",
       "\t<li>23</li>\n",
       "\t<li>19</li>\n",
       "\t<li>18.8</li>\n",
       "\t<li>24</li>\n",
       "\t<li>22.5</li>\n",
       "\t<li>18</li>\n",
       "\t<li>18</li>\n",
       "\t<li>22.8</li>\n",
       "\t<li>26</li>\n",
       "\t<li>21.6</li>\n",
       "\t<li>23.6</li>\n",
       "\t<li>18.5</li>\n",
       "\t<li>22</li>\n",
       "\t<li>20.7</li>\n",
       "\t<li>18</li>\n",
       "\t<li>18</li>\n",
       "\t<li>19</li>\n",
       "\t<li>21.5</li>\n",
       "\t<li>16</li>\n",
       "\t<li>18.5</li>\n",
       "\t<li>18</li>\n",
       "\t<li>17.5</li>\n",
       "\t<li>18.5</li>\n",
       "\t<li>21</li>\n",
       "\t<li>19.5</li>\n",
       "\t<li>20.5</li>\n",
       "\t<li>22</li>\n",
       "\t<li>19</li>\n",
       "\t<li>22.5</li>\n",
       "\t<li>19</li>\n",
       "\t<li>20</li>\n",
       "\t<li>19.5</li>\n",
       "\t<li>21</li>\n",
       "\t<li>20</li>\n",
       "\t<li>21</li>\n",
       "\t<li>22.5</li>\n",
       "\t<li>21.5</li>\n",
       "\t<li>20.8</li>\n",
       "\t<li>22.5</li>\n",
       "\t<li>16</li>\n",
       "\t<li>19</li>\n",
       "\t<li>20</li>\n",
       "\t<li>28.5</li>\n",
       "\t<li>26.5</li>\n",
       "\t<li>21.5</li>\n",
       "\t<li>21</li>\n",
       "\t<li>21</li>\n",
       "\t<li>21.5</li>\n",
       "\t<li>28.5</li>\n",
       "\t<li>24.5</li>\n",
       "\t<li>22</li>\n",
       "\t<li>18</li>\n",
       "\t<li>20</li>\n",
       "\t<li>24</li>\n",
       "\t<li>21.5</li>\n",
       "\t<li>17.5</li>\n",
       "\t<li>18.5</li>\n",
       "\t<li>21</li>\n",
       "\t<li>25</li>\n",
       "\t<li>19.5</li>\n",
       "\t<li>24</li>\n",
       "\t<li>21</li>\n",
       "\t<li>20</li>\n",
       "\t<li>23.5</li>\n",
       "\t<li>20</li>\n",
       "\t<li>18.5</li>\n",
       "\t<li>21</li>\n",
       "\t<li>20</li>\n",
       "\t<li>21.5</li>\n",
       "\t<li>21.5</li>\n",
       "\t<li>21.5</li>\n",
       "\t<li>24</li>\n",
       "\t<li>22</li>\n",
       "\t<li>25.5</li>\n",
       "\t<li>18.5</li>\n",
       "\t<li>20</li>\n",
       "\t<li>22</li>\n",
       "\t<li>19.5</li>\n",
       "\t<li>27</li>\n",
       "\t<li>25</li>\n",
       "\t<li>22.5</li>\n",
       "\t<li>21</li>\n",
       "\t<li>20</li>\n",
       "\t<li>22</li>\n",
       "\t<li>18.5</li>\n",
       "\t<li>22</li>\n",
       "\t<li>22.5</li>\n",
       "\t<li>23</li>\n",
       "\t<li>19.5</li>\n",
       "\t<li>24.5</li>\n",
       "\t<li>25</li>\n",
       "\t<li>19</li>\n",
       "\t<li>19.5</li>\n",
       "\t<li>20</li>\n",
       "\t<li>20.5</li>\n",
       "\t<li>23</li>\n",
       "\t<li>20</li>\n",
       "\t<li>20</li>\n",
       "\t<li>24.5</li>\n",
       "</ol>\n"
      ],
      "text/latex": [
       "\\begin{enumerate*}\n",
       "\\item 15.6\n",
       "\\item 11.2\n",
       "\\item 18.6\n",
       "\\item 16.8\n",
       "\\item 21\n",
       "\\item 15.2\n",
       "\\item 14.6\n",
       "\\item 17.6\n",
       "\\item 14\n",
       "\\item 16\n",
       "\\item 18\n",
       "\\item 16.8\n",
       "\\item 16\n",
       "\\item 11.4\n",
       "\\item 12\n",
       "\\item 17.2\n",
       "\\item 20\n",
       "\\item 20\n",
       "\\item 16.5\n",
       "\\item 15.2\n",
       "\\item 16\n",
       "\\item 18.6\n",
       "\\item 16.6\n",
       "\\item 17.8\n",
       "\\item 20\n",
       "\\item 25\n",
       "\\item 16.1\n",
       "\\item 17\n",
       "\\item 19.4\n",
       "\\item 16\n",
       "\\item 22.5\n",
       "\\item 19.1\n",
       "\\item 17.2\n",
       "\\item 19.5\n",
       "\\item 19\n",
       "\\item 20.5\n",
       "\\item 15.5\n",
       "\\item 18\n",
       "\\item 15.5\n",
       "\\item 13.2\n",
       "\\item 16.2\n",
       "\\item 18.8\n",
       "\\item 15\n",
       "\\item 17.5\n",
       "\\item 17\n",
       "\\item 18.9\n",
       "\\item 16\n",
       "\\item 16\n",
       "\\item 18.8\n",
       "\\item 17.4\n",
       "\\item 12.4\n",
       "\\item 17.2\n",
       "\\item 14\n",
       "\\item 17.1\n",
       "\\item 16.4\n",
       "\\item 20.5\n",
       "\\item 16.3\n",
       "\\item 16.8\n",
       "\\item 16.7\n",
       "\\item 10.6\n",
       "\\item 16\n",
       "\\item 16.8\n",
       "\\item 18\n",
       "\\item 19\n",
       "\\item 19\n",
       "\\item 18.1\n",
       "\\item 15\n",
       "\\item 19.6\n",
       "\\item 17\n",
       "\\item 16.8\n",
       "\\item 20.4\n",
       "\\item 25\n",
       "\\item 24\n",
       "\\item 30\n",
       "\\item 21\n",
       "\\item 16\n",
       "\\item 16\n",
       "\\item 18\n",
       "\\item 14.8\n",
       "\\item 23\n",
       "\\item 19\n",
       "\\item 18.8\n",
       "\\item 24\n",
       "\\item 22.5\n",
       "\\item 18\n",
       "\\item 18\n",
       "\\item 22.8\n",
       "\\item 26\n",
       "\\item 21.6\n",
       "\\item 23.6\n",
       "\\item 18.5\n",
       "\\item 22\n",
       "\\item 20.7\n",
       "\\item 18\n",
       "\\item 18\n",
       "\\item 19\n",
       "\\item 21.5\n",
       "\\item 16\n",
       "\\item 18.5\n",
       "\\item 18\n",
       "\\item 17.5\n",
       "\\item 18.5\n",
       "\\item 21\n",
       "\\item 19.5\n",
       "\\item 20.5\n",
       "\\item 22\n",
       "\\item 19\n",
       "\\item 22.5\n",
       "\\item 19\n",
       "\\item 20\n",
       "\\item 19.5\n",
       "\\item 21\n",
       "\\item 20\n",
       "\\item 21\n",
       "\\item 22.5\n",
       "\\item 21.5\n",
       "\\item 20.8\n",
       "\\item 22.5\n",
       "\\item 16\n",
       "\\item 19\n",
       "\\item 20\n",
       "\\item 28.5\n",
       "\\item 26.5\n",
       "\\item 21.5\n",
       "\\item 21\n",
       "\\item 21\n",
       "\\item 21.5\n",
       "\\item 28.5\n",
       "\\item 24.5\n",
       "\\item 22\n",
       "\\item 18\n",
       "\\item 20\n",
       "\\item 24\n",
       "\\item 21.5\n",
       "\\item 17.5\n",
       "\\item 18.5\n",
       "\\item 21\n",
       "\\item 25\n",
       "\\item 19.5\n",
       "\\item 24\n",
       "\\item 21\n",
       "\\item 20\n",
       "\\item 23.5\n",
       "\\item 20\n",
       "\\item 18.5\n",
       "\\item 21\n",
       "\\item 20\n",
       "\\item 21.5\n",
       "\\item 21.5\n",
       "\\item 21.5\n",
       "\\item 24\n",
       "\\item 22\n",
       "\\item 25.5\n",
       "\\item 18.5\n",
       "\\item 20\n",
       "\\item 22\n",
       "\\item 19.5\n",
       "\\item 27\n",
       "\\item 25\n",
       "\\item 22.5\n",
       "\\item 21\n",
       "\\item 20\n",
       "\\item 22\n",
       "\\item 18.5\n",
       "\\item 22\n",
       "\\item 22.5\n",
       "\\item 23\n",
       "\\item 19.5\n",
       "\\item 24.5\n",
       "\\item 25\n",
       "\\item 19\n",
       "\\item 19.5\n",
       "\\item 20\n",
       "\\item 20.5\n",
       "\\item 23\n",
       "\\item 20\n",
       "\\item 20\n",
       "\\item 24.5\n",
       "\\end{enumerate*}\n"
      ],
      "text/markdown": [
       "1. 15.6\n",
       "2. 11.2\n",
       "3. 18.6\n",
       "4. 16.8\n",
       "5. 21\n",
       "6. 15.2\n",
       "7. 14.6\n",
       "8. 17.6\n",
       "9. 14\n",
       "10. 16\n",
       "11. 18\n",
       "12. 16.8\n",
       "13. 16\n",
       "14. 11.4\n",
       "15. 12\n",
       "16. 17.2\n",
       "17. 20\n",
       "18. 20\n",
       "19. 16.5\n",
       "20. 15.2\n",
       "21. 16\n",
       "22. 18.6\n",
       "23. 16.6\n",
       "24. 17.8\n",
       "25. 20\n",
       "26. 25\n",
       "27. 16.1\n",
       "28. 17\n",
       "29. 19.4\n",
       "30. 16\n",
       "31. 22.5\n",
       "32. 19.1\n",
       "33. 17.2\n",
       "34. 19.5\n",
       "35. 19\n",
       "36. 20.5\n",
       "37. 15.5\n",
       "38. 18\n",
       "39. 15.5\n",
       "40. 13.2\n",
       "41. 16.2\n",
       "42. 18.8\n",
       "43. 15\n",
       "44. 17.5\n",
       "45. 17\n",
       "46. 18.9\n",
       "47. 16\n",
       "48. 16\n",
       "49. 18.8\n",
       "50. 17.4\n",
       "51. 12.4\n",
       "52. 17.2\n",
       "53. 14\n",
       "54. 17.1\n",
       "55. 16.4\n",
       "56. 20.5\n",
       "57. 16.3\n",
       "58. 16.8\n",
       "59. 16.7\n",
       "60. 10.6\n",
       "61. 16\n",
       "62. 16.8\n",
       "63. 18\n",
       "64. 19\n",
       "65. 19\n",
       "66. 18.1\n",
       "67. 15\n",
       "68. 19.6\n",
       "69. 17\n",
       "70. 16.8\n",
       "71. 20.4\n",
       "72. 25\n",
       "73. 24\n",
       "74. 30\n",
       "75. 21\n",
       "76. 16\n",
       "77. 16\n",
       "78. 18\n",
       "79. 14.8\n",
       "80. 23\n",
       "81. 19\n",
       "82. 18.8\n",
       "83. 24\n",
       "84. 22.5\n",
       "85. 18\n",
       "86. 18\n",
       "87. 22.8\n",
       "88. 26\n",
       "89. 21.6\n",
       "90. 23.6\n",
       "91. 18.5\n",
       "92. 22\n",
       "93. 20.7\n",
       "94. 18\n",
       "95. 18\n",
       "96. 19\n",
       "97. 21.5\n",
       "98. 16\n",
       "99. 18.5\n",
       "100. 18\n",
       "101. 17.5\n",
       "102. 18.5\n",
       "103. 21\n",
       "104. 19.5\n",
       "105. 20.5\n",
       "106. 22\n",
       "107. 19\n",
       "108. 22.5\n",
       "109. 19\n",
       "110. 20\n",
       "111. 19.5\n",
       "112. 21\n",
       "113. 20\n",
       "114. 21\n",
       "115. 22.5\n",
       "116. 21.5\n",
       "117. 20.8\n",
       "118. 22.5\n",
       "119. 16\n",
       "120. 19\n",
       "121. 20\n",
       "122. 28.5\n",
       "123. 26.5\n",
       "124. 21.5\n",
       "125. 21\n",
       "126. 21\n",
       "127. 21.5\n",
       "128. 28.5\n",
       "129. 24.5\n",
       "130. 22\n",
       "131. 18\n",
       "132. 20\n",
       "133. 24\n",
       "134. 21.5\n",
       "135. 17.5\n",
       "136. 18.5\n",
       "137. 21\n",
       "138. 25\n",
       "139. 19.5\n",
       "140. 24\n",
       "141. 21\n",
       "142. 20\n",
       "143. 23.5\n",
       "144. 20\n",
       "145. 18.5\n",
       "146. 21\n",
       "147. 20\n",
       "148. 21.5\n",
       "149. 21.5\n",
       "150. 21.5\n",
       "151. 24\n",
       "152. 22\n",
       "153. 25.5\n",
       "154. 18.5\n",
       "155. 20\n",
       "156. 22\n",
       "157. 19.5\n",
       "158. 27\n",
       "159. 25\n",
       "160. 22.5\n",
       "161. 21\n",
       "162. 20\n",
       "163. 22\n",
       "164. 18.5\n",
       "165. 22\n",
       "166. 22.5\n",
       "167. 23\n",
       "168. 19.5\n",
       "169. 24.5\n",
       "170. 25\n",
       "171. 19\n",
       "172. 19.5\n",
       "173. 20\n",
       "174. 20.5\n",
       "175. 23\n",
       "176. 20\n",
       "177. 20\n",
       "178. 24.5\n",
       "\n",
       "\n"
      ],
      "text/plain": [
       "  [1] 15.6 11.2 18.6 16.8 21.0 15.2 14.6 17.6 14.0 16.0 18.0 16.8 16.0 11.4 12.0\n",
       " [16] 17.2 20.0 20.0 16.5 15.2 16.0 18.6 16.6 17.8 20.0 25.0 16.1 17.0 19.4 16.0\n",
       " [31] 22.5 19.1 17.2 19.5 19.0 20.5 15.5 18.0 15.5 13.2 16.2 18.8 15.0 17.5 17.0\n",
       " [46] 18.9 16.0 16.0 18.8 17.4 12.4 17.2 14.0 17.1 16.4 20.5 16.3 16.8 16.7 10.6\n",
       " [61] 16.0 16.8 18.0 19.0 19.0 18.1 15.0 19.6 17.0 16.8 20.4 25.0 24.0 30.0 21.0\n",
       " [76] 16.0 16.0 18.0 14.8 23.0 19.0 18.8 24.0 22.5 18.0 18.0 22.8 26.0 21.6 23.6\n",
       " [91] 18.5 22.0 20.7 18.0 18.0 19.0 21.5 16.0 18.5 18.0 17.5 18.5 21.0 19.5 20.5\n",
       "[106] 22.0 19.0 22.5 19.0 20.0 19.5 21.0 20.0 21.0 22.5 21.5 20.8 22.5 16.0 19.0\n",
       "[121] 20.0 28.5 26.5 21.5 21.0 21.0 21.5 28.5 24.5 22.0 18.0 20.0 24.0 21.5 17.5\n",
       "[136] 18.5 21.0 25.0 19.5 24.0 21.0 20.0 23.5 20.0 18.5 21.0 20.0 21.5 21.5 21.5\n",
       "[151] 24.0 22.0 25.5 18.5 20.0 22.0 19.5 27.0 25.0 22.5 21.0 20.0 22.0 18.5 22.0\n",
       "[166] 22.5 23.0 19.5 24.5 25.0 19.0 19.5 20.0 20.5 23.0 20.0 20.0 24.5"
      ]
     },
     "metadata": {},
     "output_type": "display_data"
    }
   ],
   "source": [
    "t$Alcalinity_of_ash"
   ]
  },
  {
   "cell_type": "markdown",
   "metadata": {},
   "source": [
    "Значения некоторых статистик для каждого признака"
   ]
  },
  {
   "cell_type": "code",
   "execution_count": 15,
   "metadata": {},
   "outputs": [
    {
     "data": {
      "text/plain": [
       "     Class          Alcohol        Malic_acid         Ash       \n",
       " Min.   :1.000   Min.   :11.03   Min.   :0.740   Min.   :1.360  \n",
       " 1st Qu.:1.000   1st Qu.:12.36   1st Qu.:1.603   1st Qu.:2.210  \n",
       " Median :2.000   Median :13.05   Median :1.865   Median :2.360  \n",
       " Mean   :1.938   Mean   :13.00   Mean   :2.336   Mean   :2.367  \n",
       " 3rd Qu.:3.000   3rd Qu.:13.68   3rd Qu.:3.083   3rd Qu.:2.558  \n",
       " Max.   :3.000   Max.   :14.83   Max.   :5.800   Max.   :3.230  \n",
       " Alcalinity_of_ash   Magnesium      Total_phenols     Flavanoids   \n",
       " Min.   :10.60     Min.   : 70.00   Min.   :0.980   Min.   :0.340  \n",
       " 1st Qu.:17.20     1st Qu.: 88.00   1st Qu.:1.742   1st Qu.:1.205  \n",
       " Median :19.50     Median : 98.00   Median :2.355   Median :2.135  \n",
       " Mean   :19.49     Mean   : 99.74   Mean   :2.295   Mean   :2.029  \n",
       " 3rd Qu.:21.50     3rd Qu.:107.00   3rd Qu.:2.800   3rd Qu.:2.875  \n",
       " Max.   :30.00     Max.   :162.00   Max.   :3.880   Max.   :5.080  \n",
       " Nonflavanoid_phenols Proanthocyanins Color_intensity       Hue        \n",
       " Min.   :0.1300       Min.   :0.410   Min.   : 1.280   Min.   :0.4800  \n",
       " 1st Qu.:0.2700       1st Qu.:1.250   1st Qu.: 3.220   1st Qu.:0.7825  \n",
       " Median :0.3400       Median :1.555   Median : 4.690   Median :0.9650  \n",
       " Mean   :0.3619       Mean   :1.591   Mean   : 5.058   Mean   :0.9574  \n",
       " 3rd Qu.:0.4375       3rd Qu.:1.950   3rd Qu.: 6.200   3rd Qu.:1.1200  \n",
       " Max.   :0.6600       Max.   :3.580   Max.   :13.000   Max.   :1.7100  \n",
       " OD_OD_of_diluted_wines    Proline      \n",
       " Min.   :1.270          Min.   : 278.0  \n",
       " 1st Qu.:1.938          1st Qu.: 500.5  \n",
       " Median :2.780          Median : 673.5  \n",
       " Mean   :2.612          Mean   : 746.9  \n",
       " 3rd Qu.:3.170          3rd Qu.: 985.0  \n",
       " Max.   :4.000          Max.   :1680.0  "
      ]
     },
     "metadata": {},
     "output_type": "display_data"
    }
   ],
   "source": [
    "summary(t)"
   ]
  },
  {
   "cell_type": "markdown",
   "metadata": {},
   "source": [
    "Структура датасета"
   ]
  },
  {
   "cell_type": "code",
   "execution_count": 16,
   "metadata": {},
   "outputs": [
    {
     "name": "stdout",
     "output_type": "stream",
     "text": [
      "'data.frame':\t178 obs. of  14 variables:\n",
      " $ Class                 : int  1 1 1 1 1 1 1 1 1 1 ...\n",
      " $ Alcohol               : num  14.2 13.2 13.2 14.4 13.2 ...\n",
      " $ Malic_acid            : num  1.71 1.78 2.36 1.95 2.59 1.76 1.87 2.15 1.64 1.35 ...\n",
      " $ Ash                   : num  2.43 2.14 2.67 2.5 2.87 2.45 2.45 2.61 2.17 2.27 ...\n",
      " $ Alcalinity_of_ash     : num  15.6 11.2 18.6 16.8 21 15.2 14.6 17.6 14 16 ...\n",
      " $ Magnesium             : int  127 100 101 113 118 112 96 121 97 98 ...\n",
      " $ Total_phenols         : num  2.8 2.65 2.8 3.85 2.8 3.27 2.5 2.6 2.8 2.98 ...\n",
      " $ Flavanoids            : num  3.06 2.76 3.24 3.49 2.69 3.39 2.52 2.51 2.98 3.15 ...\n",
      " $ Nonflavanoid_phenols  : num  0.28 0.26 0.3 0.24 0.39 0.34 0.3 0.31 0.29 0.22 ...\n",
      " $ Proanthocyanins       : num  2.29 1.28 2.81 2.18 1.82 1.97 1.98 1.25 1.98 1.85 ...\n",
      " $ Color_intensity       : num  5.64 4.38 5.68 7.8 4.32 6.75 5.25 5.05 5.2 7.22 ...\n",
      " $ Hue                   : num  1.04 1.05 1.03 0.86 1.04 1.05 1.02 1.06 1.08 1.01 ...\n",
      " $ OD_OD_of_diluted_wines: num  3.92 3.4 3.17 3.45 2.93 2.85 3.58 3.58 2.85 3.55 ...\n",
      " $ Proline               : int  1065 1050 1185 1480 735 1450 1290 1295 1045 1045 ...\n"
     ]
    }
   ],
   "source": [
    "str(t)"
   ]
  },
  {
   "cell_type": "markdown",
   "metadata": {},
   "source": [
    "Гистограмма"
   ]
  },
  {
   "cell_type": "code",
   "execution_count": 17,
   "metadata": {},
   "outputs": [
    {
     "data": {
      "image/png": "[encoded data removed]",
      "text/plain": [
       "Plot with title “Histogram of t$Alcalinity_of_ash”"
      ]
     },
     "metadata": {
      "image/png": {
       "height": 360,
       "width": 480
      },
      "text/plain": {
       "height": 360,
       "width": 480
      }
     },
     "output_type": "display_data"
    }
   ],
   "source": [
    "hist(t$Alcalinity_of_ash, col = 'green')"
   ]
  },
  {
   "cell_type": "markdown",
   "metadata": {},
   "source": [
    "QQ plot"
   ]
  },
  {
   "cell_type": "code",
   "execution_count": 18,
   "metadata": {},
   "outputs": [
    {
     "data": {
      "image/png": "[encoded data removed]",
      "text/plain": [
       "Plot with title “Normal Q-Q Plot”"
      ]
     },
     "metadata": {
      "image/png": {
       "height": 360,
       "width": 480
      },
      "text/plain": {
       "height": 360,
       "width": 480
      }
     },
     "output_type": "display_data"
    }
   ],
   "source": [
    "qqnorm(t$Alcalinity_of_ash)\n",
    "qqline(t$Alcalinity_of_ash, col = 2)"
   ]
  },
  {
   "cell_type": "markdown",
   "metadata": {},
   "source": [
    "Тест Колмогорова и тест Шапиро-Уилка"
   ]
  },
  {
   "cell_type": "code",
   "execution_count": 19,
   "metadata": {},
   "outputs": [
    {
     "name": "stderr",
     "output_type": "stream",
     "text": [
      "Warning message in ks.test(t$Alcalinity_of_ash, pnorm, mean(t$Alcalinity_of_ash), :\n",
      "“ties should not be present for the Kolmogorov-Smirnov test”\n"
     ]
    },
    {
     "data": {
      "text/plain": [
       "\n",
       "\tOne-sample Kolmogorov-Smirnov test\n",
       "\n",
       "data:  t$Alcalinity_of_ash\n",
       "D = 0.063491, p-value = 0.4698\n",
       "alternative hypothesis: two-sided\n"
      ]
     },
     "metadata": {},
     "output_type": "display_data"
    },
    {
     "data": {
      "text/plain": [
       "\n",
       "\tShapiro-Wilk normality test\n",
       "\n",
       "data:  t$Alcalinity_of_ash\n",
       "W = 0.99023, p-value = 0.2639\n"
      ]
     },
     "metadata": {},
     "output_type": "display_data"
    }
   ],
   "source": [
    "ks.test(t$Alcalinity_of_ash, pnorm, mean(t$Alcalinity_of_ash), sd(t$Alcalinity_of_ash))\n",
    "shapiro.test(t$Alcalinity_of_ash)"
   ]
  },
  {
   "cell_type": "markdown",
   "metadata": {},
   "source": [
    "График зависимости Alcalinity_of_ash от Flavanoids"
   ]
  },
  {
   "cell_type": "code",
   "execution_count": 20,
   "metadata": {},
   "outputs": [
    {
     "data": {
      "image/png": "[encoded data removed]",
      "text/plain": [
       "plot without title"
      ]
     },
     "metadata": {
      "image/png": {
       "height": 360,
       "width": 480
      },
      "text/plain": {
       "height": 360,
       "width": 480
      }
     },
     "output_type": "display_data"
    }
   ],
   "source": [
    "plot(Alcalinity_of_ash ~ Flavanoids, t)"
   ]
  },
  {
   "cell_type": "markdown",
   "metadata": {},
   "source": [
    "---------\n",
    "\n",
    "Прикладная статистика и анализ данных, 2019\n",
    "\n",
    "Никита Волков\n",
    "\n",
    "https://mipt-stats.gitlab.io/"
   ]
  }
 ],
 "metadata": {
  "kernelspec": {
   "display_name": "R",
   "language": "R",
   "name": "ir"
  },
  "language_info": {
   "codemirror_mode": "r",
   "file_extension": ".r",
   "mimetype": "text/x-r-source",
   "name": "R",
   "pygments_lexer": "r",
   "version": "3.6.2"
  }
 },
 "nbformat": 4,
 "nbformat_minor": 1
}
