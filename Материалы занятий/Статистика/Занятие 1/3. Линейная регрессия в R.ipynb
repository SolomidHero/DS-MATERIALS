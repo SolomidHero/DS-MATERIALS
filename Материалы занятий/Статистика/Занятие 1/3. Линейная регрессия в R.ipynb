{
 "cells": [
  {
   "cell_type": "code",
   "execution_count": 1,
   "metadata": {},
   "outputs": [],
   "source": [
    "options(repr.plot.width = 8, repr.plot.height = 6)"
   ]
  },
  {
   "cell_type": "markdown",
   "metadata": {},
   "source": [
    "## Регрессия: датасет Yacht Hydrodynamics\n",
    "http://archive.ics.uci.edu/ml/datasets/Yacht+Hydrodynamics#\n",
    "\n",
    "Для парусных яхт нужно предсказать остаточное сопротивление на единицу массы смещения от размеров яхты и ее скорости."
   ]
  },
  {
   "cell_type": "code",
   "execution_count": 2,
   "metadata": {},
   "outputs": [
    {
     "data": {
      "text/html": [
       "<table>\n",
       "<caption>A data.frame: 5 × 7</caption>\n",
       "<thead>\n",
       "\t<tr><th scope=col>Longitudinal_position</th><th scope=col>Prismatic_coefficient</th><th scope=col>Length.displacement_ratio</th><th scope=col>Beam.draught_ratio</th><th scope=col>Length.beam_ratio</th><th scope=col>Froude_number</th><th scope=col>Residuary_resistance</th></tr>\n",
       "\t<tr><th scope=col>&lt;dbl&gt;</th><th scope=col>&lt;dbl&gt;</th><th scope=col>&lt;dbl&gt;</th><th scope=col>&lt;dbl&gt;</th><th scope=col>&lt;dbl&gt;</th><th scope=col>&lt;dbl&gt;</th><th scope=col>&lt;dbl&gt;</th></tr>\n",
       "</thead>\n",
       "<tbody>\n",
       "\t<tr><td>-2.3</td><td>0.568</td><td>4.78</td><td>3.99</td><td>3.17</td><td>0.125</td><td>0.11</td></tr>\n",
       "\t<tr><td>-2.3</td><td>0.568</td><td>4.78</td><td>3.99</td><td>3.17</td><td>0.150</td><td>0.27</td></tr>\n",
       "\t<tr><td>-2.3</td><td>0.568</td><td>4.78</td><td>3.99</td><td>3.17</td><td>0.175</td><td>0.47</td></tr>\n",
       "\t<tr><td>-2.3</td><td>0.568</td><td>4.78</td><td>3.99</td><td>3.17</td><td>0.200</td><td>0.78</td></tr>\n",
       "\t<tr><td>-2.3</td><td>0.568</td><td>4.78</td><td>3.99</td><td>3.17</td><td>0.225</td><td>1.18</td></tr>\n",
       "</tbody>\n",
       "</table>\n"
      ],
      "text/latex": [
       "A data.frame: 5 × 7\n",
       "\\begin{tabular}{r|lllllll}\n",
       " Longitudinal\\_position & Prismatic\\_coefficient & Length.displacement\\_ratio & Beam.draught\\_ratio & Length.beam\\_ratio & Froude\\_number & Residuary\\_resistance\\\\\n",
       " <dbl> & <dbl> & <dbl> & <dbl> & <dbl> & <dbl> & <dbl>\\\\\n",
       "\\hline\n",
       "\t -2.3 & 0.568 & 4.78 & 3.99 & 3.17 & 0.125 & 0.11\\\\\n",
       "\t -2.3 & 0.568 & 4.78 & 3.99 & 3.17 & 0.150 & 0.27\\\\\n",
       "\t -2.3 & 0.568 & 4.78 & 3.99 & 3.17 & 0.175 & 0.47\\\\\n",
       "\t -2.3 & 0.568 & 4.78 & 3.99 & 3.17 & 0.200 & 0.78\\\\\n",
       "\t -2.3 & 0.568 & 4.78 & 3.99 & 3.17 & 0.225 & 1.18\\\\\n",
       "\\end{tabular}\n"
      ],
      "text/markdown": [
       "\n",
       "A data.frame: 5 × 7\n",
       "\n",
       "| Longitudinal_position &lt;dbl&gt; | Prismatic_coefficient &lt;dbl&gt; | Length.displacement_ratio &lt;dbl&gt; | Beam.draught_ratio &lt;dbl&gt; | Length.beam_ratio &lt;dbl&gt; | Froude_number &lt;dbl&gt; | Residuary_resistance &lt;dbl&gt; |\n",
       "|---|---|---|---|---|---|---|\n",
       "| -2.3 | 0.568 | 4.78 | 3.99 | 3.17 | 0.125 | 0.11 |\n",
       "| -2.3 | 0.568 | 4.78 | 3.99 | 3.17 | 0.150 | 0.27 |\n",
       "| -2.3 | 0.568 | 4.78 | 3.99 | 3.17 | 0.175 | 0.47 |\n",
       "| -2.3 | 0.568 | 4.78 | 3.99 | 3.17 | 0.200 | 0.78 |\n",
       "| -2.3 | 0.568 | 4.78 | 3.99 | 3.17 | 0.225 | 1.18 |\n",
       "\n"
      ],
      "text/plain": [
       "  Longitudinal_position Prismatic_coefficient Length.displacement_ratio\n",
       "1 -2.3                  0.568                 4.78                     \n",
       "2 -2.3                  0.568                 4.78                     \n",
       "3 -2.3                  0.568                 4.78                     \n",
       "4 -2.3                  0.568                 4.78                     \n",
       "5 -2.3                  0.568                 4.78                     \n",
       "  Beam.draught_ratio Length.beam_ratio Froude_number Residuary_resistance\n",
       "1 3.99               3.17              0.125         0.11                \n",
       "2 3.99               3.17              0.150         0.27                \n",
       "3 3.99               3.17              0.175         0.47                \n",
       "4 3.99               3.17              0.200         0.78                \n",
       "5 3.99               3.17              0.225         1.18                "
      ]
     },
     "metadata": {},
     "output_type": "display_data"
    }
   ],
   "source": [
    "t <- read.table('yacht_hydrodynamics.data', sep = ',', header = TRUE)\n",
    "t[1:5,]"
   ]
  },
  {
   "cell_type": "markdown",
   "metadata": {},
   "source": [
    "Разделение выборки на обучающую и тестовую"
   ]
  },
  {
   "cell_type": "code",
   "execution_count": 3,
   "metadata": {},
   "outputs": [
    {
     "name": "stderr",
     "output_type": "stream",
     "text": [
      "Loading required package: lattice\n",
      "\n",
      "Loading required package: ggplot2\n",
      "\n"
     ]
    }
   ],
   "source": [
    "# install.packages('caret')\n",
    "library(caret)\n",
    "\n",
    "a <- createDataPartition(t$Residuary_resistance, p = 0.7, list = FALSE)\n",
    "train <- t[a,]\n",
    "test <- t[-a,]"
   ]
  },
  {
   "cell_type": "markdown",
   "metadata": {},
   "source": [
    "### Обучение\n",
    "\n",
    "`lm(formula, data, subset, weights, na.action, ...)`\n",
    "\n",
    "* `formula` -- формула\n",
    "* `data` --  данные\n",
    "* `subset` -- указывает на подмножество наблюдений, которые нужно использоваться для обучения\n",
    "* `weights` -- веса для взвешенного МНК\n",
    "* `na.action` -- функция, указывающая, что делать с пропусками\n",
    "\n",
    "Возвращает объект, у которого есть:\n",
    "* `coefficients` -- вектор коэффициентов\n",
    "* `residuals` -- остатки модели\n",
    "\n",
    "Полная справка:"
   ]
  },
  {
   "cell_type": "code",
   "execution_count": 4,
   "metadata": {},
   "outputs": [],
   "source": [
    "?lm"
   ]
  },
  {
   "cell_type": "markdown",
   "metadata": {},
   "source": [
    "Обучаем на train модель вида $Residuary\\_resistance = \\theta_1 + \\theta_2 \\cdot Froude\\_number$"
   ]
  },
  {
   "cell_type": "code",
   "execution_count": 5,
   "metadata": {},
   "outputs": [
    {
     "data": {
      "text/plain": [
       "\n",
       "Call:\n",
       "lm(formula = Residuary_resistance ~ Froude_number, data = train)\n",
       "\n",
       "Coefficients:\n",
       "  (Intercept)  Froude_number  \n",
       "       -24.22         120.89  \n"
      ]
     },
     "metadata": {},
     "output_type": "display_data"
    }
   ],
   "source": [
    "model <- lm(formula = Residuary_resistance ~ Froude_number, data = train)\n",
    "model"
   ]
  },
  {
   "cell_type": "markdown",
   "metadata": {},
   "source": [
    "Оценки параметров линейной регрессии"
   ]
  },
  {
   "cell_type": "code",
   "execution_count": 6,
   "metadata": {},
   "outputs": [
    {
     "data": {
      "text/html": [
       "<dl class=dl-horizontal>\n",
       "\t<dt>(Intercept)</dt>\n",
       "\t\t<dd>-24.2156539887165</dd>\n",
       "\t<dt>Froude_number</dt>\n",
       "\t\t<dd>120.894337147324</dd>\n",
       "</dl>\n"
      ],
      "text/latex": [
       "\\begin{description*}\n",
       "\\item[(Intercept)] -24.2156539887165\n",
       "\\item[Froude\\textbackslash{}\\_number] 120.894337147324\n",
       "\\end{description*}\n"
      ],
      "text/markdown": [
       "(Intercept)\n",
       ":   -24.2156539887165Froude_number\n",
       ":   120.894337147324\n",
       "\n"
      ],
      "text/plain": [
       "  (Intercept) Froude_number \n",
       "    -24.21565     120.89434 "
      ]
     },
     "metadata": {},
     "output_type": "display_data"
    },
    {
     "data": {
      "text/html": [
       "<strong>(Intercept):</strong> -24.2156539887165"
      ],
      "text/latex": [
       "\\textbf{(Intercept):} -24.2156539887165"
      ],
      "text/markdown": [
       "**(Intercept):** -24.2156539887165"
      ],
      "text/plain": [
       "(Intercept) \n",
       "  -24.21565 "
      ]
     },
     "metadata": {},
     "output_type": "display_data"
    }
   ],
   "source": [
    "model$coefficients  # все коэффициенты\n",
    "model$coefficients[1]  # взять первый коэффициент"
   ]
  },
  {
   "cell_type": "markdown",
   "metadata": {},
   "source": [
    "Ковариационная матрица вектора $\\widehat{\\theta}$ в условиях гомоскедастичности"
   ]
  },
  {
   "cell_type": "code",
   "execution_count": 7,
   "metadata": {},
   "outputs": [
    {
     "data": {
      "text/html": [
       "<table>\n",
       "<caption>A matrix: 2 × 2 of type dbl</caption>\n",
       "<thead>\n",
       "\t<tr><th></th><th scope=col>(Intercept)</th><th scope=col>Froude_number</th></tr>\n",
       "</thead>\n",
       "<tbody>\n",
       "\t<tr><th scope=row>(Intercept)</th><td>  3.243856</td><td>-10.04964</td></tr>\n",
       "\t<tr><th scope=row>Froude_number</th><td>-10.049644</td><td> 34.99755</td></tr>\n",
       "</tbody>\n",
       "</table>\n"
      ],
      "text/latex": [
       "A matrix: 2 × 2 of type dbl\n",
       "\\begin{tabular}{r|ll}\n",
       "  & (Intercept) & Froude\\_number\\\\\n",
       "\\hline\n",
       "\t(Intercept) &   3.243856 & -10.04964\\\\\n",
       "\tFroude\\_number & -10.049644 &  34.99755\\\\\n",
       "\\end{tabular}\n"
      ],
      "text/markdown": [
       "\n",
       "A matrix: 2 × 2 of type dbl\n",
       "\n",
       "| <!--/--> | (Intercept) | Froude_number |\n",
       "|---|---|---|\n",
       "| (Intercept) |   3.243856 | -10.04964 |\n",
       "| Froude_number | -10.049644 |  34.99755 |\n",
       "\n"
      ],
      "text/plain": [
       "              (Intercept) Froude_number\n",
       "(Intercept)     3.243856  -10.04964    \n",
       "Froude_number -10.049644   34.99755    "
      ]
     },
     "metadata": {},
     "output_type": "display_data"
    }
   ],
   "source": [
    "vcov(model)"
   ]
  },
  {
   "cell_type": "markdown",
   "metadata": {},
   "source": [
    "### Свойства (в гауссовской линейной модели)\n",
    "\n",
    "Некоторая информация о модели. Оба признака значимы, поскольку pvalue мало. То есть отвергаются гипотезы $\\theta_1 = 0$ и $\\theta_2 = 0$.\n",
    "\n",
    "*Печатает:*\n",
    "\n",
    "*Остатки: минимум, 0.25-квантиль, медиана, 0.75-квантиль, максимум*\n",
    "\n",
    "*Для каждого коэффициента: его оценка, стандартная ошибка, значение t-статистики гипотезы о незначимости коэффициента, pvalue этой гипотезы, звездочки значимости (чем больше, тем более значим коэффициент)*\n",
    "\n",
    "*RSS и число степеней свободы, R^2 т его поправленная версия, значение F-статистики критерия Фишера о значимости регрессии вообще, число степеней свободы распределения Фишера, pvalue этой гипотезы.*"
   ]
  },
  {
   "cell_type": "code",
   "execution_count": 8,
   "metadata": {},
   "outputs": [
    {
     "data": {
      "text/plain": [
       "\n",
       "Call:\n",
       "lm(formula = Residuary_resistance ~ Froude_number, data = train)\n",
       "\n",
       "Residuals:\n",
       "    Min      1Q  Median      3Q     Max \n",
       "-11.237  -7.745  -1.761   6.262  32.233 \n",
       "\n",
       "Coefficients:\n",
       "              Estimate Std. Error t value Pr(>|t|)    \n",
       "(Intercept)    -24.216      1.801  -13.45   <2e-16 ***\n",
       "Froude_number  120.894      5.916   20.44   <2e-16 ***\n",
       "---\n",
       "Signif. codes:  0 ‘***’ 0.001 ‘**’ 0.01 ‘*’ 0.05 ‘.’ 0.1 ‘ ’ 1\n",
       "\n",
       "Residual standard error: 8.795 on 214 degrees of freedom\n",
       "Multiple R-squared:  0.6612,\tAdjusted R-squared:  0.6596 \n",
       "F-statistic: 417.6 on 1 and 214 DF,  p-value: < 2.2e-16\n"
      ]
     },
     "metadata": {},
     "output_type": "display_data"
    }
   ],
   "source": [
    "summary(model)"
   ]
  },
  {
   "cell_type": "markdown",
   "metadata": {},
   "source": [
    "Можно вытащить отдельные числа"
   ]
  },
  {
   "cell_type": "code",
   "execution_count": 9,
   "metadata": {},
   "outputs": [
    {
     "data": {
      "text/html": [
       "0.661185066504209"
      ],
      "text/latex": [
       "0.661185066504209"
      ],
      "text/markdown": [
       "0.661185066504209"
      ],
      "text/plain": [
       "[1] 0.6611851"
      ]
     },
     "metadata": {},
     "output_type": "display_data"
    }
   ],
   "source": [
    "summary(model)$r.squared"
   ]
  },
  {
   "cell_type": "markdown",
   "metadata": {},
   "source": [
    "Доверительные интервалы для коэффициентов"
   ]
  },
  {
   "cell_type": "code",
   "execution_count": 10,
   "metadata": {},
   "outputs": [
    {
     "data": {
      "text/html": [
       "<table>\n",
       "<caption>A matrix: 2 × 2 of type dbl</caption>\n",
       "<thead>\n",
       "\t<tr><th></th><th scope=col>2.5 %</th><th scope=col>97.5 %</th></tr>\n",
       "</thead>\n",
       "<tbody>\n",
       "\t<tr><th scope=row>(Intercept)</th><td>-27.76576</td><td>-20.66554</td></tr>\n",
       "\t<tr><th scope=row>Froude_number</th><td>109.23349</td><td>132.55518</td></tr>\n",
       "</tbody>\n",
       "</table>\n"
      ],
      "text/latex": [
       "A matrix: 2 × 2 of type dbl\n",
       "\\begin{tabular}{r|ll}\n",
       "  & 2.5 \\% & 97.5 \\%\\\\\n",
       "\\hline\n",
       "\t(Intercept) & -27.76576 & -20.66554\\\\\n",
       "\tFroude\\_number & 109.23349 & 132.55518\\\\\n",
       "\\end{tabular}\n"
      ],
      "text/markdown": [
       "\n",
       "A matrix: 2 × 2 of type dbl\n",
       "\n",
       "| <!--/--> | 2.5 % | 97.5 % |\n",
       "|---|---|---|\n",
       "| (Intercept) | -27.76576 | -20.66554 |\n",
       "| Froude_number | 109.23349 | 132.55518 |\n",
       "\n"
      ],
      "text/plain": [
       "              2.5 %     97.5 %   \n",
       "(Intercept)   -27.76576 -20.66554\n",
       "Froude_number 109.23349 132.55518"
      ]
     },
     "metadata": {},
     "output_type": "display_data"
    }
   ],
   "source": [
    "confint(model, level = 0.95)"
   ]
  },
  {
   "cell_type": "markdown",
   "metadata": {},
   "source": [
    "### Предсказания\n",
    "\n",
    "Предсказания строятся с помощью универсальной функции `predict`. Для линейной регрессии она эквивалентна функции `predict.lm`. По ней можно получить справку:"
   ]
  },
  {
   "cell_type": "code",
   "execution_count": 11,
   "metadata": {},
   "outputs": [],
   "source": [
    "?predict.lm"
   ]
  },
  {
   "cell_type": "markdown",
   "metadata": {},
   "source": [
    "В предположениях гауссовской линейной модели можно построить два типа интервалов -- доверительный (`confidence`) и предсказательный (`prediction`). Первый является доверительными интервалом в обычном смысле для среднего значения отклика. Второй является интервалом, в котором с большой вероятностью лежит само значение отклика. Второй итервал всегда шире первого.\n",
    "\n",
    "Предсказание значений на новых объектах вместе с доверительным интервалом"
   ]
  },
  {
   "cell_type": "code",
   "execution_count": 12,
   "metadata": {
    "scrolled": true
   },
   "outputs": [
    {
     "data": {
      "text/html": [
       "<table>\n",
       "<caption>A matrix: 3 × 3 of type dbl</caption>\n",
       "<thead>\n",
       "\t<tr><th></th><th scope=col>fit</th><th scope=col>lwr</th><th scope=col>upr</th></tr>\n",
       "</thead>\n",
       "<tbody>\n",
       "\t<tr><th scope=row>2</th><td>-6.081503</td><td>-8.068719</td><td>-4.094287</td></tr>\n",
       "\t<tr><th scope=row>3</th><td>-3.059145</td><td>-4.820265</td><td>-1.298025</td></tr>\n",
       "\t<tr><th scope=row>8</th><td>12.052647</td><td>10.863675</td><td>13.241619</td></tr>\n",
       "</tbody>\n",
       "</table>\n"
      ],
      "text/latex": [
       "A matrix: 3 × 3 of type dbl\n",
       "\\begin{tabular}{r|lll}\n",
       "  & fit & lwr & upr\\\\\n",
       "\\hline\n",
       "\t2 & -6.081503 & -8.068719 & -4.094287\\\\\n",
       "\t3 & -3.059145 & -4.820265 & -1.298025\\\\\n",
       "\t8 & 12.052647 & 10.863675 & 13.241619\\\\\n",
       "\\end{tabular}\n"
      ],
      "text/markdown": [
       "\n",
       "A matrix: 3 × 3 of type dbl\n",
       "\n",
       "| <!--/--> | fit | lwr | upr |\n",
       "|---|---|---|---|\n",
       "| 2 | -6.081503 | -8.068719 | -4.094287 |\n",
       "| 3 | -3.059145 | -4.820265 | -1.298025 |\n",
       "| 8 | 12.052647 | 10.863675 | 13.241619 |\n",
       "\n"
      ],
      "text/plain": [
       "  fit       lwr       upr      \n",
       "2 -6.081503 -8.068719 -4.094287\n",
       "3 -3.059145 -4.820265 -1.298025\n",
       "8 12.052647 10.863675 13.241619"
      ]
     },
     "metadata": {},
     "output_type": "display_data"
    }
   ],
   "source": [
    "predicted <- predict(model, test, level = 0.95, interval = 'confidence')\n",
    "predicted[1:3,]"
   ]
  },
  {
   "cell_type": "markdown",
   "metadata": {},
   "source": [
    "Предсказание значений на новых объектах вместе с предсказательным интервалом"
   ]
  },
  {
   "cell_type": "code",
   "execution_count": 13,
   "metadata": {},
   "outputs": [
    {
     "data": {
      "text/html": [
       "<table>\n",
       "<caption>A matrix: 3 × 3 of type dbl</caption>\n",
       "<thead>\n",
       "\t<tr><th></th><th scope=col>fit</th><th scope=col>lwr</th><th scope=col>upr</th></tr>\n",
       "</thead>\n",
       "<tbody>\n",
       "\t<tr><th scope=row>2</th><td>-6.081503</td><td>-23.530023</td><td>11.36702</td></tr>\n",
       "\t<tr><th scope=row>3</th><td>-3.059145</td><td>-20.483362</td><td>14.36507</td></tr>\n",
       "\t<tr><th scope=row>8</th><td>12.052647</td><td> -5.323067</td><td>29.42836</td></tr>\n",
       "</tbody>\n",
       "</table>\n"
      ],
      "text/latex": [
       "A matrix: 3 × 3 of type dbl\n",
       "\\begin{tabular}{r|lll}\n",
       "  & fit & lwr & upr\\\\\n",
       "\\hline\n",
       "\t2 & -6.081503 & -23.530023 & 11.36702\\\\\n",
       "\t3 & -3.059145 & -20.483362 & 14.36507\\\\\n",
       "\t8 & 12.052647 &  -5.323067 & 29.42836\\\\\n",
       "\\end{tabular}\n"
      ],
      "text/markdown": [
       "\n",
       "A matrix: 3 × 3 of type dbl\n",
       "\n",
       "| <!--/--> | fit | lwr | upr |\n",
       "|---|---|---|---|\n",
       "| 2 | -6.081503 | -23.530023 | 11.36702 |\n",
       "| 3 | -3.059145 | -20.483362 | 14.36507 |\n",
       "| 8 | 12.052647 |  -5.323067 | 29.42836 |\n",
       "\n"
      ],
      "text/plain": [
       "  fit       lwr        upr     \n",
       "2 -6.081503 -23.530023 11.36702\n",
       "3 -3.059145 -20.483362 14.36507\n",
       "8 12.052647  -5.323067 29.42836"
      ]
     },
     "metadata": {},
     "output_type": "display_data"
    }
   ],
   "source": [
    "predicted <- predict(model, test, level = 0.95, interval = 'prediction')\n",
    "predicted[1:3,]"
   ]
  },
  {
   "cell_type": "markdown",
   "metadata": {},
   "source": [
    "MSE посчитаем ручками"
   ]
  },
  {
   "cell_type": "code",
   "execution_count": 14,
   "metadata": {},
   "outputs": [
    {
     "data": {
      "text/html": [
       "83.7649037492296"
      ],
      "text/latex": [
       "83.7649037492296"
      ],
      "text/markdown": [
       "83.7649037492296"
      ],
      "text/plain": [
       "[1] 83.7649"
      ]
     },
     "metadata": {},
     "output_type": "display_data"
    }
   ],
   "source": [
    "mean((predicted[,1] - test$Residuary_resistance) ^ 2)"
   ]
  },
  {
   "cell_type": "markdown",
   "metadata": {},
   "source": [
    "Посмотрим на график предсказания"
   ]
  },
  {
   "cell_type": "code",
   "execution_count": 15,
   "metadata": {},
   "outputs": [
    {
     "data": {
      "image/png": "[encoded data removed]",
      "text/plain": [
       "plot without title"
      ]
     },
     "metadata": {
      "image/png": {
       "height": 360,
       "width": 480
      },
      "text/plain": {
       "height": 360,
       "width": 480
      }
     },
     "output_type": "display_data"
    }
   ],
   "source": [
    "plot(t$Residuary_resistance ~ t$Froude_number)\n",
    "x <- seq(from = 0, to = 0.5, by = 0.1)\n",
    "lines(x, model$coefficients[1] + model$coefficients[2] * x, col = \"red\", lwd = 2)"
   ]
  },
  {
   "cell_type": "markdown",
   "metadata": {},
   "source": [
    "### Еще примеры\n",
    "\n",
    "Обучаем на train модель вида $Residuary\\_resistance = \\theta_1 + \\theta_2 \\cdot Froude\\_number + \\theta_3 \\cdot Froude\\_number^2 + \\theta_4 \\cdot Froude\\_number^3$\n",
    "\n",
    "*Обозначения в формуле:*\n",
    "\n",
    "`(x+y)^2` эквивалентно `x^2 + y^2 + xy`, что означает взять признаки `x^2`, `y^2`, `xy`\n",
    "\n",
    "`I((x+y)^2)` означает взять признак `(x+y)^2`."
   ]
  },
  {
   "cell_type": "code",
   "execution_count": 16,
   "metadata": {},
   "outputs": [
    {
     "data": {
      "text/html": [
       "<dl class=dl-horizontal>\n",
       "\t<dt>(Intercept)</dt>\n",
       "\t\t<dd>-47.3500896285085</dd>\n",
       "\t<dt>Froude_number</dt>\n",
       "\t\t<dd>684.738189461049</dd>\n",
       "\t<dt>I(Froude_number^2)</dt>\n",
       "\t\t<dd>-3113.69365771249</dd>\n",
       "\t<dt>I(Froude_number^3)</dt>\n",
       "\t\t<dd>4611.89045639885</dd>\n",
       "</dl>\n"
      ],
      "text/latex": [
       "\\begin{description*}\n",
       "\\item[(Intercept)] -47.3500896285085\n",
       "\\item[Froude\\textbackslash{}\\_number] 684.738189461049\n",
       "\\item[I(Froude\\textbackslash{}\\_number\\textbackslash{}textasciicircum\\{\\}2)] -3113.69365771249\n",
       "\\item[I(Froude\\textbackslash{}\\_number\\textbackslash{}textasciicircum\\{\\}3)] 4611.89045639885\n",
       "\\end{description*}\n"
      ],
      "text/markdown": [
       "(Intercept)\n",
       ":   -47.3500896285085Froude_number\n",
       ":   684.738189461049I(Froude_number^2)\n",
       ":   -3113.69365771249I(Froude_number^3)\n",
       ":   4611.89045639885\n",
       "\n"
      ],
      "text/plain": [
       "       (Intercept)      Froude_number I(Froude_number^2) I(Froude_number^3) \n",
       "         -47.35009          684.73819        -3113.69366         4611.89046 "
      ]
     },
     "metadata": {},
     "output_type": "display_data"
    },
    {
     "data": {
      "text/plain": [
       "\n",
       "Call:\n",
       "lm(formula = Residuary_resistance ~ Froude_number + I(Froude_number^2) + \n",
       "    I(Froude_number^3), data = train)\n",
       "\n",
       "Residuals:\n",
       "    Min      1Q  Median      3Q     Max \n",
       "-6.1376 -1.1891 -0.2925  1.2335 11.9024 \n",
       "\n",
       "Coefficients:\n",
       "                    Estimate Std. Error t value Pr(>|t|)    \n",
       "(Intercept)          -47.350      3.617  -13.09   <2e-16 ***\n",
       "Froude_number        684.738     43.337   15.80   <2e-16 ***\n",
       "I(Froude_number^2) -3113.694    160.041  -19.46   <2e-16 ***\n",
       "I(Froude_number^3)  4611.890    184.852   24.95   <2e-16 ***\n",
       "---\n",
       "Signif. codes:  0 ‘***’ 0.001 ‘**’ 0.01 ‘*’ 0.05 ‘.’ 0.1 ‘ ’ 1\n",
       "\n",
       "Residual standard error: 2.057 on 212 degrees of freedom\n",
       "Multiple R-squared:  0.9816,\tAdjusted R-squared:  0.9814 \n",
       "F-statistic:  3777 on 3 and 212 DF,  p-value: < 2.2e-16\n"
      ]
     },
     "metadata": {},
     "output_type": "display_data"
    }
   ],
   "source": [
    "model_2 <- lm(formula = Residuary_resistance ~ Froude_number + I(Froude_number^2) + I(Froude_number^3), \n",
    "            data = train)\n",
    "model_2$coefficients\n",
    "summary(model_2)"
   ]
  },
  {
   "cell_type": "markdown",
   "metadata": {},
   "source": [
    "Сравнить две модели можно в одной таблице"
   ]
  },
  {
   "cell_type": "code",
   "execution_count": 17,
   "metadata": {},
   "outputs": [
    {
     "name": "stderr",
     "output_type": "stream",
     "text": [
      "Loading required package: MASS\n",
      "\n",
      "\n",
      "Attaching package: ‘memisc’\n",
      "\n",
      "\n",
      "The following object is masked from ‘package:ggplot2’:\n",
      "\n",
      "    syms\n",
      "\n",
      "\n",
      "The following objects are masked from ‘package:stats’:\n",
      "\n",
      "    contr.sum, contr.treatment, contrasts\n",
      "\n",
      "\n",
      "The following object is masked from ‘package:base’:\n",
      "\n",
      "    as.array\n",
      "\n",
      "\n"
     ]
    },
    {
     "name": "stdout",
     "output_type": "stream",
     "text": [
      "\n",
      "Calls:\n",
      "model: lm(formula = Residuary_resistance ~ Froude_number, data = train)\n",
      "model_2: lm(formula = Residuary_resistance ~ Froude_number + I(Froude_number^2) + \n",
      "    I(Froude_number^3), data = train)\n",
      "\n",
      "================================================\n",
      "                        model       model_2     \n",
      "------------------------------------------------\n",
      "  (Intercept)         -24.216***    -47.350***  \n",
      "                       (1.801)       (3.617)    \n",
      "  Froude_number       120.894***    684.738***  \n",
      "                       (5.916)      (43.337)    \n",
      "  I(Froude_number^2)              -3113.694***  \n",
      "                                   (160.041)    \n",
      "  I(Froude_number^3)               4611.890***  \n",
      "                                   (184.852)    \n",
      "------------------------------------------------\n",
      "  R-squared             0.661         0.982     \n",
      "  N                   216           216         \n",
      "================================================\n",
      "  Significance: *** = p < 0.001;   \n",
      "                ** = p < 0.01; * = p < 0.05  \n"
     ]
    }
   ],
   "source": [
    "# install.packages('memisc')\n",
    "library(\"memisc\")\n",
    "print(mtable(model, model_2))"
   ]
  },
  {
   "cell_type": "markdown",
   "metadata": {},
   "source": [
    "Значение MSE куда лучше"
   ]
  },
  {
   "cell_type": "code",
   "execution_count": 18,
   "metadata": {},
   "outputs": [
    {
     "data": {
      "text/html": [
       "2.87253588934687"
      ],
      "text/latex": [
       "2.87253588934687"
      ],
      "text/markdown": [
       "2.87253588934687"
      ],
      "text/plain": [
       "[1] 2.872536"
      ]
     },
     "metadata": {},
     "output_type": "display_data"
    }
   ],
   "source": [
    "predicted <- predict(model_2, test)\n",
    "mean((predicted - test$Residuary_resistance) ^ 2)"
   ]
  },
  {
   "cell_type": "markdown",
   "metadata": {},
   "source": [
    "Посмотрим на график"
   ]
  },
  {
   "cell_type": "code",
   "execution_count": 19,
   "metadata": {},
   "outputs": [
    {
     "data": {
      "image/png": "[encoded data removed]",
      "text/plain": [
       "plot without title"
      ]
     },
     "metadata": {
      "image/png": {
       "height": 360,
       "width": 480
      },
      "text/plain": {
       "height": 360,
       "width": 480
      }
     },
     "output_type": "display_data"
    }
   ],
   "source": [
    "plot(t$Residuary_resistance ~ t$Froude_number)\n",
    "x <- seq(from = 0, to = 0.5, by = 0.01)\n",
    "lines(x, \n",
    "      model_2$coefficients[1] + model_2$coefficients[2] * x + model_2$coefficients[3] * x^2 + model_2$coefficients[4] * x^3, \n",
    "      col = \"red\", lwd = 2)"
   ]
  },
  {
   "cell_type": "markdown",
   "metadata": {},
   "source": [
    "Обучим регрессию на всех фичах. Как видим, все остальные фичи незначимы - pvalue мало.\n",
    "\n",
    "*Чтобы взять в формулу все признаки, можно поставить просто точку*"
   ]
  },
  {
   "cell_type": "code",
   "execution_count": 20,
   "metadata": {},
   "outputs": [
    {
     "data": {
      "text/html": [
       "<dl class=dl-horizontal>\n",
       "\t<dt>(Intercept)</dt>\n",
       "\t\t<dd>-38.1592123801995</dd>\n",
       "\t<dt>Longitudinal_position</dt>\n",
       "\t\t<dd>0.261148109075172</dd>\n",
       "\t<dt>Prismatic_coefficient</dt>\n",
       "\t\t<dd>-12.0388956894835</dd>\n",
       "\t<dt>Length.displacement_ratio</dt>\n",
       "\t\t<dd>2.95952272775717</dd>\n",
       "\t<dt>Beam.draught_ratio</dt>\n",
       "\t\t<dd>-1.23454031684979</dd>\n",
       "\t<dt>Length.beam_ratio</dt>\n",
       "\t\t<dd>-3.24403634146235</dd>\n",
       "\t<dt>Froude_number</dt>\n",
       "\t\t<dd>677.212705722252</dd>\n",
       "\t<dt>I(Froude_number^2)</dt>\n",
       "\t\t<dd>-3090.25519655445</dd>\n",
       "\t<dt>I(Froude_number^3)</dt>\n",
       "\t\t<dd>4589.50424004885</dd>\n",
       "</dl>\n"
      ],
      "text/latex": [
       "\\begin{description*}\n",
       "\\item[(Intercept)] -38.1592123801995\n",
       "\\item[Longitudinal\\textbackslash{}\\_position] 0.261148109075172\n",
       "\\item[Prismatic\\textbackslash{}\\_coefficient] -12.0388956894835\n",
       "\\item[Length.displacement\\textbackslash{}\\_ratio] 2.95952272775717\n",
       "\\item[Beam.draught\\textbackslash{}\\_ratio] -1.23454031684979\n",
       "\\item[Length.beam\\textbackslash{}\\_ratio] -3.24403634146235\n",
       "\\item[Froude\\textbackslash{}\\_number] 677.212705722252\n",
       "\\item[I(Froude\\textbackslash{}\\_number\\textbackslash{}textasciicircum\\{\\}2)] -3090.25519655445\n",
       "\\item[I(Froude\\textbackslash{}\\_number\\textbackslash{}textasciicircum\\{\\}3)] 4589.50424004885\n",
       "\\end{description*}\n"
      ],
      "text/markdown": [
       "(Intercept)\n",
       ":   -38.1592123801995Longitudinal_position\n",
       ":   0.261148109075172Prismatic_coefficient\n",
       ":   -12.0388956894835Length.displacement_ratio\n",
       ":   2.95952272775717Beam.draught_ratio\n",
       ":   -1.23454031684979Length.beam_ratio\n",
       ":   -3.24403634146235Froude_number\n",
       ":   677.212705722252I(Froude_number^2)\n",
       ":   -3090.25519655445I(Froude_number^3)\n",
       ":   4589.50424004885\n",
       "\n"
      ],
      "text/plain": [
       "              (Intercept)     Longitudinal_position     Prismatic_coefficient \n",
       "              -38.1592124                 0.2611481               -12.0388957 \n",
       "Length.displacement_ratio        Beam.draught_ratio         Length.beam_ratio \n",
       "                2.9595227                -1.2345403                -3.2440363 \n",
       "            Froude_number        I(Froude_number^2)        I(Froude_number^3) \n",
       "              677.2127057             -3090.2551966              4589.5042400 "
      ]
     },
     "metadata": {},
     "output_type": "display_data"
    },
    {
     "data": {
      "text/plain": [
       "\n",
       "Call:\n",
       "lm(formula = Residuary_resistance ~ . + I(Froude_number^2) + \n",
       "    I(Froude_number^3), data = train)\n",
       "\n",
       "Residuals:\n",
       "   Min     1Q Median     3Q    Max \n",
       "-5.615 -1.234 -0.120  1.155 11.216 \n",
       "\n",
       "Coefficients:\n",
       "                            Estimate Std. Error t value Pr(>|t|)    \n",
       "(Intercept)               -3.816e+01  8.114e+00  -4.703 4.68e-06 ***\n",
       "Longitudinal_position      2.611e-01  8.794e-02   2.969  0.00334 ** \n",
       "Prismatic_coefficient     -1.204e+01  1.165e+01  -1.033  0.30272    \n",
       "Length.displacement_ratio  2.960e+00  3.676e+00   0.805  0.42163    \n",
       "Beam.draught_ratio        -1.235e+00  1.427e+00  -0.865  0.38792    \n",
       "Length.beam_ratio         -3.244e+00  3.703e+00  -0.876  0.38197    \n",
       "Froude_number              6.772e+02  4.186e+01  16.178  < 2e-16 ***\n",
       "I(Froude_number^2)        -3.090e+03  1.546e+02 -19.992  < 2e-16 ***\n",
       "I(Froude_number^3)         4.590e+03  1.785e+02  25.705  < 2e-16 ***\n",
       "---\n",
       "Signif. codes:  0 ‘***’ 0.001 ‘**’ 0.01 ‘*’ 0.05 ‘.’ 0.1 ‘ ’ 1\n",
       "\n",
       "Residual standard error: 1.982 on 207 degrees of freedom\n",
       "Multiple R-squared:  0.9834,\tAdjusted R-squared:  0.9827 \n",
       "F-statistic:  1529 on 8 and 207 DF,  p-value: < 2.2e-16\n"
      ]
     },
     "metadata": {},
     "output_type": "display_data"
    }
   ],
   "source": [
    "model <- lm(formula = Residuary_resistance ~ . + I(Froude_number^2) + I(Froude_number^3), \n",
    "            data = train)\n",
    "model$coefficients\n",
    "summary(model)"
   ]
  },
  {
   "cell_type": "markdown",
   "metadata": {},
   "source": [
    "MSE такое же"
   ]
  },
  {
   "cell_type": "code",
   "execution_count": 21,
   "metadata": {},
   "outputs": [
    {
     "data": {
      "text/html": [
       "2.82817872742203"
      ],
      "text/latex": [
       "2.82817872742203"
      ],
      "text/markdown": [
       "2.82817872742203"
      ],
      "text/plain": [
       "[1] 2.828179"
      ]
     },
     "metadata": {},
     "output_type": "display_data"
    }
   ],
   "source": [
    "predicted <- predict(model, test)\n",
    "mean((predicted - test$Residuary_resistance) ^ 2)"
   ]
  },
  {
   "cell_type": "markdown",
   "metadata": {},
   "source": [
    "### Отбор признаков\n",
    "\n",
    "Процедура отбора фичей из библиотеки\n",
    "https://cran.r-project.org/web/packages/bestglm/bestglm.pdf"
   ]
  },
  {
   "cell_type": "code",
   "execution_count": 22,
   "metadata": {},
   "outputs": [
    {
     "name": "stderr",
     "output_type": "stream",
     "text": [
      "Loading required package: leaps\n",
      "\n"
     ]
    },
    {
     "data": {
      "text/plain": [
       "BIC\n",
       "BICq equivalent for q in (0, 0.924068917556141)\n",
       "Best Model:\n",
       "               Estimate Std. Error   t value     Pr(>|t|)\n",
       "(Intercept)   -24.48407   1.533574 -15.96537 3.673160e-42\n",
       "Froude_number 121.66757   5.033863  24.16982 6.233076e-73"
      ]
     },
     "metadata": {},
     "output_type": "display_data"
    }
   ],
   "source": [
    "# install.packages('bestglm')\n",
    "library('bestglm')\n",
    "\n",
    "bestglm(t, family = gaussian, IC = \"BIC\")"
   ]
  },
  {
   "cell_type": "markdown",
   "metadata": {},
   "source": [
    "---------\n",
    "\n",
    "Прикладная статистика и анализ данных, 2019\n",
    "\n",
    "Никита Волков\n",
    "\n",
    "https://mipt-stats.gitlab.io/"
   ]
  }
 ],
 "metadata": {
  "kernelspec": {
   "display_name": "R",
   "language": "R",
   "name": "ir"
  },
  "language_info": {
   "codemirror_mode": "r",
   "file_extension": ".r",
   "mimetype": "text/x-r-source",
   "name": "R",
   "pygments_lexer": "r",
   "version": "3.6.2"
  }
 },
 "nbformat": 4,
 "nbformat_minor": 1
}
