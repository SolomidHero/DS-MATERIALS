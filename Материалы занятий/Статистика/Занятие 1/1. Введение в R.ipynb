{
 "cells": [
  {
   "cell_type": "markdown",
   "metadata": {},
   "source": [
    "# Введение в R\n",
    "\n",
    "<img src=\"./pic/R_logo.jpg\" width=\"180\">\n",
    "\n",
    "R — язык программирования для статистической обработки данных и работы с графикой, а также свободная программная среда вычислений с открытым исходным кодом в рамках проекта GNU. R широко используется как статистическое программное обеспечение для анализа данных и фактически стал стандартом для статистических программ.\n",
    "\n",
    "Коротко говоря, R применяется везде, где нужна работа с данными.\n",
    "Это не только статистика в узком смысле слова, но и «первичный» анализ (графики, таблицы сопряженности) и продвинутое математическое\n",
    "моделирование. В принципе, R может использоваться и там, где в настоящее время принято использовать специализированные программы\n",
    "математического анализа, такие как MATLAB или Octave. Но, разумеется, более всего его применяют для статистического анализа — от вычисления средних величин до вейвлет-преобразований и временных рядов. Географически R распространен тоже очень широко. Трудно найти\n",
    "американский или западноевропейский университет, где бы не работали\n",
    "с R. Очень многие серьезные компании (скажем, Boeing) устанавливают\n",
    "R для работы.\n",
    "\n",
    "У R два главных **преимущества**: неимоверная гибкость и свободный\n",
    "код. Гибкость позволяет создавать приложения (пакеты) практически\n",
    "на любой случай жизни. Нет, кажется, ни одного метода современного статистического анализа, который бы не был сейчас представлен в\n",
    "R.\n",
    "\n",
    "У R есть и немало **недостатков**. Самый главный из них — это трудность обучения программе. Второй недостаток R — относительная медлительность. Некоторые\n",
    "функции, особенно использующие циклы, и виды объектов, особенно\n",
    "списки и таблицы данных, «работают» в десятки раз медленнее, чем\n",
    "их аналоги в коммерческих пакетах.\n",
    "\n",
    "\n",
    "<a href=\"https://losst.ru/ustanovka-r-v-ubuntu\">Установка R</a>\n",
    "\n",
    "### Среды разработки\n",
    "\n",
    "**<a href=\"https://irkernel.github.io/\">R kernel for Jupyter Notebook</a>**\n",
    "\n",
    "<a href=\"https://www.rstudio.com/\">RStudio</a>\n",
    "\n",
    "Смена ядра в Jupyter: Kernel -> Change kernel.\n",
    "\n",
    "### Изучение R (на русском)\n",
    "\n",
    "(описание на <a href=\"http://tukachev.flogiston.ru/blog/?p=1352\">сайте</a>)\n",
    "\n",
    "Роберт И. Кабаков «R в действии. Анализ и визуализация данных на языке R»\n",
    " \n",
    "**Алексей Шипунов, Е. Балдин «Наглядная статистика. Используем R!»**\n",
    " \n",
    "Сергей Мастицкий, Владимир Шитиков «Статистический анализ и визуализация данных с помощью R»\n",
    " \n",
    "<a href=\"https://stepic.org/course/129\">Stepic: Анализ данных в R</a>\n",
    "\n",
    "<a href=\"https://stepic.org/course/497\">Stepic: Основы программирования на R</a>\n",
    "\n",
    "<a href=\"http://mpoctok.narod.ru/r/intro.htm\">Заметки об R</a>\n",
    "\n",
    "### Изучение R (на английском)\n",
    "\n",
    "<a href=\"https://cran.r-project.org/doc/manuals/r-release/R-intro.pdf\">An Introduction to R</a> (от разработчиков)\n",
    "\n",
    "https://www.rdocumentation.org/\n",
    "\n",
    "https://www.r-project.org/\n",
    "\n",
    "https://rdrr.io/\n",
    "\n",
    "=================================================="
   ]
  },
  {
   "cell_type": "markdown",
   "metadata": {},
   "source": [
    "### Векторы\n",
    "\n",
    "Векторы и их конкатенации. Число - тоже вектор."
   ]
  },
  {
   "cell_type": "code",
   "execution_count": 1,
   "metadata": {},
   "outputs": [
    {
     "data": {
      "text/html": [
       "<ol class=list-inline>\n",
       "\t<li>1</li>\n",
       "\t<li>2</li>\n",
       "\t<li>3</li>\n",
       "\t<li>4</li>\n",
       "\t<li>5</li>\n",
       "</ol>\n"
      ],
      "text/latex": [
       "\\begin{enumerate*}\n",
       "\\item 1\n",
       "\\item 2\n",
       "\\item 3\n",
       "\\item 4\n",
       "\\item 5\n",
       "\\end{enumerate*}\n"
      ],
      "text/markdown": [
       "1. 1\n",
       "2. 2\n",
       "3. 3\n",
       "4. 4\n",
       "5. 5\n",
       "\n",
       "\n"
      ],
      "text/plain": [
       "[1] 1 2 3 4 5"
      ]
     },
     "metadata": {},
     "output_type": "display_data"
    },
    {
     "data": {
      "text/html": [
       "1"
      ],
      "text/latex": [
       "1"
      ],
      "text/markdown": [
       "1"
      ],
      "text/plain": [
       "[1] 1"
      ]
     },
     "metadata": {},
     "output_type": "display_data"
    },
    {
     "data": {
      "text/html": [
       "<ol class=list-inline>\n",
       "\t<li>1</li>\n",
       "\t<li>2</li>\n",
       "\t<li>3</li>\n",
       "\t<li>4</li>\n",
       "\t<li>5</li>\n",
       "</ol>\n"
      ],
      "text/latex": [
       "\\begin{enumerate*}\n",
       "\\item 1\n",
       "\\item 2\n",
       "\\item 3\n",
       "\\item 4\n",
       "\\item 5\n",
       "\\end{enumerate*}\n"
      ],
      "text/markdown": [
       "1. 1\n",
       "2. 2\n",
       "3. 3\n",
       "4. 4\n",
       "5. 5\n",
       "\n",
       "\n"
      ],
      "text/plain": [
       "[1] 1 2 3 4 5"
      ]
     },
     "metadata": {},
     "output_type": "display_data"
    },
    {
     "data": {
      "text/html": [
       "<ol class=list-inline>\n",
       "\t<li>'a'</li>\n",
       "\t<li>'b'</li>\n",
       "\t<li>'c'</li>\n",
       "</ol>\n"
      ],
      "text/latex": [
       "\\begin{enumerate*}\n",
       "\\item 'a'\n",
       "\\item 'b'\n",
       "\\item 'c'\n",
       "\\end{enumerate*}\n"
      ],
      "text/markdown": [
       "1. 'a'\n",
       "2. 'b'\n",
       "3. 'c'\n",
       "\n",
       "\n"
      ],
      "text/plain": [
       "[1] \"a\" \"b\" \"c\""
      ]
     },
     "metadata": {},
     "output_type": "display_data"
    }
   ],
   "source": [
    "c(1, 2, 3, 4, 5)\n",
    "c(1)\n",
    "c(c(1, 2), c(3, 4), c(5))\n",
    "c('a', 'b', 'c')"
   ]
  },
  {
   "cell_type": "markdown",
   "metadata": {},
   "source": [
    "Создание векторов. Правая граница **включается**."
   ]
  },
  {
   "cell_type": "code",
   "execution_count": 2,
   "metadata": {},
   "outputs": [
    {
     "data": {
      "text/html": [
       "<ol class=list-inline>\n",
       "\t<li>1</li>\n",
       "\t<li>2</li>\n",
       "\t<li>3</li>\n",
       "\t<li>4</li>\n",
       "\t<li>5</li>\n",
       "</ol>\n"
      ],
      "text/latex": [
       "\\begin{enumerate*}\n",
       "\\item 1\n",
       "\\item 2\n",
       "\\item 3\n",
       "\\item 4\n",
       "\\item 5\n",
       "\\end{enumerate*}\n"
      ],
      "text/markdown": [
       "1. 1\n",
       "2. 2\n",
       "3. 3\n",
       "4. 4\n",
       "5. 5\n",
       "\n",
       "\n"
      ],
      "text/plain": [
       "[1] 1 2 3 4 5"
      ]
     },
     "metadata": {},
     "output_type": "display_data"
    },
    {
     "data": {
      "text/html": [
       "<ol class=list-inline>\n",
       "\t<li>5</li>\n",
       "\t<li>4</li>\n",
       "\t<li>3</li>\n",
       "\t<li>2</li>\n",
       "\t<li>1</li>\n",
       "</ol>\n"
      ],
      "text/latex": [
       "\\begin{enumerate*}\n",
       "\\item 5\n",
       "\\item 4\n",
       "\\item 3\n",
       "\\item 2\n",
       "\\item 1\n",
       "\\end{enumerate*}\n"
      ],
      "text/markdown": [
       "1. 5\n",
       "2. 4\n",
       "3. 3\n",
       "4. 2\n",
       "5. 1\n",
       "\n",
       "\n"
      ],
      "text/plain": [
       "[1] 5 4 3 2 1"
      ]
     },
     "metadata": {},
     "output_type": "display_data"
    },
    {
     "data": {
      "text/html": [
       "<ol class=list-inline>\n",
       "\t<li>1</li>\n",
       "\t<li>3</li>\n",
       "\t<li>5</li>\n",
       "\t<li>7</li>\n",
       "\t<li>9</li>\n",
       "</ol>\n"
      ],
      "text/latex": [
       "\\begin{enumerate*}\n",
       "\\item 1\n",
       "\\item 3\n",
       "\\item 5\n",
       "\\item 7\n",
       "\\item 9\n",
       "\\end{enumerate*}\n"
      ],
      "text/markdown": [
       "1. 1\n",
       "2. 3\n",
       "3. 5\n",
       "4. 7\n",
       "5. 9\n",
       "\n",
       "\n"
      ],
      "text/plain": [
       "[1] 1 3 5 7 9"
      ]
     },
     "metadata": {},
     "output_type": "display_data"
    },
    {
     "data": {
      "text/html": [
       "<ol class=list-inline>\n",
       "\t<li>10</li>\n",
       "\t<li>7</li>\n",
       "\t<li>4</li>\n",
       "\t<li>1</li>\n",
       "</ol>\n"
      ],
      "text/latex": [
       "\\begin{enumerate*}\n",
       "\\item 10\n",
       "\\item 7\n",
       "\\item 4\n",
       "\\item 1\n",
       "\\end{enumerate*}\n"
      ],
      "text/markdown": [
       "1. 10\n",
       "2. 7\n",
       "3. 4\n",
       "4. 1\n",
       "\n",
       "\n"
      ],
      "text/plain": [
       "[1] 10  7  4  1"
      ]
     },
     "metadata": {},
     "output_type": "display_data"
    },
    {
     "data": {
      "text/html": [
       "<ol class=list-inline>\n",
       "\t<li>0</li>\n",
       "\t<li>0</li>\n",
       "\t<li>0</li>\n",
       "\t<li>0</li>\n",
       "\t<li>0</li>\n",
       "\t<li>0</li>\n",
       "\t<li>0</li>\n",
       "\t<li>0</li>\n",
       "\t<li>0</li>\n",
       "\t<li>0</li>\n",
       "</ol>\n"
      ],
      "text/latex": [
       "\\begin{enumerate*}\n",
       "\\item 0\n",
       "\\item 0\n",
       "\\item 0\n",
       "\\item 0\n",
       "\\item 0\n",
       "\\item 0\n",
       "\\item 0\n",
       "\\item 0\n",
       "\\item 0\n",
       "\\item 0\n",
       "\\end{enumerate*}\n"
      ],
      "text/markdown": [
       "1. 0\n",
       "2. 0\n",
       "3. 0\n",
       "4. 0\n",
       "5. 0\n",
       "6. 0\n",
       "7. 0\n",
       "8. 0\n",
       "9. 0\n",
       "10. 0\n",
       "\n",
       "\n"
      ],
      "text/plain": [
       " [1] 0 0 0 0 0 0 0 0 0 0"
      ]
     },
     "metadata": {},
     "output_type": "display_data"
    },
    {
     "data": {
      "text/html": [
       "<ol class=list-inline>\n",
       "\t<li>1</li>\n",
       "\t<li>2</li>\n",
       "\t<li>3</li>\n",
       "\t<li>1</li>\n",
       "\t<li>2</li>\n",
       "\t<li>3</li>\n",
       "</ol>\n"
      ],
      "text/latex": [
       "\\begin{enumerate*}\n",
       "\\item 1\n",
       "\\item 2\n",
       "\\item 3\n",
       "\\item 1\n",
       "\\item 2\n",
       "\\item 3\n",
       "\\end{enumerate*}\n"
      ],
      "text/markdown": [
       "1. 1\n",
       "2. 2\n",
       "3. 3\n",
       "4. 1\n",
       "5. 2\n",
       "6. 3\n",
       "\n",
       "\n"
      ],
      "text/plain": [
       "[1] 1 2 3 1 2 3"
      ]
     },
     "metadata": {},
     "output_type": "display_data"
    }
   ],
   "source": [
    "1:5\n",
    "5:1\n",
    "seq(from = 1, to = 10, by = 2)\n",
    "seq(from = 10, to = 1, by = -3)\n",
    "rep(x = 0, times = 10)  # 10 раз повторить вектор из элемента 0\n",
    "rep(x = 1:3, times = 2)  # 2 раза повторить вектор 1:3"
   ]
  },
  {
   "cell_type": "markdown",
   "metadata": {},
   "source": [
    "Длина вектора"
   ]
  },
  {
   "cell_type": "code",
   "execution_count": 3,
   "metadata": {},
   "outputs": [
    {
     "data": {
      "text/html": [
       "5"
      ],
      "text/latex": [
       "5"
      ],
      "text/markdown": [
       "5"
      ],
      "text/plain": [
       "[1] 5"
      ]
     },
     "metadata": {},
     "output_type": "display_data"
    }
   ],
   "source": [
    "length(1:5)"
   ]
  },
  {
   "cell_type": "markdown",
   "metadata": {},
   "source": [
    "Арифметические операции над векторами"
   ]
  },
  {
   "cell_type": "code",
   "execution_count": 4,
   "metadata": {},
   "outputs": [
    {
     "data": {
      "text/html": [
       "<ol class=list-inline>\n",
       "\t<li>6</li>\n",
       "\t<li>6</li>\n",
       "\t<li>6</li>\n",
       "\t<li>6</li>\n",
       "\t<li>6</li>\n",
       "</ol>\n"
      ],
      "text/latex": [
       "\\begin{enumerate*}\n",
       "\\item 6\n",
       "\\item 6\n",
       "\\item 6\n",
       "\\item 6\n",
       "\\item 6\n",
       "\\end{enumerate*}\n"
      ],
      "text/markdown": [
       "1. 6\n",
       "2. 6\n",
       "3. 6\n",
       "4. 6\n",
       "5. 6\n",
       "\n",
       "\n"
      ],
      "text/plain": [
       "[1] 6 6 6 6 6"
      ]
     },
     "metadata": {},
     "output_type": "display_data"
    },
    {
     "data": {
      "text/html": [
       "<ol class=list-inline>\n",
       "\t<li>5</li>\n",
       "\t<li>8</li>\n",
       "\t<li>9</li>\n",
       "\t<li>8</li>\n",
       "\t<li>5</li>\n",
       "</ol>\n"
      ],
      "text/latex": [
       "\\begin{enumerate*}\n",
       "\\item 5\n",
       "\\item 8\n",
       "\\item 9\n",
       "\\item 8\n",
       "\\item 5\n",
       "\\end{enumerate*}\n"
      ],
      "text/markdown": [
       "1. 5\n",
       "2. 8\n",
       "3. 9\n",
       "4. 8\n",
       "5. 5\n",
       "\n",
       "\n"
      ],
      "text/plain": [
       "[1] 5 8 9 8 5"
      ]
     },
     "metadata": {},
     "output_type": "display_data"
    },
    {
     "data": {
      "text/html": [
       "<ol class=list-inline>\n",
       "\t<li>-4</li>\n",
       "\t<li>-2</li>\n",
       "\t<li>0</li>\n",
       "\t<li>2</li>\n",
       "\t<li>4</li>\n",
       "</ol>\n"
      ],
      "text/latex": [
       "\\begin{enumerate*}\n",
       "\\item -4\n",
       "\\item -2\n",
       "\\item 0\n",
       "\\item 2\n",
       "\\item 4\n",
       "\\end{enumerate*}\n"
      ],
      "text/markdown": [
       "1. -4\n",
       "2. -2\n",
       "3. 0\n",
       "4. 2\n",
       "5. 4\n",
       "\n",
       "\n"
      ],
      "text/plain": [
       "[1] -4 -2  0  2  4"
      ]
     },
     "metadata": {},
     "output_type": "display_data"
    },
    {
     "data": {
      "text/html": [
       "<ol class=list-inline>\n",
       "\t<li>0.2</li>\n",
       "\t<li>0.5</li>\n",
       "\t<li>1</li>\n",
       "\t<li>2</li>\n",
       "\t<li>5</li>\n",
       "</ol>\n"
      ],
      "text/latex": [
       "\\begin{enumerate*}\n",
       "\\item 0.2\n",
       "\\item 0.5\n",
       "\\item 1\n",
       "\\item 2\n",
       "\\item 5\n",
       "\\end{enumerate*}\n"
      ],
      "text/markdown": [
       "1. 0.2\n",
       "2. 0.5\n",
       "3. 1\n",
       "4. 2\n",
       "5. 5\n",
       "\n",
       "\n"
      ],
      "text/plain": [
       "[1] 0.2 0.5 1.0 2.0 5.0"
      ]
     },
     "metadata": {},
     "output_type": "display_data"
    },
    {
     "data": {
      "text/html": [
       "<ol class=list-inline>\n",
       "\t<li>1</li>\n",
       "\t<li>2</li>\n",
       "\t<li>0</li>\n",
       "\t<li>0</li>\n",
       "\t<li>0</li>\n",
       "</ol>\n"
      ],
      "text/latex": [
       "\\begin{enumerate*}\n",
       "\\item 1\n",
       "\\item 2\n",
       "\\item 0\n",
       "\\item 0\n",
       "\\item 0\n",
       "\\end{enumerate*}\n"
      ],
      "text/markdown": [
       "1. 1\n",
       "2. 2\n",
       "3. 0\n",
       "4. 0\n",
       "5. 0\n",
       "\n",
       "\n"
      ],
      "text/plain": [
       "[1] 1 2 0 0 0"
      ]
     },
     "metadata": {},
     "output_type": "display_data"
    },
    {
     "data": {
      "text/html": [
       "<ol class=list-inline>\n",
       "\t<li>2</li>\n",
       "\t<li>3</li>\n",
       "\t<li>4</li>\n",
       "\t<li>5</li>\n",
       "\t<li>6</li>\n",
       "</ol>\n"
      ],
      "text/latex": [
       "\\begin{enumerate*}\n",
       "\\item 2\n",
       "\\item 3\n",
       "\\item 4\n",
       "\\item 5\n",
       "\\item 6\n",
       "\\end{enumerate*}\n"
      ],
      "text/markdown": [
       "1. 2\n",
       "2. 3\n",
       "3. 4\n",
       "4. 5\n",
       "5. 6\n",
       "\n",
       "\n"
      ],
      "text/plain": [
       "[1] 2 3 4 5 6"
      ]
     },
     "metadata": {},
     "output_type": "display_data"
    },
    {
     "data": {
      "text/html": [
       "<ol class=list-inline>\n",
       "\t<li>2</li>\n",
       "\t<li>4</li>\n",
       "\t<li>6</li>\n",
       "\t<li>8</li>\n",
       "\t<li>10</li>\n",
       "</ol>\n"
      ],
      "text/latex": [
       "\\begin{enumerate*}\n",
       "\\item 2\n",
       "\\item 4\n",
       "\\item 6\n",
       "\\item 8\n",
       "\\item 10\n",
       "\\end{enumerate*}\n"
      ],
      "text/markdown": [
       "1. 2\n",
       "2. 4\n",
       "3. 6\n",
       "4. 8\n",
       "5. 10\n",
       "\n",
       "\n"
      ],
      "text/plain": [
       "[1]  2  4  6  8 10"
      ]
     },
     "metadata": {},
     "output_type": "display_data"
    }
   ],
   "source": [
    "1:5 + 5:1\n",
    "1:5 * 5:1\n",
    "1:5 - 5:1\n",
    "1:5 / 5:1\n",
    "1:5 %% 5:1  # остаток от деления\n",
    "1 + 1:5\n",
    "2 * 1:5"
   ]
  },
  {
   "cell_type": "code",
   "execution_count": 5,
   "metadata": {},
   "outputs": [
    {
     "data": {
      "text/html": [
       "<ol class=list-inline>\n",
       "\t<li>1</li>\n",
       "\t<li>4</li>\n",
       "\t<li>9</li>\n",
       "\t<li>16</li>\n",
       "\t<li>25</li>\n",
       "</ol>\n"
      ],
      "text/latex": [
       "\\begin{enumerate*}\n",
       "\\item 1\n",
       "\\item 4\n",
       "\\item 9\n",
       "\\item 16\n",
       "\\item 25\n",
       "\\end{enumerate*}\n"
      ],
      "text/markdown": [
       "1. 1\n",
       "2. 4\n",
       "3. 9\n",
       "4. 16\n",
       "5. 25\n",
       "\n",
       "\n"
      ],
      "text/plain": [
       "[1]  1  4  9 16 25"
      ]
     },
     "metadata": {},
     "output_type": "display_data"
    },
    {
     "data": {
      "text/html": [
       "<ol class=list-inline>\n",
       "\t<li>1</li>\n",
       "\t<li>4</li>\n",
       "\t<li>9</li>\n",
       "\t<li>16</li>\n",
       "\t<li>25</li>\n",
       "</ol>\n"
      ],
      "text/latex": [
       "\\begin{enumerate*}\n",
       "\\item 1\n",
       "\\item 4\n",
       "\\item 9\n",
       "\\item 16\n",
       "\\item 25\n",
       "\\end{enumerate*}\n"
      ],
      "text/markdown": [
       "1. 1\n",
       "2. 4\n",
       "3. 9\n",
       "4. 16\n",
       "5. 25\n",
       "\n",
       "\n"
      ],
      "text/plain": [
       "[1]  1  4  9 16 25"
      ]
     },
     "metadata": {},
     "output_type": "display_data"
    },
    {
     "data": {
      "text/html": [
       "<ol class=list-inline>\n",
       "\t<li>1</li>\n",
       "\t<li>2</li>\n",
       "\t<li>3</li>\n",
       "\t<li>4</li>\n",
       "\t<li>5</li>\n",
       "\t<li>6</li>\n",
       "\t<li>7</li>\n",
       "\t<li>8</li>\n",
       "\t<li>9</li>\n",
       "\t<li>10</li>\n",
       "\t<li>11</li>\n",
       "\t<li>12</li>\n",
       "\t<li>13</li>\n",
       "\t<li>14</li>\n",
       "\t<li>15</li>\n",
       "\t<li>16</li>\n",
       "\t<li>17</li>\n",
       "\t<li>18</li>\n",
       "\t<li>19</li>\n",
       "\t<li>20</li>\n",
       "\t<li>21</li>\n",
       "\t<li>22</li>\n",
       "\t<li>23</li>\n",
       "\t<li>24</li>\n",
       "\t<li>25</li>\n",
       "</ol>\n"
      ],
      "text/latex": [
       "\\begin{enumerate*}\n",
       "\\item 1\n",
       "\\item 2\n",
       "\\item 3\n",
       "\\item 4\n",
       "\\item 5\n",
       "\\item 6\n",
       "\\item 7\n",
       "\\item 8\n",
       "\\item 9\n",
       "\\item 10\n",
       "\\item 11\n",
       "\\item 12\n",
       "\\item 13\n",
       "\\item 14\n",
       "\\item 15\n",
       "\\item 16\n",
       "\\item 17\n",
       "\\item 18\n",
       "\\item 19\n",
       "\\item 20\n",
       "\\item 21\n",
       "\\item 22\n",
       "\\item 23\n",
       "\\item 24\n",
       "\\item 25\n",
       "\\end{enumerate*}\n"
      ],
      "text/markdown": [
       "1. 1\n",
       "2. 2\n",
       "3. 3\n",
       "4. 4\n",
       "5. 5\n",
       "6. 6\n",
       "7. 7\n",
       "8. 8\n",
       "9. 9\n",
       "10. 10\n",
       "11. 11\n",
       "12. 12\n",
       "13. 13\n",
       "14. 14\n",
       "15. 15\n",
       "16. 16\n",
       "17. 17\n",
       "18. 18\n",
       "19. 19\n",
       "20. 20\n",
       "21. 21\n",
       "22. 22\n",
       "23. 23\n",
       "24. 24\n",
       "25. 25\n",
       "\n",
       "\n"
      ],
      "text/plain": [
       " [1]  1  2  3  4  5  6  7  8  9 10 11 12 13 14 15 16 17 18 19 20 21 22 23 24 25"
      ]
     },
     "metadata": {},
     "output_type": "display_data"
    },
    {
     "data": {
      "text/html": [
       "<ol class=list-inline>\n",
       "\t<li>1</li>\n",
       "\t<li>2</li>\n",
       "\t<li>3</li>\n",
       "\t<li>4</li>\n",
       "\t<li>5</li>\n",
       "\t<li>6</li>\n",
       "\t<li>7</li>\n",
       "\t<li>8</li>\n",
       "\t<li>9</li>\n",
       "\t<li>10</li>\n",
       "\t<li>11</li>\n",
       "\t<li>12</li>\n",
       "\t<li>13</li>\n",
       "\t<li>14</li>\n",
       "\t<li>15</li>\n",
       "\t<li>16</li>\n",
       "\t<li>17</li>\n",
       "\t<li>18</li>\n",
       "\t<li>19</li>\n",
       "\t<li>20</li>\n",
       "\t<li>21</li>\n",
       "\t<li>22</li>\n",
       "\t<li>23</li>\n",
       "\t<li>24</li>\n",
       "\t<li>25</li>\n",
       "</ol>\n"
      ],
      "text/latex": [
       "\\begin{enumerate*}\n",
       "\\item 1\n",
       "\\item 2\n",
       "\\item 3\n",
       "\\item 4\n",
       "\\item 5\n",
       "\\item 6\n",
       "\\item 7\n",
       "\\item 8\n",
       "\\item 9\n",
       "\\item 10\n",
       "\\item 11\n",
       "\\item 12\n",
       "\\item 13\n",
       "\\item 14\n",
       "\\item 15\n",
       "\\item 16\n",
       "\\item 17\n",
       "\\item 18\n",
       "\\item 19\n",
       "\\item 20\n",
       "\\item 21\n",
       "\\item 22\n",
       "\\item 23\n",
       "\\item 24\n",
       "\\item 25\n",
       "\\end{enumerate*}\n"
      ],
      "text/markdown": [
       "1. 1\n",
       "2. 2\n",
       "3. 3\n",
       "4. 4\n",
       "5. 5\n",
       "6. 6\n",
       "7. 7\n",
       "8. 8\n",
       "9. 9\n",
       "10. 10\n",
       "11. 11\n",
       "12. 12\n",
       "13. 13\n",
       "14. 14\n",
       "15. 15\n",
       "16. 16\n",
       "17. 17\n",
       "18. 18\n",
       "19. 19\n",
       "20. 20\n",
       "21. 21\n",
       "22. 22\n",
       "23. 23\n",
       "24. 24\n",
       "25. 25\n",
       "\n",
       "\n"
      ],
      "text/plain": [
       " [1]  1  2  3  4  5  6  7  8  9 10 11 12 13 14 15 16 17 18 19 20 21 22 23 24 25"
      ]
     },
     "metadata": {},
     "output_type": "display_data"
    }
   ],
   "source": [
    "(1:5) ^ 2\n",
    "(1:5) ** 2\n",
    "1:5 ^ 2  # эквивалентно 1:(5 ^ 2)\n",
    "1:5 ** 2  # эквивалентно 1:(5 ** 2)"
   ]
  },
  {
   "cell_type": "markdown",
   "metadata": {},
   "source": [
    "Циклическое дополнение объекта меньшего размера до объектов большего размера"
   ]
  },
  {
   "cell_type": "code",
   "execution_count": 6,
   "metadata": {
    "scrolled": true
   },
   "outputs": [
    {
     "data": {
      "text/html": [
       "<ol class=list-inline>\n",
       "\t<li>2</li>\n",
       "\t<li>4</li>\n",
       "\t<li>6</li>\n",
       "\t<li>8</li>\n",
       "\t<li>10</li>\n",
       "\t<li>7</li>\n",
       "\t<li>9</li>\n",
       "\t<li>11</li>\n",
       "\t<li>13</li>\n",
       "\t<li>15</li>\n",
       "</ol>\n"
      ],
      "text/latex": [
       "\\begin{enumerate*}\n",
       "\\item 2\n",
       "\\item 4\n",
       "\\item 6\n",
       "\\item 8\n",
       "\\item 10\n",
       "\\item 7\n",
       "\\item 9\n",
       "\\item 11\n",
       "\\item 13\n",
       "\\item 15\n",
       "\\end{enumerate*}\n"
      ],
      "text/markdown": [
       "1. 2\n",
       "2. 4\n",
       "3. 6\n",
       "4. 8\n",
       "5. 10\n",
       "6. 7\n",
       "7. 9\n",
       "8. 11\n",
       "9. 13\n",
       "10. 15\n",
       "\n",
       "\n"
      ],
      "text/plain": [
       " [1]  2  4  6  8 10  7  9 11 13 15"
      ]
     },
     "metadata": {},
     "output_type": "display_data"
    },
    {
     "name": "stderr",
     "output_type": "stream",
     "text": [
      "Warning message in rep(x = 0, times = 10) + 1:3:\n",
      "“длина большего объекта не является произведением длины меньшего объекта”\n"
     ]
    },
    {
     "data": {
      "text/html": [
       "<ol class=list-inline>\n",
       "\t<li>1</li>\n",
       "\t<li>2</li>\n",
       "\t<li>3</li>\n",
       "\t<li>1</li>\n",
       "\t<li>2</li>\n",
       "\t<li>3</li>\n",
       "\t<li>1</li>\n",
       "\t<li>2</li>\n",
       "\t<li>3</li>\n",
       "\t<li>1</li>\n",
       "</ol>\n"
      ],
      "text/latex": [
       "\\begin{enumerate*}\n",
       "\\item 1\n",
       "\\item 2\n",
       "\\item 3\n",
       "\\item 1\n",
       "\\item 2\n",
       "\\item 3\n",
       "\\item 1\n",
       "\\item 2\n",
       "\\item 3\n",
       "\\item 1\n",
       "\\end{enumerate*}\n"
      ],
      "text/markdown": [
       "1. 1\n",
       "2. 2\n",
       "3. 3\n",
       "4. 1\n",
       "5. 2\n",
       "6. 3\n",
       "7. 1\n",
       "8. 2\n",
       "9. 3\n",
       "10. 1\n",
       "\n",
       "\n"
      ],
      "text/plain": [
       " [1] 1 2 3 1 2 3 1 2 3 1"
      ]
     },
     "metadata": {},
     "output_type": "display_data"
    }
   ],
   "source": [
    "1:10 + 1:5\n",
    "rep(x = 0, times = 10) + 1:3"
   ]
  },
  {
   "cell_type": "markdown",
   "metadata": {},
   "source": [
    "Описательные статистики"
   ]
  },
  {
   "cell_type": "code",
   "execution_count": 7,
   "metadata": {},
   "outputs": [
    {
     "data": {
      "text/html": [
       "55"
      ],
      "text/latex": [
       "55"
      ],
      "text/markdown": [
       "55"
      ],
      "text/plain": [
       "[1] 55"
      ]
     },
     "metadata": {},
     "output_type": "display_data"
    },
    {
     "data": {
      "text/html": [
       "1"
      ],
      "text/latex": [
       "1"
      ],
      "text/markdown": [
       "1"
      ],
      "text/plain": [
       "[1] 1"
      ]
     },
     "metadata": {},
     "output_type": "display_data"
    },
    {
     "data": {
      "text/html": [
       "10"
      ],
      "text/latex": [
       "10"
      ],
      "text/markdown": [
       "10"
      ],
      "text/plain": [
       "[1] 10"
      ]
     },
     "metadata": {},
     "output_type": "display_data"
    },
    {
     "data": {
      "text/html": [
       "5.5"
      ],
      "text/latex": [
       "5.5"
      ],
      "text/markdown": [
       "5.5"
      ],
      "text/plain": [
       "[1] 5.5"
      ]
     },
     "metadata": {},
     "output_type": "display_data"
    },
    {
     "data": {
      "text/html": [
       "9.16666666666667"
      ],
      "text/latex": [
       "9.16666666666667"
      ],
      "text/markdown": [
       "9.16666666666667"
      ],
      "text/plain": [
       "[1] 9.166667"
      ]
     },
     "metadata": {},
     "output_type": "display_data"
    },
    {
     "data": {
      "text/html": [
       "3.02765035409749"
      ],
      "text/latex": [
       "3.02765035409749"
      ],
      "text/markdown": [
       "3.02765035409749"
      ],
      "text/plain": [
       "[1] 3.02765"
      ]
     },
     "metadata": {},
     "output_type": "display_data"
    },
    {
     "data": {
      "text/html": [
       "5.5"
      ],
      "text/latex": [
       "5.5"
      ],
      "text/markdown": [
       "5.5"
      ],
      "text/plain": [
       "[1] 5.5"
      ]
     },
     "metadata": {},
     "output_type": "display_data"
    }
   ],
   "source": [
    "sum(1:10)\n",
    "min(1:10)\n",
    "max(1:10)\n",
    "mean(1:10)  # выборочное среднее\n",
    "var(1:10)  # выборочная дисперсия\n",
    "sd(1:10)  # выборочное стандартное отклонение\n",
    "median(1:10)  # выборочная медиана"
   ]
  },
  {
   "cell_type": "markdown",
   "metadata": {},
   "source": [
    "Индексы. Индексация происходит **с единицы**. В качестве индексов можно передавать вектор индексов. Можно передавать отрицательные индексы - означает \"все кроме\"."
   ]
  },
  {
   "cell_type": "code",
   "execution_count": 8,
   "metadata": {},
   "outputs": [
    {
     "data": {
      "text/html": [
       "<ol class=list-inline>\n",
       "\t<li>2</li>\n",
       "\t<li>5</li>\n",
       "\t<li>3</li>\n",
       "</ol>\n"
      ],
      "text/latex": [
       "\\begin{enumerate*}\n",
       "\\item 2\n",
       "\\item 5\n",
       "\\item 3\n",
       "\\end{enumerate*}\n"
      ],
      "text/markdown": [
       "1. 2\n",
       "2. 5\n",
       "3. 3\n",
       "\n",
       "\n"
      ],
      "text/plain": [
       "[1] 2 5 3"
      ]
     },
     "metadata": {},
     "output_type": "display_data"
    },
    {
     "data": {
      "text/html": [
       "<ol class=list-inline>\n",
       "\t<li>3</li>\n",
       "\t<li>4</li>\n",
       "\t<li>5</li>\n",
       "\t<li>6</li>\n",
       "</ol>\n"
      ],
      "text/latex": [
       "\\begin{enumerate*}\n",
       "\\item 3\n",
       "\\item 4\n",
       "\\item 5\n",
       "\\item 6\n",
       "\\end{enumerate*}\n"
      ],
      "text/markdown": [
       "1. 3\n",
       "2. 4\n",
       "3. 5\n",
       "4. 6\n",
       "\n",
       "\n"
      ],
      "text/plain": [
       "[1] 3 4 5 6"
      ]
     },
     "metadata": {},
     "output_type": "display_data"
    },
    {
     "data": {
      "text/html": [
       "<ol class=list-inline>\n",
       "\t<li>1</li>\n",
       "\t<li>4</li>\n",
       "\t<li>6</li>\n",
       "\t<li>7</li>\n",
       "\t<li>8</li>\n",
       "\t<li>9</li>\n",
       "\t<li>10</li>\n",
       "</ol>\n"
      ],
      "text/latex": [
       "\\begin{enumerate*}\n",
       "\\item 1\n",
       "\\item 4\n",
       "\\item 6\n",
       "\\item 7\n",
       "\\item 8\n",
       "\\item 9\n",
       "\\item 10\n",
       "\\end{enumerate*}\n"
      ],
      "text/markdown": [
       "1. 1\n",
       "2. 4\n",
       "3. 6\n",
       "4. 7\n",
       "5. 8\n",
       "6. 9\n",
       "7. 10\n",
       "\n",
       "\n"
      ],
      "text/plain": [
       "[1]  1  4  6  7  8  9 10"
      ]
     },
     "metadata": {},
     "output_type": "display_data"
    }
   ],
   "source": [
    "x <- 1:10\n",
    "x[c(2, 5, 3)]\n",
    "x[3:6]\n",
    "x[-c(2, 5, 3)]  # исключаются элементы с индексами 2,3,5"
   ]
  },
  {
   "cell_type": "markdown",
   "metadata": {},
   "source": [
    "**Упражнение.** Создайте векторы $(21, 22, ..., 33)$ и $(67, 64, ..., 43)$. Какова их длина? Можно ли их сложить поэлементно? Чему равны минимальный и максимальный элемент такой суммы?"
   ]
  },
  {
   "cell_type": "code",
   "execution_count": 9,
   "metadata": {},
   "outputs": [
    {
     "data": {
      "text/html": [
       "13"
      ],
      "text/latex": [
       "13"
      ],
      "text/markdown": [
       "13"
      ],
      "text/plain": [
       "[1] 13"
      ]
     },
     "metadata": {},
     "output_type": "display_data"
    },
    {
     "data": {
      "text/html": [
       "9"
      ],
      "text/latex": [
       "9"
      ],
      "text/markdown": [
       "9"
      ],
      "text/plain": [
       "[1] 9"
      ]
     },
     "metadata": {},
     "output_type": "display_data"
    },
    {
     "name": "stderr",
     "output_type": "stream",
     "text": [
      "Warning message in a + b:\n",
      "“длина большего объекта не является произведением длины меньшего объекта”\n"
     ]
    },
    {
     "data": {
      "text/html": [
       "<ol class=list-inline>\n",
       "\t<li>88</li>\n",
       "\t<li>86</li>\n",
       "\t<li>84</li>\n",
       "\t<li>82</li>\n",
       "\t<li>80</li>\n",
       "\t<li>78</li>\n",
       "\t<li>76</li>\n",
       "\t<li>74</li>\n",
       "\t<li>72</li>\n",
       "\t<li>97</li>\n",
       "\t<li>95</li>\n",
       "\t<li>93</li>\n",
       "\t<li>91</li>\n",
       "</ol>\n"
      ],
      "text/latex": [
       "\\begin{enumerate*}\n",
       "\\item 88\n",
       "\\item 86\n",
       "\\item 84\n",
       "\\item 82\n",
       "\\item 80\n",
       "\\item 78\n",
       "\\item 76\n",
       "\\item 74\n",
       "\\item 72\n",
       "\\item 97\n",
       "\\item 95\n",
       "\\item 93\n",
       "\\item 91\n",
       "\\end{enumerate*}\n"
      ],
      "text/markdown": [
       "1. 88\n",
       "2. 86\n",
       "3. 84\n",
       "4. 82\n",
       "5. 80\n",
       "6. 78\n",
       "7. 76\n",
       "8. 74\n",
       "9. 72\n",
       "10. 97\n",
       "11. 95\n",
       "12. 93\n",
       "13. 91\n",
       "\n",
       "\n"
      ],
      "text/plain": [
       " [1] 88 86 84 82 80 78 76 74 72 97 95 93 91"
      ]
     },
     "metadata": {},
     "output_type": "display_data"
    },
    {
     "data": {
      "text/html": [
       "<ol class=list-inline>\n",
       "\t<li>72</li>\n",
       "\t<li>97</li>\n",
       "</ol>\n"
      ],
      "text/latex": [
       "\\begin{enumerate*}\n",
       "\\item 72\n",
       "\\item 97\n",
       "\\end{enumerate*}\n"
      ],
      "text/markdown": [
       "1. 72\n",
       "2. 97\n",
       "\n",
       "\n"
      ],
      "text/plain": [
       "[1] 72 97"
      ]
     },
     "metadata": {},
     "output_type": "display_data"
    }
   ],
   "source": [
    "a <- 21:33\n",
    "b <- seq(from = 67, to = 43, by = -3)\n",
    "length(a)\n",
    "length(b)\n",
    "d <- a + b\n",
    "d\n",
    "c(min(d), max(d))"
   ]
  },
  {
   "cell_type": "markdown",
   "metadata": {},
   "source": [
    "### Матрицы\n",
    "\n",
    "Создание матриц. Как и раньше, если данных не хватает до требуемого размера матрицы, то они будут циклически размножены. Если же данных больше, то они будут обрезаны."
   ]
  },
  {
   "cell_type": "code",
   "execution_count": 10,
   "metadata": {},
   "outputs": [
    {
     "data": {
      "text/html": [
       "<table>\n",
       "<caption>A matrix: 2 × 3 of type int</caption>\n",
       "<tbody>\n",
       "\t<tr><td>1</td><td>3</td><td>5</td></tr>\n",
       "\t<tr><td>2</td><td>4</td><td>6</td></tr>\n",
       "</tbody>\n",
       "</table>\n"
      ],
      "text/latex": [
       "A matrix: 2 × 3 of type int\n",
       "\\begin{tabular}{lll}\n",
       "\t 1 & 3 & 5\\\\\n",
       "\t 2 & 4 & 6\\\\\n",
       "\\end{tabular}\n"
      ],
      "text/markdown": [
       "\n",
       "A matrix: 2 × 3 of type int\n",
       "\n",
       "| 1 | 3 | 5 |\n",
       "| 2 | 4 | 6 |\n",
       "\n"
      ],
      "text/plain": [
       "     [,1] [,2] [,3]\n",
       "[1,] 1    3    5   \n",
       "[2,] 2    4    6   "
      ]
     },
     "metadata": {},
     "output_type": "display_data"
    },
    {
     "name": "stderr",
     "output_type": "stream",
     "text": [
      "Warning message in matrix(1:5, nrow = 2, ncol = 4):\n",
      "“длина данных [5] не является множителем количества строк [2]”\n"
     ]
    },
    {
     "data": {
      "text/html": [
       "<table>\n",
       "<caption>A matrix: 2 × 4 of type int</caption>\n",
       "<tbody>\n",
       "\t<tr><td>1</td><td>3</td><td>5</td><td>2</td></tr>\n",
       "\t<tr><td>2</td><td>4</td><td>1</td><td>3</td></tr>\n",
       "</tbody>\n",
       "</table>\n"
      ],
      "text/latex": [
       "A matrix: 2 × 4 of type int\n",
       "\\begin{tabular}{llll}\n",
       "\t 1 & 3 & 5 & 2\\\\\n",
       "\t 2 & 4 & 1 & 3\\\\\n",
       "\\end{tabular}\n"
      ],
      "text/markdown": [
       "\n",
       "A matrix: 2 × 4 of type int\n",
       "\n",
       "| 1 | 3 | 5 | 2 |\n",
       "| 2 | 4 | 1 | 3 |\n",
       "\n"
      ],
      "text/plain": [
       "     [,1] [,2] [,3] [,4]\n",
       "[1,] 1    3    5    2   \n",
       "[2,] 2    4    1    3   "
      ]
     },
     "metadata": {},
     "output_type": "display_data"
    },
    {
     "name": "stderr",
     "output_type": "stream",
     "text": [
      "Warning message in matrix(1:5, nrow = 2, ncol = 4, byrow = TRUE):\n",
      "“длина данных [5] не является множителем количества строк [2]”\n"
     ]
    },
    {
     "data": {
      "text/html": [
       "<table>\n",
       "<caption>A matrix: 2 × 4 of type int</caption>\n",
       "<tbody>\n",
       "\t<tr><td>1</td><td>2</td><td>3</td><td>4</td></tr>\n",
       "\t<tr><td>5</td><td>1</td><td>2</td><td>3</td></tr>\n",
       "</tbody>\n",
       "</table>\n"
      ],
      "text/latex": [
       "A matrix: 2 × 4 of type int\n",
       "\\begin{tabular}{llll}\n",
       "\t 1 & 2 & 3 & 4\\\\\n",
       "\t 5 & 1 & 2 & 3\\\\\n",
       "\\end{tabular}\n"
      ],
      "text/markdown": [
       "\n",
       "A matrix: 2 × 4 of type int\n",
       "\n",
       "| 1 | 2 | 3 | 4 |\n",
       "| 5 | 1 | 2 | 3 |\n",
       "\n"
      ],
      "text/plain": [
       "     [,1] [,2] [,3] [,4]\n",
       "[1,] 1    2    3    4   \n",
       "[2,] 5    1    2    3   "
      ]
     },
     "metadata": {},
     "output_type": "display_data"
    },
    {
     "name": "stderr",
     "output_type": "stream",
     "text": [
      "Warning message in matrix(1:50, nrow = 2, ncol = 4):\n",
      "“длина данных [50] не является множителем количества столбцов [4]”\n"
     ]
    },
    {
     "data": {
      "text/html": [
       "<table>\n",
       "<caption>A matrix: 2 × 4 of type int</caption>\n",
       "<tbody>\n",
       "\t<tr><td>1</td><td>3</td><td>5</td><td>7</td></tr>\n",
       "\t<tr><td>2</td><td>4</td><td>6</td><td>8</td></tr>\n",
       "</tbody>\n",
       "</table>\n"
      ],
      "text/latex": [
       "A matrix: 2 × 4 of type int\n",
       "\\begin{tabular}{llll}\n",
       "\t 1 & 3 & 5 & 7\\\\\n",
       "\t 2 & 4 & 6 & 8\\\\\n",
       "\\end{tabular}\n"
      ],
      "text/markdown": [
       "\n",
       "A matrix: 2 × 4 of type int\n",
       "\n",
       "| 1 | 3 | 5 | 7 |\n",
       "| 2 | 4 | 6 | 8 |\n",
       "\n"
      ],
      "text/plain": [
       "     [,1] [,2] [,3] [,4]\n",
       "[1,] 1    3    5    7   \n",
       "[2,] 2    4    6    8   "
      ]
     },
     "metadata": {},
     "output_type": "display_data"
    }
   ],
   "source": [
    "matrix(1:6, nrow = 2)\n",
    "matrix(1:5, nrow = 2, ncol = 4)  # заполнение по столбцам\n",
    "matrix(1:5, nrow = 2, ncol = 4, byrow = TRUE)  # заполнение по строкам\n",
    "matrix(1:50, nrow = 2, ncol = 4)"
   ]
  },
  {
   "cell_type": "code",
   "execution_count": 11,
   "metadata": {},
   "outputs": [
    {
     "name": "stdout",
     "output_type": "stream",
     "text": [
      "     [,1] [,2] [,3] [,4] [,5]\n",
      "[1,]    1    5    9   13   17\n",
      "[2,]    2    6   10   14   18\n",
      "[3,]    3    7   11   15   19\n",
      "[4,]    4    8   12   16   20\n"
     ]
    }
   ],
   "source": [
    "x <- matrix(1:20, nrow=4)\n",
    "print(x)"
   ]
  },
  {
   "cell_type": "markdown",
   "metadata": {},
   "source": [
    "Индексация в матрицах"
   ]
  },
  {
   "cell_type": "code",
   "execution_count": 12,
   "metadata": {},
   "outputs": [
    {
     "data": {
      "text/html": [
       "<ol class=list-inline>\n",
       "\t<li>1</li>\n",
       "\t<li>5</li>\n",
       "\t<li>9</li>\n",
       "\t<li>13</li>\n",
       "\t<li>17</li>\n",
       "</ol>\n"
      ],
      "text/latex": [
       "\\begin{enumerate*}\n",
       "\\item 1\n",
       "\\item 5\n",
       "\\item 9\n",
       "\\item 13\n",
       "\\item 17\n",
       "\\end{enumerate*}\n"
      ],
      "text/markdown": [
       "1. 1\n",
       "2. 5\n",
       "3. 9\n",
       "4. 13\n",
       "5. 17\n",
       "\n",
       "\n"
      ],
      "text/plain": [
       "[1]  1  5  9 13 17"
      ]
     },
     "metadata": {},
     "output_type": "display_data"
    },
    {
     "data": {
      "text/html": [
       "<ol class=list-inline>\n",
       "\t<li>1</li>\n",
       "\t<li>2</li>\n",
       "\t<li>3</li>\n",
       "\t<li>4</li>\n",
       "</ol>\n"
      ],
      "text/latex": [
       "\\begin{enumerate*}\n",
       "\\item 1\n",
       "\\item 2\n",
       "\\item 3\n",
       "\\item 4\n",
       "\\end{enumerate*}\n"
      ],
      "text/markdown": [
       "1. 1\n",
       "2. 2\n",
       "3. 3\n",
       "4. 4\n",
       "\n",
       "\n"
      ],
      "text/plain": [
       "[1] 1 2 3 4"
      ]
     },
     "metadata": {},
     "output_type": "display_data"
    },
    {
     "data": {
      "text/html": [
       "1"
      ],
      "text/latex": [
       "1"
      ],
      "text/markdown": [
       "1"
      ],
      "text/plain": [
       "[1] 1"
      ]
     },
     "metadata": {},
     "output_type": "display_data"
    },
    {
     "data": {
      "text/html": [
       "<table>\n",
       "<caption>A matrix: 2 × 3 of type int</caption>\n",
       "<tbody>\n",
       "\t<tr><td>6</td><td>10</td><td>14</td></tr>\n",
       "\t<tr><td>7</td><td>11</td><td>15</td></tr>\n",
       "</tbody>\n",
       "</table>\n"
      ],
      "text/latex": [
       "A matrix: 2 × 3 of type int\n",
       "\\begin{tabular}{lll}\n",
       "\t 6 & 10 & 14\\\\\n",
       "\t 7 & 11 & 15\\\\\n",
       "\\end{tabular}\n"
      ],
      "text/markdown": [
       "\n",
       "A matrix: 2 × 3 of type int\n",
       "\n",
       "| 6 | 10 | 14 |\n",
       "| 7 | 11 | 15 |\n",
       "\n"
      ],
      "text/plain": [
       "     [,1] [,2] [,3]\n",
       "[1,] 6    10   14  \n",
       "[2,] 7    11   15  "
      ]
     },
     "metadata": {},
     "output_type": "display_data"
    },
    {
     "data": {
      "text/html": [
       "<table>\n",
       "<caption>A matrix: 2 × 2 of type int</caption>\n",
       "<tbody>\n",
       "\t<tr><td>5</td><td>17</td></tr>\n",
       "\t<tr><td>8</td><td>20</td></tr>\n",
       "</tbody>\n",
       "</table>\n"
      ],
      "text/latex": [
       "A matrix: 2 × 2 of type int\n",
       "\\begin{tabular}{ll}\n",
       "\t 5 & 17\\\\\n",
       "\t 8 & 20\\\\\n",
       "\\end{tabular}\n"
      ],
      "text/markdown": [
       "\n",
       "A matrix: 2 × 2 of type int\n",
       "\n",
       "| 5 | 17 |\n",
       "| 8 | 20 |\n",
       "\n"
      ],
      "text/plain": [
       "     [,1] [,2]\n",
       "[1,] 5    17  \n",
       "[2,] 8    20  "
      ]
     },
     "metadata": {},
     "output_type": "display_data"
    },
    {
     "data": {
      "text/html": [
       "<table>\n",
       "<caption>A matrix: 2 × 2 of type int</caption>\n",
       "<tbody>\n",
       "\t<tr><td>6</td><td>18</td></tr>\n",
       "\t<tr><td>7</td><td>19</td></tr>\n",
       "</tbody>\n",
       "</table>\n"
      ],
      "text/latex": [
       "A matrix: 2 × 2 of type int\n",
       "\\begin{tabular}{ll}\n",
       "\t 6 & 18\\\\\n",
       "\t 7 & 19\\\\\n",
       "\\end{tabular}\n"
      ],
      "text/markdown": [
       "\n",
       "A matrix: 2 × 2 of type int\n",
       "\n",
       "| 6 | 18 |\n",
       "| 7 | 19 |\n",
       "\n"
      ],
      "text/plain": [
       "     [,1] [,2]\n",
       "[1,] 6    18  \n",
       "[2,] 7    19  "
      ]
     },
     "metadata": {},
     "output_type": "display_data"
    }
   ],
   "source": [
    "x[1,]  # первая строка\n",
    "x[,1]  # первый столбец\n",
    "x[1, 1]  # первый элемент\n",
    "\n",
    "# подматрицы\n",
    "x[2:3, 2:4]\n",
    "x[c(1, 4), c(2, 5)]\n",
    "x[-c(1, 4), c(2, 5)]"
   ]
  },
  {
   "cell_type": "markdown",
   "metadata": {},
   "source": [
    "Если передать просто индекс, то матрица сначала как бы преобразуется в вектор, из которого будет взят соответствующий элемент"
   ]
  },
  {
   "cell_type": "code",
   "execution_count": 13,
   "metadata": {},
   "outputs": [
    {
     "data": {
      "text/html": [
       "10"
      ],
      "text/latex": [
       "10"
      ],
      "text/markdown": [
       "10"
      ],
      "text/plain": [
       "[1] 10"
      ]
     },
     "metadata": {},
     "output_type": "display_data"
    },
    {
     "data": {
      "text/html": [
       "<ol class=list-inline>\n",
       "\t<li>1</li>\n",
       "\t<li>2</li>\n",
       "\t<li>3</li>\n",
       "\t<li>4</li>\n",
       "\t<li>5</li>\n",
       "\t<li>6</li>\n",
       "\t<li>7</li>\n",
       "\t<li>8</li>\n",
       "\t<li>9</li>\n",
       "\t<li>11</li>\n",
       "\t<li>12</li>\n",
       "\t<li>13</li>\n",
       "\t<li>14</li>\n",
       "\t<li>15</li>\n",
       "\t<li>16</li>\n",
       "\t<li>17</li>\n",
       "\t<li>18</li>\n",
       "\t<li>19</li>\n",
       "\t<li>20</li>\n",
       "</ol>\n"
      ],
      "text/latex": [
       "\\begin{enumerate*}\n",
       "\\item 1\n",
       "\\item 2\n",
       "\\item 3\n",
       "\\item 4\n",
       "\\item 5\n",
       "\\item 6\n",
       "\\item 7\n",
       "\\item 8\n",
       "\\item 9\n",
       "\\item 11\n",
       "\\item 12\n",
       "\\item 13\n",
       "\\item 14\n",
       "\\item 15\n",
       "\\item 16\n",
       "\\item 17\n",
       "\\item 18\n",
       "\\item 19\n",
       "\\item 20\n",
       "\\end{enumerate*}\n"
      ],
      "text/markdown": [
       "1. 1\n",
       "2. 2\n",
       "3. 3\n",
       "4. 4\n",
       "5. 5\n",
       "6. 6\n",
       "7. 7\n",
       "8. 8\n",
       "9. 9\n",
       "10. 11\n",
       "11. 12\n",
       "12. 13\n",
       "13. 14\n",
       "14. 15\n",
       "15. 16\n",
       "16. 17\n",
       "17. 18\n",
       "18. 19\n",
       "19. 20\n",
       "\n",
       "\n"
      ],
      "text/plain": [
       " [1]  1  2  3  4  5  6  7  8  9 11 12 13 14 15 16 17 18 19 20"
      ]
     },
     "metadata": {},
     "output_type": "display_data"
    }
   ],
   "source": [
    "x[10]\n",
    "x[-10]"
   ]
  },
  {
   "cell_type": "markdown",
   "metadata": {},
   "source": [
    "Конкатенация матриц"
   ]
  },
  {
   "cell_type": "code",
   "execution_count": 14,
   "metadata": {},
   "outputs": [
    {
     "data": {
      "text/html": [
       "<table>\n",
       "<caption>A matrix: 2 × 5 of type int</caption>\n",
       "<tbody>\n",
       "\t<tr><td>1</td><td>3</td><td>5</td><td>7</td><td> 9</td></tr>\n",
       "\t<tr><td>2</td><td>4</td><td>6</td><td>8</td><td>10</td></tr>\n",
       "</tbody>\n",
       "</table>\n"
      ],
      "text/latex": [
       "A matrix: 2 × 5 of type int\n",
       "\\begin{tabular}{lllll}\n",
       "\t 1 & 3 & 5 & 7 &  9\\\\\n",
       "\t 2 & 4 & 6 & 8 & 10\\\\\n",
       "\\end{tabular}\n"
      ],
      "text/markdown": [
       "\n",
       "A matrix: 2 × 5 of type int\n",
       "\n",
       "| 1 | 3 | 5 | 7 |  9 |\n",
       "| 2 | 4 | 6 | 8 | 10 |\n",
       "\n"
      ],
      "text/plain": [
       "     [,1] [,2] [,3] [,4] [,5]\n",
       "[1,] 1    3    5    7     9  \n",
       "[2,] 2    4    6    8    10  "
      ]
     },
     "metadata": {},
     "output_type": "display_data"
    },
    {
     "data": {
      "text/html": [
       "<table>\n",
       "<caption>A matrix: 2 × 5 of type int</caption>\n",
       "<tbody>\n",
       "\t<tr><td>11</td><td>13</td><td>15</td><td>17</td><td>19</td></tr>\n",
       "\t<tr><td>12</td><td>14</td><td>16</td><td>18</td><td>20</td></tr>\n",
       "</tbody>\n",
       "</table>\n"
      ],
      "text/latex": [
       "A matrix: 2 × 5 of type int\n",
       "\\begin{tabular}{lllll}\n",
       "\t 11 & 13 & 15 & 17 & 19\\\\\n",
       "\t 12 & 14 & 16 & 18 & 20\\\\\n",
       "\\end{tabular}\n"
      ],
      "text/markdown": [
       "\n",
       "A matrix: 2 × 5 of type int\n",
       "\n",
       "| 11 | 13 | 15 | 17 | 19 |\n",
       "| 12 | 14 | 16 | 18 | 20 |\n",
       "\n"
      ],
      "text/plain": [
       "     [,1] [,2] [,3] [,4] [,5]\n",
       "[1,] 11   13   15   17   19  \n",
       "[2,] 12   14   16   18   20  "
      ]
     },
     "metadata": {},
     "output_type": "display_data"
    }
   ],
   "source": [
    "x <- matrix(1:10, nrow = 2)\n",
    "y <- matrix(11:20, nrow = 2)\n",
    "x\n",
    "y"
   ]
  },
  {
   "cell_type": "code",
   "execution_count": 15,
   "metadata": {},
   "outputs": [
    {
     "data": {
      "text/html": [
       "<table>\n",
       "<caption>A matrix: 4 × 5 of type int</caption>\n",
       "<tbody>\n",
       "\t<tr><td> 1</td><td> 3</td><td> 5</td><td> 7</td><td> 9</td></tr>\n",
       "\t<tr><td> 2</td><td> 4</td><td> 6</td><td> 8</td><td>10</td></tr>\n",
       "\t<tr><td>11</td><td>13</td><td>15</td><td>17</td><td>19</td></tr>\n",
       "\t<tr><td>12</td><td>14</td><td>16</td><td>18</td><td>20</td></tr>\n",
       "</tbody>\n",
       "</table>\n"
      ],
      "text/latex": [
       "A matrix: 4 × 5 of type int\n",
       "\\begin{tabular}{lllll}\n",
       "\t  1 &  3 &  5 &  7 &  9\\\\\n",
       "\t  2 &  4 &  6 &  8 & 10\\\\\n",
       "\t 11 & 13 & 15 & 17 & 19\\\\\n",
       "\t 12 & 14 & 16 & 18 & 20\\\\\n",
       "\\end{tabular}\n"
      ],
      "text/markdown": [
       "\n",
       "A matrix: 4 × 5 of type int\n",
       "\n",
       "|  1 |  3 |  5 |  7 |  9 |\n",
       "|  2 |  4 |  6 |  8 | 10 |\n",
       "| 11 | 13 | 15 | 17 | 19 |\n",
       "| 12 | 14 | 16 | 18 | 20 |\n",
       "\n"
      ],
      "text/plain": [
       "     [,1] [,2] [,3] [,4] [,5]\n",
       "[1,]  1    3    5    7    9  \n",
       "[2,]  2    4    6    8   10  \n",
       "[3,] 11   13   15   17   19  \n",
       "[4,] 12   14   16   18   20  "
      ]
     },
     "metadata": {},
     "output_type": "display_data"
    },
    {
     "data": {
      "text/html": [
       "<table>\n",
       "<caption>A matrix: 2 × 10 of type int</caption>\n",
       "<tbody>\n",
       "\t<tr><td>1</td><td>3</td><td>5</td><td>7</td><td> 9</td><td>11</td><td>13</td><td>15</td><td>17</td><td>19</td></tr>\n",
       "\t<tr><td>2</td><td>4</td><td>6</td><td>8</td><td>10</td><td>12</td><td>14</td><td>16</td><td>18</td><td>20</td></tr>\n",
       "</tbody>\n",
       "</table>\n"
      ],
      "text/latex": [
       "A matrix: 2 × 10 of type int\n",
       "\\begin{tabular}{llllllllll}\n",
       "\t 1 & 3 & 5 & 7 &  9 & 11 & 13 & 15 & 17 & 19\\\\\n",
       "\t 2 & 4 & 6 & 8 & 10 & 12 & 14 & 16 & 18 & 20\\\\\n",
       "\\end{tabular}\n"
      ],
      "text/markdown": [
       "\n",
       "A matrix: 2 × 10 of type int\n",
       "\n",
       "| 1 | 3 | 5 | 7 |  9 | 11 | 13 | 15 | 17 | 19 |\n",
       "| 2 | 4 | 6 | 8 | 10 | 12 | 14 | 16 | 18 | 20 |\n",
       "\n"
      ],
      "text/plain": [
       "     [,1] [,2] [,3] [,4] [,5] [,6] [,7] [,8] [,9] [,10]\n",
       "[1,] 1    3    5    7     9   11   13   15   17   19   \n",
       "[2,] 2    4    6    8    10   12   14   16   18   20   "
      ]
     },
     "metadata": {},
     "output_type": "display_data"
    }
   ],
   "source": [
    "rbind(x, y)  # по строкам\n",
    "cbind(x, y)  # по столбцам"
   ]
  },
  {
   "cell_type": "markdown",
   "metadata": {},
   "source": [
    "**Упражнение.** Создайте матрицу $\\begin{pmatrix} 1 & 4 & 9 \\\\ 16 & 25 & 36 \\\\ 49 & 64 & 81\\end{pmatrix}$. Сложите верхнюю левую матрицу 2x2 с матрицей, образованной 1 и 3 строками и 2 и 3 столбцами. Эти две матрицы также сконкатенируйте разными способами."
   ]
  },
  {
   "cell_type": "code",
   "execution_count": 16,
   "metadata": {},
   "outputs": [
    {
     "data": {
      "text/html": [
       "<table>\n",
       "<caption>A matrix: 3 × 3 of type dbl</caption>\n",
       "<tbody>\n",
       "\t<tr><td> 1</td><td> 4</td><td> 9</td></tr>\n",
       "\t<tr><td>16</td><td>25</td><td>36</td></tr>\n",
       "\t<tr><td>49</td><td>64</td><td>81</td></tr>\n",
       "</tbody>\n",
       "</table>\n"
      ],
      "text/latex": [
       "A matrix: 3 × 3 of type dbl\n",
       "\\begin{tabular}{lll}\n",
       "\t  1 &  4 &  9\\\\\n",
       "\t 16 & 25 & 36\\\\\n",
       "\t 49 & 64 & 81\\\\\n",
       "\\end{tabular}\n"
      ],
      "text/markdown": [
       "\n",
       "A matrix: 3 × 3 of type dbl\n",
       "\n",
       "|  1 |  4 |  9 |\n",
       "| 16 | 25 | 36 |\n",
       "| 49 | 64 | 81 |\n",
       "\n"
      ],
      "text/plain": [
       "     [,1] [,2] [,3]\n",
       "[1,]  1    4    9  \n",
       "[2,] 16   25   36  \n",
       "[3,] 49   64   81  "
      ]
     },
     "metadata": {},
     "output_type": "display_data"
    }
   ],
   "source": [
    "A <- matrix((1:9)^2, nrow = 3, byrow = TRUE)\n",
    "A"
   ]
  },
  {
   "cell_type": "code",
   "execution_count": 17,
   "metadata": {},
   "outputs": [
    {
     "data": {
      "text/html": [
       "<table>\n",
       "<caption>A matrix: 2 × 2 of type dbl</caption>\n",
       "<tbody>\n",
       "\t<tr><td> 5</td><td> 13</td></tr>\n",
       "\t<tr><td>80</td><td>106</td></tr>\n",
       "</tbody>\n",
       "</table>\n"
      ],
      "text/latex": [
       "A matrix: 2 × 2 of type dbl\n",
       "\\begin{tabular}{ll}\n",
       "\t  5 &  13\\\\\n",
       "\t 80 & 106\\\\\n",
       "\\end{tabular}\n"
      ],
      "text/markdown": [
       "\n",
       "A matrix: 2 × 2 of type dbl\n",
       "\n",
       "|  5 |  13 |\n",
       "| 80 | 106 |\n",
       "\n"
      ],
      "text/plain": [
       "     [,1] [,2]\n",
       "[1,]  5    13 \n",
       "[2,] 80   106 "
      ]
     },
     "metadata": {},
     "output_type": "display_data"
    }
   ],
   "source": [
    "B <- A[1:2, 1:2]\n",
    "C <- A[-2, -1]\n",
    "B + C"
   ]
  },
  {
   "cell_type": "code",
   "execution_count": 18,
   "metadata": {},
   "outputs": [
    {
     "data": {
      "text/html": [
       "<table>\n",
       "<caption>A matrix: 4 × 2 of type dbl</caption>\n",
       "<tbody>\n",
       "\t<tr><td> 1</td><td> 4</td></tr>\n",
       "\t<tr><td>16</td><td>25</td></tr>\n",
       "\t<tr><td> 4</td><td> 9</td></tr>\n",
       "\t<tr><td>64</td><td>81</td></tr>\n",
       "</tbody>\n",
       "</table>\n"
      ],
      "text/latex": [
       "A matrix: 4 × 2 of type dbl\n",
       "\\begin{tabular}{ll}\n",
       "\t  1 &  4\\\\\n",
       "\t 16 & 25\\\\\n",
       "\t  4 &  9\\\\\n",
       "\t 64 & 81\\\\\n",
       "\\end{tabular}\n"
      ],
      "text/markdown": [
       "\n",
       "A matrix: 4 × 2 of type dbl\n",
       "\n",
       "|  1 |  4 |\n",
       "| 16 | 25 |\n",
       "|  4 |  9 |\n",
       "| 64 | 81 |\n",
       "\n"
      ],
      "text/plain": [
       "     [,1] [,2]\n",
       "[1,]  1    4  \n",
       "[2,] 16   25  \n",
       "[3,]  4    9  \n",
       "[4,] 64   81  "
      ]
     },
     "metadata": {},
     "output_type": "display_data"
    },
    {
     "data": {
      "text/html": [
       "<table>\n",
       "<caption>A matrix: 2 × 4 of type dbl</caption>\n",
       "<tbody>\n",
       "\t<tr><td> 1</td><td> 4</td><td> 4</td><td> 9</td></tr>\n",
       "\t<tr><td>16</td><td>25</td><td>64</td><td>81</td></tr>\n",
       "</tbody>\n",
       "</table>\n"
      ],
      "text/latex": [
       "A matrix: 2 × 4 of type dbl\n",
       "\\begin{tabular}{llll}\n",
       "\t  1 &  4 &  4 &  9\\\\\n",
       "\t 16 & 25 & 64 & 81\\\\\n",
       "\\end{tabular}\n"
      ],
      "text/markdown": [
       "\n",
       "A matrix: 2 × 4 of type dbl\n",
       "\n",
       "|  1 |  4 |  4 |  9 |\n",
       "| 16 | 25 | 64 | 81 |\n",
       "\n"
      ],
      "text/plain": [
       "     [,1] [,2] [,3] [,4]\n",
       "[1,]  1    4    4    9  \n",
       "[2,] 16   25   64   81  "
      ]
     },
     "metadata": {},
     "output_type": "display_data"
    }
   ],
   "source": [
    "rbind(B, C)\n",
    "cbind(B, C)"
   ]
  },
  {
   "cell_type": "markdown",
   "metadata": {},
   "source": [
    "### Остальное\n",
    "\n",
    "Логические операторы"
   ]
  },
  {
   "cell_type": "code",
   "execution_count": 19,
   "metadata": {},
   "outputs": [
    {
     "data": {
      "text/html": [
       "TRUE"
      ],
      "text/latex": [
       "TRUE"
      ],
      "text/markdown": [
       "TRUE"
      ],
      "text/plain": [
       "[1] TRUE"
      ]
     },
     "metadata": {},
     "output_type": "display_data"
    },
    {
     "data": {
      "text/html": [
       "FALSE"
      ],
      "text/latex": [
       "FALSE"
      ],
      "text/markdown": [
       "FALSE"
      ],
      "text/plain": [
       "[1] FALSE"
      ]
     },
     "metadata": {},
     "output_type": "display_data"
    },
    {
     "data": {
      "text/html": [
       "TRUE"
      ],
      "text/latex": [
       "TRUE"
      ],
      "text/markdown": [
       "TRUE"
      ],
      "text/plain": [
       "[1] TRUE"
      ]
     },
     "metadata": {},
     "output_type": "display_data"
    }
   ],
   "source": [
    "1 < 2\n",
    "1 > 2\n",
    "TRUE"
   ]
  },
  {
   "cell_type": "markdown",
   "metadata": {},
   "source": [
    "Условный оператор"
   ]
  },
  {
   "cell_type": "code",
   "execution_count": 20,
   "metadata": {},
   "outputs": [
    {
     "name": "stdout",
     "output_type": "stream",
     "text": [
      "[1] \"false\"\n"
     ]
    }
   ],
   "source": [
    "if (1 > 2) {\n",
    "    print('true')\n",
    "} else {\n",
    "    print('false')\n",
    "}"
   ]
  },
  {
   "cell_type": "markdown",
   "metadata": {},
   "source": [
    "Циклы"
   ]
  },
  {
   "cell_type": "code",
   "execution_count": 21,
   "metadata": {},
   "outputs": [
    {
     "name": "stdout",
     "output_type": "stream",
     "text": [
      "[1] 55\n"
     ]
    }
   ],
   "source": [
    "s <- 0\n",
    "for (i in 1:10) {\n",
    "    s <- s + i\n",
    "}\n",
    "print(s)"
   ]
  },
  {
   "cell_type": "markdown",
   "metadata": {},
   "source": [
    "Функции"
   ]
  },
  {
   "cell_type": "code",
   "execution_count": 22,
   "metadata": {},
   "outputs": [
    {
     "data": {
      "text/html": [
       "7"
      ],
      "text/latex": [
       "7"
      ],
      "text/markdown": [
       "7"
      ],
      "text/plain": [
       "[1] 7"
      ]
     },
     "metadata": {},
     "output_type": "display_data"
    }
   ],
   "source": [
    "f <- function(x, y, z) {\n",
    "    s <- x + y * z\n",
    "    return(s)\n",
    "}\n",
    "\n",
    "f(1, 2, 3)"
   ]
  },
  {
   "cell_type": "markdown",
   "metadata": {},
   "source": [
    "### Вероятностные распределения\n",
    "\n",
    "<img src=\"./pic/distr.png\">\n",
    "\n",
    "Как использовать? Пусть *`name`* - имя распределения в R.\n",
    "\n",
    "* `d`*`name`* --- плотность (pdf)\n",
    "* `p`*`name`* --- функция распределения (cdf)\n",
    "* `q`*`name`* --- квантили (ppf)\n",
    "* `r`*`name`* --- генерация выборки (rvs)\n",
    "\n",
    "Другие параметры:\n",
    "* `log` и `log.p` --- вычисления логарифмах\n",
    "* `lower.tail` --- левостороннее накопление\n",
    "\n",
    "Например, `p`*`name`*`(x, ..., lower.tail = FALSE, log.p = TRUE)` вернет $\\log(1 - F(x))$, где $F(x)$ --- функция распределения."
   ]
  },
  {
   "cell_type": "code",
   "execution_count": 23,
   "metadata": {},
   "outputs": [
    {
     "data": {
      "text/html": [
       "<pre class=language-r><code>function (x, mean = 0, sd = 1, log = FALSE) \n",
       ".Call(C_dnorm, x, mean, sd, log)</code></pre>"
      ],
      "text/latex": [
       "\\begin{minted}{r}\n",
       "function (x, mean = 0, sd = 1, log = FALSE) \n",
       ".Call(C\\_dnorm, x, mean, sd, log)\n",
       "\\end{minted}"
      ],
      "text/markdown": [
       "```r\n",
       "function (x, mean = 0, sd = 1, log = FALSE) \n",
       ".Call(C_dnorm, x, mean, sd, log)\n",
       "```"
      ],
      "text/plain": [
       "function (x, mean = 0, sd = 1, log = FALSE) \n",
       ".Call(C_dnorm, x, mean, sd, log)\n",
       "<bytecode: 0x55902c352498>\n",
       "<environment: namespace:stats>"
      ]
     },
     "metadata": {},
     "output_type": "display_data"
    },
    {
     "data": {
      "text/html": [
       "<pre class=language-r><code>function (q, mean = 0, sd = 1, lower.tail = TRUE, log.p = FALSE) \n",
       ".Call(C_pnorm, q, mean, sd, lower.tail, log.p)</code></pre>"
      ],
      "text/latex": [
       "\\begin{minted}{r}\n",
       "function (q, mean = 0, sd = 1, lower.tail = TRUE, log.p = FALSE) \n",
       ".Call(C\\_pnorm, q, mean, sd, lower.tail, log.p)\n",
       "\\end{minted}"
      ],
      "text/markdown": [
       "```r\n",
       "function (q, mean = 0, sd = 1, lower.tail = TRUE, log.p = FALSE) \n",
       ".Call(C_pnorm, q, mean, sd, lower.tail, log.p)\n",
       "```"
      ],
      "text/plain": [
       "function (q, mean = 0, sd = 1, lower.tail = TRUE, log.p = FALSE) \n",
       ".Call(C_pnorm, q, mean, sd, lower.tail, log.p)\n",
       "<bytecode: 0x55902c49b518>\n",
       "<environment: namespace:stats>"
      ]
     },
     "metadata": {},
     "output_type": "display_data"
    },
    {
     "data": {
      "text/html": [
       "<pre class=language-r><code>function (p, mean = 0, sd = 1, lower.tail = TRUE, log.p = FALSE) \n",
       ".Call(C_qnorm, p, mean, sd, lower.tail, log.p)</code></pre>"
      ],
      "text/latex": [
       "\\begin{minted}{r}\n",
       "function (p, mean = 0, sd = 1, lower.tail = TRUE, log.p = FALSE) \n",
       ".Call(C\\_qnorm, p, mean, sd, lower.tail, log.p)\n",
       "\\end{minted}"
      ],
      "text/markdown": [
       "```r\n",
       "function (p, mean = 0, sd = 1, lower.tail = TRUE, log.p = FALSE) \n",
       ".Call(C_qnorm, p, mean, sd, lower.tail, log.p)\n",
       "```"
      ],
      "text/plain": [
       "function (p, mean = 0, sd = 1, lower.tail = TRUE, log.p = FALSE) \n",
       ".Call(C_qnorm, p, mean, sd, lower.tail, log.p)\n",
       "<bytecode: 0x55902c5e7178>\n",
       "<environment: namespace:stats>"
      ]
     },
     "metadata": {},
     "output_type": "display_data"
    },
    {
     "data": {
      "text/html": [
       "<pre class=language-r><code>function (n, mean = 0, sd = 1) \n",
       ".Call(C_rnorm, n, mean, sd)</code></pre>"
      ],
      "text/latex": [
       "\\begin{minted}{r}\n",
       "function (n, mean = 0, sd = 1) \n",
       ".Call(C\\_rnorm, n, mean, sd)\n",
       "\\end{minted}"
      ],
      "text/markdown": [
       "```r\n",
       "function (n, mean = 0, sd = 1) \n",
       ".Call(C_rnorm, n, mean, sd)\n",
       "```"
      ],
      "text/plain": [
       "function (n, mean = 0, sd = 1) \n",
       ".Call(C_rnorm, n, mean, sd)\n",
       "<bytecode: 0x55902c734c08>\n",
       "<environment: namespace:stats>"
      ]
     },
     "metadata": {},
     "output_type": "display_data"
    }
   ],
   "source": [
    "dnorm\n",
    "pnorm\n",
    "qnorm\n",
    "rnorm"
   ]
  },
  {
   "cell_type": "code",
   "execution_count": 24,
   "metadata": {},
   "outputs": [
    {
     "data": {
      "text/html": [
       "<ol class=list-inline>\n",
       "\t<li>-2.14678563081019</li>\n",
       "\t<li>-0.99796299360256</li>\n",
       "\t<li>-1.54369202108689</li>\n",
       "\t<li>0.463497539613111</li>\n",
       "\t<li>-2.14812142745174</li>\n",
       "\t<li>0.210975388261784</li>\n",
       "\t<li>1.10609475422221</li>\n",
       "\t<li>-0.919236184128946</li>\n",
       "\t<li>0.175688956508896</li>\n",
       "\t<li>-0.630129024762095</li>\n",
       "</ol>\n"
      ],
      "text/latex": [
       "\\begin{enumerate*}\n",
       "\\item -2.14678563081019\n",
       "\\item -0.99796299360256\n",
       "\\item -1.54369202108689\n",
       "\\item 0.463497539613111\n",
       "\\item -2.14812142745174\n",
       "\\item 0.210975388261784\n",
       "\\item 1.10609475422221\n",
       "\\item -0.919236184128946\n",
       "\\item 0.175688956508896\n",
       "\\item -0.630129024762095\n",
       "\\end{enumerate*}\n"
      ],
      "text/markdown": [
       "1. -2.14678563081019\n",
       "2. -0.99796299360256\n",
       "3. -1.54369202108689\n",
       "4. 0.463497539613111\n",
       "5. -2.14812142745174\n",
       "6. 0.210975388261784\n",
       "7. 1.10609475422221\n",
       "8. -0.919236184128946\n",
       "9. 0.175688956508896\n",
       "10. -0.630129024762095\n",
       "\n",
       "\n"
      ],
      "text/plain": [
       " [1] -2.1467856 -0.9979630 -1.5436920  0.4634975 -2.1481214  0.2109754\n",
       " [7]  1.1060948 -0.9192362  0.1756890 -0.6301290"
      ]
     },
     "metadata": {},
     "output_type": "display_data"
    }
   ],
   "source": [
    "x <- rnorm(n = 10)\n",
    "x"
   ]
  },
  {
   "cell_type": "code",
   "execution_count": 25,
   "metadata": {},
   "outputs": [
    {
     "data": {
      "text/html": [
       "0.398942280401433"
      ],
      "text/latex": [
       "0.398942280401433"
      ],
      "text/markdown": [
       "0.398942280401433"
      ],
      "text/plain": [
       "[1] 0.3989423"
      ]
     },
     "metadata": {},
     "output_type": "display_data"
    },
    {
     "data": {
      "text/html": [
       "0.241970724519143"
      ],
      "text/latex": [
       "0.241970724519143"
      ],
      "text/markdown": [
       "0.241970724519143"
      ],
      "text/plain": [
       "[1] 0.2419707"
      ]
     },
     "metadata": {},
     "output_type": "display_data"
    },
    {
     "data": {
      "text/html": [
       "<ol class=list-inline>\n",
       "\t<li>0.0398241086330779</li>\n",
       "\t<li>0.242463619750895</li>\n",
       "\t<li>0.121185716713721</li>\n",
       "\t<li>0.358311156508065</li>\n",
       "\t<li>0.0397100344323835</li>\n",
       "\t<li>0.390161766316671</li>\n",
       "\t<li>0.216392511855597</li>\n",
       "\t<li>0.261469898157721</li>\n",
       "\t<li>0.392832550554691</li>\n",
       "\t<li>0.327106384174176</li>\n",
       "</ol>\n"
      ],
      "text/latex": [
       "\\begin{enumerate*}\n",
       "\\item 0.0398241086330779\n",
       "\\item 0.242463619750895\n",
       "\\item 0.121185716713721\n",
       "\\item 0.358311156508065\n",
       "\\item 0.0397100344323835\n",
       "\\item 0.390161766316671\n",
       "\\item 0.216392511855597\n",
       "\\item 0.261469898157721\n",
       "\\item 0.392832550554691\n",
       "\\item 0.327106384174176\n",
       "\\end{enumerate*}\n"
      ],
      "text/markdown": [
       "1. 0.0398241086330779\n",
       "2. 0.242463619750895\n",
       "3. 0.121185716713721\n",
       "4. 0.358311156508065\n",
       "5. 0.0397100344323835\n",
       "6. 0.390161766316671\n",
       "7. 0.216392511855597\n",
       "8. 0.261469898157721\n",
       "9. 0.392832550554691\n",
       "10. 0.327106384174176\n",
       "\n",
       "\n"
      ],
      "text/plain": [
       " [1] 0.03982411 0.24246362 0.12118572 0.35831116 0.03971003 0.39016177\n",
       " [7] 0.21639251 0.26146990 0.39283255 0.32710638"
      ]
     },
     "metadata": {},
     "output_type": "display_data"
    }
   ],
   "source": [
    "dnorm(0)\n",
    "dnorm(0, mean = 1)\n",
    "dnorm(x)"
   ]
  },
  {
   "cell_type": "code",
   "execution_count": 26,
   "metadata": {},
   "outputs": [
    {
     "data": {
      "text/html": [
       "0.5"
      ],
      "text/latex": [
       "0.5"
      ],
      "text/markdown": [
       "0.5"
      ],
      "text/plain": [
       "[1] 0.5"
      ]
     },
     "metadata": {},
     "output_type": "display_data"
    },
    {
     "data": {
      "text/html": [
       "0.841344746068543"
      ],
      "text/latex": [
       "0.841344746068543"
      ],
      "text/markdown": [
       "0.841344746068543"
      ],
      "text/plain": [
       "[1] 0.8413447"
      ]
     },
     "metadata": {},
     "output_type": "display_data"
    },
    {
     "data": {
      "text/html": [
       "0.158655253931457"
      ],
      "text/latex": [
       "0.158655253931457"
      ],
      "text/markdown": [
       "0.158655253931457"
      ],
      "text/plain": [
       "[1] 0.1586553"
      ]
     },
     "metadata": {},
     "output_type": "display_data"
    }
   ],
   "source": [
    "pnorm(0)\n",
    "pnorm(1)\n",
    "pnorm(1, lower.tail = FALSE)"
   ]
  },
  {
   "cell_type": "code",
   "execution_count": 27,
   "metadata": {},
   "outputs": [
    {
     "data": {
      "text/html": [
       "0"
      ],
      "text/latex": [
       "0"
      ],
      "text/markdown": [
       "0"
      ],
      "text/plain": [
       "[1] 0"
      ]
     },
     "metadata": {},
     "output_type": "display_data"
    },
    {
     "data": {
      "text/html": [
       "1.2815515655446"
      ],
      "text/latex": [
       "1.2815515655446"
      ],
      "text/markdown": [
       "1.2815515655446"
      ],
      "text/plain": [
       "[1] 1.281552"
      ]
     },
     "metadata": {},
     "output_type": "display_data"
    }
   ],
   "source": [
    "qnorm(0.5)\n",
    "qnorm(0.9)"
   ]
  },
  {
   "cell_type": "code",
   "execution_count": 28,
   "metadata": {},
   "outputs": [
    {
     "data": {
      "text/html": [
       "0"
      ],
      "text/latex": [
       "0"
      ],
      "text/markdown": [
       "0"
      ],
      "text/plain": [
       "[1] 0"
      ]
     },
     "metadata": {},
     "output_type": "display_data"
    },
    {
     "data": {
      "text/html": [
       "-1250.9189385332"
      ],
      "text/latex": [
       "-1250.9189385332"
      ],
      "text/markdown": [
       "-1250.9189385332"
      ],
      "text/plain": [
       "[1] -1250.919"
      ]
     },
     "metadata": {},
     "output_type": "display_data"
    }
   ],
   "source": [
    "dnorm(50)\n",
    "dnorm(50, log = TRUE)"
   ]
  },
  {
   "cell_type": "markdown",
   "metadata": {},
   "source": [
    "Другое"
   ]
  },
  {
   "cell_type": "code",
   "execution_count": 29,
   "metadata": {},
   "outputs": [
    {
     "data": {
      "text/html": [
       "<ol class=list-inline>\n",
       "\t<li>3</li>\n",
       "\t<li>2</li>\n",
       "\t<li>5</li>\n",
       "\t<li>2</li>\n",
       "\t<li>4</li>\n",
       "\t<li>5</li>\n",
       "\t<li>4</li>\n",
       "\t<li>1</li>\n",
       "\t<li>3</li>\n",
       "\t<li>2</li>\n",
       "\t<li>4</li>\n",
       "\t<li>4</li>\n",
       "\t<li>3</li>\n",
       "\t<li>2</li>\n",
       "\t<li>2</li>\n",
       "\t<li>1</li>\n",
       "\t<li>3</li>\n",
       "\t<li>3</li>\n",
       "\t<li>5</li>\n",
       "\t<li>4</li>\n",
       "</ol>\n"
      ],
      "text/latex": [
       "\\begin{enumerate*}\n",
       "\\item 3\n",
       "\\item 2\n",
       "\\item 5\n",
       "\\item 2\n",
       "\\item 4\n",
       "\\item 5\n",
       "\\item 4\n",
       "\\item 1\n",
       "\\item 3\n",
       "\\item 2\n",
       "\\item 4\n",
       "\\item 4\n",
       "\\item 3\n",
       "\\item 2\n",
       "\\item 2\n",
       "\\item 1\n",
       "\\item 3\n",
       "\\item 3\n",
       "\\item 5\n",
       "\\item 4\n",
       "\\end{enumerate*}\n"
      ],
      "text/markdown": [
       "1. 3\n",
       "2. 2\n",
       "3. 5\n",
       "4. 2\n",
       "5. 4\n",
       "6. 5\n",
       "7. 4\n",
       "8. 1\n",
       "9. 3\n",
       "10. 2\n",
       "11. 4\n",
       "12. 4\n",
       "13. 3\n",
       "14. 2\n",
       "15. 2\n",
       "16. 1\n",
       "17. 3\n",
       "18. 3\n",
       "19. 5\n",
       "20. 4\n",
       "\n",
       "\n"
      ],
      "text/plain": [
       " [1] 3 2 5 2 4 5 4 1 3 2 4 4 3 2 2 1 3 3 5 4"
      ]
     },
     "metadata": {},
     "output_type": "display_data"
    },
    {
     "data": {
      "text/html": [
       "<ol class=list-inline>\n",
       "\t<li>39</li>\n",
       "\t<li>46</li>\n",
       "\t<li>6</li>\n",
       "\t<li>4</li>\n",
       "\t<li>40</li>\n",
       "\t<li>11</li>\n",
       "\t<li>23</li>\n",
       "\t<li>31</li>\n",
       "\t<li>5</li>\n",
       "\t<li>24</li>\n",
       "\t<li>36</li>\n",
       "\t<li>38</li>\n",
       "\t<li>16</li>\n",
       "\t<li>32</li>\n",
       "\t<li>47</li>\n",
       "\t<li>44</li>\n",
       "\t<li>28</li>\n",
       "\t<li>12</li>\n",
       "\t<li>41</li>\n",
       "\t<li>30</li>\n",
       "</ol>\n"
      ],
      "text/latex": [
       "\\begin{enumerate*}\n",
       "\\item 39\n",
       "\\item 46\n",
       "\\item 6\n",
       "\\item 4\n",
       "\\item 40\n",
       "\\item 11\n",
       "\\item 23\n",
       "\\item 31\n",
       "\\item 5\n",
       "\\item 24\n",
       "\\item 36\n",
       "\\item 38\n",
       "\\item 16\n",
       "\\item 32\n",
       "\\item 47\n",
       "\\item 44\n",
       "\\item 28\n",
       "\\item 12\n",
       "\\item 41\n",
       "\\item 30\n",
       "\\end{enumerate*}\n"
      ],
      "text/markdown": [
       "1. 39\n",
       "2. 46\n",
       "3. 6\n",
       "4. 4\n",
       "5. 40\n",
       "6. 11\n",
       "7. 23\n",
       "8. 31\n",
       "9. 5\n",
       "10. 24\n",
       "11. 36\n",
       "12. 38\n",
       "13. 16\n",
       "14. 32\n",
       "15. 47\n",
       "16. 44\n",
       "17. 28\n",
       "18. 12\n",
       "19. 41\n",
       "20. 30\n",
       "\n",
       "\n"
      ],
      "text/plain": [
       " [1] 39 46  6  4 40 11 23 31  5 24 36 38 16 32 47 44 28 12 41 30"
      ]
     },
     "metadata": {},
     "output_type": "display_data"
    },
    {
     "data": {
      "text/html": [
       "<ol class=list-inline>\n",
       "\t<li>4</li>\n",
       "\t<li>1</li>\n",
       "\t<li>9</li>\n",
       "\t<li>6</li>\n",
       "\t<li>5</li>\n",
       "\t<li>8</li>\n",
       "\t<li>10</li>\n",
       "\t<li>7</li>\n",
       "\t<li>3</li>\n",
       "\t<li>2</li>\n",
       "</ol>\n"
      ],
      "text/latex": [
       "\\begin{enumerate*}\n",
       "\\item 4\n",
       "\\item 1\n",
       "\\item 9\n",
       "\\item 6\n",
       "\\item 5\n",
       "\\item 8\n",
       "\\item 10\n",
       "\\item 7\n",
       "\\item 3\n",
       "\\item 2\n",
       "\\end{enumerate*}\n"
      ],
      "text/markdown": [
       "1. 4\n",
       "2. 1\n",
       "3. 9\n",
       "4. 6\n",
       "5. 5\n",
       "6. 8\n",
       "7. 10\n",
       "8. 7\n",
       "9. 3\n",
       "10. 2\n",
       "\n",
       "\n"
      ],
      "text/plain": [
       " [1]  4  1  9  6  5  8 10  7  3  2"
      ]
     },
     "metadata": {},
     "output_type": "display_data"
    }
   ],
   "source": [
    "sample(1:5, 20, replace=TRUE)  # выборка размера 20 из 1:5\n",
    "sample(1:50, 20)  # без повторений\n",
    "sample(1:10)  # перемешивание"
   ]
  },
  {
   "cell_type": "markdown",
   "metadata": {},
   "source": [
    "Многомерное нормальное распределение"
   ]
  },
  {
   "cell_type": "code",
   "execution_count": 30,
   "metadata": {
    "scrolled": true
   },
   "outputs": [
    {
     "data": {
      "text/html": [
       "<table>\n",
       "<caption>A matrix: 10 × 2 of type dbl</caption>\n",
       "<tbody>\n",
       "\t<tr><td>-1.5708994</td><td>-2.5220140</td></tr>\n",
       "\t<tr><td>-1.6675433</td><td>-1.9674761</td></tr>\n",
       "\t<tr><td>-2.4882015</td><td>-2.2244520</td></tr>\n",
       "\t<tr><td>-1.4189301</td><td>-0.9577702</td></tr>\n",
       "\t<tr><td>-0.1703379</td><td> 1.2914930</td></tr>\n",
       "\t<tr><td>-2.6990265</td><td>-5.4013001</td></tr>\n",
       "\t<tr><td>-0.8877016</td><td>-1.9148014</td></tr>\n",
       "\t<tr><td> 2.0683134</td><td> 1.1738751</td></tr>\n",
       "\t<tr><td>-1.9835552</td><td>-1.6939353</td></tr>\n",
       "\t<tr><td> 3.7127874</td><td> 0.7409479</td></tr>\n",
       "</tbody>\n",
       "</table>\n"
      ],
      "text/latex": [
       "A matrix: 10 × 2 of type dbl\n",
       "\\begin{tabular}{ll}\n",
       "\t -1.5708994 & -2.5220140\\\\\n",
       "\t -1.6675433 & -1.9674761\\\\\n",
       "\t -2.4882015 & -2.2244520\\\\\n",
       "\t -1.4189301 & -0.9577702\\\\\n",
       "\t -0.1703379 &  1.2914930\\\\\n",
       "\t -2.6990265 & -5.4013001\\\\\n",
       "\t -0.8877016 & -1.9148014\\\\\n",
       "\t  2.0683134 &  1.1738751\\\\\n",
       "\t -1.9835552 & -1.6939353\\\\\n",
       "\t  3.7127874 &  0.7409479\\\\\n",
       "\\end{tabular}\n"
      ],
      "text/markdown": [
       "\n",
       "A matrix: 10 × 2 of type dbl\n",
       "\n",
       "| -1.5708994 | -2.5220140 |\n",
       "| -1.6675433 | -1.9674761 |\n",
       "| -2.4882015 | -2.2244520 |\n",
       "| -1.4189301 | -0.9577702 |\n",
       "| -0.1703379 |  1.2914930 |\n",
       "| -2.6990265 | -5.4013001 |\n",
       "| -0.8877016 | -1.9148014 |\n",
       "|  2.0683134 |  1.1738751 |\n",
       "| -1.9835552 | -1.6939353 |\n",
       "|  3.7127874 |  0.7409479 |\n",
       "\n"
      ],
      "text/plain": [
       "      [,1]       [,2]      \n",
       " [1,] -1.5708994 -2.5220140\n",
       " [2,] -1.6675433 -1.9674761\n",
       " [3,] -2.4882015 -2.2244520\n",
       " [4,] -1.4189301 -0.9577702\n",
       " [5,] -0.1703379  1.2914930\n",
       " [6,] -2.6990265 -5.4013001\n",
       " [7,] -0.8877016 -1.9148014\n",
       " [8,]  2.0683134  1.1738751\n",
       " [9,] -1.9835552 -1.6939353\n",
       "[10,]  3.7127874  0.7409479"
      ]
     },
     "metadata": {},
     "output_type": "display_data"
    }
   ],
   "source": [
    "#install.packages('MASS')\n",
    "library('MASS')\n",
    "\n",
    "mu <- c(0, 0)\n",
    "Sigma <- matrix(c(3, 2, 2, 3), nrow = 2)\n",
    "mvrnorm(n = 10, mu, Sigma)"
   ]
  },
  {
   "cell_type": "markdown",
   "metadata": {},
   "source": [
    "**Упражнение.** Сгенерировать выборку размера 10 из равномерного распределения на отрезке [0, 5]. Посчитать по ней логарифмическую функцию правдоподобия для модели $Exp(2)$."
   ]
  },
  {
   "cell_type": "code",
   "execution_count": 31,
   "metadata": {},
   "outputs": [
    {
     "data": {
      "text/html": [
       "-34.1560548012621"
      ],
      "text/latex": [
       "-34.1560548012621"
      ],
      "text/markdown": [
       "-34.1560548012621"
      ],
      "text/plain": [
       "[1] -34.15605"
      ]
     },
     "metadata": {},
     "output_type": "display_data"
    }
   ],
   "source": [
    "sample <- runif(10, min = 0, max = 5)\n",
    "loglikelihood <- sum(dexp(sample, rate = 2, log = TRUE))\n",
    "loglikelihood"
   ]
  },
  {
   "cell_type": "markdown",
   "metadata": {},
   "source": [
    "### Графики"
   ]
  },
  {
   "cell_type": "code",
   "execution_count": 32,
   "metadata": {},
   "outputs": [],
   "source": [
    "options(repr.plot.width = 8, repr.plot.height = 6)"
   ]
  },
  {
   "cell_type": "code",
   "execution_count": 33,
   "metadata": {},
   "outputs": [
    {
     "data": {
      "image/png": "[encoded data removed]",
      "text/plain": [
       "plot without title"
      ]
     },
     "metadata": {
      "image/png": {
       "height": 360,
       "width": 480
      },
      "text/plain": {
       "height": 360,
       "width": 480
      }
     },
     "output_type": "display_data"
    }
   ],
   "source": [
    "x <- seq(from = 0, to = 10, by = 0.01)\n",
    "y <- sin(x)\n",
    "\n",
    "plot(x, y, type = 'l', col = 'red', lwd = 2)\n",
    "grid()"
   ]
  },
  {
   "cell_type": "markdown",
   "metadata": {},
   "source": [
    "Проще:"
   ]
  },
  {
   "cell_type": "code",
   "execution_count": 34,
   "metadata": {},
   "outputs": [
    {
     "data": {
      "image/png": "[encoded data removed]",
      "text/plain": [
       "plot without title"
      ]
     },
     "metadata": {
      "image/png": {
       "height": 360,
       "width": 480
      },
      "text/plain": {
       "height": 360,
       "width": 480
      }
     },
     "output_type": "display_data"
    }
   ],
   "source": [
    "plot(sin, 0, 10, type = 'l', col = 'red', lwd = 2)\n",
    "grid()"
   ]
  },
  {
   "cell_type": "code",
   "execution_count": 35,
   "metadata": {},
   "outputs": [
    {
     "data": {
      "image/png": "[encoded data removed]",
      "text/plain": [
       "Plot with title “Точки из нормального распределения”"
      ]
     },
     "metadata": {
      "image/png": {
       "height": 360,
       "width": 480
      },
      "text/plain": {
       "height": 360,
       "width": 480
      }
     },
     "output_type": "display_data"
    }
   ],
   "source": [
    "sample <- mvrnorm(n = 100, mu, Sigma = Sigma)\n",
    "plot(sample[,1], sample[,2], cex = 0.9, col = 'red', \n",
    "     xlab = 'x', ylab = 'y', \n",
    "     main = 'Точки из нормального распределения')"
   ]
  },
  {
   "cell_type": "code",
   "execution_count": 36,
   "metadata": {},
   "outputs": [
    {
     "data": {
      "image/png": "[encoded data removed]",
      "text/plain": [
       "Plot with title “Histogram of sample”"
      ]
     },
     "metadata": {
      "image/png": {
       "height": 360,
       "width": 480
      },
      "text/plain": {
       "height": 360,
       "width": 480
      }
     },
     "output_type": "display_data"
    }
   ],
   "source": [
    "sample <- rnorm(n = 300)\n",
    "hist(sample, freq = FALSE, col = 3, nclass = 10)"
   ]
  },
  {
   "cell_type": "markdown",
   "metadata": {},
   "source": [
    "**Упражнение.** Построить график плотности нормального распределения на отрезке $[-3, 3]$."
   ]
  },
  {
   "cell_type": "code",
   "execution_count": 37,
   "metadata": {},
   "outputs": [
    {
     "data": {
      "image/png": "[encoded data removed]",
      "text/plain": [
       "plot without title"
      ]
     },
     "metadata": {
      "image/png": {
       "height": 360,
       "width": 480
      },
      "text/plain": {
       "height": 360,
       "width": 480
      }
     },
     "output_type": "display_data"
    }
   ],
   "source": [
    "plot(dnorm, -3, 3)"
   ]
  },
  {
   "cell_type": "markdown",
   "metadata": {},
   "source": [
    "---------\n",
    "\n",
    "Прикладная статистика и анализ данных, 2019\n",
    "\n",
    "Никита Волков\n",
    "\n",
    "https://mipt-stats.gitlab.io/"
   ]
  }
 ],
 "metadata": {
  "kernelspec": {
   "display_name": "R",
   "language": "R",
   "name": "ir"
  },
  "language_info": {
   "codemirror_mode": "r",
   "file_extension": ".r",
   "mimetype": "text/x-r-source",
   "name": "R",
   "pygments_lexer": "r",
   "version": "3.6.2"
  }
 },
 "nbformat": 4,
 "nbformat_minor": 1
}
