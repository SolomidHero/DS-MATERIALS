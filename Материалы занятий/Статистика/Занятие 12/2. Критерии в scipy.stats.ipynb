{
 "cells": [
  {
   "cell_type": "code",
   "execution_count": 1,
   "metadata": {},
   "outputs": [],
   "source": [
    "import numpy as np\n",
    "import pandas as pd\n",
    "import scipy.stats as sps\n",
    "import matplotlib.pyplot as plt\n",
    "\n",
    "%matplotlib inline"
   ]
  },
  {
   "cell_type": "markdown",
   "metadata": {},
   "source": [
    "### Критерий Бартлетта\n",
    "\n",
    "$X_{ij} \\sim \\mathcal{N}(\\mu_j, \\sigma_j^2),\\ \\ i=1,...,n_j,\\ \\ j=1,...,k$\n",
    "\n",
    "$\\mathsf{H}_0\\colon \\sigma_1 = ... = \\sigma_k$\n",
    "\n",
    "<a href=\"https://docs.scipy.org/doc/scipy-0.16.1/reference/generated/scipy.stats.bartlett.html#scipy.stats.bartlett\">`bartlett`</a>`(sample1, sample2, ...): statistic, pvalue`\n",
    "\n",
    "\n",
    "### $F$-критерий однофакторного дисперсионного анализа\n",
    "\n",
    "$X_{ij} \\sim \\mathcal{N}(\\mu_j, \\sigma^2),\\ \\ i=1,...,n_j,\\ \\ j=1,...,k$\n",
    "\n",
    "$\\mathsf{H}_0\\colon \\mu_1 = ... = \\mu_k$\n",
    "\n",
    "<a href=\"https://docs.scipy.org/doc/scipy-0.16.1/reference/generated/scipy.stats.f_oneway.html\">`f_oneway`</a>`(sample1, sample2, ...): statistic, pvalue`"
   ]
  },
  {
   "cell_type": "code",
   "execution_count": 14,
   "metadata": {},
   "outputs": [
    {
     "data": {
      "text/plain": [
       "(BartlettResult(statistic=5.302409501752963, pvalue=0.2576514519129599),\n",
       " F_onewayResult(statistic=0.7483479585522701, pvalue=0.5612738682824921))"
      ]
     },
     "execution_count": 14,
     "metadata": {},
     "output_type": "execute_result"
    }
   ],
   "source": [
    "samples = []\n",
    "for i in range(5):\n",
    "    samples.append(sps.norm.rvs(size=20+i))\n",
    "sps.bartlett(*samples), sps.f_oneway(*samples)"
   ]
  },
  {
   "cell_type": "code",
   "execution_count": 15,
   "metadata": {},
   "outputs": [
    {
     "data": {
      "text/plain": [
       "(BartlettResult(statistic=9.146888050337433, pvalue=0.057531028801199424),\n",
       " F_onewayResult(statistic=46.38914385075102, pvalue=2.1428650506386594e-22))"
      ]
     },
     "execution_count": 15,
     "metadata": {},
     "output_type": "execute_result"
    }
   ],
   "source": [
    "samples = []\n",
    "for i in range(5):\n",
    "    samples.append(sps.norm(loc=i).rvs(size=20+i))\n",
    "sps.bartlett(*samples), sps.f_oneway(*samples)"
   ]
  },
  {
   "cell_type": "code",
   "execution_count": 16,
   "metadata": {},
   "outputs": [
    {
     "data": {
      "text/plain": [
       "(BartlettResult(statistic=35.02702491180489, pvalue=4.586347994808979e-07),\n",
       " F_onewayResult(statistic=1.3661820497330388, pvalue=0.2507041179938111))"
      ]
     },
     "execution_count": 16,
     "metadata": {},
     "output_type": "execute_result"
    }
   ],
   "source": [
    "samples = []\n",
    "for i in range(5):\n",
    "    samples.append(sps.norm(scale=1+i/2).rvs(size=20+i))\n",
    "sps.bartlett(*samples), sps.f_oneway(*samples)"
   ]
  },
  {
   "cell_type": "code",
   "execution_count": 19,
   "metadata": {},
   "outputs": [
    {
     "data": {
      "text/plain": [
       "(BartlettResult(statistic=19.614971279326745, pvalue=0.0005948230266618849),\n",
       " F_onewayResult(statistic=14.064849135285003, pvalue=3.186325091862291e-09))"
      ]
     },
     "execution_count": 19,
     "metadata": {},
     "output_type": "execute_result"
    }
   ],
   "source": [
    "samples = []\n",
    "for i in range(5):\n",
    "    samples.append(sps.norm(loc=i, scale=1+i/2).rvs(size=20+i))\n",
    "sps.bartlett(*samples), sps.f_oneway(*samples)"
   ]
  },
  {
   "cell_type": "markdown",
   "metadata": {},
   "source": [
    "### Критерий Краскела-Уоллиса\n",
    "\n",
    "$X_{ij},\\ \\ i=1,...,n_j,\\ \\ j=1,...,k$ --- однофакторная модель, случай независмых выборок\n",
    "\n",
    "$\\mathsf{H}_0\\colon \\mu_1 = ... = \\mu_k$\n",
    "\n",
    "<a href=\"https://docs.scipy.org/doc/scipy-0.16.1/reference/generated/scipy.stats.kruskal.html#scipy.stats.kruskal\">`kruskal`</a>`(sample1, sample2, ...): statistic, pvalue`"
   ]
  },
  {
   "cell_type": "code",
   "execution_count": 20,
   "metadata": {},
   "outputs": [
    {
     "data": {
      "text/plain": [
       "KruskalResult(statistic=3.9994042474280036, pvalue=0.4060864820570774)"
      ]
     },
     "execution_count": 20,
     "metadata": {},
     "output_type": "execute_result"
    }
   ],
   "source": [
    "samples = []\n",
    "for i in range(5):\n",
    "    samples.append(sps.norm.rvs(size=20+i))\n",
    "sps.kruskal(*samples)"
   ]
  },
  {
   "cell_type": "code",
   "execution_count": 21,
   "metadata": {},
   "outputs": [
    {
     "data": {
      "text/plain": [
       "KruskalResult(statistic=76.38012704917844, pvalue=1.0172837687548495e-15)"
      ]
     },
     "execution_count": 21,
     "metadata": {},
     "output_type": "execute_result"
    }
   ],
   "source": [
    "samples = []\n",
    "for i in range(5):\n",
    "    samples.append(sps.norm(loc=i).rvs(size=20+i))\n",
    "sps.kruskal(*samples)"
   ]
  },
  {
   "cell_type": "code",
   "execution_count": 22,
   "metadata": {},
   "outputs": [
    {
     "data": {
      "text/plain": [
       "KruskalResult(statistic=0.854885258956358, pvalue=0.9309421349904955)"
      ]
     },
     "execution_count": 22,
     "metadata": {},
     "output_type": "execute_result"
    }
   ],
   "source": [
    "samples = []\n",
    "for i in range(5):\n",
    "    samples.append(sps.norm(scale=i+1).rvs(size=20+i))\n",
    "sps.kruskal(*samples)"
   ]
  },
  {
   "cell_type": "code",
   "execution_count": 23,
   "metadata": {},
   "outputs": [
    {
     "data": {
      "text/plain": [
       "KruskalResult(statistic=0.9416866792360565, pvalue=0.918505484762733)"
      ]
     },
     "execution_count": 23,
     "metadata": {},
     "output_type": "execute_result"
    }
   ],
   "source": [
    "samples = []\n",
    "for i in range(5):\n",
    "    samples.append(sps.expon.rvs(size=20+i))\n",
    "sps.kruskal(*samples)"
   ]
  },
  {
   "cell_type": "code",
   "execution_count": 24,
   "metadata": {},
   "outputs": [
    {
     "data": {
      "text/plain": [
       "KruskalResult(statistic=19.558231702777107, pvalue=0.0006103333303977086)"
      ]
     },
     "execution_count": 24,
     "metadata": {},
     "output_type": "execute_result"
    }
   ],
   "source": [
    "samples = []\n",
    "for i in range(5):\n",
    "    samples.append(sps.expon(scale=i+1).rvs(size=20+i))\n",
    "sps.kruskal(*samples)"
   ]
  },
  {
   "cell_type": "markdown",
   "metadata": {},
   "source": [
    "### Критерий Фридмана\n",
    "\n",
    "$X_{ij},\\ \\ i=1,...,n,\\ \\ j=1,...,k$ --- однофакторная модель, случай связных выборок\n",
    "\n",
    "$\\mathsf{H}_0\\colon \\beta_1 = ... = \\beta_k$\n",
    "\n",
    "<a href=\"https://docs.scipy.org/doc/scipy-0.16.1/reference/generated/scipy.stats.friedmanchisquare.html#scipy.stats.friedmanchisquare\">`friedmanchisquare`</a>`(sample1, sample2, ...): statistic, pvalue`\n",
    "\n",
    "Все выборки одинакового размера, количество выборок не менее 3."
   ]
  },
  {
   "cell_type": "code",
   "execution_count": 34,
   "metadata": {},
   "outputs": [
    {
     "name": "stdout",
     "output_type": "stream",
     "text": [
      "(30, 5)\n"
     ]
    },
    {
     "data": {
      "text/plain": [
       "FriedmanchisquareResult(statistic=3.8666666666666742, pvalue=0.42435118480771783)"
      ]
     },
     "execution_count": 34,
     "metadata": {},
     "output_type": "execute_result"
    }
   ],
   "source": [
    "sample_size = 30\n",
    "factor_size = 5\n",
    "alpha = np.linspace(0, 10, sample_size)[:, np.newaxis]\n",
    "beta = np.zeros(factor_size)[np.newaxis, :]\n",
    "\n",
    "samples = sps.norm(loc=1+alpha+beta).rvs()\n",
    "print(samples.shape)\n",
    "sps.friedmanchisquare(*samples.T)"
   ]
  },
  {
   "cell_type": "code",
   "execution_count": 35,
   "metadata": {},
   "outputs": [
    {
     "name": "stdout",
     "output_type": "stream",
     "text": [
      "(30, 5)\n"
     ]
    },
    {
     "data": {
      "text/plain": [
       "FriedmanchisquareResult(statistic=82.42666666666673, pvalue=5.3299900664472323e-17)"
      ]
     },
     "execution_count": 35,
     "metadata": {},
     "output_type": "execute_result"
    }
   ],
   "source": [
    "beta = np.arange(factor_size)[np.newaxis, :]\n",
    "\n",
    "samples = sps.norm(loc=1+alpha+beta).rvs()\n",
    "print(samples.shape)\n",
    "sps.friedmanchisquare(*samples.T)"
   ]
  },
  {
   "cell_type": "code",
   "execution_count": 37,
   "metadata": {},
   "outputs": [
    {
     "name": "stdout",
     "output_type": "stream",
     "text": [
      "(30, 5)\n"
     ]
    },
    {
     "data": {
      "text/plain": [
       "FriedmanchisquareResult(statistic=10.186666666666724, pvalue=0.03739799984860937)"
      ]
     },
     "execution_count": 37,
     "metadata": {},
     "output_type": "execute_result"
    }
   ],
   "source": [
    "beta = np.arange(factor_size)[np.newaxis, :]\n",
    "\n",
    "samples = sps.norm(loc=1+alpha+beta, scale=alpha).rvs()\n",
    "print(samples.shape)\n",
    "sps.friedmanchisquare(*samples.T)"
   ]
  },
  {
   "cell_type": "markdown",
   "metadata": {},
   "source": [
    "---------\n",
    "\n",
    "Прикладная статистика и анализ данных, 2019\n",
    "\n",
    "Никита Волков\n",
    "\n",
    "https://mipt-stats.gitlab.io/"
   ]
  }
 ],
 "metadata": {
  "kernelspec": {
   "display_name": "Python 3",
   "language": "python",
   "name": "python3"
  },
  "language_info": {
   "codemirror_mode": {
    "name": "ipython",
    "version": 3
   },
   "file_extension": ".py",
   "mimetype": "text/x-python",
   "name": "python",
   "nbconvert_exporter": "python",
   "pygments_lexer": "ipython3",
   "version": "3.7.3"
  }
 },
 "nbformat": 4,
 "nbformat_minor": 2
}
