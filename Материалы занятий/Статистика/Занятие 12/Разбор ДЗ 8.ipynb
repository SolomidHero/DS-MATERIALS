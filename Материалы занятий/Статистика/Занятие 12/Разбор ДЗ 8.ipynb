{
 "cells": [
  {
   "cell_type": "code",
   "execution_count": 22,
   "metadata": {},
   "outputs": [],
   "source": [
    "import numpy as np\n",
    "import pandas as pd\n",
    "import scipy.stats as sps\n",
    "import seaborn as sns\n",
    "from matplotlib import pyplot as plt\n",
    "from collections import namedtuple\n",
    "from tqdm import tqdm_notebook as tqdm\n",
    "\n",
    "%matplotlib inline"
   ]
  },
  {
   "cell_type": "markdown",
   "metadata": {},
   "source": [
    "____________\n",
    "### Задача 1"
   ]
  },
  {
   "cell_type": "markdown",
   "metadata": {},
   "source": [
    "Предположим, что вы разработали лекарство от коронавируса. Перед применением оно обязательно должно пройти клинические испытания. Для начала было разрешено проверить лекарство на двух независимых группах по 10 человек. Одна группа принимает плацебо, другая -- ваш препарат. Большее количество пациентов на первом этапе брать не разрешают -- слишком велики риски отрицательного результата.\n",
    "\n",
    "Для каждого пациента измерялось количество дней от приема препарата до выздоровления. Получились следуюшие результаты:"
   ]
  },
  {
   "cell_type": "code",
   "execution_count": 5,
   "metadata": {},
   "outputs": [],
   "source": [
    "placebo = [6, 16, 8, 13, 9, 4, 7, 10, 3, 14]\n",
    "medicine = [5, 10, 3, 1, 5, 3, 19, 2, 2, 5]"
   ]
  },
  {
   "cell_type": "markdown",
   "metadata": {},
   "source": [
    "Что вы можете сказать на основе этих результатов?\n",
    "* Лекарство эффективнее, подтверждается статистическими методами;\n",
    "* Наверное, лекарство эффективнее, но статистическими методами это пока не подтверждено, нужно продолжить эксперимент. Подумайте, как обосновать необходимость продолжение эксперимента;\n",
    "* По результатам эксперимента нельзя сделать какой-либо вывод. Стоит ли продолжать эксперименты? Если да, то четко это обоснуйте;\n",
    "* Лекарство неэффективно, нужно немедленно прекращать эксперимент."
   ]
  },
  {
   "cell_type": "markdown",
   "metadata": {},
   "source": [
    "Естественно, для того, чтобы сделать выводы по этой задаче, требуется воспользоваться критериями дисперсионного анализа для сравнения средних.\n",
    "\n",
    "Поскольку люди были разные, можем пользоваться методами для независимых выборок.\n",
    "\n",
    "**t-test**\n",
    "\n",
    "Самый простой **<font color=\"red\">возможный</font>** способ - это критерий Стьюдента для независимых выборок"
   ]
  },
  {
   "cell_type": "code",
   "execution_count": 6,
   "metadata": {},
   "outputs": [
    {
     "data": {
      "text/plain": [
       "Ttest_indResult(statistic=1.6077916961893066, pvalue=0.12612583305411368)"
      ]
     },
     "execution_count": 6,
     "metadata": {},
     "output_type": "execute_result"
    }
   ],
   "source": [
    "sps.ttest_ind(placebo, medicine, equal_var=False)"
   ]
  },
  {
   "cell_type": "markdown",
   "metadata": {},
   "source": [
    "В данном случае нет отвержения. При этом этот критерий требует нормальности выборок, которой может здесь не быть, либо же большой выборки"
   ]
  },
  {
   "cell_type": "markdown",
   "metadata": {},
   "source": [
    "**Критерий Уилкоксона-Манна-Уитни**\n",
    "\n",
    "Ещё один **<font color=\"red\">возможный</font>** способ проверки - критерий Манна-Уитни. Применим его"
   ]
  },
  {
   "cell_type": "code",
   "execution_count": 7,
   "metadata": {},
   "outputs": [
    {
     "data": {
      "text/plain": [
       "MannwhitneyuResult(statistic=76.5, pvalue=0.024256557087931816)"
      ]
     },
     "execution_count": 7,
     "metadata": {},
     "output_type": "execute_result"
    }
   ],
   "source": [
    "sps.mannwhitneyu(placebo, medicine, alternative='greater')"
   ]
  },
  {
   "cell_type": "markdown",
   "metadata": {},
   "source": [
    "Тогда гипотеза равенства средних отвергается на уровне значимости $0.05$, однако надо быть внимательным.\n",
    "\n",
    "В данном случае размер выборки всего $10$, а асимптотика в критерии Манна-Уитни без использования поправок справедлива лишь тогда, когда размер обеих выборок не меньше $50$"
   ]
  },
  {
   "cell_type": "markdown",
   "metadata": {},
   "source": [
    "**Перестановочный критерий**\n",
    "\n",
    "Оставшийся вариант - разобранные на лекции перестановочные критерии. Если даны две выборки $X$ и $Y$, то в качестве статистики можно взять $\\overline{X} - \\overline{Y}$.\n",
    "\n",
    "В качестве группы перестановок:\n",
    "\n",
    "$$G = \\{(s_1, \\dots, s_{n+m})\\ |\\ \\{s_1, \\dots, s_n\\} \\in \\mathcal{C}_{\\{1, \\dots, n+m\\}}^n\\}$$\n",
    "\n",
    "Посчитаем статистику для всех перестановок отсюда"
   ]
  },
  {
   "cell_type": "code",
   "execution_count": 8,
   "metadata": {},
   "outputs": [],
   "source": [
    "N_SAMPLES = int(1e5) # количество бутстрепных перестановок"
   ]
  },
  {
   "cell_type": "code",
   "execution_count": 9,
   "metadata": {},
   "outputs": [
    {
     "data": {
      "application/vnd.jupyter.widget-view+json": {
       "model_id": "69a7205681b147399edd0b56ac4fc9dc"
      }
     },
     "metadata": {},
     "output_type": "display_data"
    },
    {
     "name": "stdout",
     "output_type": "stream",
     "text": [
      "\n"
     ]
    }
   ],
   "source": [
    "n = len(placebo)\n",
    "m = len(medicine)\n",
    "concated = np.array(placebo + medicine)\n",
    "\n",
    "bootstrap_stats = []\n",
    "\n",
    "for _ in tqdm(range(N_SAMPLES)):\n",
    "    # выбираем индексы для первой части\n",
    "    index_x = np.random.choice(np.arange(n + m), n, replace=False)\n",
    "    # выделяем оставшиеся\n",
    "    index_y = np.arange(n + m)[~np.in1d(np.arange(n + m), index_x)]\n",
    "    \n",
    "    x_iter = concated[index_x]\n",
    "    y_iter = concated[index_y]\n",
    "    \n",
    "    # добавляем статистику от перестановки\n",
    "    bootstrap_stats.append(np.mean(x_iter) - np.mean(y_iter))"
   ]
  },
  {
   "cell_type": "markdown",
   "metadata": {},
   "source": [
    "Смотрим, в какой доле случаев статистика после перестановки оказывается больше изначальной (случай для односторонней альтернативы)"
   ]
  },
  {
   "cell_type": "code",
   "execution_count": 10,
   "metadata": {},
   "outputs": [
    {
     "data": {
      "text/plain": [
       "0.05657"
      ]
     },
     "execution_count": 10,
     "metadata": {},
     "output_type": "execute_result"
    }
   ],
   "source": [
    "(np.array(bootstrap_stats) > (np.mean(placebo) - np.mean(medicine))).mean()"
   ]
  },
  {
   "cell_type": "markdown",
   "metadata": {},
   "source": [
    "Получаем, что снова нет отвержения.\n",
    "\n",
    "Однако это не единственная статистика, которую можно использовать. Например, можно взять статистику Манна-Уитни. Это сумма рангов срока выздоровления при приёме лекарства, то есть, если лекарство имеет эффект, то выздоровление происходит скорее, и статистика будет меньше, чем в противном случае. Так что знак в проверке стоит развернуть.\n",
    "\n",
    "Проведём такую же процедуру для статистики Манна-Уитни."
   ]
  },
  {
   "cell_type": "code",
   "execution_count": 11,
   "metadata": {},
   "outputs": [
    {
     "data": {
      "application/vnd.jupyter.widget-view+json": {
       "model_id": "1a2952ce08604fb9be2bee0ac36785f6"
      }
     },
     "metadata": {},
     "output_type": "display_data"
    },
    {
     "name": "stdout",
     "output_type": "stream",
     "text": [
      "\n"
     ]
    }
   ],
   "source": [
    "n = len(placebo)\n",
    "m = len(medicine)\n",
    "concated = np.array(placebo + medicine)\n",
    "\n",
    "bootstrap_stats = []\n",
    "\n",
    "for _ in tqdm(range(N_SAMPLES)):\n",
    "    # выбираем индексы для первой части\n",
    "    index_x = np.random.choice(np.arange(n + m), n, replace=False)\n",
    "    # выделяем оставшиеся\n",
    "    index_y = np.arange(n + m)[~np.in1d(np.arange(n + m), index_x)]\n",
    "    \n",
    "    x_iter = concated[index_x]\n",
    "    y_iter = concated[index_y]\n",
    "    \n",
    "    # считаем статистику Манна-Уитни\n",
    "    bootstrap_stats.append(sps.mannwhitneyu(x_iter, y_iter)[0])"
   ]
  },
  {
   "cell_type": "code",
   "execution_count": 12,
   "metadata": {},
   "outputs": [
    {
     "data": {
      "text/plain": [
       "0.04015"
      ]
     },
     "execution_count": 12,
     "metadata": {},
     "output_type": "execute_result"
    }
   ],
   "source": [
    "(np.array(bootstrap_stats) < sps.mannwhitneyu(placebo, medicine)[0]).mean()"
   ]
  },
  {
   "cell_type": "markdown",
   "metadata": {},
   "source": [
    "**Вывод:**\n",
    "\n",
    "В критерии перестановок с использованием статистики Манна-Уитни наблюдается отвержение на уровне значимости $0.05$. Ясно, что такой критерий не первым приходит в голову, но всё-таки даже на такой небольшой выборке можно найти корректную процедуру, которая подтвердит статистическую значимость. Но тем не менее можно сказать, что это отвержение \"на грани\", поэтому, если есть возможность, то стоит ещё поэкпериментировать."
   ]
  },
  {
   "cell_type": "markdown",
   "metadata": {},
   "source": [
    "**AA-тест**\n",
    "\n",
    "Проверим, как подобная процедура будет работать, если нулевая гипотеза верна. Запустим её на двух выборках из одинакового равномерного распределения.\n",
    "\n",
    "Посмотрим на распределение pvalue. Оно должно получиться равномерным. Для этого проведём AA-тест много раз"
   ]
  },
  {
   "cell_type": "code",
   "execution_count": null,
   "metadata": {},
   "outputs": [],
   "source": [
    "def make_aa_test(sample_size, n_samples):\n",
    "    \"\"\"\n",
    "    Функция проведения AA-теста\n",
    "    Применяет перестановочный критерий со статистикой Манна-Уитни\n",
    "    к выборкам из U[0, 20] одинакового размера\n",
    "    \n",
    "    Параметры\n",
    "    ----------\n",
    "    sample_size : int\n",
    "        Размер каждой выборки\n",
    "    n_samples : int\n",
    "        Количество бутстрепных перестановок\n",
    "    Возвращает\n",
    "    -------\n",
    "    float : pvalue\n",
    "    \"\"\"\n",
    "    \n",
    "    distr = sps.randint(low=1, high=20)\n",
    "    x = distr.rvs(sample_size)\n",
    "    y = distr.rvs(sample_size)\n",
    "    concated = np.hstack([x, y])\n",
    "    \n",
    "    bootstrap_stats = []\n",
    "    for _ in range(n_samples):\n",
    "        index_x = np.random.choice(np.arange(n + m), n, replace=False)\n",
    "        index_y = np.arange(n + m)[~np.in1d(np.arange(n + m), index_x)]\n",
    "\n",
    "        x_iter = concated[index_x]\n",
    "        y_iter = concated[index_y]\n",
    "\n",
    "        bootstrap_stats.append(sps.mannwhitneyu(x_iter, y_iter)[0])\n",
    "        \n",
    "    return (np.array(bootstrap_stats) < sps.mannwhitneyu(x, y)[0]).mean()"
   ]
  },
  {
   "cell_type": "markdown",
   "metadata": {},
   "source": [
    "Проведём тест один раз"
   ]
  },
  {
   "cell_type": "code",
   "execution_count": 19,
   "metadata": {},
   "outputs": [
    {
     "data": {
      "text/plain": [
       "0.6458"
      ]
     },
     "execution_count": 19,
     "metadata": {},
     "output_type": "execute_result"
    }
   ],
   "source": [
    "make_aa_test(sample_size=len(medicine), n_samples=N_SAMPLES)"
   ]
  },
  {
   "cell_type": "markdown",
   "metadata": {},
   "source": [
    "Видно, что нет отвержения на одинаковых распределениях. Но с некоторой вероятностью могло произойти и отвержение. Посмотрим на распределение pvalue."
   ]
  },
  {
   "cell_type": "code",
   "execution_count": 20,
   "metadata": {},
   "outputs": [
    {
     "data": {
      "application/vnd.jupyter.widget-view+json": {
       "model_id": "d3a3a54efb06433f8ee14c53d1ef7fba"
      }
     },
     "metadata": {},
     "output_type": "display_data"
    },
    {
     "name": "stdout",
     "output_type": "stream",
     "text": [
      "\n"
     ]
    }
   ],
   "source": [
    "N_TESTS = 500 # количество AA-тестов\n",
    "\n",
    "pvalues = []\n",
    "for _ in tqdm(range(N_TESTS)):\n",
    "    pvalues.append(make_aa_test(sample_size=len(medicine), n_samples=10000))"
   ]
  },
  {
   "cell_type": "markdown",
   "metadata": {},
   "source": [
    "Построим гистограмму"
   ]
  },
  {
   "cell_type": "code",
   "execution_count": 26,
   "metadata": {},
   "outputs": [
    {
     "data": {
      "image/png": "[encoded data removed]",
      "text/plain": [
       "<Figure size 864x504 with 1 Axes>"
      ]
     },
     "metadata": {
      "needs_background": "light"
     },
     "output_type": "display_data"
    }
   ],
   "source": [
    "plt.figure(figsize=(12, 7))\n",
    "plt.title('Гистограмма pvalue при одинаковых распределениях', fontsize=18)\n",
    "plt.xlabel('pvalue', fontsize=15)\n",
    "plt.ylabel('Частота', fontsize = 15)\n",
    "plt.hist(pvalues, density=True, bins=15)\n",
    "plt.show()"
   ]
  },
  {
   "cell_type": "code",
   "execution_count": 27,
   "metadata": {},
   "outputs": [
    {
     "name": "stdout",
     "output_type": "stream",
     "text": [
      "Доля отвержений: 0.052\n"
     ]
    }
   ],
   "source": [
    "pvalues = np.array(pvalues)\n",
    "n_rejects = np.sum(pvalues < 0.05)\n",
    "print('Доля отвержений: {:.3f}'.format(n_rejects / pvalues.size))"
   ]
  },
  {
   "cell_type": "markdown",
   "metadata": {},
   "source": [
    "**Вывод:**\n",
    "\n",
    "По гистограмме видим, что распределение похоже на равномерное. Возможно, будет ещё больше похоже при увеличении количества запусков АА-теста. Доля отвержений близка к $0.05$, но для точной оценки нужно гораздо больше запусков. "
   ]
  },
  {
   "cell_type": "markdown",
   "metadata": {},
   "source": [
    "_____\n",
    "### Задача 2"
   ]
  },
  {
   "cell_type": "markdown",
   "metadata": {},
   "source": [
    "В задании 6 по машинному обучению вы предсказывали цену жилья по его характеристикам, в процессе чего принимали участие на Kaggle. Пришло время внедрять разработки в продакшн. На первый взгляд может показаться, что внедрять нужно решение победителя, однако оно может повлечь множество технических сложностей при работе в продакшне, поэтому предлагается выбрать оптимум между качеством и технической сложностью модели. В данной задаче вам предлагается исследовать модели на наличие статистически значимой разницы по их качеству. Не забывайте про практическую значимость результата.\n",
    "\n",
    "Сравните три модели по качеству предсказания на тестовой выборке: свою и два решения, рассказанных на семинарах. В решении данного задания не нужно приводить код каждой из моделей. Достаточно прочитать 4 файла: истинные ответы на тесте и предсказания трех моделей.\n",
    "_____"
   ]
  },
  {
   "cell_type": "markdown",
   "metadata": {},
   "source": [
    "Сравнивать модели будем по значениям функции ошибки, которые получаются у этих моделей на тестовой выборке. В данном соревновании стояла задача регрессии, поэтому можно оценивать модели по MAPE, то есть по средней относительной ошибке в процентах.\n",
    "\n",
    "Таким образом, если есть правильные ответы $Y_i$ и предсказания модели $\\widehat{Y}_i$, то можно получить выборку ошибок:\n",
    "\n",
    "$$e_i = \\frac{\\left|Y_i - \\widehat{Y}_i\\right|}{Y_i}$$\n",
    "\n",
    "Тогда, если у двух моделей получились ошибки $e^1$ и $e^2$, то нас интересует гипотеза о равенстве средних.\n",
    "\n",
    "Модели были обучены на одной выборке, они получают один и тот же вход, значит эти выборки зависимы. Поэтому будем пользоваться критерием знаков.\n",
    "\n",
    "Можем считать, что в данных есть шум, который не убирается моделью, и его распределение одинаково для двух моделей, потому что данные те же. А значит предположения критерия знаков выполнены.\n",
    "\n",
    "Для начала загрузим данные: правильные ответы, а также ответы двух лучших работ и бейзлайна"
   ]
  },
  {
   "cell_type": "code",
   "execution_count": 2,
   "metadata": {},
   "outputs": [],
   "source": [
    "golden_answers = pd.read_csv('solution.csv', \n",
    "                             index_col='index')\n",
    "ivanov_answers = pd.read_csv('answer_Viacheslav_Ivanov.csv', \n",
    "                             index_col='index')\n",
    "gracheva_answers = pd.read_csv('answer_Anastasia_Gracheva.csv', \n",
    "                               index_col='index')\n",
    "baseline_ansers = pd.read_csv('sample_submission.csv', \n",
    "                              index_col='index')"
   ]
  },
  {
   "cell_type": "code",
   "execution_count": 3,
   "metadata": {},
   "outputs": [
    {
     "data": {
      "text/html": [
       "<div>\n",
       "<style scoped>\n",
       "    .dataframe tbody tr th:only-of-type {\n",
       "        vertical-align: middle;\n",
       "    }\n",
       "\n",
       "    .dataframe tbody tr th {\n",
       "        vertical-align: top;\n",
       "    }\n",
       "\n",
       "    .dataframe thead th {\n",
       "        text-align: right;\n",
       "    }\n",
       "</style>\n",
       "<table border=\"1\" class=\"dataframe\">\n",
       "  <thead>\n",
       "    <tr style=\"text-align: right;\">\n",
       "      <th></th>\n",
       "      <th>price</th>\n",
       "    </tr>\n",
       "    <tr>\n",
       "      <th>index</th>\n",
       "      <th></th>\n",
       "    </tr>\n",
       "  </thead>\n",
       "  <tbody>\n",
       "    <tr>\n",
       "      <th>1</th>\n",
       "      <td>330000</td>\n",
       "    </tr>\n",
       "    <tr>\n",
       "      <th>2</th>\n",
       "      <td>960000</td>\n",
       "    </tr>\n",
       "    <tr>\n",
       "      <th>3</th>\n",
       "      <td>219900</td>\n",
       "    </tr>\n",
       "    <tr>\n",
       "      <th>4</th>\n",
       "      <td>430000</td>\n",
       "    </tr>\n",
       "    <tr>\n",
       "      <th>5</th>\n",
       "      <td>221700</td>\n",
       "    </tr>\n",
       "  </tbody>\n",
       "</table>\n",
       "</div>"
      ],
      "text/plain": [
       "        price\n",
       "index        \n",
       "1      330000\n",
       "2      960000\n",
       "3      219900\n",
       "4      430000\n",
       "5      221700"
      ]
     },
     "execution_count": 3,
     "metadata": {},
     "output_type": "execute_result"
    }
   ],
   "source": [
    "golden_answers.head()"
   ]
  },
  {
   "cell_type": "markdown",
   "metadata": {},
   "source": [
    "Вычислим выборки ошибок. Поменяв функцию вычисления, можно перейти к другим ошибкам, например, MSE или MAE"
   ]
  },
  {
   "cell_type": "code",
   "execution_count": 4,
   "metadata": {},
   "outputs": [],
   "source": [
    "def get_errors(answers_df):\n",
    "    \"\"\"Функция подсчёта ошибок\"\"\"\n",
    "    \n",
    "    correct = golden_answers.values\n",
    "    predicted = answers_df.values\n",
    "    return (np.abs(correct - predicted) * 100. / correct) \\\n",
    "            .reshape(answers_df.values.size)"
   ]
  },
  {
   "cell_type": "code",
   "execution_count": 5,
   "metadata": {},
   "outputs": [],
   "source": [
    "ivanov_errors = [] # Слава не ошибается"
   ]
  },
  {
   "cell_type": "code",
   "execution_count": 6,
   "metadata": {},
   "outputs": [],
   "source": [
    "ivanov_errors = get_errors(ivanov_answers)\n",
    "gracheva_errors = get_errors(gracheva_answers)\n",
    "baseline_errors = get_errors(baseline_ansers)"
   ]
  },
  {
   "cell_type": "markdown",
   "metadata": {},
   "source": [
    "Теперь необходимо проверить $3$ гипотезы о равенстве средних в этих ошибках. Для проверки напишем функцию, которая вычислит pvalue для критерия знаков, а также построит сравнительный график kde распределений ошибок"
   ]
  },
  {
   "cell_type": "code",
   "execution_count": 7,
   "metadata": {},
   "outputs": [],
   "source": [
    "# Переиспользуем код из прошлого задания\n",
    "SignedTestResult = namedtuple('SignedTestResult', ('statistic', 'pvalue'))\n",
    "\n",
    "def _signedtest_n_greater_15(s, n, alternative):\n",
    "    \"\"\"Внутренняя функция, считает критерий знаков для случая n > 15\"\"\"\n",
    "    \n",
    "    assert n > 15\n",
    "    \n",
    "    statistics = (s - n / 2 - 1 / 2) / np.sqrt(n / 4)\n",
    "    \n",
    "    if alternative == 'two-sided':\n",
    "        pvalue = 2 * min(sps.norm.sf(statistics), sps.norm.cdf(statistics))\n",
    "    elif alternative == 'less':\n",
    "        pvalue = sps.norm.cdf(statistics)\n",
    "    else:\n",
    "        pvalue = sps.norm.sf(statistics)\n",
    "\n",
    "    return SignedTestResult(statistics, min(pvalue, 1))\n",
    "\n",
    "def _signedtest_n_small_sizes(s, n, alternative):\n",
    "    \"\"\"Внутренняя функция, считает критерий знаков для случая n <= 15\"\"\"\n",
    "    \n",
    "    assert n <= 15\n",
    "    \n",
    "    statistics = s\n",
    "    left_part = sps.binom.cdf(statistics, n, 1/2)\n",
    "    right_part = sps.binom.sf(statistics, n, 1/2)\n",
    "\n",
    "    if alternative == 'two-sided':\n",
    "        pvalue = 2 * min(left_part, right_part)\n",
    "    elif alternative == 'less':\n",
    "        pvalue = left_part\n",
    "    else:\n",
    "        pvalue = right_part\n",
    "        \n",
    "    return SignedTestResult(statistics, min(pvalue, 1))\n",
    "\n",
    "def signedtest(differences, alternative='two-sided'):\n",
    "    \"\"\"\n",
    "    Критерий знаков\n",
    "    Параметры\n",
    "    ----------\n",
    "    differences : array_like\n",
    "        Массив разностей между двумя связными выборками\n",
    "    alternative : {'two-sided', 'less', 'greater'}, optional\n",
    "        Определение альтернативной гипотезы. \n",
    "        'two-sided' - альтернативная гипотеза: медиана ошибок не равна 0\n",
    "        'less' - альтернативная гипотеза: медиана ошибок меньше 0\n",
    "        'greater' - альтернативная гипотеза: медиана ошибок больше 0\n",
    "    Возвращает\n",
    "    -------\n",
    "    statistic : float\n",
    "    pvalue : float\n",
    "    \"\"\"\n",
    "    \n",
    "    assert alternative in ['two-sided', 'less', 'greater']\n",
    "    \n",
    "    z = differences\n",
    "    z = np.unique(np.array(z))  # выкидываем совпадения\n",
    "    s = np.sum(z > 0)\n",
    "    n = z.shape[0]\n",
    "    \n",
    "    if n > 15:\n",
    "        return _signedtest_n_greater_15(s, n, alternative)\n",
    "    return _signedtest_n_small_sizes(s, n, alternative)"
   ]
  },
  {
   "cell_type": "code",
   "execution_count": 8,
   "metadata": {},
   "outputs": [],
   "source": [
    "def make_models_comparison(x_errs, y_errs, label_x='First', \n",
    "                           label_y='Second', max_err=100):\n",
    "    \"\"\"\n",
    "    Функция для сравнения моделей регрессии в соревновании\n",
    "    Печатает pvalue, абсолютную и относительную разницу в метриках\n",
    "    Строит график распределений ошибок\n",
    "    \n",
    "    Параметры\n",
    "    ----------\n",
    "    x_errs : array_like, 1d\n",
    "        Ошибки первой модели\n",
    "    y_errs : array_like, 1d\n",
    "        Ошибки второй модели\n",
    "    label_x : str\n",
    "        Название первой модели\n",
    "    label_y : str\n",
    "        Название второй модели\n",
    "    max_err : float\n",
    "        Наибольшая ошибка, правый предел графика\n",
    "    Возвращает\n",
    "    -------\n",
    "    float : pvalue\n",
    "    \"\"\"\n",
    "    \n",
    "    plt.figure(figsize=(12, 7))\n",
    "    plt.title('Распределения ошибок', fontsize=20)\n",
    "    plt.xlabel('Значение ошибки', fontsize=15)\n",
    "    plt.ylabel('Плотность', fontsize=15)\n",
    "    sns.kdeplot(x_errs, shade=True, label=label_x, gridsize=5000)\n",
    "    sns.kdeplot(y_errs, shade=True, label=label_y, gridsize=5000)\n",
    "    plt.xlim((0, max_err))\n",
    "    plt.legend(fontsize=15)\n",
    "    plt.show()\n",
    "    \n",
    "    diff = x_errs.mean() - y_errs.mean()\n",
    "    diff_percent = diff / x_errs.mean()\n",
    "    \n",
    "    _, pvalue = signedtest(x_errs - y_errs)\n",
    "    print('p-value критерия знаков: {:.5f}'.format(pvalue))\n",
    "    print('Разница средних: {:.3f}'.format(diff))\n",
    "    print('Относительная разница: {:.1%}'.format(diff_percent))\n",
    "    return pvalue"
   ]
  },
  {
   "cell_type": "markdown",
   "metadata": {},
   "source": [
    "Теперь применим критерий 3 раза, потом применим процедуру МПГ при помощи метода Холма"
   ]
  },
  {
   "cell_type": "code",
   "execution_count": 9,
   "metadata": {},
   "outputs": [
    {
     "data": {
      "image/png": "[encoded data removed]",
      "text/plain": [
       "<Figure size 864x504 with 1 Axes>"
      ]
     },
     "metadata": {
      "needs_background": "light"
     },
     "output_type": "display_data"
    },
    {
     "name": "stdout",
     "output_type": "stream",
     "text": [
      "p-value критерия знаков: 0.00000\n",
      "Разница средних: -3.019\n",
      "Относительная разница: -26.0%\n"
     ]
    }
   ],
   "source": [
    "ivanov_base = make_models_comparison(\n",
    "    ivanov_errors,\n",
    "    baseline_errors,\n",
    "    label_x='Иванов',\n",
    "    label_y='baseline'\n",
    ")"
   ]
  },
  {
   "cell_type": "code",
   "execution_count": 10,
   "metadata": {},
   "outputs": [
    {
     "data": {
      "image/png": "[encoded data removed]",
      "text/plain": [
       "<Figure size 864x504 with 1 Axes>"
      ]
     },
     "metadata": {
      "needs_background": "light"
     },
     "output_type": "display_data"
    },
    {
     "name": "stdout",
     "output_type": "stream",
     "text": [
      "p-value критерия знаков: 0.00000\n",
      "Разница средних: -3.353\n",
      "Относительная разница: -29.7%\n"
     ]
    }
   ],
   "source": [
    "gracheva_base = make_models_comparison(\n",
    "    gracheva_errors,\n",
    "    baseline_errors,\n",
    "    label_x='Грачёва',\n",
    "    label_y='baseline'\n",
    ")"
   ]
  },
  {
   "cell_type": "code",
   "execution_count": 11,
   "metadata": {},
   "outputs": [
    {
     "data": {
      "image/png": "[encoded data removed]",
      "text/plain": [
       "<Figure size 864x504 with 1 Axes>"
      ]
     },
     "metadata": {
      "needs_background": "light"
     },
     "output_type": "display_data"
    },
    {
     "name": "stdout",
     "output_type": "stream",
     "text": [
      "p-value критерия знаков: 0.00021\n",
      "Разница средних: -0.334\n",
      "Относительная разница: -3.0%\n"
     ]
    }
   ],
   "source": [
    "gracheva_ivanov = make_models_comparison(\n",
    "    gracheva_errors,\n",
    "    ivanov_errors,\n",
    "    label_x='Грачёва',\n",
    "    label_y='Иванов'\n",
    ")"
   ]
  },
  {
   "cell_type": "markdown",
   "metadata": {},
   "source": [
    "**Вывод:**\n",
    "\n",
    "По графикам видно, что модели участников оказались сильно лучше бейзлайна. Это подтверждают и критерии, pvalue крайне мал, что говорит о высокой уверенности.\n",
    "\n",
    "При этом оказалось, что и результат двух участников различается значимо. Лучше результат у Насти Грачёвой. Однако здесь pvalue уже не такой мизерный.\n",
    "\n",
    "Но тем не менее и этого достаточно, чтобы отвергнуть все гипотезы даже после коррекции методом Бонферрони. Оказывается, что критерий знаков позволяет отвергнуть незначимость разницы, когда в метрике MAPE абсолютная разница составила $0.3$, что было на $3$ процента лучше, чем во второй по рейтингу работе."
   ]
  },
  {
   "cell_type": "markdown",
   "metadata": {},
   "source": [
    "_________________\n",
    "### Задача 3\n",
    "\n",
    "Сессией в интернете называется промежуток времени, охватывающий работу пользователя с момента открытия первой страницы и до закрытия последней. В каждой сессии пользователь может кликнуть на целевой объект. Предположим, базовая конверсия сессии в клик равна 0.08 (т.е. вероятность клика за сессию). С целью проведения AB-тестирования для 5 процентов аудитории выкатывается новый дизайн, от которого ожидается улучшение конверсии на 0.01, т.е. вероятность клика станет равна 0.09. Оцените двумя способами срок такого AB-теста, считая, что все сессии независимы, а на сайте происходит 1000 сессий в день.\n",
    "\n",
    "__________________________________________"
   ]
  },
  {
   "cell_type": "code",
   "execution_count": 2,
   "metadata": {},
   "outputs": [],
   "source": [
    "control_conversion = 0.08\n",
    "test_conversion = 0.09\n",
    "\n",
    "control_fraction = 0.95\n",
    "test_fraction = 0.05\n",
    "\n",
    "events_per_day = 1000"
   ]
  },
  {
   "cell_type": "markdown",
   "metadata": {},
   "source": [
    "Для того, чтобы определить в данном случае срок AB-теста, воспользуемся двумя предложенными на лекциях методами. А именно посчитаем срок:\n",
    "\n",
    "* Из соображений мощности\n",
    "* Из соображений эффекта\n",
    "\n",
    "Пусть оценки вероятности конверсий оказались в контрольной и тестовой выборке соответственно $p_a$ и $p_b$, количество сессий аналогично $n_a$ и $n_b$\n",
    "\n",
    "Искомое общее количество сессий обозначим за $n = n_a + n_b$\n",
    "\n",
    "Долю пользователей, на которых работает тестовая версия, обозначим за $f$\n",
    "\n",
    "**Из соображений эффекта**\n",
    "\n",
    "Мы хотим, чтобы произошло отвержение при заданных конверсиях. Для этого надо, чтобы величина, которая, согласно тесту, распределена нормально, была больше $2$.\n",
    "\n",
    "$$ \\frac{p_b - p_a}{\\widehat{\\sigma}} \\geqslant 2 $$\n",
    "\n",
    "$$ \\widehat{\\sigma} = \\sqrt{\\frac{p_b(1 - p_b)}{n_b} + \\frac{p_a(1 - p_a)}{n_a}} = \\sqrt{\\frac{p_b(1 - p_b)}{fn} + \\frac{p_a(1 - p_a)}{(1-f)n}} = \\frac{1}{\\sqrt{n}} \\sqrt{\\frac{p_b(1 - p_b)}{f} + \\frac{p_a(1 - p_a)}{1-f}}  $$\n",
    "\n",
    "Подставляя выражение для $\\widehat{\\sigma}$, получаем следующее неравенство:\n",
    "\n",
    "$$ \\sqrt{n} \\frac{p_b - p_a}{\\sqrt{\\frac{p_b(1 - p_b)}{f} + \\frac{p_a(1 - p_a)}{1 - f}}} \\geqslant 2 $$\n",
    "\n",
    "Возведя в квадрат, можем получить неравенство на $n$\n",
    "\n",
    "$$ n \\geqslant 4 \\frac{\\frac{p_b(1 - p_b)}{f} + \\frac{p_a(1 - p_a)}{1 - f}}{(p_b - p_a) ^ 2} $$\n",
    "\n",
    "Остаётся только не забыть про то, что число дней должно быть в $1000$ раз меньше числа сессий, потому что в день на сайте наблюдается $1000$ сессий"
   ]
  },
  {
   "cell_type": "code",
   "execution_count": 24,
   "metadata": {},
   "outputs": [],
   "source": [
    "def get_effect_ab_length(control_conversion, test_conversion, test_fraction):\n",
    "    \"\"\"\n",
    "    Функция для определения срока АБ-теста из соображений эффекта\n",
    "    Параметры\n",
    "    ---------\n",
    "    control_converion : float\n",
    "        Текущая конверсия\n",
    "    test_conversion : float\n",
    "        Конверсия, на которой должно быть отвержение\n",
    "    test_fraction : float\n",
    "        Доля сессий в тестовой выборке\n",
    "    Возвращает\n",
    "    ----------\n",
    "    int : количество дней проведения теста\n",
    "    \"\"\"\n",
    "    \n",
    "    control_fraction = 1 - test_fraction\n",
    "    \n",
    "    test_var = test_conversion * (1 - test_conversion) / test_fraction\n",
    "    control_var = control_conversion * (1 - control_conversion) / control_fraction\n",
    "    \n",
    "    n_sessions =  4 * (test_var + control_var) \\\n",
    "                    / (control_conversion - test_conversion) ** 2\n",
    "    n_days = int(np.ceil(n_sessions / events_per_day))\n",
    "    \n",
    "    return n_days"
   ]
  },
  {
   "cell_type": "code",
   "execution_count": 26,
   "metadata": {},
   "outputs": [
    {
     "data": {
      "text/plain": [
       "69"
      ]
     },
     "execution_count": 26,
     "metadata": {},
     "output_type": "execute_result"
    }
   ],
   "source": [
    "get_effect_ab_length(control_conversion, test_conversion, test_fraction)"
   ]
  },
  {
   "cell_type": "markdown",
   "metadata": {},
   "source": [
    "Получаем, что необходимо проводить AB-тест в течение $69$ дней\n",
    "\n",
    "**Из соображений мощности**\n",
    "\n",
    "Здесь будем действовать проще. При помощи бинарного поиска будем фиксировать количество сессий, семплировать бернуллиевские выборки из контроля и теста, затем на каждой считать критерий Вальда, чтобы оценить мощность.\n",
    "\n",
    "Мощность нужно считать с точностью хотя бы до 2 знака, поэтому нужно $10000$ семплирований"
   ]
  },
  {
   "cell_type": "code",
   "execution_count": 29,
   "metadata": {},
   "outputs": [],
   "source": [
    "def wald_test_greater(x, y):\n",
    "    \"\"\"\n",
    "    Критерий Вальда для бернуллиевских выборок\n",
    "    Альтернатива: mean(y) > mean(x)\n",
    "    Параметры\n",
    "    ---------\n",
    "    x, y : array-like\n",
    "        Выборки из распределения Бернулли\n",
    "    Возвращает\n",
    "    ----------\n",
    "    float : pvalue критерия\n",
    "    \"\"\"\n",
    "    \n",
    "    p_x, p_y = x.mean(), y.mean()\n",
    "    \n",
    "    var_x = p_x * (1 - p_x)\n",
    "    var_y = p_y * (1 - p_y)\n",
    "    \n",
    "    sigma = np.sqrt(var_x / x.size + var_y / y.size)\n",
    "    stat = (p_y - p_x) / sigma\n",
    "    \n",
    "    return sps.norm.sf(stat)"
   ]
  },
  {
   "cell_type": "code",
   "execution_count": 30,
   "metadata": {},
   "outputs": [],
   "source": [
    "def get_power_ab_length(\n",
    "    control_conversion, test_conversion, test_fraction,\n",
    "    max_sessions=1000000, n_samples=10000, demanded_power=0.8\n",
    "):\n",
    "    \"\"\"\n",
    "    Функция для определения срока АБ-теста из соображений мощности\n",
    "    с помощью бинарного поиска\n",
    "    Параметры\n",
    "    ---------\n",
    "    control_converion : float\n",
    "        Текущая конверсия\n",
    "    test_conversion : float\n",
    "        Конверсия, на которой должно быть отвержение\n",
    "    test_fraction : float\n",
    "        Доля сессий в тестовой выборке\n",
    "    max_sessions : int\n",
    "        Максимально возможное число сессий в эксперименте\n",
    "    n_samples : int\n",
    "        Количество семплирований для определения мощности\n",
    "    demanded_power : float\n",
    "        Требуемая мощность\n",
    "    Возвращает\n",
    "    ----------\n",
    "    int : количество дней проведения теста\n",
    "    \"\"\"\n",
    "    \n",
    "    left, right = 1, max_sessions\n",
    "    while (right - left) > events_per_day:\n",
    "        # делим пополам, пока различия больше одного дня\n",
    "        middle = (left + right) / 2\n",
    "        \n",
    "        n_rejects = 0\n",
    "        for _ in range(n_samples):\n",
    "            n_control = int(middle * control_fraction)\n",
    "            n_test = int(middle * test_fraction)\n",
    "            # семплируем из распределения бернулли нужное количество примеров\n",
    "            control = sps.bernoulli(p=control_conversion).rvs(n_control)\n",
    "            test = sps.bernoulli(p=test_conversion).rvs(n_test)\n",
    "            pvalue = wald_test_greater(control, test) # применяем критерий Вальда\n",
    "            n_rejects += pvalue < 0.05\n",
    "        power_est = n_rejects / n_samples\n",
    "        \n",
    "        print('Число сессий: {:.0f}, оценка мощности: {:.2f}'\\\n",
    "              .format(middle, power_est))\n",
    "        \n",
    "        if power_est > demanded_power:\n",
    "            right = middle\n",
    "        else:\n",
    "            left = middle\n",
    "\n",
    "    return int(np.ceil(middle / events_per_day))"
   ]
  },
  {
   "cell_type": "code",
   "execution_count": 33,
   "metadata": {
    "scrolled": true
   },
   "outputs": [
    {
     "name": "stdout",
     "output_type": "stream",
     "text": [
      "Число сессий: 500000, оценка мощности: 1.00\n",
      "Число сессий: 250001, оценка мощности: 0.99\n",
      "Число сессий: 125001, оценка мощности: 0.86\n",
      "Число сессий: 62501, оценка мощности: 0.61\n",
      "Число сессий: 93751, оценка мощности: 0.77\n",
      "Число сессий: 109376, оценка мощности: 0.82\n",
      "Число сессий: 101563, оценка мощности: 0.79\n",
      "Число сессий: 105470, оценка мощности: 0.81\n",
      "Число сессий: 103517, оценка мощности: 0.80\n",
      "Число сессий: 102540, оценка мощности: 0.79\n"
     ]
    },
    {
     "data": {
      "text/plain": [
       "103"
      ]
     },
     "execution_count": 33,
     "metadata": {},
     "output_type": "execute_result"
    }
   ],
   "source": [
    "get_power_ab_length(control_conversion, test_conversion, \n",
    "                    test_fraction, n_samples=10000)"
   ]
  },
  {
   "cell_type": "markdown",
   "metadata": {},
   "source": [
    "Получаем, что данный метод даёт большее количество дней, а именно $103$"
   ]
  },
  {
   "cell_type": "markdown",
   "metadata": {},
   "source": [
    "_______________\n",
    "### Задача 4"
   ]
  },
  {
   "cell_type": "markdown",
   "metadata": {},
   "source": [
    "Имеются две задачи:\n",
    "\n",
    "1. Пусть $X_i = (X_{i1}, ..., X_{id}), i=1,...,n$ -- выборка из $d$-мерных объектов. Для всех пар признаков требуется проверить гипотезу о независимости этих признаков, т.е. $\\mathsf{H}_{jk}\\colon X_{ij}, X_{ik}$ независимы. Для проверки используется критерий на основе коэффициента корреляции Спирмена. \n",
    "\n",
    "2. Пусть решается задача регрессии и $X_i = (X_{i1}, ..., X_{id}), i=1,...,n$ -- выборка из $d$-мерных регрессоров, а $Y_1, ..., Y_n$ -- соответствующие значения отклика. Требуется отобрать значимые признаки, для чего проверяются гипотезы $\\mathsf{H}_{j}\\colon X_{ij}, Y_{i}$ независимы. Для проверки используется критерий на основе коэффициента корреляции Спирмена. \n",
    "\n",
    "В обоих задачах предполагается использовать перестановочный критерий, в котором статистикой является коэффициент корреляции Спирмена.\n",
    "\n",
    "Задание:\n",
    "* Предложите группу перестановок для реализации данного критерия, а так же метод генерации бутстрепных выборок. \n",
    "* Можно ли в данных задачах использовать метод множественной проверки гипотезы на основе перестановок (maxT-статистика)? Если нет, то нужно привести пример, для которого нарушается какое-либо требование. Если да, то нужно привести пару примеров, для которых свойство выполняется. Примеры можно привести с помощью семплирования.\n",
    "_____________________"
   ]
  },
  {
   "cell_type": "markdown",
   "metadata": {},
   "source": [
    "**Группа перестановок**\n",
    "\n",
    "Нужно предложить такую группу перестановок, которая не меняет распределение коэффициента корреляции Спирмена, поскольку именно на нём основан критерий.\n",
    "\n",
    "Если гипотеза верна, то есть выборки независимы, при перемешивании элементы внутри каждой выборки, распределение коэффициента корреляции Спирмена не меняется. Аналогичная ситуация для мультигипотез, если все выборки независимы.\n",
    "\n",
    "Таким образом в качестве группы перестановок для критерия мы берём совокупности перестановок элементов каждой из выборок."
   ]
  },
  {
   "cell_type": "markdown",
   "metadata": {},
   "source": [
    "**Применимость maxT**"
   ]
  },
  {
   "cell_type": "markdown",
   "metadata": {},
   "source": [
    "Рассмотрим на примерах применимость МПГ с помощью перестановок. Чтобы подтвердить её или опровергнуть, проверим распределения корреляции Спирмена.\n",
    "\n",
    "В качестве модели, из которой генерируются данные, возьмём просто многомерное нормальное распределение. Будем задавать матрицу ковариаций и вектор средних и смотреть на распределения коэффициента корреляции.\n",
    "\n",
    "Нужно проверить, например, отличается ли совместное распределение коэффициентов корреляции дла некоторых гипотез в зависимости от верности некоторого набора других гипотез.\n",
    "\n",
    "Напишем функцию, которая генерирует многомерные нормальные данные для матрицы ковариаций в случае верных и неверных гипотез, а потом возвращает набор коэффициентов корреляции для заданных индексов (регрессоров или отклика)"
   ]
  },
  {
   "cell_type": "code",
   "execution_count": 35,
   "metadata": {},
   "outputs": [],
   "source": [
    "def compare_correlation_distributions(cov_true, cov_false, inds1, inds2,\n",
    "                                      sample_size=100, n_samples=20000):\n",
    "    \"\"\"\n",
    "    Функция для сравнения коэффициентов корреляции\n",
    "    в проверке гипотез о независимости выборок\n",
    "    Параметры\n",
    "    ---------\n",
    "    cov_true : 2d array\n",
    "        Матрица ковариаций распределения при справедливости гипотез\n",
    "    cov_false : 2d array\n",
    "        Матрица ковариаций распределения при несправедливости гипотез\n",
    "    inds1 : Tuple(int, int)\n",
    "        Пара индексов выборок первой гипотезы из набора\n",
    "    inds2 : Tuple(int, int)\n",
    "        Пара индексов выборок второй гипотезы из набора\n",
    "    sample_size : int\n",
    "        Размер многомерной выборки\n",
    "    n_samples : int\n",
    "        Количество семплированй = размер выборки коэффициентов\n",
    "    \"\"\"\n",
    "    \n",
    "    cov_true = np.array(cov_true)\n",
    "    cov_false = np.array(cov_false)\n",
    "    mean = np.zeros(cov_true.shape[0])\n",
    "    \n",
    "    T_true = []\n",
    "    T_false = []\n",
    "    \n",
    "    for _ in tqdm(range(n_samples)):\n",
    "        #  генерируем многомерную выборку\n",
    "        sample = sps.multivariate_normal(mean=mean, \n",
    "                                         cov=cov_true).rvs(size=sample_size)\n",
    "        \n",
    "        # считаем коэффициенты корреляции для нужных регрессоров/отклика\n",
    "        T_true.append([\n",
    "            sps.spearmanr(sample[:, inds1[0]], sample[:, inds1[1]])[0],\n",
    "            sps.spearmanr(sample[:, inds2[0]], sample[:, inds2[1]])[0]\n",
    "        ])\n",
    "        \n",
    "        sample = sps.multivariate_normal(mean=mean, \n",
    "                                         cov=cov_false).rvs(size=sample_size)\n",
    "        \n",
    "        T_false.append([\n",
    "            sps.spearmanr(sample[:, inds1[0]], sample[:, inds1[1]])[0],\n",
    "            sps.spearmanr(sample[:, inds2[0]], sample[:, inds2[1]])[0]\n",
    "        ])\n",
    "        \n",
    "    return T_true, T_false"
   ]
  },
  {
   "cell_type": "markdown",
   "metadata": {},
   "source": [
    "Также требуется функция, которая изобразит распределения полученных статистик"
   ]
  },
  {
   "cell_type": "code",
   "execution_count": 37,
   "metadata": {},
   "outputs": [],
   "source": [
    "def show_distributions(T_true, T_false, x_label='Корреляция 1', y_label='Корреляция 2'):\n",
    "    \"\"\"\n",
    "    Функция для построения совместных распределений коэффициентов корреляции\n",
    "    Параметры\n",
    "    ---------\n",
    "    T_true : list\n",
    "        Список попарных значений коэффициентов при справедливости набора гипотез\n",
    "    T_false : list\n",
    "        Список попарных значений коэффициентов при несправедливости набора гипотез\n",
    "    x_label, y_label : str\n",
    "        Метки для осей\n",
    "    \"\"\"\n",
    "    \n",
    "    T_true = np.array(T_true)\n",
    "    T_false = np.array(T_false)\n",
    "    plt.figure(figsize=(10, 10))\n",
    "    plt.title('Сравнение совместных распределений', fontsize=18)\n",
    "    \n",
    "    sns.kdeplot(T_true[:, 0], T_true[:, 1], gridsize=100, shade=True,\n",
    "                shade_lowest=False, alpha=0.5)\n",
    "    sns.kdeplot(T_false[:, 0], T_false[:, 1], gridsize=100, \n",
    "                color='red', shade=True,\n",
    "                shade_lowest=False, alpha=0.5)\n",
    "    \n",
    "    plt.xlabel(x_label, fontsize=15)\n",
    "    plt.ylabel(y_label, fontsize=15)\n",
    "    plt.xlim((-0.3, 0.3))\n",
    "    plt.ylim((-0.3, 0.3))\n",
    "    plt.show()"
   ]
  },
  {
   "cell_type": "markdown",
   "metadata": {},
   "source": [
    "**Пункт 1**"
   ]
  },
  {
   "cell_type": "markdown",
   "metadata": {},
   "source": [
    "Рассматриваем 3 нормальные выборки. Пусть $T_{jk}$ - статистика для проверки $\\mathsf{H}_{jk}$\n",
    "\n",
    "Покажем, что совместное распределение статистик $T_{12}$ и $T_{13}$ при справедливости $\\mathsf{H}_{12}$ и $\\mathsf{H}_{13}$ зависит от справедливости $\\mathsf{H}_{23}$\n",
    "\n",
    "Соответственно, рассматриваем матрицы ковариаций, в одной из которых будет зависимость между 2 и 3 признаком, а в другой - не будет"
   ]
  },
  {
   "cell_type": "code",
   "execution_count": 47,
   "metadata": {},
   "outputs": [],
   "source": [
    "cov_true = [[1, 0, 0],\n",
    "            [0, 1, 0],\n",
    "            [0, 0, 1]]\n",
    "\n",
    "cov_false = [[1, 0, 0],\n",
    "             [0, 1, 0.5],\n",
    "             [0, 0.5, 1]]"
   ]
  },
  {
   "cell_type": "code",
   "execution_count": 48,
   "metadata": {},
   "outputs": [
    {
     "data": {
      "application/vnd.jupyter.widget-view+json": {
       "model_id": "b612a6972cd3480d872417ab1238e63e"
      }
     },
     "metadata": {},
     "output_type": "display_data"
    },
    {
     "name": "stdout",
     "output_type": "stream",
     "text": [
      "\n"
     ]
    }
   ],
   "source": [
    "T_true, T_false = compare_correlation_distributions(\n",
    "    cov_true, cov_false, (0, 1), (0, 2)\n",
    ")"
   ]
  },
  {
   "cell_type": "code",
   "execution_count": 49,
   "metadata": {},
   "outputs": [
    {
     "data": {
      "image/png": "[encoded data removed]",
      "text/plain": [
       "<Figure size 720x720 with 1 Axes>"
      ]
     },
     "metadata": {
      "needs_background": "light"
     },
     "output_type": "display_data"
    }
   ],
   "source": [
    "show_distributions(T_true, T_false, x_label=\"$Corr(X_1, X_2)$\", \n",
    "                   y_label=\"$Corr(X_1, X_3)$\")"
   ]
  },
  {
   "cell_type": "markdown",
   "metadata": {},
   "source": [
    "Видим, что распределения отличаются, поэтому сразу видим невозможность использования maxT"
   ]
  },
  {
   "cell_type": "markdown",
   "metadata": {},
   "source": [
    "**Пункт 2**"
   ]
  },
  {
   "cell_type": "markdown",
   "metadata": {},
   "source": [
    "Рассматриваем три нормальных выборки регрессоров и одну отклкиков. Пусть $T_{j}$ - статистика для проверки $\\mathsf{H}_{j}$. Нужно, например, показать, что совместное распределение статистик $T_{1}$ и $T_{2}$ при справедливости $\\mathsf{H}_{1}$ и $\\mathsf{H}_{2}$ не зависит от справедливости $\\mathsf{H}_{3}$."
   ]
  },
  {
   "cell_type": "markdown",
   "metadata": {},
   "source": [
    "В качестве первого примера рассмотрим случай, когда все признаки независимы. А зависимость у третьего признака с откликом либо есть, либо нет."
   ]
  },
  {
   "cell_type": "code",
   "execution_count": 41,
   "metadata": {},
   "outputs": [],
   "source": [
    "cov_true = [[1, 0, 0, 0],\n",
    "            [0, 1, 0, 0],\n",
    "            [0, 0, 1, 0],\n",
    "            [0, 0, 0, 1]]\n",
    "\n",
    "cov_false = [[1, 0, 0, 0],\n",
    "             [0, 1, 0, 0],\n",
    "             [0, 0, 1, 0.9],\n",
    "             [0, 0, 0.9, 1]]"
   ]
  },
  {
   "cell_type": "code",
   "execution_count": 42,
   "metadata": {},
   "outputs": [
    {
     "data": {
      "application/vnd.jupyter.widget-view+json": {
       "model_id": "56d2880747a2495eb1b84885e013fe52"
      }
     },
     "metadata": {},
     "output_type": "display_data"
    },
    {
     "name": "stdout",
     "output_type": "stream",
     "text": [
      "\n"
     ]
    }
   ],
   "source": [
    "T_true, T_false = compare_correlation_distributions(\n",
    "    cov_true, cov_false, (0, 3), (1, 3), \n",
    "    n_samples=100000, sample_size=300\n",
    ")"
   ]
  },
  {
   "cell_type": "code",
   "execution_count": 44,
   "metadata": {},
   "outputs": [
    {
     "data": {
      "image/png": "[encoded data removed]",
      "text/plain": [
       "<Figure size 720x720 with 1 Axes>"
      ]
     },
     "metadata": {
      "needs_background": "light"
     },
     "output_type": "display_data"
    }
   ],
   "source": [
    "show_distributions(T_true, T_false, x_label=\"$Сorr(X_1, Y)$\", \n",
    "                   y_label=\"$Corr(X_2, Y)$\")"
   ]
  },
  {
   "cell_type": "markdown",
   "metadata": {},
   "source": [
    "По графику можно видеть, что распределения совпадают. Добавим также второй пример, в котором между признаками есть зависимость"
   ]
  },
  {
   "cell_type": "code",
   "execution_count": 50,
   "metadata": {},
   "outputs": [],
   "source": [
    "cov_true = [[1, 0.3, 0.4, 0],\n",
    "            [0.3, 1, 0.1, 0],\n",
    "            [0.4, 0.1, 1, 0],\n",
    "            [0, 0, 0, 1]]\n",
    "\n",
    "cov_false = [[1, 0.3, 0.4, 0],\n",
    "             [0.3, 1, 0.1, 0],\n",
    "             [0.4, 0.1, 1, 0.9],\n",
    "             [0, 0, 0.9, 1]]"
   ]
  },
  {
   "cell_type": "code",
   "execution_count": 51,
   "metadata": {},
   "outputs": [
    {
     "data": {
      "application/vnd.jupyter.widget-view+json": {
       "model_id": "8a26e5b01ee341ab9cf48b3b1da1eadb"
      }
     },
     "metadata": {},
     "output_type": "display_data"
    },
    {
     "name": "stdout",
     "output_type": "stream",
     "text": [
      "\n"
     ]
    }
   ],
   "source": [
    "T_true, T_false = compare_correlation_distributions(\n",
    "    cov_true, cov_false, (0, 3), (1, 3),\n",
    "    n_samples=100000, sample_size=300\n",
    ")"
   ]
  },
  {
   "cell_type": "code",
   "execution_count": 52,
   "metadata": {},
   "outputs": [
    {
     "data": {
      "image/png": "[encoded data removed]",
      "text/plain": [
       "<Figure size 720x720 with 1 Axes>"
      ]
     },
     "metadata": {
      "needs_background": "light"
     },
     "output_type": "display_data"
    }
   ],
   "source": [
    "show_distributions(T_true, T_false, x_label=\"$Сorr(X_1, Y)$\", \n",
    "                   y_label=\"$Corr(X_2, Y)$\")"
   ]
  },
  {
   "cell_type": "markdown",
   "metadata": {},
   "source": [
    "Снова видим совпадение распределений\n",
    "\n",
    "**Вывод:**\n",
    "\n",
    "Таким образом, в случае с проверкой независимости признаков точно нельзя использовать МПГ на основе перестановок. В случае со значимостью признаков и проверкой независимости с откликом мы получаем, что на рассмотренных примерах совместные распределения совпадают, а значит наверняка применить такую схему возможно."
   ]
  }
 ],
 "metadata": {
  "kernelspec": {
   "display_name": "Python 3",
   "language": "python",
   "name": "python3"
  },
  "language_info": {
   "codemirror_mode": {
    "name": "ipython",
    "version": 3
   },
   "file_extension": ".py",
   "mimetype": "text/x-python",
   "name": "python",
   "nbconvert_exporter": "python",
   "pygments_lexer": "ipython3",
   "version": "3.7.3"
  }
 },
 "nbformat": 4,
 "nbformat_minor": 2
}
