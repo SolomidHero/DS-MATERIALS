{
 "cells": [
  {
   "cell_type": "markdown",
   "metadata": {},
   "source": [
    "# Критерии дисперсионного анализа в R (часть 2)"
   ]
  },
  {
   "cell_type": "code",
   "execution_count": 1,
   "metadata": {},
   "outputs": [],
   "source": [
    "options(repr.plot.width=5, repr.plot.height=4)"
   ]
  },
  {
   "cell_type": "markdown",
   "metadata": {},
   "source": [
    "### boxplot"
   ]
  },
  {
   "cell_type": "raw",
   "metadata": {},
   "source": [
    "## S3 method for class 'formula'\n",
    "boxplot(formula, data = NULL, ..., subset, na.action = NULL,\n",
    "        drop = FALSE, sep = \".\", lex.order = FALSE)\n",
    "\n",
    "## Default S3 method:\n",
    "boxplot(x, ..., range = 1.5, width = NULL, varwidth = FALSE,\n",
    "        notch = FALSE, outline = TRUE, names, plot = TRUE,\n",
    "        border = par(\"fg\"), col = NULL, log = \"\",\n",
    "        pars = list(boxwex = 0.8, staplewex = 0.5, outwex = 0.5),\n",
    "        horizontal = FALSE, add = FALSE, at = NULL)"
   ]
  },
  {
   "cell_type": "markdown",
   "metadata": {},
   "source": [
    "Параметры\n",
    "\n",
    "* `formula` -- формула в виде `y ~ grp`, где `y` -- числовой признак, а `grp` -- фактор с несколькими уровнями (категориальная переменная). Выборки получаются разделением числового признака по значению фактора;\n",
    "* `data` -- данные (матрица или таблица);\n",
    "* `na.action` -- функция, указывающая что делать с пропусками в данных.\n",
    "* `x` -- данные, по которым строить ящики. Передаются в виде списка выборок, либо несколькими параметрами, на что указывает `...`;\n",
    "* `width` -- вектор, задающий ширину каждого ящика;\n",
    "* `boxwex` -- коэффициент масштаба ширины ящика;\n",
    "* `at` -- положения ящиков по оси икс.\n",
    "\n",
    "Возвращают:\n",
    "* `stats` -- характеристики каждого ящика (нижний ус, нижняя граница ящика, медиана, верхняя граница ящика, верхний ус);\n",
    "* `out` -- точки за пределами усов;\n",
    "* `group` -- группы, соответствующие точкам из `out`.\n",
    "\n",
    "Примеры:\n",
    "\n",
    "Встроенные в R данные о росте зубов морских свинок. Признак `len` отвечает за длину зубов, `supp` -- тип питания, `dose` -- доза."
   ]
  },
  {
   "cell_type": "code",
   "execution_count": 2,
   "metadata": {
    "scrolled": true
   },
   "outputs": [
    {
     "data": {
      "text/html": [
       "<table>\n",
       "<thead><tr><th scope=col>len</th><th scope=col>supp</th><th scope=col>dose</th></tr></thead>\n",
       "<tbody>\n",
       "\t<tr><td> 4.2</td><td>VC  </td><td>0.5 </td></tr>\n",
       "\t<tr><td>11.5</td><td>VC  </td><td>0.5 </td></tr>\n",
       "\t<tr><td> 7.3</td><td>VC  </td><td>0.5 </td></tr>\n",
       "\t<tr><td> 5.8</td><td>VC  </td><td>0.5 </td></tr>\n",
       "\t<tr><td> 6.4</td><td>VC  </td><td>0.5 </td></tr>\n",
       "\t<tr><td>10.0</td><td>VC  </td><td>0.5 </td></tr>\n",
       "</tbody>\n",
       "</table>\n"
      ],
      "text/latex": [
       "\\begin{tabular}{r|lll}\n",
       " len & supp & dose\\\\\n",
       "\\hline\n",
       "\t  4.2 & VC   & 0.5 \\\\\n",
       "\t 11.5 & VC   & 0.5 \\\\\n",
       "\t  7.3 & VC   & 0.5 \\\\\n",
       "\t  5.8 & VC   & 0.5 \\\\\n",
       "\t  6.4 & VC   & 0.5 \\\\\n",
       "\t 10.0 & VC   & 0.5 \\\\\n",
       "\\end{tabular}\n"
      ],
      "text/markdown": [
       "\n",
       "| len | supp | dose |\n",
       "|---|---|---|\n",
       "|  4.2 | VC   | 0.5  |\n",
       "| 11.5 | VC   | 0.5  |\n",
       "|  7.3 | VC   | 0.5  |\n",
       "|  5.8 | VC   | 0.5  |\n",
       "|  6.4 | VC   | 0.5  |\n",
       "| 10.0 | VC   | 0.5  |\n",
       "\n"
      ],
      "text/plain": [
       "  len  supp dose\n",
       "1  4.2 VC   0.5 \n",
       "2 11.5 VC   0.5 \n",
       "3  7.3 VC   0.5 \n",
       "4  5.8 VC   0.5 \n",
       "5  6.4 VC   0.5 \n",
       "6 10.0 VC   0.5 "
      ]
     },
     "metadata": {},
     "output_type": "display_data"
    }
   ],
   "source": [
    "head(ToothGrowth)"
   ]
  },
  {
   "cell_type": "code",
   "execution_count": 3,
   "metadata": {},
   "outputs": [
    {
     "data": {
      "image/png": "[encoded data removed]",
      "text/plain": [
       "Plot with title “Рост зубов морских свинок”"
      ]
     },
     "metadata": {},
     "output_type": "display_data"
    }
   ],
   "source": [
    "# желтые ящики\n",
    "boxplot(len ~ dose, data = ToothGrowth,\n",
    "        boxwex = 0.35, at = 1:3 - 0.2,  # положение и размер\n",
    "        subset = supp == \"VC\", col = \"yellow\",\n",
    "        main = \"Рост зубов морских свинок\",\n",
    "        xlab = \"Доза витамина C, мг\",\n",
    "        ylab = \"Длина зубов\",\n",
    "        xlim = c(0.5, 3.5), ylim = c(0, 35), yaxs = \"i\")\n",
    "\n",
    "# оранжевые ящики\n",
    "boxplot(len ~ dose, data = ToothGrowth, \n",
    "        add = TRUE,  # добавить к предыдущей фигуре\n",
    "        boxwex = 0.35, at = 1:3 + 0.2,\n",
    "        subset = supp == \"OJ\", col = \"orange\")\n",
    "\n",
    "# легенда\n",
    "legend(2.1, 8, c(\"Аскорбиновая кислота\", \"Апельсиновый сок\"),\n",
    "       fill = c(\"yellow\", \"orange\"), \n",
    "       cex = 0.7,  # размер тексте\n",
    "       y.intersp = 2,  # расстояние между строками\n",
    "       text.width = 1.15)  # длина рамки"
   ]
  },
  {
   "cell_type": "markdown",
   "metadata": {},
   "source": [
    "# Нормальные данные\n",
    "\n",
    "### Критерий Бартлетта\n",
    "\n",
    "$X_{ij} \\sim \\mathcal{N}(\\mu_j, \\sigma_j^2),\\ \\ i=1,...,n_j,\\ \\ j=1,...,k$\n",
    "\n",
    "$\\mathsf{H}_0\\colon \\sigma_1 = ... = \\sigma_k$"
   ]
  },
  {
   "cell_type": "raw",
   "metadata": {},
   "source": [
    "## Default S3 method:\n",
    "bartlett.test(x, g, ...)\n",
    "\n",
    "## S3 method for class 'formula'\n",
    "bartlett.test(formula, data, subset, na.action, ...)"
   ]
  },
  {
   "cell_type": "markdown",
   "metadata": {},
   "source": [
    "Параметры\n",
    "\n",
    "* - `x` -- список выборок, то есть `list(x1, x2, ...)`;\n",
    "\n",
    "    или\n",
    "    \n",
    "* - `x` --- выборка;\n",
    "* - `g` -- фактор с несколькими уровнями (категориальная переменная). Выборки получаются разделением числового признака по значению фактора;\n",
    "* `formula` -- формула в виде `lhs ~ rhs`, где `lhs` -- числовой признак, а `rhs` -- фактор с несколькими уровнями (категориальная переменная). Выборки получаются разделением числового признака по значению фактора;\n",
    "* `data` -- данные (матрица или таблица);\n",
    "* `na.action` -- функция, указывающая что делать с пропусками в данных.\n",
    "\n",
    "Возвращают:\n",
    "* `statistic` -- статистика критерия;\n",
    "* `parameter` -- число степеней свободы распределения хи-квадрат, которым аппроксимируется статистика;\n",
    "* `p.value` -- p-value критерия.\n",
    "\n",
    "Примеры:\n",
    "\n",
    "Встроенные в R данные о количестве насекомых после обработки спреем. Признак `count` отвечает за количество насекомых, `supp` -- тип спрея."
   ]
  },
  {
   "cell_type": "code",
   "execution_count": 4,
   "metadata": {},
   "outputs": [
    {
     "data": {
      "text/html": [
       "<table>\n",
       "<thead><tr><th scope=col>count</th><th scope=col>spray</th></tr></thead>\n",
       "<tbody>\n",
       "\t<tr><td>10</td><td>A </td></tr>\n",
       "\t<tr><td> 7</td><td>A </td></tr>\n",
       "\t<tr><td>20</td><td>A </td></tr>\n",
       "\t<tr><td>14</td><td>A </td></tr>\n",
       "\t<tr><td>14</td><td>A </td></tr>\n",
       "\t<tr><td>12</td><td>A </td></tr>\n",
       "</tbody>\n",
       "</table>\n"
      ],
      "text/latex": [
       "\\begin{tabular}{r|ll}\n",
       " count & spray\\\\\n",
       "\\hline\n",
       "\t 10 & A \\\\\n",
       "\t  7 & A \\\\\n",
       "\t 20 & A \\\\\n",
       "\t 14 & A \\\\\n",
       "\t 14 & A \\\\\n",
       "\t 12 & A \\\\\n",
       "\\end{tabular}\n"
      ],
      "text/markdown": [
       "\n",
       "| count | spray |\n",
       "|---|---|\n",
       "| 10 | A  |\n",
       "|  7 | A  |\n",
       "| 20 | A  |\n",
       "| 14 | A  |\n",
       "| 14 | A  |\n",
       "| 12 | A  |\n",
       "\n"
      ],
      "text/plain": [
       "  count spray\n",
       "1 10    A    \n",
       "2  7    A    \n",
       "3 20    A    \n",
       "4 14    A    \n",
       "5 14    A    \n",
       "6 12    A    "
      ]
     },
     "metadata": {},
     "output_type": "display_data"
    }
   ],
   "source": [
    "head(InsectSprays)"
   ]
  },
  {
   "cell_type": "markdown",
   "metadata": {},
   "source": [
    "Построим ящики с усами"
   ]
  },
  {
   "cell_type": "code",
   "execution_count": 5,
   "metadata": {},
   "outputs": [
    {
     "data": {
      "image/png": "[encoded data removed]",
      "text/plain": [
       "plot without title"
      ]
     },
     "metadata": {},
     "output_type": "display_data"
    }
   ],
   "source": [
    "plot(count ~ spray, data = InsectSprays)"
   ]
  },
  {
   "cell_type": "markdown",
   "metadata": {},
   "source": [
    "Далее два эквивалентных способа применить критерий Бартлетта к данным\n",
    "\n",
    "*Напечатанные числа*: статистика критерия, число степеней свободы предельного распределения хи-квадрат, p-value критерия."
   ]
  },
  {
   "cell_type": "code",
   "execution_count": 6,
   "metadata": {
    "scrolled": true
   },
   "outputs": [
    {
     "data": {
      "text/plain": [
       "\n",
       "\tBartlett test of homogeneity of variances\n",
       "\n",
       "data:  InsectSprays$count and InsectSprays$spray\n",
       "Bartlett's K-squared = 25.96, df = 5, p-value = 9.085e-05\n"
      ]
     },
     "metadata": {},
     "output_type": "display_data"
    }
   ],
   "source": [
    "bartlett.test(InsectSprays$count, InsectSprays$spray)"
   ]
  },
  {
   "cell_type": "code",
   "execution_count": 7,
   "metadata": {
    "scrolled": true
   },
   "outputs": [
    {
     "data": {
      "text/plain": [
       "\n",
       "\tBartlett test of homogeneity of variances\n",
       "\n",
       "data:  count by spray\n",
       "Bartlett's K-squared = 25.96, df = 5, p-value = 9.085e-05\n"
      ]
     },
     "metadata": {},
     "output_type": "display_data"
    }
   ],
   "source": [
    "bartlett.test(count ~ spray, data = InsectSprays)"
   ]
  },
  {
   "cell_type": "markdown",
   "metadata": {},
   "source": [
    "### ANOVA (ANalysis Of VAriance, критерий Фишера)\n",
    "\n",
    "Полный список моделей:\n",
    "https://www.rdocumentation.org/packages/car/versions/3.0-2/topics/Anova\n",
    "\n",
    "Базовый вариант:"
   ]
  },
  {
   "cell_type": "raw",
   "metadata": {},
   "source": [
    "aov(formula, data = NULL, projections = FALSE, qr = TRUE,\n",
    "    contrasts = NULL, ...)"
   ]
  },
  {
   "cell_type": "markdown",
   "metadata": {},
   "source": [
    "Параметры\n",
    "\n",
    "* `formula` -- формула;\n",
    "* `data` -- данные (матрица или таблица).\n",
    "\n",
    "Примеры:\n",
    "\n",
    "Возьмем данные `npk` о выращивании гороха на 6 блоках, на который производится воздействие тремя факторами: `N` (азот), `P` (фосфат), `K` (калий). Величина `yield` отвечает за урожайность гороха в фунтах на участок."
   ]
  },
  {
   "cell_type": "code",
   "execution_count": 8,
   "metadata": {
    "scrolled": true
   },
   "outputs": [
    {
     "data": {
      "text/html": [
       "<table>\n",
       "<thead><tr><th scope=col>block</th><th scope=col>N</th><th scope=col>P</th><th scope=col>K</th><th scope=col>yield</th></tr></thead>\n",
       "<tbody>\n",
       "\t<tr><td>1   </td><td>0   </td><td>1   </td><td>1   </td><td>49.5</td></tr>\n",
       "\t<tr><td>1   </td><td>1   </td><td>1   </td><td>0   </td><td>62.8</td></tr>\n",
       "\t<tr><td>1   </td><td>0   </td><td>0   </td><td>0   </td><td>46.8</td></tr>\n",
       "\t<tr><td>1   </td><td>1   </td><td>0   </td><td>1   </td><td>57.0</td></tr>\n",
       "\t<tr><td>2   </td><td>1   </td><td>0   </td><td>0   </td><td>59.8</td></tr>\n",
       "\t<tr><td>2   </td><td>1   </td><td>1   </td><td>1   </td><td>58.5</td></tr>\n",
       "</tbody>\n",
       "</table>\n"
      ],
      "text/latex": [
       "\\begin{tabular}{r|lllll}\n",
       " block & N & P & K & yield\\\\\n",
       "\\hline\n",
       "\t 1    & 0    & 1    & 1    & 49.5\\\\\n",
       "\t 1    & 1    & 1    & 0    & 62.8\\\\\n",
       "\t 1    & 0    & 0    & 0    & 46.8\\\\\n",
       "\t 1    & 1    & 0    & 1    & 57.0\\\\\n",
       "\t 2    & 1    & 0    & 0    & 59.8\\\\\n",
       "\t 2    & 1    & 1    & 1    & 58.5\\\\\n",
       "\\end{tabular}\n"
      ],
      "text/markdown": [
       "\n",
       "| block | N | P | K | yield |\n",
       "|---|---|---|---|---|\n",
       "| 1    | 0    | 1    | 1    | 49.5 |\n",
       "| 1    | 1    | 1    | 0    | 62.8 |\n",
       "| 1    | 0    | 0    | 0    | 46.8 |\n",
       "| 1    | 1    | 0    | 1    | 57.0 |\n",
       "| 2    | 1    | 0    | 0    | 59.8 |\n",
       "| 2    | 1    | 1    | 1    | 58.5 |\n",
       "\n"
      ],
      "text/plain": [
       "  block N P K yield\n",
       "1 1     0 1 1 49.5 \n",
       "2 1     1 1 0 62.8 \n",
       "3 1     0 0 0 46.8 \n",
       "4 1     1 0 1 57.0 \n",
       "5 2     1 0 0 59.8 \n",
       "6 2     1 1 1 58.5 "
      ]
     },
     "metadata": {},
     "output_type": "display_data"
    }
   ],
   "source": [
    "head(npk)"
   ]
  },
  {
   "cell_type": "markdown",
   "metadata": {},
   "source": [
    "Изучим влияние факторов многофакторного дисперсионного анализа, включая совместное влияние факторов `N` и `P`."
   ]
  },
  {
   "cell_type": "code",
   "execution_count": 9,
   "metadata": {
    "scrolled": false
   },
   "outputs": [
    {
     "data": {
      "text/plain": [
       "Call:\n",
       "   aov(formula = yield ~ block + N * P + K, data = npk)\n",
       "\n",
       "Terms:\n",
       "                   block        N        P        K      N:P Residuals\n",
       "Sum of Squares  343.2950 189.2817   8.4017  95.2017  21.2817  218.9033\n",
       "Deg. of Freedom        5        1        1        1        1        14\n",
       "\n",
       "Residual standard error: 3.954232\n",
       "Estimated effects may be unbalanced"
      ]
     },
     "metadata": {},
     "output_type": "display_data"
    }
   ],
   "source": [
    "aov(yield ~ block + N * P + K, npk)"
   ]
  },
  {
   "cell_type": "markdown",
   "metadata": {},
   "source": [
    "Результат можно оформить в виде таблицы. Колонки соответствуют:\n",
    "* число степеней свободы критерия Фишера;\n",
    "* суммарная изменчивость данных между уровнями данного фактора;\n",
    "* средняя изменчивость данных между уровнями данного фактора;\n",
    "* значение статистики критерия Фишера для гипотезы о незначимости фактора;\n",
    "* соответствующее p-value.\n",
    "\n",
    "Последняя строка соответствует остаткам модели."
   ]
  },
  {
   "cell_type": "code",
   "execution_count": 10,
   "metadata": {},
   "outputs": [
    {
     "data": {
      "text/plain": [
       "            Df Sum Sq Mean Sq F value  Pr(>F)   \n",
       "block        5  343.3   68.66   4.391 0.01295 * \n",
       "N            1  189.3  189.28  12.106 0.00368 **\n",
       "P            1    8.4    8.40   0.537 0.47564   \n",
       "K            1   95.2   95.20   6.089 0.02711 * \n",
       "N:P          1   21.3   21.28   1.361 0.26284   \n",
       "Residuals   14  218.9   15.64                   \n",
       "---\n",
       "Signif. codes:  0 ‘***’ 0.001 ‘**’ 0.01 ‘*’ 0.05 ‘.’ 0.1 ‘ ’ 1"
      ]
     },
     "metadata": {},
     "output_type": "display_data"
    }
   ],
   "source": [
    "summary(aov(yield ~ block + N * P + K, npk))"
   ]
  },
  {
   "cell_type": "markdown",
   "metadata": {},
   "source": [
    "## Compute Tukey Honest Significant Differences"
   ]
  },
  {
   "cell_type": "raw",
   "metadata": {},
   "source": [
    "TukeyHSD(x, which, ordered = FALSE, conf.level = 0.95, ...)"
   ]
  },
  {
   "cell_type": "markdown",
   "metadata": {},
   "source": [
    "Параметры\n",
    "\n",
    "* `x` -- обученная anova-модель;\n",
    "* `which` -- вектор параметров, которые надо проанализоровать;\n",
    "* `ordered` -- упорядочены ли уровни фактора по предполагаемому увеличению среднего в выборке до принятия различий. Если ordered имеет значение true, то."
   ]
  },
  {
   "cell_type": "markdown",
   "metadata": {},
   "source": [
    "Набор данных `warpbreaks` о количестве разрывов на ткацкий станок, причем ткацкому станку соответствует фиксированная длина пряжи. Колонка `wool` отвечает за тип шерсти (`A` или `B`), а `tension` за степень натяжения (`L`, `M`, `H`). Проверено 9 ткацких станков на 6 типах деформации (`AL`, `AM`, `AH`, `BL`, `BM`, `BH`)."
   ]
  },
  {
   "cell_type": "code",
   "execution_count": 11,
   "metadata": {
    "scrolled": false
   },
   "outputs": [
    {
     "data": {
      "text/html": [
       "<table>\n",
       "<thead><tr><th scope=col>breaks</th><th scope=col>wool</th><th scope=col>tension</th></tr></thead>\n",
       "<tbody>\n",
       "\t<tr><td>26</td><td>A </td><td>L </td></tr>\n",
       "\t<tr><td>30</td><td>A </td><td>L </td></tr>\n",
       "\t<tr><td>54</td><td>A </td><td>L </td></tr>\n",
       "\t<tr><td>25</td><td>A </td><td>L </td></tr>\n",
       "\t<tr><td>70</td><td>A </td><td>L </td></tr>\n",
       "\t<tr><td>52</td><td>A </td><td>L </td></tr>\n",
       "</tbody>\n",
       "</table>\n"
      ],
      "text/latex": [
       "\\begin{tabular}{r|lll}\n",
       " breaks & wool & tension\\\\\n",
       "\\hline\n",
       "\t 26 & A  & L \\\\\n",
       "\t 30 & A  & L \\\\\n",
       "\t 54 & A  & L \\\\\n",
       "\t 25 & A  & L \\\\\n",
       "\t 70 & A  & L \\\\\n",
       "\t 52 & A  & L \\\\\n",
       "\\end{tabular}\n"
      ],
      "text/markdown": [
       "\n",
       "| breaks | wool | tension |\n",
       "|---|---|---|\n",
       "| 26 | A  | L  |\n",
       "| 30 | A  | L  |\n",
       "| 54 | A  | L  |\n",
       "| 25 | A  | L  |\n",
       "| 70 | A  | L  |\n",
       "| 52 | A  | L  |\n",
       "\n"
      ],
      "text/plain": [
       "  breaks wool tension\n",
       "1 26     A    L      \n",
       "2 30     A    L      \n",
       "3 54     A    L      \n",
       "4 25     A    L      \n",
       "5 70     A    L      \n",
       "6 52     A    L      "
      ]
     },
     "metadata": {},
     "output_type": "display_data"
    }
   ],
   "source": [
    "head(warpbreaks)"
   ]
  },
  {
   "cell_type": "markdown",
   "metadata": {},
   "source": [
    "Уровни фактора `tension`."
   ]
  },
  {
   "cell_type": "code",
   "execution_count": 12,
   "metadata": {
    "scrolled": true
   },
   "outputs": [
    {
     "data": {
      "text/html": [
       "<ol class=list-inline>\n",
       "\t<li>L</li>\n",
       "\t<li>M</li>\n",
       "\t<li>H</li>\n",
       "</ol>\n",
       "\n",
       "<details>\n",
       "\t<summary style=display:list-item;cursor:pointer>\n",
       "\t\t<strong>Levels</strong>:\n",
       "\t</summary>\n",
       "\t<ol class=list-inline>\n",
       "\t\t<li>'L'</li>\n",
       "\t\t<li>'M'</li>\n",
       "\t\t<li>'H'</li>\n",
       "\t</ol>\n",
       "</details>"
      ],
      "text/latex": [
       "\\begin{enumerate*}\n",
       "\\item L\n",
       "\\item M\n",
       "\\item H\n",
       "\\end{enumerate*}\n",
       "\n",
       "\\emph{Levels}: \\begin{enumerate*}\n",
       "\\item 'L'\n",
       "\\item 'M'\n",
       "\\item 'H'\n",
       "\\end{enumerate*}\n"
      ],
      "text/markdown": [
       "1. L\n",
       "2. M\n",
       "3. H\n",
       "\n",
       "\n",
       "\n",
       "**Levels**: 1. 'L'\n",
       "2. 'M'\n",
       "3. 'H'\n",
       "\n",
       "\n"
      ],
      "text/plain": [
       "[1] L M H\n",
       "Levels: L M H"
      ]
     },
     "metadata": {},
     "output_type": "display_data"
    }
   ],
   "source": [
    "unique(warpbreaks$tension)"
   ]
  },
  {
   "cell_type": "markdown",
   "metadata": {},
   "source": [
    "Посмотрим с помощью boxplot, как он влияет на количество разрывов"
   ]
  },
  {
   "cell_type": "code",
   "execution_count": 13,
   "metadata": {},
   "outputs": [
    {
     "data": {
      "image/png": "[encoded data removed]",
      "text/plain": [
       "plot without title"
      ]
     },
     "metadata": {},
     "output_type": "display_data"
    }
   ],
   "source": [
    "plot(breaks ~ tension, data = warpbreaks)"
   ]
  },
  {
   "cell_type": "markdown",
   "metadata": {},
   "source": [
    "Построим anova-модель"
   ]
  },
  {
   "cell_type": "code",
   "execution_count": 14,
   "metadata": {},
   "outputs": [
    {
     "data": {
      "text/plain": [
       "            Df Sum Sq Mean Sq F value  Pr(>F)   \n",
       "wool         1    451   450.7   3.339 0.07361 . \n",
       "tension      2   2034  1017.1   7.537 0.00138 **\n",
       "Residuals   50   6748   135.0                   \n",
       "---\n",
       "Signif. codes:  0 ‘***’ 0.001 ‘**’ 0.01 ‘*’ 0.05 ‘.’ 0.1 ‘ ’ 1"
      ]
     },
     "metadata": {},
     "output_type": "display_data"
    }
   ],
   "source": [
    "summary(fm1 <- aov(breaks ~ wool + tension, data = warpbreaks))"
   ]
  },
  {
   "cell_type": "markdown",
   "metadata": {},
   "source": [
    "Теперь по этой модели применим post hoc анализ методом Тьюки для анализа влияния фактора `tension`, который отвечает за степень натяжения. Предполагаем, что среднее число разрывов возрастает при увеличении степени натяжения, поэтому рассматриваем альтернативу с возрастающими средними, за что ответчает параметр `ordered`.\n",
    "\n",
    "Таблица для каждой пары групп содержит следующие значения: оценка контраста `diff`, границы доверительного интервала (`lwr` и `upr`), подправленное (после МПГ) значение p-value `p adj`. Например, первая клетка таблицы означает, что в группе `M` в среднем происходит на 4.72 разрыва больше, чем в группе `H`. Соответствующий доверительный интервал равен (-4.63 14.08). Поскольку подправленное p-value больше 0.05, то такая разница незначима, что согласуется с тем, что доверительный интервал содержит ноль."
   ]
  },
  {
   "cell_type": "code",
   "execution_count": 15,
   "metadata": {},
   "outputs": [
    {
     "data": {
      "text/plain": [
       "  Tukey multiple comparisons of means\n",
       "    95% family-wise confidence level\n",
       "    factor levels have been ordered\n",
       "\n",
       "Fit: aov(formula = breaks ~ wool + tension, data = warpbreaks)\n",
       "\n",
       "$tension\n",
       "         diff        lwr      upr     p adj\n",
       "M-H  4.722222 -4.6311985 14.07564 0.4474210\n",
       "L-H 14.722222  5.3688015 24.07564 0.0011218\n",
       "L-M 10.000000  0.6465793 19.35342 0.0336262\n"
      ]
     },
     "metadata": {},
     "output_type": "display_data"
    }
   ],
   "source": [
    "TukeyHSD(fm1, \"tension\", ordered = TRUE)"
   ]
  },
  {
   "cell_type": "markdown",
   "metadata": {},
   "source": [
    "Визуализация результата. На графике для каждой группы указаны оценка контраста и доверительный интервал для него."
   ]
  },
  {
   "cell_type": "code",
   "execution_count": 16,
   "metadata": {
    "scrolled": false
   },
   "outputs": [
    {
     "data": {
      "image/png": "[encoded data removed]",
      "text/plain": [
       "Plot with title “95% family-wise confidence level\n",
       "”"
      ]
     },
     "metadata": {},
     "output_type": "display_data"
    }
   ],
   "source": [
    "plot(TukeyHSD(fm1, \"tension\"))"
   ]
  },
  {
   "cell_type": "markdown",
   "metadata": {},
   "source": [
    "### LSD Фишера\n",
    "См. документацию https://www.rdocumentation.org/packages/agricolae/versions/1.3-0/topics/LSD.test"
   ]
  },
  {
   "cell_type": "markdown",
   "metadata": {},
   "source": [
    "# Независимые выборки, непараметрический случай\n",
    "\n",
    "### Критерий Краскела Уоллиса\n",
    "\n",
    "$X_{ij},\\ \\ i=1,...,n_j,\\ \\ j=1,...,k$ --- однофакторная модель, случай независмых выборок\n",
    "\n",
    "$\\mathsf{H}_0\\colon \\mu_1 = ... = \\mu_k$\n",
    "\n",
    "$\\mathsf{H}_1\\colon \\exists i, j \\text{ т.ч. } \\mu_i \\not= \\mu_j$"
   ]
  },
  {
   "cell_type": "raw",
   "metadata": {},
   "source": [
    "## Default S3 method:\n",
    "kruskal.test(x, g, ...)\n",
    "\n",
    "## S3 method for class 'formula'\n",
    "kruskal.test(formula, data, subset, na.action, ...)"
   ]
  },
  {
   "cell_type": "markdown",
   "metadata": {},
   "source": [
    "Параметры\n",
    "\n",
    "* - `x` -- список выборок, то есть `list(x1, x2, ...)`;\n",
    "\n",
    "    или\n",
    "    \n",
    "* - `x` --- выборка;\n",
    "* - `g` -- фактор с несколькими уровнями (категориальная переменная). Выборки получаются разделением числового признака по значению фактора;\n",
    "* `formula` -- формула в виде `response ~ group`, где `response` -- числовой признак, а `group` -- фактор с несколькими уровнями (категориальная переменная). Выборки получаются разделением числового признака по значению фактора;\n",
    "* `data` -- данные (матрица или таблица);\n",
    "* `na.action` -- функция, указывающая что делать с пропусками в данных.\n",
    "\n",
    "Возвращают:\n",
    "* `statistic` -- статистика критерия;\n",
    "* `parameter` -- число степеней свободы распределения хи-квадрат;\n",
    "* `p.value` -- p-value критерия.\n",
    "\n",
    "Примеры:\n",
    "\n",
    "*Напечатанные числа*: статистика критерия, число степеней свободы предельного распределения хи-квадрат, p-value критерия."
   ]
  },
  {
   "cell_type": "code",
   "execution_count": 17,
   "metadata": {},
   "outputs": [
    {
     "data": {
      "text/plain": [
       "\n",
       "\tKruskal-Wallis rank sum test\n",
       "\n",
       "data:  list(x, y, z)\n",
       "Kruskal-Wallis chi-squared = 0.77143, df = 2, p-value = 0.68\n"
      ]
     },
     "metadata": {},
     "output_type": "display_data"
    }
   ],
   "source": [
    "x <- c(2.9, 3.0, 2.5, 2.6, 3.2) # normal subjects\n",
    "y <- c(3.8, 2.7, 4.0, 2.4)      # with obstructive airway disease\n",
    "z <- c(2.8, 3.4, 3.7, 2.2, 2.0) # with asbestosis\n",
    "kruskal.test(list(x, y, z))"
   ]
  },
  {
   "cell_type": "markdown",
   "metadata": {},
   "source": [
    "Встроенные в R данные о качестве воздуха"
   ]
  },
  {
   "cell_type": "code",
   "execution_count": 18,
   "metadata": {
    "scrolled": true
   },
   "outputs": [
    {
     "data": {
      "text/html": [
       "<table>\n",
       "<thead><tr><th scope=col>Ozone</th><th scope=col>Solar.R</th><th scope=col>Wind</th><th scope=col>Temp</th><th scope=col>Month</th><th scope=col>Day</th></tr></thead>\n",
       "<tbody>\n",
       "\t<tr><td>41  </td><td>190 </td><td> 7.4</td><td>67  </td><td>5   </td><td>1   </td></tr>\n",
       "\t<tr><td>36  </td><td>118 </td><td> 8.0</td><td>72  </td><td>5   </td><td>2   </td></tr>\n",
       "\t<tr><td>12  </td><td>149 </td><td>12.6</td><td>74  </td><td>5   </td><td>3   </td></tr>\n",
       "\t<tr><td>18  </td><td>313 </td><td>11.5</td><td>62  </td><td>5   </td><td>4   </td></tr>\n",
       "\t<tr><td>NA  </td><td> NA </td><td>14.3</td><td>56  </td><td>5   </td><td>5   </td></tr>\n",
       "\t<tr><td>28  </td><td> NA </td><td>14.9</td><td>66  </td><td>5   </td><td>6   </td></tr>\n",
       "</tbody>\n",
       "</table>\n"
      ],
      "text/latex": [
       "\\begin{tabular}{r|llllll}\n",
       " Ozone & Solar.R & Wind & Temp & Month & Day\\\\\n",
       "\\hline\n",
       "\t 41   & 190  &  7.4 & 67   & 5    & 1   \\\\\n",
       "\t 36   & 118  &  8.0 & 72   & 5    & 2   \\\\\n",
       "\t 12   & 149  & 12.6 & 74   & 5    & 3   \\\\\n",
       "\t 18   & 313  & 11.5 & 62   & 5    & 4   \\\\\n",
       "\t NA   &  NA  & 14.3 & 56   & 5    & 5   \\\\\n",
       "\t 28   &  NA  & 14.9 & 66   & 5    & 6   \\\\\n",
       "\\end{tabular}\n"
      ],
      "text/markdown": [
       "\n",
       "| Ozone | Solar.R | Wind | Temp | Month | Day |\n",
       "|---|---|---|---|---|---|\n",
       "| 41   | 190  |  7.4 | 67   | 5    | 1    |\n",
       "| 36   | 118  |  8.0 | 72   | 5    | 2    |\n",
       "| 12   | 149  | 12.6 | 74   | 5    | 3    |\n",
       "| 18   | 313  | 11.5 | 62   | 5    | 4    |\n",
       "| NA   |  NA  | 14.3 | 56   | 5    | 5    |\n",
       "| 28   |  NA  | 14.9 | 66   | 5    | 6    |\n",
       "\n"
      ],
      "text/plain": [
       "  Ozone Solar.R Wind Temp Month Day\n",
       "1 41    190      7.4 67   5     1  \n",
       "2 36    118      8.0 72   5     2  \n",
       "3 12    149     12.6 74   5     3  \n",
       "4 18    313     11.5 62   5     4  \n",
       "5 NA     NA     14.3 56   5     5  \n",
       "6 28     NA     14.9 66   5     6  "
      ]
     },
     "metadata": {},
     "output_type": "display_data"
    }
   ],
   "source": [
    "head(airquality)"
   ]
  },
  {
   "cell_type": "markdown",
   "metadata": {},
   "source": [
    "Зависимость уровня озона от месяца"
   ]
  },
  {
   "cell_type": "code",
   "execution_count": 19,
   "metadata": {},
   "outputs": [
    {
     "data": {
      "text/plain": [
       "\n",
       "\tKruskal-Wallis rank sum test\n",
       "\n",
       "data:  Ozone by Month\n",
       "Kruskal-Wallis chi-squared = 29.267, df = 4, p-value = 6.901e-06\n"
      ]
     },
     "metadata": {},
     "output_type": "display_data"
    },
    {
     "data": {
      "image/png": "[encoded data removed]",
      "text/plain": [
       "plot without title"
      ]
     },
     "metadata": {},
     "output_type": "display_data"
    }
   ],
   "source": [
    "boxplot(Ozone ~ Month, data = airquality)\n",
    "kruskal.test(Ozone ~ Month, data = airquality)"
   ]
  },
  {
   "cell_type": "markdown",
   "metadata": {},
   "source": [
    "### Post-hoc анализ методом Данна\n",
    "\n",
    "Сначала надо поставить пакет `dunn.test`"
   ]
  },
  {
   "cell_type": "code",
   "execution_count": 20,
   "metadata": {},
   "outputs": [],
   "source": [
    "# install.packages('dunn.test')\n",
    "library(dunn.test)"
   ]
  },
  {
   "cell_type": "raw",
   "metadata": {},
   "source": [
    "dunn.test  (x, g=NA, method=p.adjustment.methods, kw=TRUE, label=TRUE, \n",
    "      wrap=FALSE, table=TRUE, list=FALSE, rmc=FALSE, alpha=0.05, altp=FALSE)\n",
    "\n",
    "p.adjustment.methods\n",
    "# c(\"none\", \"bonferroni\", \"sidak\", \"holm\", \"hs\", \"hochberg\", \"bh\", \"by\")"
   ]
  },
  {
   "cell_type": "markdown",
   "metadata": {},
   "source": [
    "Параметры\n",
    "\n",
    "* - `x` -- список выборок, то есть `list(x1, x2, ...)`;\n",
    "\n",
    "    или\n",
    "    \n",
    "* - `x` --- выборка;\n",
    "* - `g` -- фактор с несколькими уровнями (категориальная переменная). Выборки получаются разделением числового признака по значению фактора;\n",
    "* `method` -- метод множественной проверки гипотез из списка выше;\n",
    "* `kw` -- применять ли критерий Краскела-Уоллиса;\n",
    "* `label` -- использовать ли метки факторов в таблице;\n",
    "* `table` и `list` -- формат, в котором печатать результат;\n",
    "* `rmc` -- если указано, то таблица содержит оценки для \"строка минус столбец\", иначе (по умолчанию) для \"столбец минус строка\";\n",
    "* `alpha` -- уровень значимости.\n",
    "\n",
    "Возвращают:\n",
    "* `chi2` -- статистика критерия Красела-Уоллиса;\n",
    "* `Z` -- вектор из $m = k(k-1)/2$ статистик Данна, где $k$ -- количество групп;\n",
    "* `P` -- соответсвующий вектор p-value;\n",
    "* `P.adjust` -- соответсвующий подправленный (МПГ) вектор p-value;\n",
    "* `comparisons` -- вектор строк о попарном сравнении.\n",
    "\n",
    "Примеры:\n",
    "\n",
    "*В каждой ячейке печатается два числа:* оценка контраста, p-value критерия. Например, значение -0.64 в первой клетке таблицы означает, что среднее в группе 1 минус среднее в группе 2 оценивается как -0.64. Число 0.52 есть p-value гипотезы о незначимости различий средних в этих двух группах."
   ]
  },
  {
   "cell_type": "code",
   "execution_count": 21,
   "metadata": {},
   "outputs": [
    {
     "name": "stdout",
     "output_type": "stream",
     "text": [
      "  Kruskal-Wallis rank sum test\n",
      "\n",
      "data: x and group\n",
      "Kruskal-Wallis chi-squared = 0.7714, df = 2, p-value = 0.68\n",
      "\n",
      "\n",
      "                           Comparison of x by group                            \n",
      "                                    (Holm)                                     \n",
      "Col Mean-|\n",
      "Row Mean |          1          2\n",
      "---------+----------------------\n",
      "       2 |  -0.641426\n",
      "         |     0.5212\n",
      "         |\n",
      "       3 |   0.226778   0.855235\n",
      "         |     0.4103     0.5886\n",
      "\n",
      "alpha = 0.05\n",
      "Reject Ho if p <= alpha/2\n"
     ]
    }
   ],
   "source": [
    "x <- c(2.9, 3.0, 2.5, 2.6, 3.2) # normal subjects\n",
    "y <- c(3.8, 2.7, 4.0, 2.4)      # with obstructive airway disease\n",
    "z <- c(2.8, 3.4, 3.7, 2.2, 2.0) # with asbestosis\n",
    "dunn.test(x = list(x,y,z), method = 'holm')"
   ]
  },
  {
   "cell_type": "markdown",
   "metadata": {},
   "source": [
    "Встроенные в R данные о качестве воздуха"
   ]
  },
  {
   "cell_type": "code",
   "execution_count": 22,
   "metadata": {
    "scrolled": true
   },
   "outputs": [
    {
     "data": {
      "text/html": [
       "<table>\n",
       "<thead><tr><th scope=col>Ozone</th><th scope=col>Solar.R</th><th scope=col>Wind</th><th scope=col>Temp</th><th scope=col>Month</th><th scope=col>Day</th></tr></thead>\n",
       "<tbody>\n",
       "\t<tr><td>41  </td><td>190 </td><td> 7.4</td><td>67  </td><td>5   </td><td>1   </td></tr>\n",
       "\t<tr><td>36  </td><td>118 </td><td> 8.0</td><td>72  </td><td>5   </td><td>2   </td></tr>\n",
       "\t<tr><td>12  </td><td>149 </td><td>12.6</td><td>74  </td><td>5   </td><td>3   </td></tr>\n",
       "\t<tr><td>18  </td><td>313 </td><td>11.5</td><td>62  </td><td>5   </td><td>4   </td></tr>\n",
       "\t<tr><td>NA  </td><td> NA </td><td>14.3</td><td>56  </td><td>5   </td><td>5   </td></tr>\n",
       "\t<tr><td>28  </td><td> NA </td><td>14.9</td><td>66  </td><td>5   </td><td>6   </td></tr>\n",
       "</tbody>\n",
       "</table>\n"
      ],
      "text/latex": [
       "\\begin{tabular}{r|llllll}\n",
       " Ozone & Solar.R & Wind & Temp & Month & Day\\\\\n",
       "\\hline\n",
       "\t 41   & 190  &  7.4 & 67   & 5    & 1   \\\\\n",
       "\t 36   & 118  &  8.0 & 72   & 5    & 2   \\\\\n",
       "\t 12   & 149  & 12.6 & 74   & 5    & 3   \\\\\n",
       "\t 18   & 313  & 11.5 & 62   & 5    & 4   \\\\\n",
       "\t NA   &  NA  & 14.3 & 56   & 5    & 5   \\\\\n",
       "\t 28   &  NA  & 14.9 & 66   & 5    & 6   \\\\\n",
       "\\end{tabular}\n"
      ],
      "text/markdown": [
       "\n",
       "| Ozone | Solar.R | Wind | Temp | Month | Day |\n",
       "|---|---|---|---|---|---|\n",
       "| 41   | 190  |  7.4 | 67   | 5    | 1    |\n",
       "| 36   | 118  |  8.0 | 72   | 5    | 2    |\n",
       "| 12   | 149  | 12.6 | 74   | 5    | 3    |\n",
       "| 18   | 313  | 11.5 | 62   | 5    | 4    |\n",
       "| NA   |  NA  | 14.3 | 56   | 5    | 5    |\n",
       "| 28   |  NA  | 14.9 | 66   | 5    | 6    |\n",
       "\n"
      ],
      "text/plain": [
       "  Ozone Solar.R Wind Temp Month Day\n",
       "1 41    190      7.4 67   5     1  \n",
       "2 36    118      8.0 72   5     2  \n",
       "3 12    149     12.6 74   5     3  \n",
       "4 18    313     11.5 62   5     4  \n",
       "5 NA     NA     14.3 56   5     5  \n",
       "6 28     NA     14.9 66   5     6  "
      ]
     },
     "metadata": {},
     "output_type": "display_data"
    }
   ],
   "source": [
    "head(airquality)"
   ]
  },
  {
   "cell_type": "markdown",
   "metadata": {},
   "source": [
    "Посмотрим на зависимость уровня озона от месяца. На этот раз критерий Краскела-Уоллиса применять не будем -- он уже был применен ранее для этих данных."
   ]
  },
  {
   "cell_type": "code",
   "execution_count": 23,
   "metadata": {},
   "outputs": [
    {
     "name": "stdout",
     "output_type": "stream",
     "text": [
      "\n",
      "                           Comparison of x by group                            \n",
      "                                 (Bonferroni)                                  \n",
      "Col Mean-|\n",
      "Row Mean |          5          6          7          8\n",
      "---------+--------------------------------------------\n",
      "       6 |  -0.925158\n",
      "         |     1.0000\n",
      "         |\n",
      "       7 |  -4.419470  -2.244208\n",
      "         |    0.0000*     0.1241\n",
      "         |\n",
      "       8 |  -4.132813  -2.038635   0.286657\n",
      "         |    0.0002*     0.2074     1.0000\n",
      "         |\n",
      "       9 |  -1.321202   0.002538   3.217199   2.922827\n",
      "         |     0.9322     1.0000    0.0065*    0.0173*\n",
      "\n",
      "alpha = 0.05\n",
      "Reject Ho if p <= alpha/2\n"
     ]
    }
   ],
   "source": [
    "dunn.test(airquality$Ozone, airquality$Month, kw=FALSE, method=\"bonferroni\")"
   ]
  },
  {
   "cell_type": "markdown",
   "metadata": {},
   "source": [
    "### Post-hoc анализ с помощью пакета `PMCMR`\n",
    "\n",
    "Полная документация с формулами https://cran.r-project.org/web/packages/PMCMR/vignettes/PMCMR.pdf\n",
    "\n",
    "Для post-hoc анализа после критерия Краскела-Уоллиса реализовано:\n",
    "* `posthoc.kruskal.nemenyi.test`\n",
    "* `posthoc.kruskal.dunn.test`\n",
    "* `posthoc.kruskal.conover.test`\n",
    "\n",
    "Разберем интерфейс первого. Остальные работают аналогично."
   ]
  },
  {
   "cell_type": "code",
   "execution_count": 24,
   "metadata": {},
   "outputs": [
    {
     "name": "stderr",
     "output_type": "stream",
     "text": [
      "PMCMR is superseded by PMCMRplus and will be no longer maintained. You may wish to install PMCMRplus instead.\n"
     ]
    }
   ],
   "source": [
    "# install.packages('PMCMR')\n",
    "library('PMCMR')"
   ]
  },
  {
   "cell_type": "raw",
   "metadata": {},
   "source": [
    "posthoc.kruskal.nemenyi.test( x, g, dist =\n",
    "c(\"Tukey\", \"Chisquare\"), ...)\n",
    "\n",
    "## S3 method for class 'formula'\n",
    "posthoc.kruskal.nemenyi.test(formula, data, subset,\n",
    "na.action, dist =\n",
    "c(\"Tukey\", \"Chisquare\"), ...)"
   ]
  },
  {
   "cell_type": "markdown",
   "metadata": {},
   "source": [
    "Параметры\n",
    "\n",
    "* - `x` -- список выборок, то есть `list(x1, x2, ...)`;\n",
    "\n",
    "    или\n",
    "    \n",
    "* - `x` --- выборка;\n",
    "* - `g` -- фактор с несколькими уровнями (категориальная переменная). Выборки получаются разделением числового признака по значению фактора;\n",
    "* `formula` -- формула в виде `response ~ group`, где `response` -- числовой признак, а `group` -- фактор с несколькими уровнями (категориальная переменная). Выборки получаются разделением числового признака по значению фактора;\n",
    "* `data` -- данные (матрица или таблица);\n",
    "* `na.action` -- функция, указывающая что делать с пропусками в данных;\n",
    "* `dist` -- метод вычисления p-value.\n",
    "\n",
    "Возвращают:\n",
    "* `statistic` -- статистика;\n",
    "* `p.value` -- p-value.\n",
    "\n",
    "Примеры:\n",
    "\n",
    "Два эквивалентных способа применения критерия по датасету `airquality`, рассмотренному ранее."
   ]
  },
  {
   "cell_type": "code",
   "execution_count": 25,
   "metadata": {},
   "outputs": [
    {
     "name": "stderr",
     "output_type": "stream",
     "text": [
      "Warning message in posthoc.kruskal.nemenyi.test.default(airquality$Ozone, airquality$Month):\n",
      "“Ties are present, p-values are not corrected.”"
     ]
    },
    {
     "data": {
      "text/plain": [
       "\n",
       "\tPairwise comparisons using Tukey and Kramer (Nemenyi) test\t\n",
       "                   with Tukey-Dist approximation for independent samples \n",
       "\n",
       "data:  airquality$Ozone and airquality$Month \n",
       "\n",
       "  5       6       7       8      \n",
       "6 0.88737 -       -       -      \n",
       "7 9.7e-05 0.16373 -       -      \n",
       "8 0.00035 0.24773 0.99853 -      \n",
       "9 0.67819 1.00000 0.01136 0.02867\n",
       "\n",
       "P value adjustment method: none "
      ]
     },
     "metadata": {},
     "output_type": "display_data"
    }
   ],
   "source": [
    "posthoc.kruskal.nemenyi.test(airquality$Ozone, airquality$Month)"
   ]
  },
  {
   "cell_type": "code",
   "execution_count": 26,
   "metadata": {},
   "outputs": [
    {
     "name": "stderr",
     "output_type": "stream",
     "text": [
      "Warning message in posthoc.kruskal.nemenyi.test.default(c(41L, 36L, 12L, 18L, 28L, :\n",
      "“Ties are present, p-values are not corrected.”"
     ]
    },
    {
     "data": {
      "text/plain": [
       "\n",
       "\tPairwise comparisons using Tukey and Kramer (Nemenyi) test\t\n",
       "                   with Tukey-Dist approximation for independent samples \n",
       "\n",
       "data:  Ozone by Month \n",
       "\n",
       "  5       6       7       8      \n",
       "6 0.88737 -       -       -      \n",
       "7 9.7e-05 0.16373 -       -      \n",
       "8 0.00035 0.24773 0.99853 -      \n",
       "9 0.67819 1.00000 0.01136 0.02867\n",
       "\n",
       "P value adjustment method: none "
      ]
     },
     "metadata": {},
     "output_type": "display_data"
    }
   ],
   "source": [
    "posthoc.kruskal.nemenyi.test(Ozone ~ Month, data = airquality)"
   ]
  },
  {
   "cell_type": "markdown",
   "metadata": {},
   "source": [
    "В таблицах выше напечатаны p-value. Оценки контраста по модулю можно получить так:"
   ]
  },
  {
   "cell_type": "code",
   "execution_count": 27,
   "metadata": {},
   "outputs": [
    {
     "name": "stderr",
     "output_type": "stream",
     "text": [
      "Warning message in posthoc.kruskal.nemenyi.test.default(c(41L, 36L, 12L, 18L, 28L, :\n",
      "“Ties are present, p-values are not corrected.”"
     ]
    },
    {
     "data": {
      "text/html": [
       "<table>\n",
       "<thead><tr><th></th><th scope=col>5</th><th scope=col>6</th><th scope=col>7</th><th scope=col>8</th></tr></thead>\n",
       "<tbody>\n",
       "\t<tr><th scope=row>6</th><td>1.308037   </td><td>         NA</td><td>       NA  </td><td>      NA   </td></tr>\n",
       "\t<tr><th scope=row>7</th><td>6.248477   </td><td>3.172977980</td><td>       NA  </td><td>      NA   </td></tr>\n",
       "\t<tr><th scope=row>8</th><td>5.843186   </td><td>2.882328830</td><td>0.4052909  </td><td>      NA   </td></tr>\n",
       "\t<tr><th scope=row>9</th><td>1.867984   </td><td>0.003589141</td><td>4.5486434  </td><td>4.132446   </td></tr>\n",
       "</tbody>\n",
       "</table>\n"
      ],
      "text/latex": [
       "\\begin{tabular}{r|llll}\n",
       "  & 5 & 6 & 7 & 8\\\\\n",
       "\\hline\n",
       "\t6 & 1.308037    &          NA &        NA   &       NA   \\\\\n",
       "\t7 & 6.248477    & 3.172977980 &        NA   &       NA   \\\\\n",
       "\t8 & 5.843186    & 2.882328830 & 0.4052909   &       NA   \\\\\n",
       "\t9 & 1.867984    & 0.003589141 & 4.5486434   & 4.132446   \\\\\n",
       "\\end{tabular}\n"
      ],
      "text/markdown": [
       "\n",
       "| <!--/--> | 5 | 6 | 7 | 8 |\n",
       "|---|---|---|---|---|\n",
       "| 6 | 1.308037    |          NA |        NA   |       NA    |\n",
       "| 7 | 6.248477    | 3.172977980 |        NA   |       NA    |\n",
       "| 8 | 5.843186    | 2.882328830 | 0.4052909   |       NA    |\n",
       "| 9 | 1.867984    | 0.003589141 | 4.5486434   | 4.132446    |\n",
       "\n"
      ],
      "text/plain": [
       "  5        6           7         8       \n",
       "6 1.308037          NA        NA       NA\n",
       "7 6.248477 3.172977980        NA       NA\n",
       "8 5.843186 2.882328830 0.4052909       NA\n",
       "9 1.867984 0.003589141 4.5486434 4.132446"
      ]
     },
     "metadata": {},
     "output_type": "display_data"
    }
   ],
   "source": [
    "posthoc.kruskal.nemenyi.test(Ozone ~ Month, data = airquality)$statistic"
   ]
  },
  {
   "cell_type": "markdown",
   "metadata": {},
   "source": [
    "**Замечание.** Так же в пакете `PMCMR` реализован критерий Ван-дер-Вардена `vanWaerden.test`, альтренативный критерию Краскела-Уоллиса, а так же соответствующий критерий post-hoc анализа `posthoc.vanWaerden.test`."
   ]
  },
  {
   "cell_type": "markdown",
   "metadata": {},
   "source": [
    "### Критерий Джонкхиера\n",
    "\n",
    "$X_{ij},\\ \\ i=1,...,n_j,\\ \\ j=1,...,k$ --- однофакторная модель, случай независмых выборок\n",
    "\n",
    "$\\mathsf{H}_0\\colon \\mu_1 = ... = \\mu_k$\n",
    "\n",
    "$\\mathsf{H}_1\\colon \\mu_1 \\leqslant ... \\leqslant \\mu_k$"
   ]
  },
  {
   "cell_type": "code",
   "execution_count": 28,
   "metadata": {},
   "outputs": [
    {
     "name": "stderr",
     "output_type": "stream",
     "text": [
      "\n",
      "Attaching package: ‘clinfun’\n",
      "\n",
      "The following object is masked from ‘package:PMCMR’:\n",
      "\n",
      "    jonckheere.test\n",
      "\n"
     ]
    }
   ],
   "source": [
    "# install.packages('clinfun')\n",
    "library('clinfun')"
   ]
  },
  {
   "cell_type": "raw",
   "metadata": {},
   "source": [
    "jonckheere.test(x, g, alternative = c(\"two.sided\", \"increasing\",\n",
    "                 \"decreasing\"), nperm=NULL)"
   ]
  },
  {
   "cell_type": "markdown",
   "metadata": {},
   "source": [
    "Параметры\n",
    "* `x` --- выборка;\n",
    "* `g` -- фактор с несколькими уровнями (категориальная переменная). Выборки получаются разделением числового признака по значению фактора;\n",
    "* `alternative` -- вид альтернативы:\n",
    "    * `two.sided` -- монотонность $\\mathsf{H}_1\\colon (\\mu_1 \\leqslant ... \\leqslant \\mu_k \\text{ или } \\mu_1 \\geqslant ... \\geqslant \\mu_k)$;\n",
    "    * `increasing` -- возрастание $\\mathsf{H}_1\\colon \\mu_1 \\leqslant ... \\leqslant \\mu_k$;\n",
    "    * `decreasing` -- убывание $\\mathsf{H}_1\\colon \\mu_1 \\geqslant ... \\geqslant \\mu_k$;\n",
    "* `nperm` -- количество перестановок.\n",
    "\n",
    "Примеры:\n",
    "\n",
    "*Напечатанные числа:* значение статистики, p-value."
   ]
  },
  {
   "cell_type": "code",
   "execution_count": 29,
   "metadata": {},
   "outputs": [
    {
     "data": {
      "text/plain": [
       "\n",
       "\tJonckheere-Terpstra test\n",
       "\n",
       "data:  \n",
       "JT = 710, p-value = 0.0002524\n",
       "alternative hypothesis: two.sided\n"
      ]
     },
     "metadata": {},
     "output_type": "display_data"
    }
   ],
   "source": [
    "g <- rep(1:5, rep(10,5))  # фактор\n",
    "x <- rnorm(50)  # выборка\n",
    "jonckheere.test(x+0.3*g, g)"
   ]
  },
  {
   "cell_type": "markdown",
   "metadata": {},
   "source": [
    "# Связные выборки, непараметрический случай\n",
    "\n",
    "### Критерий Фридмана\n",
    "\n",
    "$X_{ij},\\ \\ i=1,...,n,\\ \\ j=1,...,k$ --- однофакторная модель, случай связных выборок\n",
    "\n",
    "$\\mathsf{H}_0\\colon \\beta_1 = ... = \\beta_k$\n",
    "\n",
    "$\\mathsf{H}_1\\colon \\exists i, j \\text{ т.ч. } \\beta_i \\not= \\beta_j$"
   ]
  },
  {
   "cell_type": "raw",
   "metadata": {},
   "source": [
    "## Default S3 method:\n",
    "friedman.test(y, groups, blocks, ...)\n",
    "\n",
    "## S3 method for class 'formula'\n",
    "friedman.test(formula, data, subset, na.action, ...)"
   ]
  },
  {
   "cell_type": "markdown",
   "metadata": {},
   "source": [
    "Параметры\n",
    "\n",
    "* - `y` -- выборки в виде матрицы;\n",
    "\n",
    "    или\n",
    "    \n",
    "* - `x` --- выборка;\n",
    "* - `groups` -- интересующий фактор с несколькими уровнями (категориальная переменная), задает выборки;\n",
    "* - `blocks` -- мешающий фактор с несколькими уровнями (категориальная переменная), задает строки;\n",
    "* `formula` -- формула вида `a ~ b | c`, где `a`, `b` и `c` задают данные, интересующий фактор и мешающий фактор (блоки) соответственно;\n",
    "* `data` -- данные (матрица или таблица);\n",
    "* `na.action` -- функция, указывающая что делать с пропусками в данных..\n",
    "\n",
    "Возвращают:\n",
    "* `statistic` -- статистика критерия;\n",
    "* `parameter` -- число степеней свободы распределения хи-квадрат;\n",
    "* `p.value` -- p-value критерия.\n",
    "\n",
    "Примеры:\n",
    "\n",
    "*Напечатанные числа*: значение статистики критерия, число степеней свободы распределения хи-квадрат, p-value критерия."
   ]
  },
  {
   "cell_type": "code",
   "execution_count": 30,
   "metadata": {},
   "outputs": [
    {
     "data": {
      "text/plain": [
       "\n",
       "\tFriedman rank sum test\n",
       "\n",
       "data:  samples\n",
       "Friedman chi-squared = 2.2857, df = 2, p-value = 0.3189\n"
      ]
     },
     "metadata": {},
     "output_type": "display_data"
    }
   ],
   "source": [
    "samples <-\n",
    "matrix(c(5.40, 5.50, 5.55,\n",
    "         5.85, 5.70, 5.75,\n",
    "         5.20, 5.60, 5.50,\n",
    "         5.55, 5.50, 5.40,\n",
    "         5.45, 5.55, 5.50,\n",
    "         5.55, 5.55, 5.35,\n",
    "         5.45, 5.50, 5.55,\n",
    "         5.50, 5.45, 5.25,\n",
    "         5.65, 5.60, 5.40,\n",
    "         5.70, 5.65, 5.55,\n",
    "         6.30, 6.30, 6.25),\n",
    "       nrow = 11,\n",
    "       byrow = TRUE)\n",
    "friedman.test(samples)"
   ]
  },
  {
   "cell_type": "markdown",
   "metadata": {},
   "source": [
    "Набор данных `warpbreaks` о количестве разрывов на ткацкий станок, причем ткацкому станку соответствует фиксированная длина пряжи. Колонка `wool` отвечает за тип шерсти (`A` или `B`), а `tension` за степень натяжжения (`L`, `M`, `H`). Проверено 9 ткацких станков на 6 типах деформации (`AL`, `AM`, `AH`, `BL`, `BM`, `BH`)."
   ]
  },
  {
   "cell_type": "code",
   "execution_count": 31,
   "metadata": {},
   "outputs": [
    {
     "data": {
      "text/html": [
       "<table>\n",
       "<thead><tr><th scope=col>breaks</th><th scope=col>wool</th><th scope=col>tension</th></tr></thead>\n",
       "<tbody>\n",
       "\t<tr><td>26</td><td>A </td><td>L </td></tr>\n",
       "\t<tr><td>30</td><td>A </td><td>L </td></tr>\n",
       "\t<tr><td>54</td><td>A </td><td>L </td></tr>\n",
       "\t<tr><td>25</td><td>A </td><td>L </td></tr>\n",
       "\t<tr><td>70</td><td>A </td><td>L </td></tr>\n",
       "\t<tr><td>52</td><td>A </td><td>L </td></tr>\n",
       "</tbody>\n",
       "</table>\n"
      ],
      "text/latex": [
       "\\begin{tabular}{r|lll}\n",
       " breaks & wool & tension\\\\\n",
       "\\hline\n",
       "\t 26 & A  & L \\\\\n",
       "\t 30 & A  & L \\\\\n",
       "\t 54 & A  & L \\\\\n",
       "\t 25 & A  & L \\\\\n",
       "\t 70 & A  & L \\\\\n",
       "\t 52 & A  & L \\\\\n",
       "\\end{tabular}\n"
      ],
      "text/markdown": [
       "\n",
       "| breaks | wool | tension |\n",
       "|---|---|---|\n",
       "| 26 | A  | L  |\n",
       "| 30 | A  | L  |\n",
       "| 54 | A  | L  |\n",
       "| 25 | A  | L  |\n",
       "| 70 | A  | L  |\n",
       "| 52 | A  | L  |\n",
       "\n"
      ],
      "text/plain": [
       "  breaks wool tension\n",
       "1 26     A    L      \n",
       "2 30     A    L      \n",
       "3 54     A    L      \n",
       "4 25     A    L      \n",
       "5 70     A    L      \n",
       "6 52     A    L      "
      ]
     },
     "metadata": {},
     "output_type": "display_data"
    }
   ],
   "source": [
    "head(warpbreaks)"
   ]
  },
  {
   "cell_type": "markdown",
   "metadata": {},
   "source": [
    "Усредним данные по станкам для каждого типа деформации"
   ]
  },
  {
   "cell_type": "code",
   "execution_count": 32,
   "metadata": {},
   "outputs": [
    {
     "data": {
      "text/html": [
       "<table>\n",
       "<thead><tr><th scope=col>w</th><th scope=col>t</th><th scope=col>x</th></tr></thead>\n",
       "<tbody>\n",
       "\t<tr><td>A       </td><td>L       </td><td>44.55556</td></tr>\n",
       "\t<tr><td>B       </td><td>L       </td><td>28.22222</td></tr>\n",
       "\t<tr><td>A       </td><td>M       </td><td>24.00000</td></tr>\n",
       "\t<tr><td>B       </td><td>M       </td><td>28.77778</td></tr>\n",
       "\t<tr><td>A       </td><td>H       </td><td>24.55556</td></tr>\n",
       "\t<tr><td>B       </td><td>H       </td><td>18.77778</td></tr>\n",
       "</tbody>\n",
       "</table>\n"
      ],
      "text/latex": [
       "\\begin{tabular}{r|lll}\n",
       " w & t & x\\\\\n",
       "\\hline\n",
       "\t A        & L        & 44.55556\\\\\n",
       "\t B        & L        & 28.22222\\\\\n",
       "\t A        & M        & 24.00000\\\\\n",
       "\t B        & M        & 28.77778\\\\\n",
       "\t A        & H        & 24.55556\\\\\n",
       "\t B        & H        & 18.77778\\\\\n",
       "\\end{tabular}\n"
      ],
      "text/markdown": [
       "\n",
       "| w | t | x |\n",
       "|---|---|---|\n",
       "| A        | L        | 44.55556 |\n",
       "| B        | L        | 28.22222 |\n",
       "| A        | M        | 24.00000 |\n",
       "| B        | M        | 28.77778 |\n",
       "| A        | H        | 24.55556 |\n",
       "| B        | H        | 18.77778 |\n",
       "\n"
      ],
      "text/plain": [
       "  w t x       \n",
       "1 A L 44.55556\n",
       "2 B L 28.22222\n",
       "3 A M 24.00000\n",
       "4 B M 28.77778\n",
       "5 A H 24.55556\n",
       "6 B H 18.77778"
      ]
     },
     "metadata": {},
     "output_type": "display_data"
    }
   ],
   "source": [
    "wb <- aggregate(warpbreaks$breaks,\n",
    "                by = list(w = warpbreaks$wool,\n",
    "                          t = warpbreaks$tension),\n",
    "                FUN = mean)\n",
    "\n",
    "wb"
   ]
  },
  {
   "cell_type": "markdown",
   "metadata": {},
   "source": [
    "Исследуем, влияет ли тип шерсти на количество разрывов. В данном случае тип шерсти -- интересующий фактор, а степень натяжения -- мешающий.\n",
    "\n",
    "Первый способ:"
   ]
  },
  {
   "cell_type": "code",
   "execution_count": 33,
   "metadata": {},
   "outputs": [
    {
     "data": {
      "text/plain": [
       "\n",
       "\tFriedman rank sum test\n",
       "\n",
       "data:  wb$x, wb$w and wb$t\n",
       "Friedman chi-squared = 0.33333, df = 1, p-value = 0.5637\n"
      ]
     },
     "metadata": {},
     "output_type": "display_data"
    }
   ],
   "source": [
    "friedman.test(wb$x, wb$w, wb$t)"
   ]
  },
  {
   "cell_type": "markdown",
   "metadata": {},
   "source": [
    "Второй способ:"
   ]
  },
  {
   "cell_type": "code",
   "execution_count": 34,
   "metadata": {},
   "outputs": [
    {
     "data": {
      "text/plain": [
       "\n",
       "\tFriedman rank sum test\n",
       "\n",
       "data:  x and w and t\n",
       "Friedman chi-squared = 0.33333, df = 1, p-value = 0.5637\n"
      ]
     },
     "metadata": {},
     "output_type": "display_data"
    }
   ],
   "source": [
    "friedman.test(x ~ w | t, data = wb)"
   ]
  },
  {
   "cell_type": "markdown",
   "metadata": {},
   "source": [
    "### Post-hoc анализ с помощью пакета `PMCMR`\n",
    "\n",
    "Полная документация с формулами https://cran.r-project.org/web/packages/PMCMR/vignettes/PMCMR.pdf\n",
    "\n",
    "Для post-hoc анализа после критерия Фридмана реализовано:\n",
    "* `posthoc.friedman.nemenyi.test`\n",
    "* `posthoc.friedman.conover.test`\n",
    "\n",
    "Разберем интерфейс первого. Второй работает аналогично."
   ]
  },
  {
   "cell_type": "raw",
   "metadata": {},
   "source": [
    "## Default S3 method:\n",
    " posthoc.friedman.nemenyi.test(y, groups, blocks,\n",
    "...)\n",
    "\n",
    "## S3 method for class 'formula'\n",
    " posthoc.friedman.nemenyi.test(formula, data, subset,\n",
    "na.action, ...)"
   ]
  },
  {
   "cell_type": "markdown",
   "metadata": {},
   "source": [
    "Параметры\n",
    "\n",
    "* - `y` -- выборки в виде матрицы;\n",
    "\n",
    "    или\n",
    "    \n",
    "* - `x` --- выборка;\n",
    "* - `groups` -- интересующий фактор с несколькими уровнями (категориальная переменная), задает выборки;\n",
    "* - `blocks` -- мешающий фактор с несколькими уровнями (категориальная переменная), задает строки;\n",
    "* `formula` -- формула вида `a ~ b | c`, где `a`, `b` и `c` задают данные, интересующий фактор и мешающий фактор (блоки) соответственно;\n",
    "* `data` -- данные (матрица или таблица);\n",
    "* `na.action` -- функция, указывающая что делать с пропусками в данных..\n",
    "\n",
    "Возвращают:\n",
    "* `statistic` -- статистика;\n",
    "* `p.value` -- p-value.\n",
    "\n",
    "Примеры:\n",
    "\n",
    "Создадим данные"
   ]
  },
  {
   "cell_type": "code",
   "execution_count": 35,
   "metadata": {},
   "outputs": [
    {
     "data": {
      "text/html": [
       "<table>\n",
       "<thead><tr><th scope=col>A</th><th scope=col>B</th><th scope=col>C</th><th scope=col>D</th><th scope=col>E</th><th scope=col>F</th></tr></thead>\n",
       "<tbody>\n",
       "\t<tr><td>3.88 </td><td>30.58</td><td>25.24</td><td>4.44 </td><td>29.41</td><td>38.87</td></tr>\n",
       "\t<tr><td>5.64 </td><td>30.14</td><td>33.52</td><td>7.94 </td><td>30.72</td><td>33.12</td></tr>\n",
       "\t<tr><td>5.76 </td><td>16.92</td><td>25.45</td><td>4.04 </td><td>32.92</td><td>39.15</td></tr>\n",
       "\t<tr><td>4.25 </td><td>23.19</td><td>18.85</td><td>4.40 </td><td>28.23</td><td>28.06</td></tr>\n",
       "\t<tr><td>5.91 </td><td>26.74</td><td>20.45</td><td>4.23 </td><td>23.35</td><td>38.23</td></tr>\n",
       "\t<tr><td>4.33 </td><td>10.91</td><td>26.67</td><td>4.36 </td><td>12.00</td><td>26.65</td></tr>\n",
       "</tbody>\n",
       "</table>\n"
      ],
      "text/latex": [
       "\\begin{tabular}{r|llllll}\n",
       " A & B & C & D & E & F\\\\\n",
       "\\hline\n",
       "\t 3.88  & 30.58 & 25.24 & 4.44  & 29.41 & 38.87\\\\\n",
       "\t 5.64  & 30.14 & 33.52 & 7.94  & 30.72 & 33.12\\\\\n",
       "\t 5.76  & 16.92 & 25.45 & 4.04  & 32.92 & 39.15\\\\\n",
       "\t 4.25  & 23.19 & 18.85 & 4.40  & 28.23 & 28.06\\\\\n",
       "\t 5.91  & 26.74 & 20.45 & 4.23  & 23.35 & 38.23\\\\\n",
       "\t 4.33  & 10.91 & 26.67 & 4.36  & 12.00 & 26.65\\\\\n",
       "\\end{tabular}\n"
      ],
      "text/markdown": [
       "\n",
       "| A | B | C | D | E | F |\n",
       "|---|---|---|---|---|---|\n",
       "| 3.88  | 30.58 | 25.24 | 4.44  | 29.41 | 38.87 |\n",
       "| 5.64  | 30.14 | 33.52 | 7.94  | 30.72 | 33.12 |\n",
       "| 5.76  | 16.92 | 25.45 | 4.04  | 32.92 | 39.15 |\n",
       "| 4.25  | 23.19 | 18.85 | 4.40  | 28.23 | 28.06 |\n",
       "| 5.91  | 26.74 | 20.45 | 4.23  | 23.35 | 38.23 |\n",
       "| 4.33  | 10.91 | 26.67 | 4.36  | 12.00 | 26.65 |\n",
       "\n"
      ],
      "text/plain": [
       "  A    B     C     D    E     F    \n",
       "1 3.88 30.58 25.24 4.44 29.41 38.87\n",
       "2 5.64 30.14 33.52 7.94 30.72 33.12\n",
       "3 5.76 16.92 25.45 4.04 32.92 39.15\n",
       "4 4.25 23.19 18.85 4.40 28.23 28.06\n",
       "5 5.91 26.74 20.45 4.23 23.35 38.23\n",
       "6 4.33 10.91 26.67 4.36 12.00 26.65"
      ]
     },
     "metadata": {},
     "output_type": "display_data"
    }
   ],
   "source": [
    "y <- matrix(c(\n",
    "    3.88, 5.64, 5.76, 4.25, 5.91, 4.33, 30.58, 30.14, 16.92,\n",
    "    23.19, 26.74, 10.91, 25.24, 33.52, 25.45, 18.85, 20.45, \n",
    "    26.67, 4.44, 7.94, 4.04, 4.4, 4.23, 4.36, 29.41, 30.72,\n",
    "    32.92, 28.23, 23.35, 12, 38.87, 33.12, 39.15, 28.06, 38.23,\n",
    "    26.65),nrow=6, ncol=6, \n",
    "dimnames=list(1:6,c(\"A\",\"B\",\"C\",\"D\",\"E\",\"F\")))\n",
    "y"
   ]
  },
  {
   "cell_type": "markdown",
   "metadata": {},
   "source": [
    "Применяем критерий Фридмана"
   ]
  },
  {
   "cell_type": "code",
   "execution_count": 36,
   "metadata": {},
   "outputs": [
    {
     "data": {
      "text/plain": [
       "\n",
       "\tFriedman rank sum test\n",
       "\n",
       "data:  y\n",
       "Friedman chi-squared = 23.333, df = 5, p-value = 0.0002915\n"
      ]
     },
     "metadata": {},
     "output_type": "display_data"
    }
   ],
   "source": [
    "friedman.test(y)"
   ]
  },
  {
   "cell_type": "markdown",
   "metadata": {},
   "source": [
    "Поскольку критерий Фридмана отвергает основную гипотезу, переходим к post-hoc анализу"
   ]
  },
  {
   "cell_type": "code",
   "execution_count": 37,
   "metadata": {},
   "outputs": [
    {
     "data": {
      "text/plain": [
       "\n",
       "\tPairwise comparisons using Nemenyi multiple comparison test\t\n",
       "             with q approximation for unreplicated blocked data \n",
       "\n",
       "data:  y \n",
       "\n",
       "  A      B      C      D      E     \n",
       "B 0.1880 -      -      -      -     \n",
       "C 0.0917 0.9996 -      -      -     \n",
       "D 0.9996 0.3388 0.1880 -      -     \n",
       "E 0.0395 0.9898 0.9996 0.0917 -     \n",
       "F 0.0016 0.6363 0.8200 0.0052 0.9400\n",
       "\n",
       "P value adjustment method: none "
      ]
     },
     "metadata": {},
     "output_type": "display_data"
    }
   ],
   "source": [
    "posthoc.friedman.nemenyi.test(y)"
   ]
  },
  {
   "cell_type": "markdown",
   "metadata": {},
   "source": [
    "В таблицах выше напечатаны p-value. Оценки контраста по модулю можно получить так:"
   ]
  },
  {
   "cell_type": "code",
   "execution_count": 38,
   "metadata": {},
   "outputs": [
    {
     "data": {
      "text/html": [
       "<table>\n",
       "<thead><tr><th></th><th scope=col>A</th><th scope=col>B</th><th scope=col>C</th><th scope=col>D</th><th scope=col>E</th></tr></thead>\n",
       "<tbody>\n",
       "\t<tr><th scope=row>B</th><td>3.2732684</td><td>       NA</td><td>       NA</td><td>      NA </td><td>      NA </td></tr>\n",
       "\t<tr><th scope=row>C</th><td>3.7097041</td><td>0.4364358</td><td>       NA</td><td>      NA </td><td>      NA </td></tr>\n",
       "\t<tr><th scope=row>D</th><td>0.4364358</td><td>2.8368326</td><td>3.2732684</td><td>      NA </td><td>      NA </td></tr>\n",
       "\t<tr><th scope=row>E</th><td>4.1461399</td><td>0.8728716</td><td>0.4364358</td><td>3.709704 </td><td>      NA </td></tr>\n",
       "\t<tr><th scope=row>F</th><td>5.4554473</td><td>2.1821789</td><td>1.7457431</td><td>5.019011 </td><td>1.309307 </td></tr>\n",
       "</tbody>\n",
       "</table>\n"
      ],
      "text/latex": [
       "\\begin{tabular}{r|lllll}\n",
       "  & A & B & C & D & E\\\\\n",
       "\\hline\n",
       "\tB & 3.2732684 &        NA &        NA &       NA  &       NA \\\\\n",
       "\tC & 3.7097041 & 0.4364358 &        NA &       NA  &       NA \\\\\n",
       "\tD & 0.4364358 & 2.8368326 & 3.2732684 &       NA  &       NA \\\\\n",
       "\tE & 4.1461399 & 0.8728716 & 0.4364358 & 3.709704  &       NA \\\\\n",
       "\tF & 5.4554473 & 2.1821789 & 1.7457431 & 5.019011  & 1.309307 \\\\\n",
       "\\end{tabular}\n"
      ],
      "text/markdown": [
       "\n",
       "| <!--/--> | A | B | C | D | E |\n",
       "|---|---|---|---|---|---|\n",
       "| B | 3.2732684 |        NA |        NA |       NA  |       NA  |\n",
       "| C | 3.7097041 | 0.4364358 |        NA |       NA  |       NA  |\n",
       "| D | 0.4364358 | 2.8368326 | 3.2732684 |       NA  |       NA  |\n",
       "| E | 4.1461399 | 0.8728716 | 0.4364358 | 3.709704  |       NA  |\n",
       "| F | 5.4554473 | 2.1821789 | 1.7457431 | 5.019011  | 1.309307  |\n",
       "\n"
      ],
      "text/plain": [
       "  A         B         C         D        E       \n",
       "B 3.2732684        NA        NA       NA       NA\n",
       "C 3.7097041 0.4364358        NA       NA       NA\n",
       "D 0.4364358 2.8368326 3.2732684       NA       NA\n",
       "E 4.1461399 0.8728716 0.4364358 3.709704       NA\n",
       "F 5.4554473 2.1821789 1.7457431 5.019011 1.309307"
      ]
     },
     "metadata": {},
     "output_type": "display_data"
    }
   ],
   "source": [
    "posthoc.friedman.nemenyi.test(y)$statistic"
   ]
  },
  {
   "cell_type": "markdown",
   "metadata": {},
   "source": [
    "**Замечание.** Так же в пакете `PMCMR` реализован критерий `quade.test`, альтренативный критерию Фридмана, а так же соответствующий критерий post-hoc анализа `posthoc.quade.test`."
   ]
  },
  {
   "cell_type": "markdown",
   "metadata": {},
   "source": [
    "### Критерий Пейджа\n",
    "\n",
    "$X_{ij},\\ \\ i=1,...,n,\\ \\ j=1,...,k$ --- однофакторная модель, случай связных выборок\n",
    "\n",
    "$\\mathsf{H}_0\\colon \\beta_1 = ... = \\beta_k$\n",
    "\n",
    "$\\mathsf{H}_1\\colon \\beta_1 \\leqslant ... \\leqslant \\beta_k$"
   ]
  },
  {
   "cell_type": "code",
   "execution_count": 39,
   "metadata": {},
   "outputs": [],
   "source": [
    "# install.packages('DescTools')\n",
    "library('DescTools')"
   ]
  },
  {
   "cell_type": "raw",
   "metadata": {},
   "source": [
    "## Default S3 method:\n",
    "PageTest(y, groups, blocks, ...)\n",
    "  \n",
    "## S3 method for class 'formula'\n",
    "PageTest(formula, data, subset, na.action, ...)"
   ]
  },
  {
   "cell_type": "markdown",
   "metadata": {},
   "source": [
    "*Все аналогично критерию Фридмана, но предполагается, что значения факторы упорядочены по предполагаемому увеличению воздействия.*\n",
    "\n",
    "Параметры\n",
    "\n",
    "* - `y` -- выборки в виде матрицы;\n",
    "\n",
    "    или\n",
    "    \n",
    "* - `x` --- выборка;\n",
    "* - `groups` -- интересующий фактор с несколькими уровнями (категориальная переменная), задает выборки;\n",
    "* - `blocks` -- мешающий фактор с несколькими уровнями (категориальная переменная), задает строки;\n",
    "* `formula` -- формула вида `a ~ b | c`, где `a`, `b` и `c` задают данные, интересующий фактор и мешающий фактор (блоки) соответственно;\n",
    "* `data` -- данные (матрица или таблица);\n",
    "* `na.action` -- функция, указывающая что делать с пропусками в данных..\n",
    "\n",
    "Возвращают:\n",
    "* `statistic` -- статистика критерия;\n",
    "* `parameter` -- число степеней свободы распределения хи-квадрат;\n",
    "* `p.value` -- p-value критерия.\n",
    "\n",
    "Примеры:\n",
    "\n",
    "*Напечатанные числа*: значение статистики критерия, p-value."
   ]
  },
  {
   "cell_type": "code",
   "execution_count": 40,
   "metadata": {},
   "outputs": [
    {
     "data": {
      "text/plain": [
       "\n",
       "\tPage test for ordered alternatives\n",
       "\n",
       "data:  soa.mat\n",
       "L = 342, p-value = 0.0005661\n"
      ]
     },
     "metadata": {},
     "output_type": "display_data"
    }
   ],
   "source": [
    "# Craig's data from Siegel & Castellan, p 186\n",
    "soa.mat <- matrix(c(.797,.873,.888,.923,.942,.956,\n",
    " .794,.772,.908,.982,.946,.913,\n",
    " .838,.801,.853,.951,.883,.837,\n",
    " .815,.801,.747,.859,.887,.902), nrow=4, byrow=TRUE)\n",
    "PageTest(soa.mat)"
   ]
  },
  {
   "cell_type": "markdown",
   "metadata": {},
   "source": [
    "Создадим некоторую таблицу данных"
   ]
  },
  {
   "cell_type": "code",
   "execution_count": 41,
   "metadata": {
    "scrolled": true
   },
   "outputs": [
    {
     "data": {
      "text/html": [
       "<table>\n",
       "<thead><tr><th scope=col>block</th><th scope=col>group</th><th scope=col>x</th></tr></thead>\n",
       "<tbody>\n",
       "\t<tr><td>1</td><td>B</td><td>2</td></tr>\n",
       "\t<tr><td>2</td><td>B</td><td>2</td></tr>\n",
       "\t<tr><td>3</td><td>B</td><td>1</td></tr>\n",
       "\t<tr><td>4</td><td>B</td><td>2</td></tr>\n",
       "\t<tr><td>5</td><td>B</td><td>2</td></tr>\n",
       "\t<tr><td>6</td><td>B</td><td>1</td></tr>\n",
       "</tbody>\n",
       "</table>\n"
      ],
      "text/latex": [
       "\\begin{tabular}{r|lll}\n",
       " block & group & x\\\\\n",
       "\\hline\n",
       "\t 1 & B & 2\\\\\n",
       "\t 2 & B & 2\\\\\n",
       "\t 3 & B & 1\\\\\n",
       "\t 4 & B & 2\\\\\n",
       "\t 5 & B & 2\\\\\n",
       "\t 6 & B & 1\\\\\n",
       "\\end{tabular}\n"
      ],
      "text/markdown": [
       "\n",
       "| block | group | x |\n",
       "|---|---|---|\n",
       "| 1 | B | 2 |\n",
       "| 2 | B | 2 |\n",
       "| 3 | B | 1 |\n",
       "| 4 | B | 2 |\n",
       "| 5 | B | 2 |\n",
       "| 6 | B | 1 |\n",
       "\n"
      ],
      "text/plain": [
       "  block group x\n",
       "1 1     B     2\n",
       "2 2     B     2\n",
       "3 3     B     1\n",
       "4 4     B     2\n",
       "5 5     B     2\n",
       "6 6     B     1"
      ]
     },
     "metadata": {},
     "output_type": "display_data"
    }
   ],
   "source": [
    "pers <- matrix(c(\n",
    "  3,2,1,4,\n",
    "  4,2,3,1,\n",
    "  4,1,2,3,\n",
    "  4,2,3,1,\n",
    "  3,2,1,4,\n",
    "  4,1,2,3,\n",
    "  4,3,2,1,\n",
    "  3,1,2,4,\n",
    "  3,1,4,2), \n",
    "  nrow=9, byrow=TRUE, dimnames=list(1:9, LETTERS[1:4]))  \n",
    "\n",
    "plng <- data.frame(expand.grid(1:9, c(\"B\",\"C\",\"D\",\"A\")), \n",
    "                   as.vector(pers[, c(\"B\",\"C\",\"D\",\"A\")]))\n",
    "colnames(plng) <- c(\"block\",\"group\",\"x\")\n",
    "\n",
    "head(plng)"
   ]
  },
  {
   "cell_type": "markdown",
   "metadata": {},
   "source": [
    "Первый способ применения критерия"
   ]
  },
  {
   "cell_type": "code",
   "execution_count": 42,
   "metadata": {
    "scrolled": true
   },
   "outputs": [
    {
     "data": {
      "text/plain": [
       "\n",
       "\tPage test for ordered alternatives\n",
       "\n",
       "data:  plng$x, plng$group and plng$block\n",
       "L = 252, p-value = 0.0007053\n"
      ]
     },
     "metadata": {},
     "output_type": "display_data"
    }
   ],
   "source": [
    "PageTest(plng$x, plng$group, plng$block)"
   ]
  },
  {
   "cell_type": "markdown",
   "metadata": {},
   "source": [
    "Второй способ применения критерия"
   ]
  },
  {
   "cell_type": "code",
   "execution_count": 43,
   "metadata": {},
   "outputs": [
    {
     "data": {
      "text/plain": [
       "\n",
       "\tPage test for ordered alternatives\n",
       "\n",
       "data:  x and group and block\n",
       "L = 252, p-value = 0.0007053\n"
      ]
     },
     "metadata": {},
     "output_type": "display_data"
    }
   ],
   "source": [
    "PageTest(x ~ group | block, data = plng)"
   ]
  },
  {
   "cell_type": "markdown",
   "metadata": {},
   "source": [
    "---------\n",
    "\n",
    "Прикладная статистика и анализ данных, 2019\n",
    "\n",
    "Никита Волков\n",
    "\n",
    "https://mipt-stats.gitlab.io/"
   ]
  }
 ],
 "metadata": {
  "kernelspec": {
   "display_name": "R",
   "language": "R",
   "name": "ir"
  },
  "language_info": {
   "codemirror_mode": "r",
   "file_extension": ".r",
   "mimetype": "text/x-r-source",
   "name": "R",
   "pygments_lexer": "r",
   "version": "3.6.2"
  }
 },
 "nbformat": 4,
 "nbformat_minor": 2
}
