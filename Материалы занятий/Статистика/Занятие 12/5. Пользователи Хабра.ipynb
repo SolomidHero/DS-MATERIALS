{
 "cells": [
  {
   "cell_type": "code",
   "execution_count": 1,
   "metadata": {},
   "outputs": [],
   "source": [
    "options(repr.plot.width=5, repr.plot.height=4)"
   ]
  },
  {
   "cell_type": "markdown",
   "metadata": {},
   "source": [
    "## Хабр: есть ли влияние кармы на количество комментариев?\n",
    "\n",
    "Идея: <a href=\"https://habr.com/ru/post/304528/\">статья</a> на Хабре.\n",
    "\n",
    "<a href=\"https://github.com/SergeyParamonov/HabraData\">Данные</a>\n",
    "\n",
    "----------------------\n",
    "\n",
    "В комментариях проскальзывала мысль, что люди мало комментируют статьи на Habr, т.к. боятся потерять карму. Получается, что в основном пишут те, у кого карма побольше. Проведем исследование этой гипотезы.\n",
    "\n",
    "Загружаем данные о пользователях"
   ]
  },
  {
   "cell_type": "code",
   "execution_count": 2,
   "metadata": {},
   "outputs": [
    {
     "data": {
      "text/html": [
       "<table>\n",
       "<thead><tr><th scope=col>user</th><th scope=col>karma</th><th scope=col>rating</th><th scope=col>publications</th><th scope=col>comments</th><th scope=col>favourites</th><th scope=col>followers</th></tr></thead>\n",
       "<tbody>\n",
       "\t<tr><td>0000168 </td><td> 1      </td><td>0       </td><td>11      </td><td>68      </td><td>  3     </td><td> 2      </td></tr>\n",
       "\t<tr><td>004helix</td><td> 4      </td><td>0       </td><td> 1      </td><td> 8      </td><td>  0     </td><td> 2      </td></tr>\n",
       "\t<tr><td>009b    </td><td> 0      </td><td>0       </td><td> 0      </td><td>43      </td><td> 40     </td><td> 4      </td></tr>\n",
       "\t<tr><td>029ah   </td><td> 1      </td><td>0       </td><td> 0      </td><td>11      </td><td> 17     </td><td> 5      </td></tr>\n",
       "\t<tr><td>03uk    </td><td>14      </td><td>0       </td><td> 4      </td><td>29      </td><td>157     </td><td>11      </td></tr>\n",
       "\t<tr><td>069056  </td><td> 9      </td><td>0       </td><td> 1      </td><td>30      </td><td>  5     </td><td> 5      </td></tr>\n",
       "</tbody>\n",
       "</table>\n"
      ],
      "text/latex": [
       "\\begin{tabular}{r|lllllll}\n",
       " user & karma & rating & publications & comments & favourites & followers\\\\\n",
       "\\hline\n",
       "\t 0000168  &  1       & 0        & 11       & 68       &   3      &  2      \\\\\n",
       "\t 004helix &  4       & 0        &  1       &  8       &   0      &  2      \\\\\n",
       "\t 009b     &  0       & 0        &  0       & 43       &  40      &  4      \\\\\n",
       "\t 029ah    &  1       & 0        &  0       & 11       &  17      &  5      \\\\\n",
       "\t 03uk     & 14       & 0        &  4       & 29       & 157      & 11      \\\\\n",
       "\t 069056   &  9       & 0        &  1       & 30       &   5      &  5      \\\\\n",
       "\\end{tabular}\n"
      ],
      "text/markdown": [
       "\n",
       "user | karma | rating | publications | comments | favourites | followers | \n",
       "|---|---|---|---|---|---|\n",
       "| 0000168  |  1       | 0        | 11       | 68       |   3      |  2       | \n",
       "| 004helix |  4       | 0        |  1       |  8       |   0      |  2       | \n",
       "| 009b     |  0       | 0        |  0       | 43       |  40      |  4       | \n",
       "| 029ah    |  1       | 0        |  0       | 11       |  17      |  5       | \n",
       "| 03uk     | 14       | 0        |  4       | 29       | 157      | 11       | \n",
       "| 069056   |  9       | 0        |  1       | 30       |   5      |  5       | \n",
       "\n",
       "\n"
      ],
      "text/plain": [
       "  user     karma rating publications comments favourites followers\n",
       "1 0000168   1    0      11           68         3         2       \n",
       "2 004helix  4    0       1            8         0         2       \n",
       "3 009b      0    0       0           43        40         4       \n",
       "4 029ah     1    0       0           11        17         5       \n",
       "5 03uk     14    0       4           29       157        11       \n",
       "6 069056    9    0       1           30         5         5       "
      ]
     },
     "metadata": {},
     "output_type": "display_data"
    }
   ],
   "source": [
    "user_data <- read.csv('user_dataset.csv', stringsAsFactors=F, na.strings=c(\"\", \"NA\"))\n",
    "head(user_data)"
   ]
  },
  {
   "cell_type": "markdown",
   "metadata": {},
   "source": [
    "Визуализируем данные"
   ]
  },
  {
   "cell_type": "code",
   "execution_count": 3,
   "metadata": {},
   "outputs": [
    {
     "data": {
      "image/png": "[encoded data removed]",
      "text/plain": [
       "plot without title"
      ]
     },
     "metadata": {},
     "output_type": "display_data"
    }
   ],
   "source": [
    "plot(comments ~ karma, data = user_data, cex = 0.5)"
   ]
  },
  {
   "cell_type": "code",
   "execution_count": 4,
   "metadata": {},
   "outputs": [
    {
     "data": {
      "image/png": "[encoded data removed]",
      "text/plain": [
       "Plot with title \"Histogram of user_data$comments\""
      ]
     },
     "metadata": {},
     "output_type": "display_data"
    }
   ],
   "source": [
    "hist(user_data$comments)"
   ]
  },
  {
   "cell_type": "code",
   "execution_count": 5,
   "metadata": {},
   "outputs": [
    {
     "data": {
      "image/png": "[encoded data removed]",
      "text/plain": [
       "Plot with title \"Histogram of comments_log\""
      ]
     },
     "metadata": {},
     "output_type": "display_data"
    }
   ],
   "source": [
    "comments_log <- log1p(user_data$comments)\n",
    "hist(comments_log)"
   ]
  },
  {
   "cell_type": "markdown",
   "metadata": {},
   "source": [
    "Разбиваем карму на интервалы"
   ]
  },
  {
   "cell_type": "code",
   "execution_count": 6,
   "metadata": {},
   "outputs": [
    {
     "data": {
      "text/plain": [
       "karma_cut\n",
       " (-Inf,0]    (0,10]   (10,25]   (25,50] (50, Inf] \n",
       "     5488      3808      2629      1411      1339 "
      ]
     },
     "metadata": {},
     "output_type": "display_data"
    }
   ],
   "source": [
    "karma_cut <- cut(user_data$karma, breaks=c(-Inf, 0, 10, 25, 50, Inf))\n",
    "table(karma_cut)"
   ]
  },
  {
   "cell_type": "markdown",
   "metadata": {},
   "source": [
    "Ящик с усами"
   ]
  },
  {
   "cell_type": "code",
   "execution_count": 7,
   "metadata": {},
   "outputs": [
    {
     "data": {
      "image/png": "[encoded data removed]",
      "text/plain": [
       "plot without title"
      ]
     },
     "metadata": {},
     "output_type": "display_data"
    }
   ],
   "source": [
    "boxplot(comments_log ~ karma_cut)"
   ]
  },
  {
   "cell_type": "markdown",
   "metadata": {},
   "source": [
    "Проверим нормальность..."
   ]
  },
  {
   "cell_type": "code",
   "execution_count": 8,
   "metadata": {},
   "outputs": [
    {
     "ename": "ERROR",
     "evalue": "Error in shapiro.test(comments_log): sample size must be between 3 and 5000\n",
     "output_type": "error",
     "traceback": [
      "Error in shapiro.test(comments_log): sample size must be between 3 and 5000\nTraceback:\n",
      "1. shapiro.test(comments_log)",
      "2. stop(\"sample size must be between 3 and 5000\")"
     ]
    }
   ],
   "source": [
    "shapiro.test(comments_log)"
   ]
  },
  {
   "cell_type": "markdown",
   "metadata": {},
   "source": [
    "... но данных слишком много"
   ]
  },
  {
   "cell_type": "code",
   "execution_count": 9,
   "metadata": {},
   "outputs": [
    {
     "data": {
      "text/html": [
       "14675"
      ],
      "text/latex": [
       "14675"
      ],
      "text/markdown": [
       "14675"
      ],
      "text/plain": [
       "[1] 14675"
      ]
     },
     "metadata": {},
     "output_type": "display_data"
    }
   ],
   "source": [
    "length(comments_log)"
   ]
  },
  {
   "cell_type": "markdown",
   "metadata": {},
   "source": [
    "Возьмем 300 случайных с возвращением"
   ]
  },
  {
   "cell_type": "code",
   "execution_count": 10,
   "metadata": {},
   "outputs": [
    {
     "data": {
      "text/plain": [
       "\n",
       "\tShapiro-Wilk normality test\n",
       "\n",
       "data:  sample(comments_log, 300, replace = TRUE)\n",
       "W = 0.98818, p-value = 0.01508\n"
      ]
     },
     "metadata": {},
     "output_type": "display_data"
    }
   ],
   "source": [
    "shapiro.test(sample(comments_log, 300, replace = TRUE))"
   ]
  },
  {
   "cell_type": "markdown",
   "metadata": {},
   "source": [
    "На нормальное не похоже, что видно и по QQ plot"
   ]
  },
  {
   "cell_type": "code",
   "execution_count": 11,
   "metadata": {},
   "outputs": [
    {
     "data": {
      "image/png": "[encoded data removed]",
      "text/plain": [
       "Plot with title \"Normal Q-Q Plot\""
      ]
     },
     "metadata": {},
     "output_type": "display_data"
    }
   ],
   "source": [
    "qqnorm(comments_log)"
   ]
  },
  {
   "cell_type": "markdown",
   "metadata": {},
   "source": [
    "### Далее анализ при неверных предположениях!!! (просто для примера использования функций)\n",
    "\n",
    "Критерий Бартлетта отвергает гипотезу о равенстве дисперсий в группах"
   ]
  },
  {
   "cell_type": "code",
   "execution_count": 12,
   "metadata": {},
   "outputs": [
    {
     "data": {
      "text/plain": [
       "\n",
       "\tBartlett test of homogeneity of variances\n",
       "\n",
       "data:  comments_log by karma_cut\n",
       "Bartlett's K-squared = 68.241, df = 4, p-value = 5.336e-14\n"
      ]
     },
     "metadata": {},
     "output_type": "display_data"
    }
   ],
   "source": [
    "bartlett.test(comments_log ~ karma_cut)"
   ]
  },
  {
   "cell_type": "markdown",
   "metadata": {},
   "source": [
    "Однофакторный ANOVA для случая нормальных выборок отвергает гипотезу об отсутствия влияния фактора"
   ]
  },
  {
   "cell_type": "code",
   "execution_count": 13,
   "metadata": {},
   "outputs": [
    {
     "data": {
      "text/plain": [
       "               Df Sum Sq Mean Sq F value Pr(>F)    \n",
       "karma_cut       4   5516  1379.0   833.7 <2e-16 ***\n",
       "Residuals   14670  24264     1.7                   \n",
       "---\n",
       "Signif. codes:  0 '***' 0.001 '**' 0.01 '*' 0.05 '.' 0.1 ' ' 1"
      ]
     },
     "metadata": {},
     "output_type": "display_data"
    }
   ],
   "source": [
    "m.aov <- aov(comments_log ~ karma_cut)\n",
    "summary(m.aov)"
   ]
  },
  {
   "cell_type": "markdown",
   "metadata": {},
   "source": [
    "Post hoc анализ методом HSD Тьюки"
   ]
  },
  {
   "cell_type": "code",
   "execution_count": 14,
   "metadata": {},
   "outputs": [
    {
     "data": {
      "text/plain": [
       "  Tukey multiple comparisons of means\n",
       "    95% family-wise confidence level\n",
       "\n",
       "Fit: aov(formula = comments_log ~ karma_cut)\n",
       "\n",
       "$karma_cut\n",
       "                          diff         lwr        upr     p adj\n",
       "(0,10]-(-Inf,0]    0.009429726 -0.06456789 0.08342734 0.9968708\n",
       "(10,25]-(-Inf,0]   0.756775337  0.67355669 0.83999398 0.0000000\n",
       "(25,50]-(-Inf,0]   1.367620300  1.26289594 1.47234466 0.0000000\n",
       "(50, Inf]-(-Inf,0] 1.742428264  1.63548761 1.84936891 0.0000000\n",
       "(10,25]-(0,10]     0.747345611  0.65837979 0.83631143 0.0000000\n",
       "(25,50]-(0,10]     1.358190574  1.24884357 1.46753758 0.0000000\n",
       "(50, Inf]-(0,10]   1.732998538  1.62152712 1.84446996 0.0000000\n",
       "(25,50]-(10,25]    0.610844963  0.49505869 0.72663124 0.0000000\n",
       "(50, Inf]-(10,25]  0.985652927  0.86785831 1.10344755 0.0000000\n",
       "(50, Inf]-(25,50]  0.374807964  0.24095199 0.50866394 0.0000000\n"
      ]
     },
     "metadata": {},
     "output_type": "display_data"
    }
   ],
   "source": [
    "TukeyHSD(m.aov, \"karma_cut\", conf.level=0.95)"
   ]
  },
  {
   "cell_type": "markdown",
   "metadata": {},
   "source": [
    "### Далее анализ без использования неверных предположений!!!\n",
    "\n",
    "Критерий Крускала-Уолиса однофакторного дисперсионного анализа отвергает гипотезу о том, что фактор кармы не влияет на логарифм количества комментариев."
   ]
  },
  {
   "cell_type": "code",
   "execution_count": 15,
   "metadata": {},
   "outputs": [
    {
     "data": {
      "text/plain": [
       "\n",
       "\tKruskal-Wallis rank sum test\n",
       "\n",
       "data:  comments_log by karma_cut\n",
       "Kruskal-Wallis chi-squared = 2811.4, df = 4, p-value < 2.2e-16\n"
      ]
     },
     "metadata": {},
     "output_type": "display_data"
    }
   ],
   "source": [
    "kruskal.test(comments_log ~ karma_cut)"
   ]
  },
  {
   "cell_type": "markdown",
   "metadata": {},
   "source": [
    "Post hoc анализ с помощью критерия Данна с поправкой Бонферрони.\n",
    "Он печатает таблицу попарных сравнений выборок.\n",
    "В каждой клетке второе число есть pvalue после применения поправки Бонферрони.\n",
    "Здесь мы видим, что незначимо логарифм количества комментариев отличается только в группах (-Inf,0] vs (0,5] и (50,100] vs (100, Inf]."
   ]
  },
  {
   "cell_type": "code",
   "execution_count": 16,
   "metadata": {},
   "outputs": [
    {
     "name": "stdout",
     "output_type": "stream",
     "text": [
      "  Kruskal-Wallis rank sum test\n",
      "\n",
      "data: comments_log and karma_cut\n",
      "Kruskal-Wallis chi-squared = 2811.3516, df = 4, p-value = 0\n",
      "\n",
      "\n",
      "                    Comparison of comments_log by karma_cut                    \n",
      "                                 (Bonferroni)                                  \n",
      "Col Mean-|\n",
      "Row Mean |   (-Inf,0]     (0,10]    (10,25]    (25,50]\n",
      "---------+--------------------------------------------\n",
      "  (0,10] |   0.315793\n",
      "         |     1.0000\n",
      "         |\n",
      " (10,25] |  -22.81451  -21.60336\n",
      "         |     0.0000     0.0000\n",
      "         |\n",
      " (25,50] |  -33.17260  -31.98393  -13.60598\n",
      "         |     0.0000     0.0000     0.0000\n",
      "         |\n",
      "(50, Inf |  -40.04065  -38.62282  -20.23335  -6.036292\n",
      "         |     0.0000     0.0000     0.0000     0.0000\n",
      "\n"
     ]
    }
   ],
   "source": [
    "# install.packages('dunn.test')\n",
    "library('dunn.test')\n",
    "\n",
    "dunn.test::dunn.test(comments_log, karma_cut, method = \"bonferroni\")"
   ]
  },
  {
   "cell_type": "markdown",
   "metadata": {},
   "source": [
    "То же самое, но с поправкой Холма. Тут незначимое отличие только в группах (50,100] vs (100, Inf]."
   ]
  },
  {
   "cell_type": "code",
   "execution_count": 17,
   "metadata": {},
   "outputs": [
    {
     "name": "stdout",
     "output_type": "stream",
     "text": [
      "  Kruskal-Wallis rank sum test\n",
      "\n",
      "data: comments_log and karma_cut\n",
      "Kruskal-Wallis chi-squared = 2811.3516, df = 4, p-value = 0\n",
      "\n",
      "\n",
      "                    Comparison of comments_log by karma_cut                    \n",
      "                                    (Holm)                                     \n",
      "Col Mean-|\n",
      "Row Mean |   (-Inf,0]     (0,10]    (10,25]    (25,50]\n",
      "---------+--------------------------------------------\n",
      "  (0,10] |   0.315793\n",
      "         |     0.3761\n",
      "         |\n",
      " (10,25] |  -22.81451  -21.60336\n",
      "         |    0.0000*    0.0000*\n",
      "         |\n",
      " (25,50] |  -33.17260  -31.98393  -13.60598\n",
      "         |    0.0000*    0.0000*    0.0000*\n",
      "         |\n",
      "(50, Inf |  -40.04065  -38.62282  -20.23335  -6.036292\n",
      "         |    0.0000*    0.0000*    0.0000*    0.0000*\n",
      "\n"
     ]
    }
   ],
   "source": [
    "dunn.test::dunn.test(comments_log, karma_cut, method = \"holm\")"
   ]
  },
  {
   "cell_type": "markdown",
   "metadata": {},
   "source": [
    "---------\n",
    "\n",
    "Прикладная статистика и анализ данных, 2019\n",
    "\n",
    "Никита Волков\n",
    "\n",
    "https://mipt-stats.gitlab.io/"
   ]
  }
 ],
 "metadata": {
  "kernelspec": {
   "display_name": "R",
   "language": "R",
   "name": "ir"
  },
  "language_info": {
   "codemirror_mode": "r",
   "file_extension": ".r",
   "mimetype": "text/x-r-source",
   "name": "R",
   "pygments_lexer": "r",
   "version": "3.6.2"
  }
 },
 "nbformat": 4,
 "nbformat_minor": 2
}
