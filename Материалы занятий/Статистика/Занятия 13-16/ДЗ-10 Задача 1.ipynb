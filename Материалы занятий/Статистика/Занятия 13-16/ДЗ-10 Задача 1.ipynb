{
 "cells": [
  {
   "cell_type": "code",
   "execution_count": 1,
   "metadata": {
    "ExecuteTime": {
     "end_time": "2020-05-15T05:13:42.164102Z",
     "start_time": "2020-05-15T05:13:42.074517Z"
    }
   },
   "outputs": [],
   "source": [
    "import numpy as np"
   ]
  },
  {
   "attachments": {
    "%D0%A1%D0%BD%D0%B8%D0%BC%D0%BE%D0%BA%20%D1%8D%D0%BA%D1%80%D0%B0%D0%BD%D0%B0%20%D0%BE%D1%82%202020-05-15%2008-21-38.png": {
     "image/png": "[encoded data removed]"
    }
   },
   "cell_type": "markdown",
   "metadata": {},
   "source": [
    "## Задача 1\n",
    "\n",
    "Совместное распределение $(X, Y, Z)$ задается таблицей:\n",
    "\n",
    "![%D0%A1%D0%BD%D0%B8%D0%BC%D0%BE%D0%BA%20%D1%8D%D0%BA%D1%80%D0%B0%D0%BD%D0%B0%20%D0%BE%D1%82%202020-05-15%2008-21-38.png](attachment:%D0%A1%D0%BD%D0%B8%D0%BC%D0%BE%D0%BA%20%D1%8D%D0%BA%D1%80%D0%B0%D0%BD%D0%B0%20%D0%BE%D1%82%202020-05-15%2008-21-38.png)\n",
    "\n",
    "Зададим трехмерную матрицу вероятностей"
   ]
  },
  {
   "cell_type": "code",
   "execution_count": 2,
   "metadata": {
    "ExecuteTime": {
     "end_time": "2020-05-15T05:16:37.008911Z",
     "start_time": "2020-05-15T05:16:36.996024Z"
    }
   },
   "outputs": [],
   "source": [
    "probs = np.array([\n",
    "    [[0.405, 0.045], [0.125, 0.125]],\n",
    "    [[0.045, 0.005], [0.125, 0.125]]\n",
    "])"
   ]
  },
  {
   "cell_type": "markdown",
   "metadata": {},
   "source": [
    "На самом деле получилось распределение вектора $(X, Z, Y)$"
   ]
  },
  {
   "cell_type": "code",
   "execution_count": 3,
   "metadata": {
    "ExecuteTime": {
     "end_time": "2020-05-15T05:16:41.248019Z",
     "start_time": "2020-05-15T05:16:41.220351Z"
    }
   },
   "outputs": [
    {
     "data": {
      "text/plain": [
       "array([[[0.405, 0.045],\n",
       "        [0.125, 0.125]],\n",
       "\n",
       "       [[0.045, 0.005],\n",
       "        [0.125, 0.125]]])"
      ]
     },
     "execution_count": 3,
     "metadata": {},
     "output_type": "execute_result"
    }
   ],
   "source": [
    "probs"
   ]
  },
  {
   "cell_type": "markdown",
   "metadata": {},
   "source": [
    "Вероятности при $Z=0$"
   ]
  },
  {
   "cell_type": "code",
   "execution_count": 6,
   "metadata": {
    "ExecuteTime": {
     "end_time": "2020-05-15T05:19:07.076410Z",
     "start_time": "2020-05-15T05:19:07.067833Z"
    }
   },
   "outputs": [
    {
     "data": {
      "text/plain": [
       "array([[0.405, 0.045],\n",
       "       [0.045, 0.005]])"
      ]
     },
     "execution_count": 6,
     "metadata": {},
     "output_type": "execute_result"
    }
   ],
   "source": [
    "probs[:, 0, :]"
   ]
  },
  {
   "cell_type": "markdown",
   "metadata": {},
   "source": [
    "### 1. Безусловная независимость\n",
    "\n",
    "Распределение $(X, Y)$"
   ]
  },
  {
   "cell_type": "code",
   "execution_count": 5,
   "metadata": {
    "ExecuteTime": {
     "end_time": "2020-05-15T05:18:21.166486Z",
     "start_time": "2020-05-15T05:18:21.161062Z"
    }
   },
   "outputs": [
    {
     "data": {
      "text/plain": [
       "array([[0.53, 0.17],\n",
       "       [0.17, 0.13]])"
      ]
     },
     "execution_count": 5,
     "metadata": {},
     "output_type": "execute_result"
    }
   ],
   "source": [
    "probs.sum(axis=1)"
   ]
  },
  {
   "cell_type": "markdown",
   "metadata": {},
   "source": [
    "Распределение $X$"
   ]
  },
  {
   "cell_type": "code",
   "execution_count": 7,
   "metadata": {
    "ExecuteTime": {
     "end_time": "2020-05-15T05:20:35.433409Z",
     "start_time": "2020-05-15T05:20:35.426654Z"
    }
   },
   "outputs": [
    {
     "data": {
      "text/plain": [
       "array([0.7, 0.3])"
      ]
     },
     "execution_count": 7,
     "metadata": {},
     "output_type": "execute_result"
    }
   ],
   "source": [
    "probs.sum(axis=(1, 2))"
   ]
  },
  {
   "cell_type": "markdown",
   "metadata": {},
   "source": [
    "Распределение $Y$"
   ]
  },
  {
   "cell_type": "code",
   "execution_count": 8,
   "metadata": {
    "ExecuteTime": {
     "end_time": "2020-05-15T05:20:46.111240Z",
     "start_time": "2020-05-15T05:20:46.101850Z"
    }
   },
   "outputs": [
    {
     "data": {
      "text/plain": [
       "array([0.7, 0.3])"
      ]
     },
     "execution_count": 8,
     "metadata": {},
     "output_type": "execute_result"
    }
   ],
   "source": [
    "probs.sum(axis=(0, 1))"
   ]
  },
  {
   "cell_type": "markdown",
   "metadata": {},
   "source": [
    "Теперь видно, что\n",
    "$\\mathsf{P}(X=0, Y=0) = 0.53 \\not= 0.7 \\cdot 0.7 = \\mathsf{P}(X=0)\\mathsf{P}(Y=0)$. Таким образом, случайные величины $X$ и $Y$ **зависимы**."
   ]
  },
  {
   "cell_type": "markdown",
   "metadata": {},
   "source": [
    "### 2. Условная независимость\n",
    "\n",
    "Покажем, что $\\mathsf{P}(X=x, Y=y \\:|\\: Z = z) = \\mathsf{P}(X=x\\:|\\: Z = z)\\:\\mathsf{P}(Y=y\\:|\\: Z = z)$ для всех $x, y, z$.\n",
    "\n",
    "Вспомним формулы \n",
    "* $\\mathsf{P}(X=x, Y=y \\:|\\: Z = z) = \\frac{\\mathsf{P}(X=x, Y=y, Z = z)}{\\mathsf{P}(Z = z)}$\n",
    "* $\\mathsf{P}(X=x \\:|\\: Z = z) = \\frac{\\mathsf{P}(X=x, Z = z)}{\\mathsf{P}(Z = z)}$\n",
    "\n",
    "Посчитаем распределения векторов $(X, Z)$ и $(Y, Z)$"
   ]
  },
  {
   "cell_type": "code",
   "execution_count": 9,
   "metadata": {
    "ExecuteTime": {
     "end_time": "2020-05-15T05:32:19.451214Z",
     "start_time": "2020-05-15T05:32:19.447463Z"
    }
   },
   "outputs": [
    {
     "data": {
      "text/plain": [
       "array([[0.45, 0.25],\n",
       "       [0.05, 0.25]])"
      ]
     },
     "execution_count": 9,
     "metadata": {},
     "output_type": "execute_result"
    }
   ],
   "source": [
    "probs_XZ = probs.sum(axis=2)\n",
    "probs_XZ"
   ]
  },
  {
   "cell_type": "code",
   "execution_count": 10,
   "metadata": {
    "ExecuteTime": {
     "end_time": "2020-05-15T05:34:21.451974Z",
     "start_time": "2020-05-15T05:34:21.440529Z"
    }
   },
   "outputs": [
    {
     "data": {
      "text/plain": [
       "array([[0.45, 0.25],\n",
       "       [0.05, 0.25]])"
      ]
     },
     "execution_count": 10,
     "metadata": {},
     "output_type": "execute_result"
    }
   ],
   "source": [
    "probs_YZ = probs.sum(axis=0).T\n",
    "probs_YZ"
   ]
  },
  {
   "cell_type": "markdown",
   "metadata": {},
   "source": [
    "А также распределение $Z$"
   ]
  },
  {
   "cell_type": "code",
   "execution_count": 11,
   "metadata": {
    "ExecuteTime": {
     "end_time": "2020-05-15T05:40:24.533548Z",
     "start_time": "2020-05-15T05:40:24.521937Z"
    }
   },
   "outputs": [
    {
     "data": {
      "text/plain": [
       "array([0.5, 0.5])"
      ]
     },
     "execution_count": 11,
     "metadata": {},
     "output_type": "execute_result"
    }
   ],
   "source": [
    "probs_Z = probs.sum(axis=(0, 2))\n",
    "probs_Z"
   ]
  },
  {
   "cell_type": "markdown",
   "metadata": {},
   "source": [
    "Проверим равенство для всех $x, y, z$"
   ]
  },
  {
   "cell_type": "code",
   "execution_count": 14,
   "metadata": {
    "ExecuteTime": {
     "end_time": "2020-05-15T05:42:43.214814Z",
     "start_time": "2020-05-15T05:42:43.201076Z"
    }
   },
   "outputs": [
    {
     "name": "stdout",
     "output_type": "stream",
     "text": [
      "P(X=0, Y=0 | Z=0) = 0.81\n",
      "P(X=0 | Z=0) * P(Y=0 | Z=0) = 0.81\n",
      "\n",
      "P(X=0, Y=0 | Z=1) = 0.25\n",
      "P(X=0 | Z=1) * P(Y=0 | Z=1) = 0.25\n",
      "\n",
      "P(X=0, Y=1 | Z=0) = 0.09\n",
      "P(X=0 | Z=0) * P(Y=1 | Z=0) = 0.09\n",
      "\n",
      "P(X=0, Y=1 | Z=1) = 0.25\n",
      "P(X=0 | Z=1) * P(Y=1 | Z=1) = 0.25\n",
      "\n",
      "P(X=1, Y=0 | Z=0) = 0.09\n",
      "P(X=1 | Z=0) * P(Y=0 | Z=0) = 0.09\n",
      "\n",
      "P(X=1, Y=0 | Z=1) = 0.25\n",
      "P(X=1 | Z=1) * P(Y=0 | Z=1) = 0.25\n",
      "\n",
      "P(X=1, Y=1 | Z=0) = 0.01\n",
      "P(X=1 | Z=0) * P(Y=1 | Z=0) = 0.009999999999999998\n",
      "\n",
      "P(X=1, Y=1 | Z=1) = 0.25\n",
      "P(X=1 | Z=1) * P(Y=1 | Z=1) = 0.25\n",
      "\n"
     ]
    }
   ],
   "source": [
    "for x in [0, 1]:\n",
    "    for y in [0, 1]:\n",
    "        for z in [0, 1]:\n",
    "            print('P(X={}, Y={} | Z={}) = '.format(x, y, z), end='')\n",
    "            print(probs[x, z, y] / probs_Z[z])\n",
    "            print('P(X={} | Z={}) * P(Y={} | Z={}) = '.format(x, z, y, z), end='')\n",
    "            print(probs_XZ[x, z] / probs_Z[z] * probs_YZ[y, z] / probs_Z[z])\n",
    "            print()"
   ]
  },
  {
   "cell_type": "markdown",
   "metadata": {},
   "source": [
    "Все совпадает с точностью до компьютерной погрешности. Таким образом, случайные величины $X$ и $Y$ **условно независимы** по $Z$."
   ]
  }
 ],
 "metadata": {
  "kernelspec": {
   "display_name": "Python 3",
   "language": "python",
   "name": "python3"
  },
  "language_info": {
   "codemirror_mode": {
    "name": "ipython",
    "version": 3
   },
   "file_extension": ".py",
   "mimetype": "text/x-python",
   "name": "python",
   "nbconvert_exporter": "python",
   "pygments_lexer": "ipython3",
   "version": "3.7.3"
  }
 },
 "nbformat": 4,
 "nbformat_minor": 2
}
