{
 "cells": [
  {
   "cell_type": "code",
   "execution_count": 1,
   "metadata": {
    "ExecuteTime": {
     "end_time": "2020-05-15T04:59:15.323020Z",
     "start_time": "2020-05-15T04:59:14.125540Z"
    }
   },
   "outputs": [],
   "source": [
    "import numpy as np\n",
    "import scipy.stats as sps\n",
    "from tqdm.notebook import tqdm\n",
    "import matplotlib.pyplot as plt\n",
    "\n",
    "import seaborn as sns\n",
    "sns.set(font_scale=1.5, palette='Set2')"
   ]
  },
  {
   "cell_type": "markdown",
   "metadata": {},
   "source": [
    "# Задача 5\n",
    "\n",
    "Случайный вектор $V = (X, Y, Z)$ определяется следующим образом\n",
    "\t$$X = \\varepsilon_1,$$\n",
    "\t$$Y = \\alpha X + \\varepsilon_2,$$\n",
    "\t$$Z = \\beta Y + \\gamma X + \\varepsilon_3,$$\n",
    "\tгде $(\\varepsilon_1, \\varepsilon_2, \\varepsilon_3) \\sim \\mathcal{N}(0, I_3)$."
   ]
  },
  {
   "cell_type": "code",
   "execution_count": 5,
   "metadata": {},
   "outputs": [],
   "source": [
    "alpha = 2\n",
    "beta = 1\n",
    "gamma = 1.5"
   ]
  },
  {
   "cell_type": "markdown",
   "metadata": {},
   "source": [
    "### 1. Условное мат. ожидание $\\mathsf{E}(Z | Y = y)$:"
   ]
  },
  {
   "cell_type": "markdown",
   "metadata": {},
   "source": [
    "Посторим функцию для генерации $V$."
   ]
  },
  {
   "cell_type": "code",
   "execution_count": 6,
   "metadata": {
    "ExecuteTime": {
     "end_time": "2020-05-15T04:59:15.332553Z",
     "start_time": "2020-05-15T04:59:15.325392Z"
    }
   },
   "outputs": [],
   "source": [
    "def rvs_V(size=1, alpha=1, beta=1, gamma=1):\n",
    "    \"\"\"\n",
    "    Функция, генерирующая выборку размера size случайных векторов V\n",
    "    Параметры\n",
    "    ----------\n",
    "    size : int, optional\n",
    "        Количество генерируемых величин\n",
    "    alpha : int, optional\n",
    "        Параметр для генерации случайной величины Y\n",
    "        $P(Y|X=x) \\sim \\mathcal{N}(\\alpha x, 1)$\n",
    "    beta : int, optional\n",
    "        Параметр для генерации случайной величины Z\n",
    "    gamma : int, optional\n",
    "        Параметр для генерации случайной величины Z\n",
    "        $P(Z|X=x, Y=y) \\sim \\mathcal{N}(\\beta y + \\gamma x, 1)$\n",
    "    Returns\n",
    "    -------\n",
    "    V : np.arrray\n",
    "        матрица размером (size, 3)\n",
    "    \"\"\"\n",
    "    \n",
    "    x = sps.norm(loc=0, scale=1).rvs(size=size)\n",
    "    y = alpha * x + sps.norm(loc=0, scale=1).rvs(size=size)\n",
    "    z = beta * y + gamma * x + sps.norm(loc=0, scale=1).rvs(size=size)\n",
    "    \n",
    "    V = np.vstack([x, y, z]).T\n",
    "    return V"
   ]
  },
  {
   "cell_type": "markdown",
   "metadata": {},
   "source": [
    "Теперь же попробуем 2 способами с помощью Монте-Карло получить $\\mathsf{E}(Z | Y = y)$, причем сразу 2 способами.\n",
    "\n",
    "**1 способ:**\n",
    "\n",
    "Идея следующая: \n",
    "\n",
    "* Нагенерируем выборку $V$.\n",
    "\n",
    "* Создадим сетку возможных значений для $Y$ (то есть значения $y$).\n",
    "\n",
    "* Для каждого значения $y$ из сетки ищем среди насемплированных значений $V$ такие элементы, для которых значения по оси $Y$ отличаются от $y$ не более чем на `eps` (то есть можно считать, что значения внутри этого интервала равны $y$).\n",
    "\n",
    "* По отобранным на предыдущем шаге элементам из выборки $V$ берем среднее по $Z$."
   ]
  },
  {
   "cell_type": "code",
   "execution_count": 7,
   "metadata": {
    "ExecuteTime": {
     "end_time": "2020-05-15T04:59:15.343789Z",
     "start_time": "2020-05-15T04:59:15.334928Z"
    }
   },
   "outputs": [],
   "source": [
    "def get_conditional_expectation_1_method(\n",
    "    size=10000000, target_index=2, condition_index=1, alpha=1, beta=1, \n",
    "    gamma=1,condition_min_val=-3, condition_max_val=3, eps=0.0005\n",
    "):\n",
    "    \"\"\"\n",
    "    Функция, рассчитывающая значение \n",
    "    $\\mathbb{E}(V[target_index] | V[condition_index] = value)$\n",
    "    где value из (condition_min_val condition_max_val)\n",
    "    Параметры\n",
    "    ----------\n",
    "    size : int, optional\n",
    "        Количество генерируемых величин, чем больше, тем точнее\n",
    "    target_index : int, optional\n",
    "        индекс вектора, по которому считается матож\n",
    "    condition_index : int, optional\n",
    "        индекс вектора, который является условной величиной\n",
    "    alpha : int, optional\n",
    "        Параметр для генерации случайной величины Y\n",
    "        $P(Y|X=x) \\sim \\mathcal{N}(\\alpha x, 1)$\n",
    "    beta : int, optional\n",
    "        Параметр для генерации случайной величины Z\n",
    "    gamma : int, optional\n",
    "        Параметр для генерации случайной величины Z\n",
    "        $P(Z|X=x, Y=y) \\sim \\mathcal{N}(\\beta y + \\gamma x, 1)$\n",
    "    condition_min_val : float, optional\n",
    "        Граница интервала\n",
    "    condition_max_val : float, optional\n",
    "        Граница интервала\n",
    "    eps : float, optional\n",
    "        радиус промежутка, внутри которого значения считаются одинаковыми\n",
    "    Returns\n",
    "    -------\n",
    "    conditional_expectation : np.arrray\n",
    "        массив размером 1000, итоговый условный матож\n",
    "    condition_grid : np.arrray\n",
    "        Сетка, по которой берутся значения условной величины \n",
    "    \"\"\"\n",
    "    \n",
    "    # 1. Сгенерируем выборку V\n",
    "    sample_v = rvs_V(size=size, alpha=alpha, beta=beta, gamma=gamma)\n",
    "    \n",
    "    # 2. Создадим сетку параметров \n",
    "    condition_grid = np.linspace(condition_min_val, condition_max_val, 1000)\n",
    "    conditional_expectation = []\n",
    "    \n",
    "    # 3. пройдемся циклом по значениям condition_value\n",
    "    for condition_value in tqdm(condition_grid):\n",
    "        # 4. Смотрим, какие значения в condition_index из семплированных \n",
    "        # достаточно близки к condition_value, \n",
    "        # что можно сказать, что они \"равны\"\n",
    "        # берем индексы этих элементов\n",
    "        indexes = np.abs(sample_v[:, condition_index] - condition_value) < eps\n",
    "        \n",
    "        # 5. считаем среднее по target_index среди тех элементов, \n",
    "        # где насемплированные значения по condition_index равны condition_value\n",
    "        conditional_expectation.append(sample_v[indexes, target_index].mean())\n",
    "            \n",
    "    return np.array(conditional_expectation), condition_grid"
   ]
  },
  {
   "cell_type": "code",
   "execution_count": 8,
   "metadata": {
    "ExecuteTime": {
     "end_time": "2020-05-15T05:00:04.451272Z",
     "start_time": "2020-05-15T04:59:15.345814Z"
    }
   },
   "outputs": [
    {
     "data": {
      "application/vnd.jupyter.widget-view+json": {
       "model_id": "c28d7189f2384e3f82804070f40bf110",
       "version_major": 2,
       "version_minor": 0
      },
      "text/plain": [
       "HBox(children=(FloatProgress(value=0.0, max=1000.0), HTML(value='')))"
      ]
     },
     "metadata": {},
     "output_type": "display_data"
    },
    {
     "name": "stdout",
     "output_type": "stream",
     "text": [
      "\n"
     ]
    }
   ],
   "source": [
    "conditional_expectation_1_method, condition_grid =\\\n",
    "    get_conditional_expectation_1_method(size=10000000, alpha=alpha, \n",
    "                                         beta=beta, gamma=gamma)"
   ]
  },
  {
   "cell_type": "markdown",
   "metadata": {},
   "source": [
    "Попробуем теперь получить ответ другим способом."
   ]
  },
  {
   "cell_type": "markdown",
   "metadata": {},
   "source": [
    "**2 способ:**\n",
    "\n",
    "Как было поcчитано в пункте (б) задания 4:\n",
    "\n",
    "$$\n",
    "       \\begin{align*}\n",
    "           \\mathsf{D} X &= 1\\\\\n",
    "           \\mathsf{D} Y &= \\alpha^2 + 1\\\\\n",
    "           \\mathsf{D} Z &= (\\alpha \\beta + \\gamma)^2 + \\beta^2 + 1\\\\\n",
    "           \\mathsf{E}[YZ] &= \\alpha (\\alpha\\beta + \\gamma) + \\beta\\\\\n",
    "           \\mathsf{E}[XY] &= \\alpha \\\\\n",
    "           \\mathsf{E}[XZ] &= \\alpha\\beta + \\gamma \\\\\n",
    "       \\end{align*}\n",
    "$$\n",
    "\n",
    "Подставив эти значения в матрицу ковариаций для многомерного нормального распределения, мы получим распределение на $V$."
   ]
  },
  {
   "cell_type": "markdown",
   "metadata": {},
   "source": [
    "**Код:**"
   ]
  },
  {
   "cell_type": "code",
   "execution_count": 9,
   "metadata": {
    "ExecuteTime": {
     "end_time": "2020-05-15T05:00:04.459117Z",
     "start_time": "2020-05-15T05:00:04.453246Z"
    }
   },
   "outputs": [],
   "source": [
    "def distribution_V(alpha=1, beta=1, gamma=1):\n",
    "    \"\"\"\n",
    "    Функция для создания распределения V\n",
    "    Параметры\n",
    "    ----------\n",
    "    alpha : int, optional\n",
    "        Параметр для генерации случайной величины Y\n",
    "        $P(Y|X=x) \\sim \\mathcal{N}(\\alpha x, 1)$\n",
    "    beta : int, optional\n",
    "        Параметр для генерации случайной величины Z\n",
    "    gamma : int, optional\n",
    "        Параметр для генерации случайной величины Z\n",
    "        $P(Z|X=x, Y=y) \\sim \\mathcal{N}(\\beta y + \\gamma x, 1)$\n",
    "    Returns\n",
    "    -------\n",
    "    V : sps.multivariate_normal\n",
    "        Распределение на случайный вектор V\n",
    "    \"\"\"\n",
    "\n",
    "    covariation_matrix = np.array([\n",
    "        [1, alpha, alpha * beta + gamma],\n",
    "        [alpha, alpha ** 2 + 1, alpha * (alpha * beta + gamma) + beta],\n",
    "        [alpha * beta + gamma, alpha * (alpha * beta + gamma) + beta,\n",
    "         1 + beta ** 2 + (alpha * beta + gamma) ** 2]\n",
    "    ])\n",
    "    \n",
    "    v_dist = sps.multivariate_normal(cov=covariation_matrix)\n",
    "    return v_dist"
   ]
  },
  {
   "cell_type": "markdown",
   "metadata": {},
   "source": [
    "Теперь, можно предложить следующий способ для численного подсчета условного мат.ожидания:\n",
    "\n",
    "* Нагенерерируем равномерно $x$, $z$ равномерно на $(-\\infty, +\\infty)$ (но так как у нас нормальные величины, то и от -15 до 15 пойдет)\n",
    "* Будем также, как и в 1 случае, перебирать y.\n",
    "* Условная плотность равна $p(x,z\\:|\\:y) = \\dfrac{p_V(x, y, z)}{p(y)}$, где $p(y)$ можно рассчитать так: \n",
    " * $p(y) = \\int\\limits_{-\\infty}^{+\\infty} \\int\\limits_{-\\infty}^{+\\infty} p_V(x, y, z)dxdz$, а значит можно просто взять среднее по плотности во всех точках $x$, $y$, $z$, где $y$ фиксирован.\n",
    "\n",
    "* Посмотрим на формулу условного мат. ожидания\n",
    "$$\\mathsf{E}(Z\\:|\\:Y=y) = \\int\\limits_{-\\infty}^{+\\infty} \\int\\limits_{-\\infty}^{+\\infty}  z\\ \\dfrac{p_V(x, y, z)}{p(y)}\\ dxdz = \\dfrac{1}{p(y)}\\int\\limits_{-\\infty}^{+\\infty} \\int\\limits_{-\\infty}^{+\\infty}  z\\ p_V(x, y, z)\\ dxdz\n",
    "$$\n",
    "\n",
    "* Таким образом, достаточно просто взять среднее плотности, умноженной на $z$, и поделить на среднее только по плотности (по всем значениям $x$, $z$)."
   ]
  },
  {
   "cell_type": "code",
   "execution_count": 10,
   "metadata": {
    "ExecuteTime": {
     "end_time": "2020-05-15T05:00:04.477205Z",
     "start_time": "2020-05-15T05:00:04.461001Z"
    }
   },
   "outputs": [],
   "source": [
    "def get_conditional_expectation_2_method(\n",
    "    size=10000000, target_index=2, condition_index=1, alpha=1, beta=1, \n",
    "    gamma=1, condition_min_val=-3, condition_max_val=3\n",
    "):\n",
    "    \"\"\"\n",
    "    Функция, рассчитывающая значение \n",
    "    $\\mathbb{E}(V[target_index] | V[condition_index] = value)$\n",
    "    где value из (condition_min_val condition_max_val)\n",
    "    Параметры\n",
    "    ----------\n",
    "    size : int, optional\n",
    "        Количество генерируемых величин, чем больше, тем точнее\n",
    "    target_index : int, optional\n",
    "        индекс вектора, по которому считается матож\n",
    "    condition_index : int, optional\n",
    "        индекс вектора, который является условной величиной\n",
    "    alpha : int, optional\n",
    "        Параметр для генерации случайной величины Y\n",
    "        $P(Y|X=x) \\sim \\mathcal{N}(\\alpha x, 1)$\n",
    "    beta : int, optional\n",
    "        Параметр для генерации случайной величины Z\n",
    "    gamma : int, optional\n",
    "        Параметр для генерации случайной величины Z\n",
    "        $P(Z|X=x, Y=y) \\sim \\mathcal{N}(\\beta y + \\gamma x, 1)$\n",
    "    condition_min_val : float, optional\n",
    "        Граница интервала\n",
    "    condition_max_val : float, optional\n",
    "        Граница интервала\n",
    "    Returns\n",
    "    -------\n",
    "    conditional_expectation : np.arrray\n",
    "        массив размером 100, итоговый условный матож\n",
    "    condition_grid : np.arrray\n",
    "        Сетка, по которой берутся значения условной величины \n",
    "    \"\"\"\n",
    "\n",
    "    # 1. Генерируем все случайные величины\n",
    "    x = sps.uniform(loc=-15, scale=30).rvs(size=size)\n",
    "    z = sps.uniform(loc=-15, scale=30).rvs(size=size)\n",
    "    y = sps.uniform(loc=-15, scale=30).rvs(size=size)\n",
    "\n",
    "    # 2. Создаем сетку\n",
    "    condition_grid = np.linspace(condition_min_val, condition_max_val, 100)\n",
    "    conditional_expectation = []\n",
    "\n",
    "    # 3. пройдемся циклом по значениям condition_value\n",
    "    for condition_value in tqdm(condition_grid):\n",
    "        # 4. заменим все значения condition_index в сетке на condition_value\n",
    "        grid = np.vstack([x, y, z])\n",
    "        grid[condition_index] = [condition_value] * size\n",
    "        grid = grid.T\n",
    "        \n",
    "        # 5. Посчитаем плотности во всех точках\n",
    "        pdf = distribution_V(alpha=alpha, beta=beta, gamma=gamma).pdf(grid)\n",
    "        \n",
    "        # 6. По формуле выше посчитаем результат\n",
    "        conditional_expectation.append((z * pdf).mean() / pdf.mean())\n",
    "\n",
    "    return np.array(conditional_expectation), condition_grid"
   ]
  },
  {
   "cell_type": "code",
   "execution_count": 11,
   "metadata": {
    "ExecuteTime": {
     "end_time": "2020-05-15T05:01:51.615973Z",
     "start_time": "2020-05-15T05:00:04.479174Z"
    }
   },
   "outputs": [
    {
     "data": {
      "application/vnd.jupyter.widget-view+json": {
       "model_id": "fab02573287e40b59812c0ab3d5e1753",
       "version_major": 2,
       "version_minor": 0
      },
      "text/plain": [
       "HBox(children=(FloatProgress(value=0.0), HTML(value='')))"
      ]
     },
     "metadata": {},
     "output_type": "display_data"
    },
    {
     "name": "stdout",
     "output_type": "stream",
     "text": [
      "\n"
     ]
    }
   ],
   "source": [
    "conditional_expectation_2_method, condition_grid_2 =\\\n",
    "get_conditional_expectation_2_method(size=10000000, alpha=alpha, \n",
    "                                     beta=beta, gamma=gamma)"
   ]
  },
  {
   "cell_type": "markdown",
   "metadata": {},
   "source": [
    "Посмотрим теперь на теоретический результат."
   ]
  },
  {
   "cell_type": "markdown",
   "metadata": {},
   "source": [
    "**Теоретический ответ:**\n",
    "\n",
    "Если посчитать интегралы и помучиться посчитать до конца, то получим следующий ответ:\n",
    "\n",
    "$\\mathsf{E}(Z|Y=y) = \\left(\\beta + \\frac{\\alpha\\gamma}{1+\\alpha^2}\\right) y$"
   ]
  },
  {
   "cell_type": "code",
   "execution_count": 12,
   "metadata": {
    "ExecuteTime": {
     "end_time": "2020-05-15T05:01:51.628413Z",
     "start_time": "2020-05-15T05:01:51.618553Z"
    }
   },
   "outputs": [],
   "source": [
    "def get_conditional_expectation_Z_by_Y_in_theory(\n",
    "    alpha=1, beta=1, gamma=1, condition_min_val=-3, condition_max_val=3\n",
    "):\n",
    "    \"\"\"\n",
    "    Функция для подсчета условного матожидания \n",
    "    $\\\\mathbb{E}(Z|Y=y)$ по формуле выше\n",
    "    \"\"\"\n",
    "    \n",
    "    condition_grid = np.linspace(condition_min_val, condition_max_val, 1000)\n",
    "    conditional_expectation = (beta + (alpha * gamma) \\\n",
    "                              / (1 + alpha ** 2)) * condition_grid\n",
    "    return conditional_expectation, condition_grid"
   ]
  },
  {
   "cell_type": "code",
   "execution_count": 15,
   "metadata": {
    "ExecuteTime": {
     "end_time": "2020-05-15T05:01:51.643304Z",
     "start_time": "2020-05-15T05:01:51.630657Z"
    }
   },
   "outputs": [],
   "source": [
    "conditional_expectation_in_theory, condition_grid =\\\n",
    "get_conditional_expectation_Z_by_Y_in_theory(alpha=alpha, beta=beta, \n",
    "                                             gamma=gamma)"
   ]
  },
  {
   "cell_type": "markdown",
   "metadata": {},
   "source": [
    "Отразим теперь полученные результаты на графике."
   ]
  },
  {
   "cell_type": "code",
   "execution_count": 16,
   "metadata": {
    "ExecuteTime": {
     "end_time": "2020-05-15T05:01:52.304147Z",
     "start_time": "2020-05-15T05:01:51.646705Z"
    }
   },
   "outputs": [
    {
     "data": {
      "image/png": "[encoded data removed]",
      "text/plain": [
       "<Figure size 720x504 with 1 Axes>"
      ]
     },
     "metadata": {
      "needs_background": "light"
     },
     "output_type": "display_data"
    }
   ],
   "source": [
    "plt.figure(figsize=(10, 7))\n",
    "plt.title(f\"alpha={alpha}, beta={beta}, gamma={gamma}\")\n",
    "plt.plot(condition_grid, \n",
    "         conditional_expectation_1_method, lw=3, \n",
    "         label='Сп. 1', c='#FF3300')\n",
    "plt.plot(condition_grid_2, \n",
    "         conditional_expectation_2_method, lw=5, \n",
    "         label='Сп. 2', c='#0099CC')\n",
    "plt.plot(condition_grid, \n",
    "         conditional_expectation_in_theory, lw=2, \n",
    "         label='Теория', c='gold')\n",
    "\n",
    "plt.ylabel('$\\\\mathsf{E}(Z\\\\:|\\\\:Y=y)$')\n",
    "plt.xlabel('$y$')\n",
    "plt.legend();"
   ]
  },
  {
   "cell_type": "markdown",
   "metadata": {},
   "source": [
    "**Итого:**\n",
    "\n",
    "* Как видим, все 3 ответа сошлись\n",
    "* 1 способ при одном и том же количестве нагенерированных значений более шумный в ответе, чем второй.\n",
    "* Линейную зависимость можно было легко получить на практике, не высчитывая сложных формул\n"
   ]
  },
  {
   "cell_type": "markdown",
   "metadata": {},
   "source": [
    "----"
   ]
  },
  {
   "cell_type": "markdown",
   "metadata": {},
   "source": [
    "### 2. Мат. ожидание при интервенции $\\mathsf{E}(Z|Y := y)$\n",
    "\n",
    "Для начала построим функцию генерации случайного вектора $V$ при фиксированном одном параметре."
   ]
  },
  {
   "cell_type": "code",
   "execution_count": 35,
   "metadata": {
    "ExecuteTime": {
     "end_time": "2020-05-15T05:01:52.315000Z",
     "start_time": "2020-05-15T05:01:52.305901Z"
    }
   },
   "outputs": [],
   "source": [
    "def rvs_intervention_V(\n",
    "    fixed_var_index=1, value=0, size=1, alpha=1, beta=1, gamma=1\n",
    "):\n",
    "    \"\"\"\n",
    "    Функция, генерирующая выборку размера size случайных векторов V \n",
    "    c фиксированным параметром fixed_var_index, в котором установлено значение value\n",
    "    Параметры\n",
    "    ----------\n",
    "    fixed_var_index: int, optional\n",
    "        Индекс для фиксации\n",
    "    value : int, optional\n",
    "        значение в фиксированном параметре\n",
    "    size : int, optional\n",
    "        Количество генерируемых величин\n",
    "    alpha : int, optional\n",
    "        Параметр для генерации случайной величины Y\n",
    "        $P(Y|X=x) \\sim \\mathcal{N}(\\alpha x, 1)$\n",
    "    beta : int, optional\n",
    "        Параметр для генерации случайной величины Z\n",
    "    gamma : int, optional\n",
    "        Параметр для генерации случайной величины Z\n",
    "        $P(Z|X=x, Y=y) \\sim \\mathcal{N}(\\beta y + \\gamma x, 1)$\n",
    "    Returns\n",
    "    -------\n",
    "    V : np.arrray\n",
    "        матрица размером (size, 3)\n",
    "    \"\"\"\n",
    "    \n",
    "    x = sps.norm(loc=0, scale=1).rvs(size=size)\n",
    "    if fixed_var_index == 0:\n",
    "        x = [value for _ in range(size)]\n",
    "    y = alpha * x + sps.norm(loc=0, scale=1).rvs(size=size)\n",
    "    if fixed_var_index == 1:\n",
    "        y = [value for _ in range(size)]\n",
    "    z = beta * np.array(y) + gamma * np.array(x) \\\n",
    "        + sps.norm(loc=0, scale=1).rvs(size=size)\n",
    "    if fixed_var_index == 2:\n",
    "        z = [value for _ in range(size)]\n",
    "    \n",
    "    V = np.vstack([x, y, z]).T\n",
    "    return V"
   ]
  },
  {
   "cell_type": "markdown",
   "metadata": {},
   "source": [
    "А далее снова воспользуемся методом Монте-Карло для подсчета мат.ожидания:\n",
    "\n",
    "* Пройдемся по значениям $y$\n",
    "* При каждом y насемплируем `size` случайных векторов $V$ с фиксированным $y$\n",
    "* Посчитаем по ним среднее по $z$"
   ]
  },
  {
   "cell_type": "code",
   "execution_count": 18,
   "metadata": {
    "ExecuteTime": {
     "end_time": "2020-05-15T05:01:52.332042Z",
     "start_time": "2020-05-15T05:01:52.316482Z"
    }
   },
   "outputs": [],
   "source": [
    "def get_intervention_expectation_monte_karlo(\n",
    "    size=1000000, target_index=2, intervention_index=1, alpha=1, beta=1, \n",
    "    gamma=1, intervention_min_val=-3, intervention_max_val=3\n",
    "):\n",
    "    \"\"\"\n",
    "    Функция, рассчитывающая значение \n",
    "    $\\mathbb{E}(V[target_index] | V[intervention_index] := value)$\n",
    "    где value из (intervention_min_val intervention_max_val)\n",
    "    Параметры\n",
    "    ----------\n",
    "    size : int, optional\n",
    "        Количество генерируемых величин, чем больше, тем точнее\n",
    "    target_index : int, optional\n",
    "        индекс вектора, по которому считается матож\n",
    "    intervention_max_val : int, optional\n",
    "        индекс вектора, который является интервенцией\n",
    "    alpha : int, optional\n",
    "        Параметр для генерации случайной величины Y\n",
    "        $P(Y|X=x) \\sim \\mathcal{N}(\\alpha x, 1)$\n",
    "    beta : int, optional\n",
    "        Параметр для генерации случайной величины Z\n",
    "    gamma : int, optional\n",
    "        Параметр для генерации случайной величины Z\n",
    "        $P(Z|X=x, Y=y) \\sim \\mathcal{N}(\\beta y + \\gamma x, 1)$\n",
    "    intervention_min_val : float, optional\n",
    "        Граница интервала\n",
    "    intervention_max_val : float, optional\n",
    "        Граница интервала\n",
    "    Returns\n",
    "    -------\n",
    "    intervention_expectation : np.arrray\n",
    "        массив размером 100, итоговый интервенционный матож\n",
    "    intervention_grid : np.arrray\n",
    "        Сетка, по которой берутся значения интервенции\n",
    "    \"\"\"\n",
    "    \n",
    "    # 1. Создаем сетку\n",
    "    intervention_grid = np.linspace(intervention_min_val, intervention_max_val, 100)\n",
    "    intervention_expectation = []\n",
    "    \n",
    "    # 2. Итерируемся по значениям для интервенции\n",
    "    for intervention_value in tqdm(intervention_grid):\n",
    "        # 3. Семплируем выборку с интервенцией по intervention_index\n",
    "        sample = rvs_intervention_V(fixed_var_index=intervention_index, \n",
    "                                    value=intervention_value,\n",
    "                                    size=size, alpha=alpha, beta=beta, gamma=gamma)\n",
    "        # 4. считаем среднее по target_index\n",
    "        intervention_expectation.append(sample[:, target_index].mean())\n",
    "\n",
    "    return np.array(intervention_expectation), intervention_grid"
   ]
  },
  {
   "cell_type": "code",
   "execution_count": 19,
   "metadata": {
    "ExecuteTime": {
     "end_time": "2020-05-15T05:02:17.878088Z",
     "start_time": "2020-05-15T05:01:52.334034Z"
    }
   },
   "outputs": [
    {
     "data": {
      "application/vnd.jupyter.widget-view+json": {
       "model_id": "9e60e7e7ded646a9b68484702f67af72",
       "version_major": 2,
       "version_minor": 0
      },
      "text/plain": [
       "HBox(children=(FloatProgress(value=0.0), HTML(value='')))"
      ]
     },
     "metadata": {},
     "output_type": "display_data"
    },
    {
     "name": "stdout",
     "output_type": "stream",
     "text": [
      "\n"
     ]
    }
   ],
   "source": [
    "intervention_expectation_monte_karlo, intervention_grid =\\\n",
    "get_intervention_expectation_monte_karlo(alpha=alpha, beta=beta, gamma=gamma)"
   ]
  },
  {
   "cell_type": "markdown",
   "metadata": {},
   "source": [
    "Посмотрим теперь на теоретический результат."
   ]
  },
  {
   "cell_type": "markdown",
   "metadata": {},
   "source": [
    "**Теоретический ответ:**\n",
    "\n",
    "С точки зрения теории, если посчитать интеграл, то получаем следующее:\n",
    "\n",
    "$ \\mathsf{E} (Z\\:|\\:Y:=y) = \\beta y $"
   ]
  },
  {
   "cell_type": "code",
   "execution_count": 20,
   "metadata": {
    "ExecuteTime": {
     "end_time": "2020-05-15T05:02:17.884884Z",
     "start_time": "2020-05-15T05:02:17.880036Z"
    }
   },
   "outputs": [],
   "source": [
    "def get_intervention_expectation_Z_by_Y_in_theory(\n",
    "    alpha=1, beta=1, gamma=1, intervention_min_val=-3, intervention_max_val=3\n",
    "):\n",
    "    \"\"\"Функция для подсчета матожидания \n",
    "    $\\\\mathbb{E}(Z|Y:=y)$ по формуле выше\"\"\"\n",
    "    \n",
    "    intervention_grid = np.linspace(intervention_min_val, \n",
    "                                    intervention_max_val, 1000)\n",
    "    intervention_expectation = beta * intervention_grid\n",
    "    return intervention_expectation, intervention_grid"
   ]
  },
  {
   "cell_type": "code",
   "execution_count": 21,
   "metadata": {
    "ExecuteTime": {
     "end_time": "2020-05-15T05:02:17.906141Z",
     "start_time": "2020-05-15T05:02:17.886980Z"
    }
   },
   "outputs": [],
   "source": [
    "intervention_expectation_theory, intervention_grid_theory =\\\n",
    "get_intervention_expectation_Z_by_Y_in_theory(alpha=alpha, beta=beta, \n",
    "                                              gamma=gamma)"
   ]
  },
  {
   "cell_type": "markdown",
   "metadata": {},
   "source": [
    "Отразим теперь полученные результаты на графике."
   ]
  },
  {
   "cell_type": "code",
   "execution_count": 22,
   "metadata": {
    "ExecuteTime": {
     "end_time": "2020-05-15T05:02:18.258659Z",
     "start_time": "2020-05-15T05:02:17.908491Z"
    }
   },
   "outputs": [
    {
     "data": {
      "image/png": "[encoded data removed]",
      "text/plain": [
       "<Figure size 720x504 with 1 Axes>"
      ]
     },
     "metadata": {
      "needs_background": "light"
     },
     "output_type": "display_data"
    }
   ],
   "source": [
    "plt.figure(figsize=(10, 7))\n",
    "plt.title(f\"alpha={alpha}, beta={beta}, gamma={gamma}\")\n",
    "plt.plot(intervention_grid, \n",
    "         intervention_expectation_monte_karlo, \n",
    "         lw=3, label='Монте-Карло', c='#FF3300')\n",
    "plt.plot(intervention_grid_theory, \n",
    "         intervention_expectation_theory, \n",
    "         lw=1, label='Теория', c='black')\n",
    "plt.ylabel('$\\\\mathsf{E}(Z\\\\:|\\\\:Y:=y)$')\n",
    "plt.xlabel('$y$')\n",
    "plt.legend();"
   ]
  },
  {
   "cell_type": "markdown",
   "metadata": {},
   "source": [
    "**Итого:**\n",
    "\n",
    "* Теоретический ответ снова совпал с реальным\n",
    "* Линейную зависимость можно было легко получить на практике, не высчитывая сложных формул"
   ]
  },
  {
   "cell_type": "markdown",
   "metadata": {},
   "source": [
    "### Совместный график:"
   ]
  },
  {
   "cell_type": "code",
   "execution_count": 23,
   "metadata": {
    "ExecuteTime": {
     "end_time": "2020-05-15T05:02:18.611284Z",
     "start_time": "2020-05-15T05:02:18.260568Z"
    }
   },
   "outputs": [
    {
     "data": {
      "image/png": "[encoded data removed]",
      "text/plain": [
       "<Figure size 720x504 with 1 Axes>"
      ]
     },
     "metadata": {
      "needs_background": "light"
     },
     "output_type": "display_data"
    }
   ],
   "source": [
    "plt.figure(figsize=(10, 7))\n",
    "plt.title(f\"alpha={alpha}, beta={beta}, gamma={gamma}\")\n",
    "plt.plot(condition_grid, conditional_expectation_in_theory, \n",
    "         lw=3, label='$\\\\mathsf{E}(Z\\\\:|\\\\:Y=y)$, теория')\n",
    "plt.plot(intervention_grid_theory, intervention_expectation_theory, \n",
    "         lw=3, label='$\\\\mathsf{E}(Z\\\\:|\\\\:Y:=y)$, теория')\n",
    "\n",
    "plt.xlabel('$y$')\n",
    "plt.legend();"
   ]
  },
  {
   "cell_type": "markdown",
   "metadata": {},
   "source": [
    "## Случай $\\beta = 0$\n",
    "\n",
    "Теперь посмотрим на случай, когда $Z$ напрямую не зависит от $Y$ (а только через $X$), то есть $\\beta = 0$. Интересно посмотреть, как в этом случае ведут себя мат. ожидания."
   ]
  },
  {
   "cell_type": "code",
   "execution_count": 24,
   "metadata": {},
   "outputs": [],
   "source": [
    "beta = 0"
   ]
  },
  {
   "cell_type": "code",
   "execution_count": 26,
   "metadata": {},
   "outputs": [],
   "source": [
    "conditional_expectation_in_theory, condition_grid =\\\n",
    "    get_conditional_expectation_Z_by_Y_in_theory(alpha=alpha, beta=beta, \n",
    "                                                 gamma=gamma)"
   ]
  },
  {
   "cell_type": "code",
   "execution_count": 37,
   "metadata": {},
   "outputs": [],
   "source": [
    "intervention_expectation_theory, intervention_grid_theory =\\\n",
    "get_intervention_expectation_Z_by_Y_in_theory(alpha=alpha, beta=beta, \n",
    "                                              gamma=gamma)"
   ]
  },
  {
   "cell_type": "code",
   "execution_count": 39,
   "metadata": {},
   "outputs": [
    {
     "data": {
      "image/png": "[encoded data removed]",
      "text/plain": [
       "<Figure size 720x504 with 1 Axes>"
      ]
     },
     "metadata": {
      "needs_background": "light"
     },
     "output_type": "display_data"
    }
   ],
   "source": [
    "plt.figure(figsize=(10, 7))\n",
    "plt.title(f\"alpha={alpha}, beta={beta}, gamma={gamma}\")\n",
    "plt.plot(condition_grid, conditional_expectation_in_theory, \n",
    "         lw=3, label='$\\\\mathsf{E}(Z\\\\:|\\\\:Y=y)$, теория')\n",
    "plt.plot(intervention_grid_theory, intervention_expectation_theory, \n",
    "         lw=3, label='$\\\\mathsf{E}(Z\\\\:|\\\\:Y:=y)$, теория')\n",
    "\n",
    "plt.xlabel('$y$')\n",
    "plt.legend();"
   ]
  },
  {
   "cell_type": "markdown",
   "metadata": {},
   "source": [
    "**Итого:**\n",
    "\n",
    "* Интервенционное математическое ожидание ведет себя на 0, что с точки зрения здравого смысла больше похоже на правду (раз $X$ и $Z$ симметричны относительно 0 и $Z$ не зависит от $Y$, то мат ожидание должно быть одно и то же и равняться 0).\n",
    "* С точки зрения условного мат. ожидания, получается, что условное мат. ожидание $Z$ зависит от $Y$ линейно. Зависимость получается из того факта, что обе величины зависят от $X$, а значит связаны друг с другом через $X$."
   ]
  }
 ],
 "metadata": {
  "kernelspec": {
   "display_name": "Python 3",
   "language": "python",
   "name": "python3"
  },
  "language_info": {
   "codemirror_mode": {
    "name": "ipython",
    "version": 3
   },
   "file_extension": ".py",
   "mimetype": "text/x-python",
   "name": "python",
   "nbconvert_exporter": "python",
   "pygments_lexer": "ipython3",
   "version": "3.7.3"
  }
 },
 "nbformat": 4,
 "nbformat_minor": 2
}
