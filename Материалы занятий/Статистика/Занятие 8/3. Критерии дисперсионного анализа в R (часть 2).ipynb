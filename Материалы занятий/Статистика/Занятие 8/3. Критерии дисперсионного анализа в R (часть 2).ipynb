{
 "cells": [
  {
   "cell_type": "markdown",
   "metadata": {},
   "source": [
    "# Критерии дисперсионного анализа в R\n",
    "\n",
    "### Критерий Уилкоксона-Манна-Уитни (независимые выборки) и критерий ранговых знаков Уилкоксона (связные выборки)"
   ]
  },
  {
   "cell_type": "raw",
   "metadata": {},
   "source": [
    "wilcox.test(x, y = NULL,\n",
    "            alternative = c(\"two.sided\", \"less\", \"greater\"),\n",
    "            mu = 0, paired = FALSE, exact = NULL, correct = TRUE,\n",
    "            conf.int = FALSE, conf.level = 0.95, ...)\n",
    "\n",
    "wilcox.test(formula, data, subset, na.action, ...)"
   ]
  },
  {
   "cell_type": "markdown",
   "metadata": {},
   "source": [
    "Параметры\n",
    "\n",
    "*для критерия Уилкоксона-Манна-Уитни*\n",
    "\n",
    "* `x` и `y` -- выборки, могут быть разной длины;\n",
    "* `mu` -- смещение, соответствующее основной гипотезе (обычно 0). Предполагается, что распределения выборок отличаются сдвигом `mu`;\n",
    "* `paired = FALSE` -- выборки независимые;\n",
    "\n",
    "*для критерия ранговых знаков Уилкоксона*\n",
    "\n",
    "* - `x` -- выборка разностей;\n",
    "\n",
    "    или\n",
    "    \n",
    "* - `x` и `y` выборки одинаковой длины, используются только разности;\n",
    "* `mu` -- смещение, соответствующее основной гипотезе (обычно 0). Предполагается, что распределение выборки разностей (`x` или `x-y`) симметрично относительно `mu`;\n",
    "* `paired = TRUE` -- выборки связные;\n",
    "\n",
    "*Общие параметры*\n",
    "\n",
    "* `alternative` -- тип альтернативной гипотезы (двусторонняя, односторонняя);\n",
    "* `correct` -- следует ли применять коррекцию при аппроксимации нормальным распределением;\n",
    "* `exact` -- использовать ли точные вычисления или же асимптотические;\n",
    "* `conf.int` -- строить ли доверительный интервал;\n",
    "* `conf.level` -- уровень доверия доверительного интервала;\n",
    "* `formula` -- формула в виде `lhs ~ rhs`, где `lhs` -- числовой признак, а `rhs` -- фактор с двумя уровнями (бинарная переменная). Выборки получаются разделением числового признака по значению фактора;\n",
    "* `data` -- данные (матрица или таблица);\n",
    "* `na.action` -- функция, указывающая что делать с пропусками в данных.\n",
    "\n",
    "Возвращают:\n",
    "* `statistic` -- статистика критерия;\n",
    "* `parameter` -- параметр распределения;\n",
    "* `p.value` -- p-value критерия;\n",
    "* `estimate` -- оценка параметра сдвига (только если `conf.int = TRUE`);\n",
    "* `conf.int` -- доверительный интервал параметра сдвига (только если `conf.int = TRUE`).\n",
    "\n",
    "Примеры:"
   ]
  },
  {
   "cell_type": "code",
   "execution_count": 1,
   "metadata": {},
   "outputs": [
    {
     "data": {
      "text/plain": [
       "\n",
       "\tWilcoxon rank sum test\n",
       "\n",
       "data:  x and y\n",
       "W = 0, p-value = 0.01587\n",
       "alternative hypothesis: true location shift is not equal to 0\n",
       "90 percent confidence interval:\n",
       " -7 -2\n",
       "sample estimates:\n",
       "difference in location \n",
       "                  -4.5 \n"
      ]
     },
     "metadata": {},
     "output_type": "display_data"
    }
   ],
   "source": [
    "x <- c(1, 2, 3, 4, 5)\n",
    "y <- c(6, 7, 8, 9)\n",
    "wilcox.test(x, y, conf.int = TRUE, conf.level = 0.90)"
   ]
  },
  {
   "cell_type": "code",
   "execution_count": 2,
   "metadata": {},
   "outputs": [
    {
     "data": {
      "text/plain": [
       "\n",
       "\tWilcoxon signed rank test\n",
       "\n",
       "data:  x and y\n",
       "V = 0, p-value = 0.0625\n",
       "alternative hypothesis: true location shift is not equal to 0\n",
       "90 percent confidence interval:\n",
       " -9 -1\n",
       "sample estimates:\n",
       "(pseudo)median \n",
       "            -5 \n"
      ]
     },
     "metadata": {},
     "output_type": "display_data"
    }
   ],
   "source": [
    "x <- c(1, 2, 3, 4, 5)\n",
    "y <- c(10, 9, 8, 7, 6)\n",
    "wilcox.test(x, y, paired = TRUE, conf.int = TRUE, conf.level = 0.90)"
   ]
  },
  {
   "cell_type": "markdown",
   "metadata": {},
   "source": [
    "Датасет `mtcars` встроен в R"
   ]
  },
  {
   "cell_type": "code",
   "execution_count": 3,
   "metadata": {},
   "outputs": [
    {
     "data": {
      "text/html": [
       "<table>\n",
       "<thead><tr><th></th><th scope=col>mpg</th><th scope=col>cyl</th><th scope=col>disp</th><th scope=col>hp</th><th scope=col>drat</th><th scope=col>wt</th><th scope=col>qsec</th><th scope=col>vs</th><th scope=col>am</th><th scope=col>gear</th><th scope=col>carb</th></tr></thead>\n",
       "<tbody>\n",
       "\t<tr><th scope=row>Mazda RX4</th><td>21.0 </td><td>6    </td><td>160  </td><td>110  </td><td>3.90 </td><td>2.620</td><td>16.46</td><td>0    </td><td>1    </td><td>4    </td><td>4    </td></tr>\n",
       "\t<tr><th scope=row>Mazda RX4 Wag</th><td>21.0 </td><td>6    </td><td>160  </td><td>110  </td><td>3.90 </td><td>2.875</td><td>17.02</td><td>0    </td><td>1    </td><td>4    </td><td>4    </td></tr>\n",
       "\t<tr><th scope=row>Datsun 710</th><td>22.8 </td><td>4    </td><td>108  </td><td> 93  </td><td>3.85 </td><td>2.320</td><td>18.61</td><td>1    </td><td>1    </td><td>4    </td><td>1    </td></tr>\n",
       "\t<tr><th scope=row>Hornet 4 Drive</th><td>21.4 </td><td>6    </td><td>258  </td><td>110  </td><td>3.08 </td><td>3.215</td><td>19.44</td><td>1    </td><td>0    </td><td>3    </td><td>1    </td></tr>\n",
       "\t<tr><th scope=row>Hornet Sportabout</th><td>18.7 </td><td>8    </td><td>360  </td><td>175  </td><td>3.15 </td><td>3.440</td><td>17.02</td><td>0    </td><td>0    </td><td>3    </td><td>2    </td></tr>\n",
       "\t<tr><th scope=row>Valiant</th><td>18.1 </td><td>6    </td><td>225  </td><td>105  </td><td>2.76 </td><td>3.460</td><td>20.22</td><td>1    </td><td>0    </td><td>3    </td><td>1    </td></tr>\n",
       "</tbody>\n",
       "</table>\n"
      ],
      "text/latex": [
       "\\begin{tabular}{r|lllllllllll}\n",
       "  & mpg & cyl & disp & hp & drat & wt & qsec & vs & am & gear & carb\\\\\n",
       "\\hline\n",
       "\tMazda RX4 & 21.0  & 6     & 160   & 110   & 3.90  & 2.620 & 16.46 & 0     & 1     & 4     & 4    \\\\\n",
       "\tMazda RX4 Wag & 21.0  & 6     & 160   & 110   & 3.90  & 2.875 & 17.02 & 0     & 1     & 4     & 4    \\\\\n",
       "\tDatsun 710 & 22.8  & 4     & 108   &  93   & 3.85  & 2.320 & 18.61 & 1     & 1     & 4     & 1    \\\\\n",
       "\tHornet 4 Drive & 21.4  & 6     & 258   & 110   & 3.08  & 3.215 & 19.44 & 1     & 0     & 3     & 1    \\\\\n",
       "\tHornet Sportabout & 18.7  & 8     & 360   & 175   & 3.15  & 3.440 & 17.02 & 0     & 0     & 3     & 2    \\\\\n",
       "\tValiant & 18.1  & 6     & 225   & 105   & 2.76  & 3.460 & 20.22 & 1     & 0     & 3     & 1    \\\\\n",
       "\\end{tabular}\n"
      ],
      "text/markdown": [
       "\n",
       "| <!--/--> | mpg | cyl | disp | hp | drat | wt | qsec | vs | am | gear | carb |\n",
       "|---|---|---|---|---|---|---|---|---|---|---|---|\n",
       "| Mazda RX4 | 21.0  | 6     | 160   | 110   | 3.90  | 2.620 | 16.46 | 0     | 1     | 4     | 4     |\n",
       "| Mazda RX4 Wag | 21.0  | 6     | 160   | 110   | 3.90  | 2.875 | 17.02 | 0     | 1     | 4     | 4     |\n",
       "| Datsun 710 | 22.8  | 4     | 108   |  93   | 3.85  | 2.320 | 18.61 | 1     | 1     | 4     | 1     |\n",
       "| Hornet 4 Drive | 21.4  | 6     | 258   | 110   | 3.08  | 3.215 | 19.44 | 1     | 0     | 3     | 1     |\n",
       "| Hornet Sportabout | 18.7  | 8     | 360   | 175   | 3.15  | 3.440 | 17.02 | 0     | 0     | 3     | 2     |\n",
       "| Valiant | 18.1  | 6     | 225   | 105   | 2.76  | 3.460 | 20.22 | 1     | 0     | 3     | 1     |\n",
       "\n"
      ],
      "text/plain": [
       "                  mpg  cyl disp hp  drat wt    qsec  vs am gear carb\n",
       "Mazda RX4         21.0 6   160  110 3.90 2.620 16.46 0  1  4    4   \n",
       "Mazda RX4 Wag     21.0 6   160  110 3.90 2.875 17.02 0  1  4    4   \n",
       "Datsun 710        22.8 4   108   93 3.85 2.320 18.61 1  1  4    1   \n",
       "Hornet 4 Drive    21.4 6   258  110 3.08 3.215 19.44 1  0  3    1   \n",
       "Hornet Sportabout 18.7 8   360  175 3.15 3.440 17.02 0  0  3    2   \n",
       "Valiant           18.1 6   225  105 2.76 3.460 20.22 1  0  3    1   "
      ]
     },
     "metadata": {},
     "output_type": "display_data"
    }
   ],
   "source": [
    "head(mtcars)"
   ]
  },
  {
   "cell_type": "markdown",
   "metadata": {},
   "source": [
    "Величина `am` -- бинарный фактор. По нему любой столбец можно разбить на две независимые выборки. Вызов фукнции выглядит так:"
   ]
  },
  {
   "cell_type": "code",
   "execution_count": 4,
   "metadata": {},
   "outputs": [
    {
     "name": "stderr",
     "output_type": "stream",
     "text": [
      "Warning message in wilcox.test.default(x = c(21.4, 18.7, 18.1, 14.3, 24.4, 22.8, :\n",
      "“cannot compute exact p-value with ties”Warning message in wilcox.test.default(x = c(21.4, 18.7, 18.1, 14.3, 24.4, 22.8, :\n",
      "“cannot compute exact confidence intervals with ties”"
     ]
    },
    {
     "data": {
      "text/plain": [
       "\n",
       "\tWilcoxon rank sum test with continuity correction\n",
       "\n",
       "data:  mpg by am\n",
       "W = 42, p-value = 0.001871\n",
       "alternative hypothesis: true location shift is not equal to 0\n",
       "90 percent confidence interval:\n",
       " -10.999924  -3.600056\n",
       "sample estimates:\n",
       "difference in location \n",
       "             -6.799963 \n"
      ]
     },
     "metadata": {},
     "output_type": "display_data"
    }
   ],
   "source": [
    "wilcox.test(mpg ~ am, data = mtcars, conf.int = TRUE, conf.level = 0.90) "
   ]
  },
  {
   "cell_type": "markdown",
   "metadata": {},
   "source": [
    "### Критерий знаков (связные выборки)"
   ]
  },
  {
   "cell_type": "raw",
   "metadata": {},
   "source": [
    "binom.test(x, n, p = 0.5,\n",
    "           alternative = c(\"two.sided\", \"less\", \"greater\"),\n",
    "           conf.level = 0.95)"
   ]
  },
  {
   "cell_type": "markdown",
   "metadata": {},
   "source": [
    "Параметры\n",
    "\n",
    "* - `x` -- вектор длины 2: количество единиц, количество нулей;\n",
    "\n",
    "    или\n",
    "    \n",
    "* - `x` и `n` -- количество единиц, размер выборки;\n",
    "* `p` -- вероятность единицы (обычно 0.5);\n",
    "* `alternative` -- тип альтернативной гипотезы (двусторонняя, односторонняя);\n",
    "* `conf.level` -- уровень доверия доверительного интервала;\n",
    "\n",
    "Возвращают:\n",
    "* `statistic` -- число единиц;\n",
    "* `parameter` -- число наблюдений;\n",
    "* `p.value` -- p-value критерия;\n",
    "* `estimate` -- оценка вероятности единицы;\n",
    "* `conf.int` -- доверительный интервал вероятности единицы.\n",
    "\n",
    "Примеры:"
   ]
  },
  {
   "cell_type": "code",
   "execution_count": 5,
   "metadata": {},
   "outputs": [
    {
     "data": {
      "text/plain": [
       "\n",
       "\tExact binomial test\n",
       "\n",
       "data:  5 and 18\n",
       "number of successes = 5, number of trials = 18, p-value = 0.09625\n",
       "alternative hypothesis: true probability of success is not equal to 0.5\n",
       "95 percent confidence interval:\n",
       " 0.09694921 0.53480197\n",
       "sample estimates:\n",
       "probability of success \n",
       "             0.2777778 \n"
      ]
     },
     "metadata": {},
     "output_type": "display_data"
    }
   ],
   "source": [
    "binom.test(5, 18)"
   ]
  },
  {
   "cell_type": "markdown",
   "metadata": {},
   "source": [
    "### Критерий Колмогорова (критерии согласия) и критерий Смирнова (критерии однородности)"
   ]
  },
  {
   "cell_type": "raw",
   "metadata": {},
   "source": [
    "ks.test(x, y, ..., alternative = c(\"two.sided\", \"less\", \"greater\"), exact = NULL, tol=1e-8, simulate.p.value=FALSE, B=2000)"
   ]
  },
  {
   "cell_type": "markdown",
   "metadata": {},
   "source": [
    "Параметры\n",
    "\n",
    "*для критерия Колмогорова*\n",
    "\n",
    "* `x` -- выборка;\n",
    "* `y` -- функция распределения или ее название;\n",
    "\n",
    "*для критерия Смирнова*\n",
    "\n",
    "* - `x` и `y` -- выборки, могут быть разной длины;\n",
    "\n",
    "*Общие параметры*\n",
    "\n",
    "* `alternative` -- тип альтернативной гипотезы (двусторонняя, односторонняя);\n",
    "* `correct` -- следует ли применять коррекцию при аппроксимации нормальным распределением;\n",
    "* `exact` -- использовать ли точные вычисления или же асимптотические.\n",
    "\n",
    "Возвращают:\n",
    "* `statistic` -- статистика критерия;\n",
    "* `p.value` -- p-value критерия.\n",
    "\n",
    "Примеры:"
   ]
  },
  {
   "cell_type": "code",
   "execution_count": 6,
   "metadata": {},
   "outputs": [
    {
     "data": {
      "text/plain": [
       "\n",
       "\tTwo-sample Kolmogorov-Smirnov test\n",
       "\n",
       "data:  x and y\n",
       "D = 1, p-value = 0.01587\n",
       "alternative hypothesis: two-sided\n"
      ]
     },
     "metadata": {},
     "output_type": "display_data"
    }
   ],
   "source": [
    "x <- c(1, 2, 3, 4, 5)\n",
    "y <- c(6, 7, 8, 9)\n",
    "ks.test(x, y)"
   ]
  },
  {
   "cell_type": "code",
   "execution_count": 7,
   "metadata": {},
   "outputs": [
    {
     "data": {
      "text/plain": [
       "\n",
       "\tOne-sample Kolmogorov-Smirnov test\n",
       "\n",
       "data:  x\n",
       "D = 0.84134, p-value = 0.000201\n",
       "alternative hypothesis: two-sided\n"
      ]
     },
     "metadata": {},
     "output_type": "display_data"
    }
   ],
   "source": [
    "ks.test(x, 'pnorm')"
   ]
  },
  {
   "cell_type": "markdown",
   "metadata": {},
   "source": [
    "---------\n",
    "\n",
    "Прикладная статистика и анализ данных, 2019\n",
    "\n",
    "Никита Волков\n",
    "\n",
    "https://mipt-stats.gitlab.io/"
   ]
  }
 ],
 "metadata": {
  "kernelspec": {
   "display_name": "R",
   "language": "R",
   "name": "ir"
  },
  "language_info": {
   "codemirror_mode": "r",
   "file_extension": ".r",
   "mimetype": "text/x-r-source",
   "name": "R",
   "pygments_lexer": "r",
   "version": "3.6.2"
  }
 },
 "nbformat": 4,
 "nbformat_minor": 2
}
