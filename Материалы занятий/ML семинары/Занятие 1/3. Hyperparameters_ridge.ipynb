{
 "cells": [
  {
   "cell_type": "code",
   "execution_count": 9,
   "metadata": {
    "colab": {},
    "colab_type": "code",
    "id": "Llyf5oChqt1C",
    "scrolled": true
   },
   "outputs": [],
   "source": [
    "from sklearn.model_selection import train_test_split\n",
    "from sklearn.model_selection import ShuffleSplit\n",
    "from sklearn.model_selection import StratifiedKFold\n",
    "from sklearn.model_selection import GridSearchCV\n",
    "from sklearn.linear_model import Ridge\n",
    "from sklearn.metrics import accuracy_score\n",
    "from sklearn import datasets\n",
    "import scipy.stats as sps\n",
    "import numpy as np\n",
    "import matplotlib.pyplot as plt\n",
    "import pandas as pd\n",
    "import seaborn as sns\n",
    "import warnings\n",
    "sns.set('notebook', style='whitegrid', font_scale=1.3)"
   ]
  },
  {
   "cell_type": "markdown",
   "metadata": {
    "colab_type": "text",
    "id": "a8ENAm1mqt1M"
   },
   "source": [
    "# Обзор методов поиска гиперпараметров"
   ]
  },
  {
   "cell_type": "markdown",
   "metadata": {
    "colab_type": "text",
    "id": "aNlFhcoeqt1O"
   },
   "source": [
    "В машинном обучении существуют различные семейства моделей, выбор которых зависит от задачи, которая перед вам стоит.   "
   ]
  },
  {
   "cell_type": "markdown",
   "metadata": {
    "colab_type": "text",
    "id": "_KjtK4ARqt1Q"
   },
   "source": [
    "Предположим, вы выбрали семейство моделей (например, линейная регрессия). Теперь вам нужно настроить гиперпараметры данной модели. Для начала нужно определить, что в машинном обучении называют гиперпараметрами.  \n",
    "  \n",
    "**Гиперпараметры**  - это параметры модели, которые задаются ДО ее обучения, т.е. они не являются обучаемымии параметрами и не изменяются в ходе обучения модели.  \n",
    "\n",
    "Пример: выбор способа регуляризации в модели линейной регрессии. Строго говоря, выбор семейства моделей также является гиперпараметром. В данном ноутбуке мы изучим различные методы подбора гиперапараметров, затем применим их к ридж-регрессии.  "
   ]
  },
  {
   "cell_type": "markdown",
   "metadata": {
    "colab_type": "text",
    "id": "K21E0iulqt1Z"
   },
   "source": [
    "В контексте линейной регрессии мы будем работать с гиперпараметром, который является коэффициентом регуляризации. Этот гиперпараметр относится к группе, которую мы в дальнейшем для удобства будем называть красными гиперпараметрами:  \n",
    "* <span style=\"color:red\">красные гиперпараметры </span> - гиперпараметры, ограничивающие модель. Если увеличить значение гиперпараметра такого типа, то можно снизить переобучение модели.  И наоборот, уменьшение значений даст модели возможность лучше улавливать зависимости в данных. <br> Пример: коэффициент регуляризации в Ridge или Lasso регрессии. Чем больше данный коэффициент, тем меньше зависимостей улавливает модель, именно поэтому при больших значениях параметра регуляризации коэффициенты признаков зануляются.  "
   ]
  },
  {
   "cell_type": "markdown",
   "metadata": {},
   "source": [
    "О других видах гиперпараметров вы узнаете позже."
   ]
  },
  {
   "cell_type": "markdown",
   "metadata": {
    "colab_type": "text",
    "id": "PBv93X0cqt1b"
   },
   "source": [
    "# Поиск гиперпараметров для Ridge регрессии"
   ]
  },
  {
   "cell_type": "markdown",
   "metadata": {
    "colab_type": "text",
    "id": "TUOUKrygqt1c"
   },
   "source": [
    "Будем предсказывать цены квартир в Бостоне при помощи линейной регрессии с $l_2$-регуляризацией. Вспомним, что в Ridge-регрессии мы оптимизируем $\\lVert Y - X \\theta\\rVert^2_2 + \\alpha \\cdot \\lVert\\theta\\rVert^2_2$, где $Y$ - истинные значения целевой переменной, $X$ - матрица \"объект-признак\", $\\theta$ - параметр модели, $\\alpha$ - параметр регуляризации."
   ]
  },
  {
   "cell_type": "code",
   "execution_count": 3,
   "metadata": {
    "colab": {},
    "colab_type": "code",
    "id": "OYrt9eJ-qt1e"
   },
   "outputs": [],
   "source": [
    "boston = datasets.load_boston()  # данные о ценах квартир в Бостоне\n",
    "X = pd.DataFrame(data=boston['data'], columns=boston['feature_names'])\n",
    "y = boston['target']"
   ]
  },
  {
   "cell_type": "markdown",
   "metadata": {},
   "source": [
    "Описание датасета:"
   ]
  },
  {
   "cell_type": "code",
   "execution_count": 5,
   "metadata": {},
   "outputs": [
    {
     "name": "stdout",
     "output_type": "stream",
     "text": [
      ".. _boston_dataset:\n",
      "\n",
      "Boston house prices dataset\n",
      "---------------------------\n",
      "\n",
      "**Data Set Characteristics:**  \n",
      "\n",
      "    :Number of Instances: 506 \n",
      "\n",
      "    :Number of Attributes: 13 numeric/categorical predictive. Median Value (attribute 14) is usually the target.\n",
      "\n",
      "    :Attribute Information (in order):\n",
      "        - CRIM     per capita crime rate by town\n",
      "        - ZN       proportion of residential land zoned for lots over 25,000 sq.ft.\n",
      "        - INDUS    proportion of non-retail business acres per town\n",
      "        - CHAS     Charles River dummy variable (= 1 if tract bounds river; 0 otherwise)\n",
      "        - NOX      nitric oxides concentration (parts per 10 million)\n",
      "        - RM       average number of rooms per dwelling\n",
      "        - AGE      proportion of owner-occupied units built prior to 1940\n",
      "        - DIS      weighted distances to five Boston employment centres\n",
      "        - RAD      index of accessibility to radial highways\n",
      "        - TAX      full-value property-tax rate per $10,000\n",
      "        - PTRATIO  pupil-teacher ratio by town\n",
      "        - B        1000(Bk - 0.63)^2 where Bk is the proportion of blacks by town\n",
      "        - LSTAT    % lower status of the population\n",
      "        - MEDV     Median value of owner-occupied homes in $1000's\n",
      "\n",
      "    :Missing Attribute Values: None\n",
      "\n",
      "    :Creator: Harrison, D. and Rubinfeld, D.L.\n",
      "\n",
      "This is a copy of UCI ML housing dataset.\n",
      "https://archive.ics.uci.edu/ml/machine-learning-databases/housing/\n",
      "\n",
      "\n",
      "This dataset was taken from the StatLib library which is maintained at Carnegie Mellon University.\n",
      "\n",
      "The Boston house-price data of Harrison, D. and Rubinfeld, D.L. 'Hedonic\n",
      "prices and the demand for clean air', J. Environ. Economics & Management,\n",
      "vol.5, 81-102, 1978.   Used in Belsley, Kuh & Welsch, 'Regression diagnostics\n",
      "...', Wiley, 1980.   N.B. Various transformations are used in the table on\n",
      "pages 244-261 of the latter.\n",
      "\n",
      "The Boston house-price data has been used in many machine learning papers that address regression\n",
      "problems.   \n",
      "     \n",
      ".. topic:: References\n",
      "\n",
      "   - Belsley, Kuh & Welsch, 'Regression diagnostics: Identifying Influential Data and Sources of Collinearity', Wiley, 1980. 244-261.\n",
      "   - Quinlan,R. (1993). Combining Instance-Based and Model-Based Learning. In Proceedings on the Tenth International Conference of Machine Learning, 236-243, University of Massachusetts, Amherst. Morgan Kaufmann.\n",
      "\n"
     ]
    }
   ],
   "source": [
    "print(boston['DESCR'])"
   ]
  },
  {
   "cell_type": "code",
   "execution_count": 7,
   "metadata": {},
   "outputs": [
    {
     "data": {
      "text/html": [
       "<div>\n",
       "<style scoped>\n",
       "    .dataframe tbody tr th:only-of-type {\n",
       "        vertical-align: middle;\n",
       "    }\n",
       "\n",
       "    .dataframe tbody tr th {\n",
       "        vertical-align: top;\n",
       "    }\n",
       "\n",
       "    .dataframe thead th {\n",
       "        text-align: right;\n",
       "    }\n",
       "</style>\n",
       "<table border=\"1\" class=\"dataframe\">\n",
       "  <thead>\n",
       "    <tr style=\"text-align: right;\">\n",
       "      <th></th>\n",
       "      <th>CRIM</th>\n",
       "      <th>ZN</th>\n",
       "      <th>INDUS</th>\n",
       "      <th>CHAS</th>\n",
       "      <th>NOX</th>\n",
       "      <th>RM</th>\n",
       "      <th>AGE</th>\n",
       "      <th>DIS</th>\n",
       "      <th>RAD</th>\n",
       "      <th>TAX</th>\n",
       "      <th>PTRATIO</th>\n",
       "      <th>B</th>\n",
       "      <th>LSTAT</th>\n",
       "    </tr>\n",
       "  </thead>\n",
       "  <tbody>\n",
       "    <tr>\n",
       "      <td>0</td>\n",
       "      <td>0.00632</td>\n",
       "      <td>18.0</td>\n",
       "      <td>2.31</td>\n",
       "      <td>0.0</td>\n",
       "      <td>0.538</td>\n",
       "      <td>6.575</td>\n",
       "      <td>65.2</td>\n",
       "      <td>4.0900</td>\n",
       "      <td>1.0</td>\n",
       "      <td>296.0</td>\n",
       "      <td>15.3</td>\n",
       "      <td>396.90</td>\n",
       "      <td>4.98</td>\n",
       "    </tr>\n",
       "    <tr>\n",
       "      <td>1</td>\n",
       "      <td>0.02731</td>\n",
       "      <td>0.0</td>\n",
       "      <td>7.07</td>\n",
       "      <td>0.0</td>\n",
       "      <td>0.469</td>\n",
       "      <td>6.421</td>\n",
       "      <td>78.9</td>\n",
       "      <td>4.9671</td>\n",
       "      <td>2.0</td>\n",
       "      <td>242.0</td>\n",
       "      <td>17.8</td>\n",
       "      <td>396.90</td>\n",
       "      <td>9.14</td>\n",
       "    </tr>\n",
       "    <tr>\n",
       "      <td>2</td>\n",
       "      <td>0.02729</td>\n",
       "      <td>0.0</td>\n",
       "      <td>7.07</td>\n",
       "      <td>0.0</td>\n",
       "      <td>0.469</td>\n",
       "      <td>7.185</td>\n",
       "      <td>61.1</td>\n",
       "      <td>4.9671</td>\n",
       "      <td>2.0</td>\n",
       "      <td>242.0</td>\n",
       "      <td>17.8</td>\n",
       "      <td>392.83</td>\n",
       "      <td>4.03</td>\n",
       "    </tr>\n",
       "    <tr>\n",
       "      <td>3</td>\n",
       "      <td>0.03237</td>\n",
       "      <td>0.0</td>\n",
       "      <td>2.18</td>\n",
       "      <td>0.0</td>\n",
       "      <td>0.458</td>\n",
       "      <td>6.998</td>\n",
       "      <td>45.8</td>\n",
       "      <td>6.0622</td>\n",
       "      <td>3.0</td>\n",
       "      <td>222.0</td>\n",
       "      <td>18.7</td>\n",
       "      <td>394.63</td>\n",
       "      <td>2.94</td>\n",
       "    </tr>\n",
       "    <tr>\n",
       "      <td>4</td>\n",
       "      <td>0.06905</td>\n",
       "      <td>0.0</td>\n",
       "      <td>2.18</td>\n",
       "      <td>0.0</td>\n",
       "      <td>0.458</td>\n",
       "      <td>7.147</td>\n",
       "      <td>54.2</td>\n",
       "      <td>6.0622</td>\n",
       "      <td>3.0</td>\n",
       "      <td>222.0</td>\n",
       "      <td>18.7</td>\n",
       "      <td>396.90</td>\n",
       "      <td>5.33</td>\n",
       "    </tr>\n",
       "  </tbody>\n",
       "</table>\n",
       "</div>"
      ],
      "text/plain": [
       "      CRIM    ZN  INDUS  CHAS    NOX     RM   AGE     DIS  RAD    TAX  \\\n",
       "0  0.00632  18.0   2.31   0.0  0.538  6.575  65.2  4.0900  1.0  296.0   \n",
       "1  0.02731   0.0   7.07   0.0  0.469  6.421  78.9  4.9671  2.0  242.0   \n",
       "2  0.02729   0.0   7.07   0.0  0.469  7.185  61.1  4.9671  2.0  242.0   \n",
       "3  0.03237   0.0   2.18   0.0  0.458  6.998  45.8  6.0622  3.0  222.0   \n",
       "4  0.06905   0.0   2.18   0.0  0.458  7.147  54.2  6.0622  3.0  222.0   \n",
       "\n",
       "   PTRATIO       B  LSTAT  \n",
       "0     15.3  396.90   4.98  \n",
       "1     17.8  396.90   9.14  \n",
       "2     17.8  392.83   4.03  \n",
       "3     18.7  394.63   2.94  \n",
       "4     18.7  396.90   5.33  "
      ]
     },
     "execution_count": 7,
     "metadata": {},
     "output_type": "execute_result"
    }
   ],
   "source": [
    "X.head()"
   ]
  },
  {
   "cell_type": "markdown",
   "metadata": {},
   "source": [
    "Разберемся, что означают эти признаки:  \n",
    "* `CRIM` - уровень преступности на душу населения  \n",
    "* `ZN` - доля жилой земли на каждые 25 000 км$^2$\n",
    "* `INDUS` - доля неторговых площадей в районе\n",
    "* `CHAS` - индиактор того, что неподалеку река Чарльз\n",
    "* `NOX` - концентрация оксида азота\n",
    "* `RM` - среднее количество комнат в доме\n",
    "* `AGE` - доля зданий, построенных до 1940 года\n",
    "* `DIS` - взвешенные расстояния до пяти бостонских центров занятости\n",
    "* `RAD` - индекс доступности радиальных магистралей\n",
    "* `TAX` - ставка налога на полную стоимость имущества за 10 000 долларов\n",
    "* `PTRATIO` - количество учеников на учителя\n",
    "* `B` - доля темнокожих\n",
    "* `LSTAT` - доля населения с низким статусом"
   ]
  },
  {
   "cell_type": "markdown",
   "metadata": {
    "colab_type": "text",
    "id": "1__T-xk5qt1k"
   },
   "source": [
    "Получить гиперпараметры модели можно при помощи метода `get_params()`."
   ]
  },
  {
   "cell_type": "code",
   "execution_count": 22,
   "metadata": {
    "colab": {
     "base_uri": "https://localhost:8080/",
     "height": 150
    },
    "colab_type": "code",
    "id": "DFc5hTVsqt1m",
    "outputId": "9666c91d-9834-42c6-d7f0-c490b849d09a"
   },
   "outputs": [
    {
     "data": {
      "text/plain": [
       "{'alpha': 1.0,\n",
       " 'copy_X': True,\n",
       " 'fit_intercept': True,\n",
       " 'max_iter': None,\n",
       " 'normalize': False,\n",
       " 'random_state': None,\n",
       " 'solver': 'auto',\n",
       " 'tol': 0.001}"
      ]
     },
     "execution_count": 22,
     "metadata": {},
     "output_type": "execute_result"
    }
   ],
   "source": [
    "model = Ridge()\n",
    "model.get_params()"
   ]
  },
  {
   "cell_type": "markdown",
   "metadata": {
    "colab_type": "text",
    "id": "p1UtezJvqt1r"
   },
   "source": [
    "Самым важным гиперпараметром тут является `alpha` — коэффициент регуляризации. Именно его мы и будем искать при помощи техники `GridSearch` — полный перебор по сетке.  \n",
    " \n",
    "Суть перебора по сетке заключается в следующем: вы задаете область значений гиперпараметров, которые хотите оптимизировать, обучаете все модели, которые возможно получить в рамках заданного пространства поиска гиперпараметров. Затем выбираете из данных моделей ту, которая дала наилучшее качество на кросс-валидации. Этой модели соответствует конкретный набор значений гиперпараметров — его мы и ищем.  \n",
    "\n",
    "В sklearn вам нужно просто указать одномерную сетку отдельно для каждого из гиперпараметров, построение многомерного пространства поиска оптимальных гиперпараметров спрятано в реализации метода. Применим `GridSearch` на примере:"
   ]
  },
  {
   "cell_type": "code",
   "execution_count": 24,
   "metadata": {
    "colab": {},
    "colab_type": "code",
    "id": "uK-frwb5qt1t"
   },
   "outputs": [],
   "source": [
    "# задаем пространство поиска\n",
    "parameters_grid = {\n",
    "    'alpha' : np.linspace(0.00001, 2, num=1000)\n",
    "}\n",
    "\n",
    "# задаем стратегию кросс-валидации\n",
    "ss = ShuffleSplit(n_splits=5, test_size=0.25, random_state=0)\n",
    "\n",
    "# задаем модель\n",
    "model = Ridge()\n",
    "\n",
    "# определяем поиск по сетке \n",
    "gs = GridSearchCV(\n",
    "    # модель для обучения, в нашем случае Ridge\n",
    "    estimator=model,\n",
    "    # сетка значений гиперпараметров\n",
    "    param_grid=parameters_grid,\n",
    "    # метрика качества, берем MSE\n",
    "    scoring='neg_mean_squared_error',\n",
    "    # GridSearch отлично параллелится, указываем количество параллельных джоб\n",
    "    n_jobs=-1,\n",
    "    # стратегия кросс-валидации\n",
    "    cv=ss,\n",
    "    # сообщения с логами обучения: больше значение - больше сообщений\n",
    "    verbose=10,\n",
    "    # значение, присваиваемое scorer в случае ошибки при обучении\n",
    "    error_score='raise'\n",
    ")"
   ]
  },
  {
   "cell_type": "code",
   "execution_count": 25,
   "metadata": {
    "colab": {
     "base_uri": "https://localhost:8080/",
     "height": 753
    },
    "colab_type": "code",
    "id": "CYsdSfixqt1y",
    "outputId": "744bf5bc-b9d9-4777-80d5-b1392ba768b4"
   },
   "outputs": [
    {
     "name": "stdout",
     "output_type": "stream",
     "text": [
      "Fitting 5 folds for each of 1000 candidates, totalling 5000 fits\n"
     ]
    },
    {
     "name": "stderr",
     "output_type": "stream",
     "text": [
      "[Parallel(n_jobs=-1)]: Using backend LokyBackend with 12 concurrent workers.\n",
      "[Parallel(n_jobs=-1)]: Done   1 tasks      | elapsed:    2.6s\n",
      "[Parallel(n_jobs=-1)]: Done   8 tasks      | elapsed:    2.6s\n",
      "[Parallel(n_jobs=-1)]: Done  17 tasks      | elapsed:    2.7s\n",
      "[Parallel(n_jobs=-1)]: Done  26 tasks      | elapsed:    2.8s\n",
      "[Parallel(n_jobs=-1)]: Done  37 tasks      | elapsed:    2.8s\n",
      "[Parallel(n_jobs=-1)]: Batch computation too fast (0.1848s.) Setting batch_size=2.\n",
      "[Parallel(n_jobs=-1)]: Done  48 tasks      | elapsed:    2.8s\n",
      "[Parallel(n_jobs=-1)]: Done  61 tasks      | elapsed:    2.8s\n",
      "[Parallel(n_jobs=-1)]: Batch computation too fast (0.0228s.) Setting batch_size=34.\n",
      "[Parallel(n_jobs=-1)]: Done  86 tasks      | elapsed:    2.9s\n",
      "[Parallel(n_jobs=-1)]: Done 212 tasks      | elapsed:    3.1s\n",
      "[Parallel(n_jobs=-1)]: Done 722 tasks      | elapsed:    3.4s\n",
      "[Parallel(n_jobs=-1)]: Done 1300 tasks      | elapsed:    3.7s\n",
      "[Parallel(n_jobs=-1)]: Done 1878 tasks      | elapsed:    3.9s\n",
      "[Parallel(n_jobs=-1)]: Done 2524 tasks      | elapsed:    4.1s\n",
      "[Parallel(n_jobs=-1)]: Done 3170 tasks      | elapsed:    4.5s\n",
      "[Parallel(n_jobs=-1)]: Done 3884 tasks      | elapsed:    4.9s\n"
     ]
    },
    {
     "name": "stdout",
     "output_type": "stream",
     "text": [
      "CPU times: user 2.48 s, sys: 188 ms, total: 2.66 s\n",
      "Wall time: 5.29 s\n"
     ]
    },
    {
     "name": "stderr",
     "output_type": "stream",
     "text": [
      "[Parallel(n_jobs=-1)]: Done 5000 out of 5000 | elapsed:    5.3s finished\n"
     ]
    },
    {
     "data": {
      "text/plain": [
       "GridSearchCV(cv=ShuffleSplit(n_splits=5, random_state=0, test_size=0.25, train_size=None),\n",
       "             error_score='raise',\n",
       "             estimator=Ridge(alpha=1.0, copy_X=True, fit_intercept=True,\n",
       "                             max_iter=None, normalize=False, random_state=None,\n",
       "                             solver='auto', tol=0.001),\n",
       "             iid='warn', n_jobs=-1,\n",
       "             param_grid={'alpha': array([1.00000000e-05, 2.01199199e-03, 4.01398398e-03, 6.01597598e-03,\n",
       "       8.017...\n",
       "       1.96196215e+00, 1.96396414e+00, 1.96596614e+00, 1.96796813e+00,\n",
       "       1.96997012e+00, 1.97197211e+00, 1.97397410e+00, 1.97597610e+00,\n",
       "       1.97797809e+00, 1.97998008e+00, 1.98198207e+00, 1.98398406e+00,\n",
       "       1.98598606e+00, 1.98798805e+00, 1.98999004e+00, 1.99199203e+00,\n",
       "       1.99399402e+00, 1.99599602e+00, 1.99799801e+00, 2.00000000e+00])},\n",
       "             pre_dispatch='2*n_jobs', refit=True, return_train_score=False,\n",
       "             scoring='neg_mean_squared_error', verbose=10)"
      ]
     },
     "execution_count": 25,
     "metadata": {},
     "output_type": "execute_result"
    }
   ],
   "source": [
    "%%time\n",
    "# выполняем поиск по сетке\n",
    "gs.fit(X, y)"
   ]
  },
  {
   "cell_type": "markdown",
   "metadata": {
    "colab_type": "text",
    "id": "66njAUT-qt13"
   },
   "source": [
    "Итак, мы выполнили полный перебор по сетке. Давайте посмотрим, какие атрибуты есть у `GridSearch` и чему они равны. Атрибут `cv_results_` возвращает информацию о времени выполнения обучения и подробности о значениях метрик. Значения данного атрибута удобнее отображать через `pd.DataFrame`."
   ]
  },
  {
   "cell_type": "code",
   "execution_count": 31,
   "metadata": {
    "colab": {
     "base_uri": "https://localhost:8080/",
     "height": 283
    },
    "colab_type": "code",
    "id": "xaO_GSaBqt14",
    "outputId": "37463381-bf62-4bc2-da48-3f92e78eabb4"
   },
   "outputs": [
    {
     "data": {
      "text/html": [
       "<div>\n",
       "<style scoped>\n",
       "    .dataframe tbody tr th:only-of-type {\n",
       "        vertical-align: middle;\n",
       "    }\n",
       "\n",
       "    .dataframe tbody tr th {\n",
       "        vertical-align: top;\n",
       "    }\n",
       "\n",
       "    .dataframe thead th {\n",
       "        text-align: right;\n",
       "    }\n",
       "</style>\n",
       "<table border=\"1\" class=\"dataframe\">\n",
       "  <thead>\n",
       "    <tr style=\"text-align: right;\">\n",
       "      <th></th>\n",
       "      <th>mean_fit_time</th>\n",
       "      <th>std_fit_time</th>\n",
       "      <th>mean_score_time</th>\n",
       "      <th>std_score_time</th>\n",
       "      <th>param_alpha</th>\n",
       "      <th>params</th>\n",
       "      <th>split0_test_score</th>\n",
       "      <th>split1_test_score</th>\n",
       "      <th>split2_test_score</th>\n",
       "      <th>split3_test_score</th>\n",
       "      <th>split4_test_score</th>\n",
       "      <th>mean_test_score</th>\n",
       "      <th>std_test_score</th>\n",
       "      <th>rank_test_score</th>\n",
       "    </tr>\n",
       "  </thead>\n",
       "  <tbody>\n",
       "    <tr>\n",
       "      <td>0</td>\n",
       "      <td>0.008842</td>\n",
       "      <td>0.000738</td>\n",
       "      <td>0.002879</td>\n",
       "      <td>0.002724</td>\n",
       "      <td>1e-05</td>\n",
       "      <td>{'alpha': 1e-05}</td>\n",
       "      <td>-29.782255</td>\n",
       "      <td>-32.267382</td>\n",
       "      <td>-28.280225</td>\n",
       "      <td>-22.238042</td>\n",
       "      <td>-22.424877</td>\n",
       "      <td>-26.998556</td>\n",
       "      <td>4.018289</td>\n",
       "      <td>1</td>\n",
       "    </tr>\n",
       "    <tr>\n",
       "      <td>1</td>\n",
       "      <td>0.009286</td>\n",
       "      <td>0.001412</td>\n",
       "      <td>0.002396</td>\n",
       "      <td>0.001710</td>\n",
       "      <td>0.00201199</td>\n",
       "      <td>{'alpha': 0.002011991991991992}</td>\n",
       "      <td>-29.784217</td>\n",
       "      <td>-32.269228</td>\n",
       "      <td>-28.280004</td>\n",
       "      <td>-22.237358</td>\n",
       "      <td>-22.424236</td>\n",
       "      <td>-26.999009</td>\n",
       "      <td>4.019338</td>\n",
       "      <td>2</td>\n",
       "    </tr>\n",
       "    <tr>\n",
       "      <td>2</td>\n",
       "      <td>0.009323</td>\n",
       "      <td>0.003790</td>\n",
       "      <td>0.002253</td>\n",
       "      <td>0.000697</td>\n",
       "      <td>0.00401398</td>\n",
       "      <td>{'alpha': 0.004013983983983983}</td>\n",
       "      <td>-29.786178</td>\n",
       "      <td>-32.271071</td>\n",
       "      <td>-28.279797</td>\n",
       "      <td>-22.236683</td>\n",
       "      <td>-22.423603</td>\n",
       "      <td>-26.999466</td>\n",
       "      <td>4.020384</td>\n",
       "      <td>3</td>\n",
       "    </tr>\n",
       "    <tr>\n",
       "      <td>3</td>\n",
       "      <td>0.003256</td>\n",
       "      <td>0.000623</td>\n",
       "      <td>0.001309</td>\n",
       "      <td>0.000101</td>\n",
       "      <td>0.00601598</td>\n",
       "      <td>{'alpha': 0.006015975975975975}</td>\n",
       "      <td>-29.788137</td>\n",
       "      <td>-32.272911</td>\n",
       "      <td>-28.279602</td>\n",
       "      <td>-22.236017</td>\n",
       "      <td>-22.422978</td>\n",
       "      <td>-26.999929</td>\n",
       "      <td>4.021426</td>\n",
       "      <td>4</td>\n",
       "    </tr>\n",
       "    <tr>\n",
       "      <td>4</td>\n",
       "      <td>0.002411</td>\n",
       "      <td>0.000136</td>\n",
       "      <td>0.001086</td>\n",
       "      <td>0.000054</td>\n",
       "      <td>0.00801797</td>\n",
       "      <td>{'alpha': 0.008017967967967967}</td>\n",
       "      <td>-29.790096</td>\n",
       "      <td>-32.274748</td>\n",
       "      <td>-28.279421</td>\n",
       "      <td>-22.235360</td>\n",
       "      <td>-22.422361</td>\n",
       "      <td>-27.000397</td>\n",
       "      <td>4.022464</td>\n",
       "      <td>5</td>\n",
       "    </tr>\n",
       "    <tr>\n",
       "      <td>...</td>\n",
       "      <td>...</td>\n",
       "      <td>...</td>\n",
       "      <td>...</td>\n",
       "      <td>...</td>\n",
       "      <td>...</td>\n",
       "      <td>...</td>\n",
       "      <td>...</td>\n",
       "      <td>...</td>\n",
       "      <td>...</td>\n",
       "      <td>...</td>\n",
       "      <td>...</td>\n",
       "      <td>...</td>\n",
       "      <td>...</td>\n",
       "      <td>...</td>\n",
       "    </tr>\n",
       "    <tr>\n",
       "      <td>995</td>\n",
       "      <td>0.002493</td>\n",
       "      <td>0.000283</td>\n",
       "      <td>0.001041</td>\n",
       "      <td>0.000233</td>\n",
       "      <td>1.99199</td>\n",
       "      <td>{'alpha': 1.991992032032032}</td>\n",
       "      <td>-30.862732</td>\n",
       "      <td>-33.139910</td>\n",
       "      <td>-28.908917</td>\n",
       "      <td>-22.498731</td>\n",
       "      <td>-22.507605</td>\n",
       "      <td>-27.583579</td>\n",
       "      <td>4.358976</td>\n",
       "      <td>996</td>\n",
       "    </tr>\n",
       "    <tr>\n",
       "      <td>996</td>\n",
       "      <td>0.002337</td>\n",
       "      <td>0.000400</td>\n",
       "      <td>0.001294</td>\n",
       "      <td>0.000161</td>\n",
       "      <td>1.99399</td>\n",
       "      <td>{'alpha': 1.993994024024024}</td>\n",
       "      <td>-30.863263</td>\n",
       "      <td>-33.140273</td>\n",
       "      <td>-28.909397</td>\n",
       "      <td>-22.499066</td>\n",
       "      <td>-22.507703</td>\n",
       "      <td>-27.583940</td>\n",
       "      <td>4.359077</td>\n",
       "      <td>997</td>\n",
       "    </tr>\n",
       "    <tr>\n",
       "      <td>997</td>\n",
       "      <td>0.001685</td>\n",
       "      <td>0.000187</td>\n",
       "      <td>0.000815</td>\n",
       "      <td>0.000109</td>\n",
       "      <td>1.996</td>\n",
       "      <td>{'alpha': 1.995996016016016}</td>\n",
       "      <td>-30.863794</td>\n",
       "      <td>-33.140635</td>\n",
       "      <td>-28.909876</td>\n",
       "      <td>-22.499400</td>\n",
       "      <td>-22.507801</td>\n",
       "      <td>-27.584301</td>\n",
       "      <td>4.359177</td>\n",
       "      <td>998</td>\n",
       "    </tr>\n",
       "    <tr>\n",
       "      <td>998</td>\n",
       "      <td>0.001543</td>\n",
       "      <td>0.000070</td>\n",
       "      <td>0.000746</td>\n",
       "      <td>0.000005</td>\n",
       "      <td>1.998</td>\n",
       "      <td>{'alpha': 1.997998008008008}</td>\n",
       "      <td>-30.864324</td>\n",
       "      <td>-33.140997</td>\n",
       "      <td>-28.910355</td>\n",
       "      <td>-22.499735</td>\n",
       "      <td>-22.507899</td>\n",
       "      <td>-27.584662</td>\n",
       "      <td>4.359278</td>\n",
       "      <td>999</td>\n",
       "    </tr>\n",
       "    <tr>\n",
       "      <td>999</td>\n",
       "      <td>0.001406</td>\n",
       "      <td>0.000049</td>\n",
       "      <td>0.000700</td>\n",
       "      <td>0.000026</td>\n",
       "      <td>2</td>\n",
       "      <td>{'alpha': 2.0}</td>\n",
       "      <td>-30.864853</td>\n",
       "      <td>-33.141358</td>\n",
       "      <td>-28.910834</td>\n",
       "      <td>-22.500069</td>\n",
       "      <td>-22.507997</td>\n",
       "      <td>-27.585022</td>\n",
       "      <td>4.359378</td>\n",
       "      <td>1000</td>\n",
       "    </tr>\n",
       "  </tbody>\n",
       "</table>\n",
       "<p>1000 rows × 14 columns</p>\n",
       "</div>"
      ],
      "text/plain": [
       "     mean_fit_time  std_fit_time  mean_score_time  std_score_time param_alpha  \\\n",
       "0         0.008842      0.000738         0.002879        0.002724       1e-05   \n",
       "1         0.009286      0.001412         0.002396        0.001710  0.00201199   \n",
       "2         0.009323      0.003790         0.002253        0.000697  0.00401398   \n",
       "3         0.003256      0.000623         0.001309        0.000101  0.00601598   \n",
       "4         0.002411      0.000136         0.001086        0.000054  0.00801797   \n",
       "..             ...           ...              ...             ...         ...   \n",
       "995       0.002493      0.000283         0.001041        0.000233     1.99199   \n",
       "996       0.002337      0.000400         0.001294        0.000161     1.99399   \n",
       "997       0.001685      0.000187         0.000815        0.000109       1.996   \n",
       "998       0.001543      0.000070         0.000746        0.000005       1.998   \n",
       "999       0.001406      0.000049         0.000700        0.000026           2   \n",
       "\n",
       "                              params  split0_test_score  split1_test_score  \\\n",
       "0                   {'alpha': 1e-05}         -29.782255         -32.267382   \n",
       "1    {'alpha': 0.002011991991991992}         -29.784217         -32.269228   \n",
       "2    {'alpha': 0.004013983983983983}         -29.786178         -32.271071   \n",
       "3    {'alpha': 0.006015975975975975}         -29.788137         -32.272911   \n",
       "4    {'alpha': 0.008017967967967967}         -29.790096         -32.274748   \n",
       "..                               ...                ...                ...   \n",
       "995     {'alpha': 1.991992032032032}         -30.862732         -33.139910   \n",
       "996     {'alpha': 1.993994024024024}         -30.863263         -33.140273   \n",
       "997     {'alpha': 1.995996016016016}         -30.863794         -33.140635   \n",
       "998     {'alpha': 1.997998008008008}         -30.864324         -33.140997   \n",
       "999                   {'alpha': 2.0}         -30.864853         -33.141358   \n",
       "\n",
       "     split2_test_score  split3_test_score  split4_test_score  mean_test_score  \\\n",
       "0           -28.280225         -22.238042         -22.424877       -26.998556   \n",
       "1           -28.280004         -22.237358         -22.424236       -26.999009   \n",
       "2           -28.279797         -22.236683         -22.423603       -26.999466   \n",
       "3           -28.279602         -22.236017         -22.422978       -26.999929   \n",
       "4           -28.279421         -22.235360         -22.422361       -27.000397   \n",
       "..                 ...                ...                ...              ...   \n",
       "995         -28.908917         -22.498731         -22.507605       -27.583579   \n",
       "996         -28.909397         -22.499066         -22.507703       -27.583940   \n",
       "997         -28.909876         -22.499400         -22.507801       -27.584301   \n",
       "998         -28.910355         -22.499735         -22.507899       -27.584662   \n",
       "999         -28.910834         -22.500069         -22.507997       -27.585022   \n",
       "\n",
       "     std_test_score  rank_test_score  \n",
       "0          4.018289                1  \n",
       "1          4.019338                2  \n",
       "2          4.020384                3  \n",
       "3          4.021426                4  \n",
       "4          4.022464                5  \n",
       "..              ...              ...  \n",
       "995        4.358976              996  \n",
       "996        4.359077              997  \n",
       "997        4.359177              998  \n",
       "998        4.359278              999  \n",
       "999        4.359378             1000  \n",
       "\n",
       "[1000 rows x 14 columns]"
      ]
     },
     "execution_count": 31,
     "metadata": {},
     "output_type": "execute_result"
    }
   ],
   "source": [
    "results = gs.cv_results_\n",
    "pd.DataFrame(results)"
   ]
  },
  {
   "cell_type": "markdown",
   "metadata": {},
   "source": [
    "Каждой строке в этой таблице соответствуют результаты эксперимента для конкретного значения гиперпараметра. Для поиска оптимального параметра регуляризации мы выбрали сетку из 1000 элементов, соответственно, в данной таблице 1000 строк. Также напомним, что в каждом эксперименте проводится процедура кросс-валидации, то есть модель обучается несколько раз на разных батчах. Разберемся, что в каждом столбце таблицы выше:\n",
    "* `mean_fit_time` - среднее время обучения модели.\n",
    "* `std_fit_time` - стандартное отклонение времени обучения модели.\n",
    "* `mean_score_time` - среднее время  предсказания модели. \n",
    "* `std_score_time` - стандартное отклонение времение предсказания модели.\n",
    "* `param_alpha` - значение гиперпараметра. \n",
    "* `params` - значения всех гиперпараметров в виде словаря. \n",
    "* `split0_test_score` и тд - значения метрики на каждом из этапов кросс-валидации. \n",
    "* `mean_test_score` - усредненное значение метрики на тестовых батчах.\n",
    "* `std_test_score` - стандартное отклонение значеняи метрики на тестовых батчах.\n",
    "* `rank_test_score` - ранг эксперимента. Все эксприменты отсортированы по `mean_test_score`, ранг - это место эксперимента в отсортированном списке экспериментов."
   ]
  },
  {
   "cell_type": "markdown",
   "metadata": {},
   "source": [
    "Лучшая модель:"
   ]
  },
  {
   "cell_type": "code",
   "execution_count": 27,
   "metadata": {
    "colab": {
     "base_uri": "https://localhost:8080/",
     "height": 50
    },
    "colab_type": "code",
    "id": "xd68vUY4qt17",
    "outputId": "17fbd98d-6263-4371-ba2f-53bacfdde22d"
   },
   "outputs": [
    {
     "data": {
      "text/plain": [
       "Ridge(alpha=1e-05, copy_X=True, fit_intercept=True, max_iter=None,\n",
       "      normalize=False, random_state=None, solver='auto', tol=0.001)"
      ]
     },
     "execution_count": 27,
     "metadata": {},
     "output_type": "execute_result"
    }
   ],
   "source": [
    "gs.best_estimator_ "
   ]
  },
  {
   "cell_type": "markdown",
   "metadata": {},
   "source": [
    "Значение метрики лучшей модели:\n"
   ]
  },
  {
   "cell_type": "code",
   "execution_count": 28,
   "metadata": {
    "colab": {
     "base_uri": "https://localhost:8080/",
     "height": 33
    },
    "colab_type": "code",
    "id": "LHXQMFutqt19",
    "outputId": "c3b0de6a-7781-40a1-c67f-7fbdda6fe509"
   },
   "outputs": [
    {
     "data": {
      "text/plain": [
       "-26.99855610530455"
      ]
     },
     "execution_count": 28,
     "metadata": {},
     "output_type": "execute_result"
    }
   ],
   "source": [
    "gs.best_score_ "
   ]
  },
  {
   "cell_type": "markdown",
   "metadata": {},
   "source": [
    "Значения гиперпараметров лучшей модели:"
   ]
  },
  {
   "cell_type": "code",
   "execution_count": 29,
   "metadata": {
    "colab": {
     "base_uri": "https://localhost:8080/",
     "height": 33
    },
    "colab_type": "code",
    "id": "gFt9uepCqt2A",
    "outputId": "392405e9-e468-4383-ee6c-61c064a2327d"
   },
   "outputs": [
    {
     "data": {
      "text/plain": [
       "{'alpha': 1e-05}"
      ]
     },
     "execution_count": 29,
     "metadata": {},
     "output_type": "execute_result"
    }
   ],
   "source": [
    "gs.best_params_ "
   ]
  },
  {
   "cell_type": "markdown",
   "metadata": {},
   "source": [
    "Время обучения лучшей модели в секундах:"
   ]
  },
  {
   "cell_type": "code",
   "execution_count": 30,
   "metadata": {
    "colab": {
     "base_uri": "https://localhost:8080/",
     "height": 33
    },
    "colab_type": "code",
    "id": "D9ccknhHqt2C",
    "outputId": "41fb50a5-f6dc-4c92-9e0c-df2938acf6cb"
   },
   "outputs": [
    {
     "data": {
      "text/plain": [
       "0.0022339820861816406"
      ]
     },
     "execution_count": 30,
     "metadata": {},
     "output_type": "execute_result"
    }
   ],
   "source": [
    "gs.refit_time_ "
   ]
  }
 ],
 "metadata": {
  "colab": {
   "collapsed_sections": [],
   "name": "Hyper.ipynb",
   "provenance": []
  },
  "kernelspec": {
   "display_name": "Python 3",
   "language": "python",
   "name": "python3"
  },
  "language_info": {
   "codemirror_mode": {
    "name": "ipython",
    "version": 3
   },
   "file_extension": ".py",
   "mimetype": "text/x-python",
   "name": "python",
   "nbconvert_exporter": "python",
   "pygments_lexer": "ipython3",
   "version": "3.7.3"
  }
 },
 "nbformat": 4,
 "nbformat_minor": 1
}
