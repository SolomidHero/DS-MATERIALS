{
 "cells": [
  {
   "cell_type": "code",
   "execution_count": 22,
   "metadata": {
    "colab": {},
    "colab_type": "code",
    "id": "v4W5Ypw2OZOD"
   },
   "outputs": [],
   "source": [
    "import numpy as np\n",
    "import pandas as pd\n",
    "import scipy.stats as sps\n",
    "import warnings\n",
    "\n",
    "from sklearn.model_selection import train_test_split\n",
    "from sklearn.model_selection import ShuffleSplit\n",
    "from sklearn.model_selection import StratifiedKFold\n",
    "from sklearn.model_selection import GridSearchCV\n",
    "from sklearn.model_selection import RandomizedSearchCV\n",
    "from sklearn.metrics import accuracy_score\n",
    "\n",
    "import xgboost as xgb\n",
    "\n",
    "warnings.filterwarnings(\"ignore\")"
   ]
  },
  {
   "cell_type": "markdown",
   "metadata": {
    "colab_type": "text",
    "id": "V3txn5H6wtYE"
   },
   "source": [
    "# Подбор гиперпараметров для XGBoost\n",
    "\n",
    "Рассмотрим ключевые гиперпараметры модели XGBoost:\n",
    "* <span style=\"color:green\">num_round</span>  - количество итераций бустинга.\n",
    "\n",
    "* <span style=\"color:green\">max_depth</span> - максимальная длина построенного дерева. Если с увеличением данного параметра модель не дает более хорошего качества, то стоит задуматься о feature engineering. \n",
    "\n",
    "* <span style=\"color:green\">subsample</span> - доля данных, которые подаются для обучения очередного дерева. \n",
    "\n",
    "* <span style=\"color:green\">colsample_bytree</span> - доля признаков, которые используются при построении очередного дерева. Подмножество признаков выбирается по одному разу для каждого дерева. \n",
    "\n",
    "* <span style=\"color:green\">colsample_bylevel</span> - доля признаков, которые используются при построении очередного уровня дерева (новый уровень глубины). Подмножество признаков выбирается по одному разу для каждого уровня.  \n",
    "\n",
    "* <span style=\"color:red\">lambda</span> - коэффициент $l_2$-регуляризации.\n",
    "\n",
    "* <span style=\"color:red\">alpha</span> - коэффициент $l_1$-регуляризации.\n",
    "\n",
    "* <span style=\"color:green\">eta</span> - вес, с которым добавляется предсказание нового построенного дерева.\n"
   ]
  },
  {
   "cell_type": "markdown",
   "metadata": {
    "colab_type": "text",
    "id": "s7bLJidYNzN2"
   },
   "source": [
    "## 1. Подбор параметров по сетке"
   ]
  },
  {
   "cell_type": "markdown",
   "metadata": {
    "colab_type": "text",
    "id": "tKeSOk_vN4NN"
   },
   "source": [
    "Применим XGBoost Classifier к [задаче классификации мобильных телефонов по цене](https://www.kaggle.com/iabhishekofficial/mobile-price-classification)"
   ]
  },
  {
   "cell_type": "code",
   "execution_count": 23,
   "metadata": {
    "colab_type": "text",
    "id": "adUm4I5aN8rp"
   },
   "outputs": [],
   "source": [
    "data = pd.read_csv(\"./mobile-price-classification/train.csv\")"
   ]
  },
  {
   "cell_type": "code",
   "execution_count": 24,
   "metadata": {},
   "outputs": [],
   "source": [
    "X_train, X_test, y_train, y_test = train_test_split(\n",
    "    data.drop(['price_range'], axis=1, inplace=False), \n",
    "    data['price_range'], test_size=0.2, \n",
    "    shuffle=True, stratify=data['price_range']\n",
    ")"
   ]
  },
  {
   "cell_type": "markdown",
   "metadata": {
    "colab_type": "text",
    "id": "UByW3fbWN73b"
   },
   "source": [
    "\n",
    "Мы уже познакомились с техникой `GridSearch`. Ее достоинство заключается в том, что мы делаем *полный* перебор по пространству поиска, но это же и является ее недостатком. Когда пространство поиска имеет слишком большую размерность, предпочтительнее использовать `RandomizedSearch`. Суть данной техники похожа на полный перебор по сетке с разницей лишь в том, что генерируется подмножество из всех возможных комбинаций значений гиперпараметров и рассматриваются только модели, соответствующие этим комбинациям. "
   ]
  },
  {
   "cell_type": "markdown",
   "metadata": {},
   "source": [
    "Посмотрим на значения гиперпараметров по умлочанию:"
   ]
  },
  {
   "cell_type": "code",
   "execution_count": 25,
   "metadata": {
    "colab": {},
    "colab_type": "code",
    "id": "xnA_R6ppwWkq"
   },
   "outputs": [
    {
     "data": {
      "text/plain": [
       "{'objective': 'binary:logistic',\n",
       " 'base_score': None,\n",
       " 'booster': None,\n",
       " 'colsample_bylevel': None,\n",
       " 'colsample_bynode': None,\n",
       " 'colsample_bytree': None,\n",
       " 'gamma': None,\n",
       " 'gpu_id': None,\n",
       " 'importance_type': 'gain',\n",
       " 'interaction_constraints': None,\n",
       " 'learning_rate': None,\n",
       " 'max_delta_step': None,\n",
       " 'max_depth': None,\n",
       " 'min_child_weight': None,\n",
       " 'missing': nan,\n",
       " 'monotone_constraints': None,\n",
       " 'n_estimators': 100,\n",
       " 'n_jobs': None,\n",
       " 'num_parallel_tree': None,\n",
       " 'random_state': None,\n",
       " 'reg_alpha': None,\n",
       " 'reg_lambda': None,\n",
       " 'scale_pos_weight': None,\n",
       " 'subsample': None,\n",
       " 'tree_method': None,\n",
       " 'validate_parameters': False,\n",
       " 'verbosity': None}"
      ]
     },
     "execution_count": 25,
     "metadata": {},
     "output_type": "execute_result"
    }
   ],
   "source": [
    "model = xgb.XGBClassifier()\n",
    "model.get_params()"
   ]
  },
  {
   "cell_type": "markdown",
   "metadata": {},
   "source": [
    "Задаем пространство поиска. В отличие от `GridSearch` можно задавать распределения:"
   ]
  },
  {
   "cell_type": "code",
   "execution_count": 26,
   "metadata": {},
   "outputs": [],
   "source": [
    "parameters_grid = {\n",
    "    'num_round' : [10, 50, 100, 1000, 1500, 2000],\n",
    "    'max_depth' : range(1, 15, 2),\n",
    "    'subsample' : [0.8, 0.9, 1.0],\n",
    "    'colsample_bytree' : [0.7, 0.8, 0.9, 1.0],\n",
    "    'colsample_bylevel' : [0.7, 0.8, 0.9, 1.0] ,\n",
    "    'lambda' : sps.expon(0),\n",
    "    'alpha' : sps.expon(0),\n",
    "    'eta' : [0.001, 0.1, 1, 10]\n",
    "}"
   ]
  },
  {
   "cell_type": "code",
   "execution_count": 27,
   "metadata": {},
   "outputs": [],
   "source": [
    "# задаем стратегию кросс-валидации\n",
    "ss = StratifiedKFold(n_splits=3)\n",
    "\n",
    "# определяем поиск по сетке \n",
    "gs = RandomizedSearchCV(\n",
    "    # модель для обучения, в нашем случае XGBoostClassifier\n",
    "    estimator=model,\n",
    "    # количество итераций поиска \n",
    "    n_iter=200,\n",
    "    # сетка значений гиперпараметров\n",
    "    param_distributions=parameters_grid,\n",
    "    # метрика качества, берем accuracy\n",
    "    scoring='accuracy',\n",
    "    # GridSearch отлично параллелится, указываем количество параллельных джоб\n",
    "    n_jobs=-1,  \n",
    "    # стратегия кросс-валидации\n",
    "    cv=ss,  \n",
    "     # сообщения с логами обучения: больше значение - больше сообщений\n",
    "    verbose=10, \n",
    "    # значение, присваиваемое scorer в случае ошибки при обучении\n",
    "    error_score='raise' \n",
    ")"
   ]
  },
  {
   "cell_type": "markdown",
   "metadata": {},
   "source": [
    "Выполняем поиск по сетке"
   ]
  },
  {
   "cell_type": "code",
   "execution_count": 28,
   "metadata": {},
   "outputs": [
    {
     "name": "stdout",
     "output_type": "stream",
     "text": [
      "Fitting 3 folds for each of 200 candidates, totalling 600 fits\n"
     ]
    },
    {
     "name": "stderr",
     "output_type": "stream",
     "text": [
      "[Parallel(n_jobs=-1)]: Using backend LokyBackend with 8 concurrent workers.\n",
      "[Parallel(n_jobs=-1)]: Done   2 tasks      | elapsed:    0.3s\n",
      "[Parallel(n_jobs=-1)]: Done   9 tasks      | elapsed:    1.3s\n",
      "[Parallel(n_jobs=-1)]: Done  16 tasks      | elapsed:    1.9s\n",
      "[Parallel(n_jobs=-1)]: Done  25 tasks      | elapsed:    2.7s\n",
      "[Parallel(n_jobs=-1)]: Done  34 tasks      | elapsed:    3.6s\n",
      "[Parallel(n_jobs=-1)]: Done  45 tasks      | elapsed:    4.2s\n",
      "[Parallel(n_jobs=-1)]: Done  56 tasks      | elapsed:    5.6s\n",
      "[Parallel(n_jobs=-1)]: Done  69 tasks      | elapsed:    7.0s\n",
      "[Parallel(n_jobs=-1)]: Done  82 tasks      | elapsed:    8.5s\n",
      "[Parallel(n_jobs=-1)]: Done  97 tasks      | elapsed:   10.0s\n",
      "[Parallel(n_jobs=-1)]: Done 112 tasks      | elapsed:   11.2s\n",
      "[Parallel(n_jobs=-1)]: Done 129 tasks      | elapsed:   13.1s\n",
      "[Parallel(n_jobs=-1)]: Done 146 tasks      | elapsed:   15.0s\n",
      "[Parallel(n_jobs=-1)]: Done 165 tasks      | elapsed:   15.8s\n",
      "[Parallel(n_jobs=-1)]: Done 184 tasks      | elapsed:   17.8s\n",
      "[Parallel(n_jobs=-1)]: Done 205 tasks      | elapsed:   18.9s\n",
      "[Parallel(n_jobs=-1)]: Done 226 tasks      | elapsed:   22.0s\n",
      "[Parallel(n_jobs=-1)]: Done 249 tasks      | elapsed:   24.2s\n",
      "[Parallel(n_jobs=-1)]: Done 272 tasks      | elapsed:   26.7s\n",
      "[Parallel(n_jobs=-1)]: Done 297 tasks      | elapsed:   28.9s\n",
      "[Parallel(n_jobs=-1)]: Done 322 tasks      | elapsed:   30.7s\n",
      "[Parallel(n_jobs=-1)]: Done 349 tasks      | elapsed:   33.0s\n",
      "[Parallel(n_jobs=-1)]: Done 376 tasks      | elapsed:   36.0s\n",
      "[Parallel(n_jobs=-1)]: Done 405 tasks      | elapsed:   38.6s\n",
      "[Parallel(n_jobs=-1)]: Done 434 tasks      | elapsed:   41.6s\n",
      "[Parallel(n_jobs=-1)]: Done 465 tasks      | elapsed:   43.5s\n",
      "[Parallel(n_jobs=-1)]: Done 496 tasks      | elapsed:   46.3s\n",
      "[Parallel(n_jobs=-1)]: Done 529 tasks      | elapsed:   48.8s\n",
      "[Parallel(n_jobs=-1)]: Done 562 tasks      | elapsed:   52.6s\n",
      "[Parallel(n_jobs=-1)]: Done 600 out of 600 | elapsed:   57.4s finished\n"
     ]
    },
    {
     "name": "stdout",
     "output_type": "stream",
     "text": [
      "CPU times: user 4.29 s, sys: 298 ms, total: 4.59 s\n",
      "Wall time: 57.7 s\n"
     ]
    },
    {
     "data": {
      "text/plain": [
       "RandomizedSearchCV(cv=StratifiedKFold(n_splits=3, random_state=None, shuffle=False),\n",
       "                   error_score='raise',\n",
       "                   estimator=XGBClassifier(base_score=None, booster=None,\n",
       "                                           colsample_bylevel=None,\n",
       "                                           colsample_bynode=None,\n",
       "                                           colsample_bytree=None, gamma=None,\n",
       "                                           gpu_id=None, importance_type='gain',\n",
       "                                           interaction_constraints=None,\n",
       "                                           learning_rate=None,\n",
       "                                           max_delta_step=None, max_depth=None...\n",
       "                                        'colsample_bylevel': [0.7, 0.8, 0.9,\n",
       "                                                              1.0],\n",
       "                                        'colsample_bytree': [0.7, 0.8, 0.9,\n",
       "                                                             1.0],\n",
       "                                        'eta': [0.001, 0.1, 1, 10],\n",
       "                                        'lambda': <scipy.stats._distn_infrastructure.rv_frozen object at 0x1c1e3069d0>,\n",
       "                                        'max_depth': range(1, 15, 2),\n",
       "                                        'num_round': [10, 50, 100, 1000, 1500,\n",
       "                                                      2000],\n",
       "                                        'subsample': [0.8, 0.9, 1.0]},\n",
       "                   pre_dispatch='2*n_jobs', random_state=None, refit=True,\n",
       "                   return_train_score=False, scoring='accuracy', verbose=10)"
      ]
     },
     "execution_count": 28,
     "metadata": {},
     "output_type": "execute_result"
    }
   ],
   "source": [
    "%%time\n",
    "# выполняем поиск по сетке\n",
    "gs.fit(X_train, y_train)"
   ]
  },
  {
   "cell_type": "markdown",
   "metadata": {},
   "source": [
    "Найденные оптимальные гиперпараметры:"
   ]
  },
  {
   "cell_type": "code",
   "execution_count": 29,
   "metadata": {},
   "outputs": [
    {
     "data": {
      "text/plain": [
       "{'alpha': 0.4097610592073989,\n",
       " 'colsample_bylevel': 0.8,\n",
       " 'colsample_bytree': 1.0,\n",
       " 'eta': 1,\n",
       " 'lambda': 0.42655405988358847,\n",
       " 'max_depth': 1,\n",
       " 'num_round': 1500,\n",
       " 'subsample': 1.0}"
      ]
     },
     "execution_count": 29,
     "metadata": {},
     "output_type": "execute_result"
    }
   ],
   "source": [
    "gs.best_params_"
   ]
  },
  {
   "cell_type": "markdown",
   "metadata": {},
   "source": [
    "Оптимальное значение метрики:"
   ]
  },
  {
   "cell_type": "code",
   "execution_count": 30,
   "metadata": {},
   "outputs": [
    {
     "data": {
      "text/plain": [
       "0.9075"
      ]
     },
     "execution_count": 30,
     "metadata": {},
     "output_type": "execute_result"
    }
   ],
   "source": [
    "gs.best_score_"
   ]
  },
  {
   "cell_type": "markdown",
   "metadata": {},
   "source": [
    "Оцениваем качество на тестовой выборке и сравниваем с дефолтной моделью."
   ]
  },
  {
   "cell_type": "code",
   "execution_count": 31,
   "metadata": {},
   "outputs": [
    {
     "data": {
      "text/plain": [
       "0.9225"
      ]
     },
     "execution_count": 31,
     "metadata": {},
     "output_type": "execute_result"
    }
   ],
   "source": [
    "best_model = gs.best_estimator_\n",
    "best_model.fit(X_train, y_train)\n",
    "y_pred_best = best_model.predict(X_test)\n",
    "accuracy_score(y_test, y_pred_best)"
   ]
  },
  {
   "cell_type": "code",
   "execution_count": 32,
   "metadata": {},
   "outputs": [
    {
     "data": {
      "text/plain": [
       "0.8975"
      ]
     },
     "execution_count": 32,
     "metadata": {},
     "output_type": "execute_result"
    }
   ],
   "source": [
    "default_model = xgb.XGBClassifier()\n",
    "default_model.fit(X_train, y_train)\n",
    "y_pred_default = default_model.predict(X_test)\n",
    "accuracy_score(y_test, y_pred_default)"
   ]
  },
  {
   "cell_type": "markdown",
   "metadata": {},
   "source": [
    "При помощи случайного поиска гиперпараметров по сетке мы получили более качественную модель."
   ]
  },
  {
   "cell_type": "markdown",
   "metadata": {
    "colab_type": "text",
    "id": "CfKxT1BSOEx3"
   },
   "source": [
    "## 2. Эвристический подход к настройке гиперпараметров"
   ]
  },
  {
   "cell_type": "markdown",
   "metadata": {
    "colab_type": "text",
    "id": "AnFIvHiSOL8p"
   },
   "source": [
    "Для работы с большими датасетами поиск по сетке не представляется возможным, поэтому будем действовать по следующему принципу. Для других бустингов (`LightGBM`, `CatBoost` и etc.) рекомендуется действовать аналогично:\n",
    "\n",
    "1) Фиксируем параметр `learning_rate`. Обычно берут `0.1`, но для разных задач он устанавливается от `0.05` до `0.3`. Определяем оптимальное количество деревьев для **данного `learning_rate`**\n",
    "\n",
    "2) Настраиваем параметры дерева: `max_depth`, `min_child_weight`, `gamma`, `subsample`, `colsample_bytree` для фиксированном количестве деревьев и `learning_rate`.\n",
    "\n",
    "3) Настраиваем параметры регуляризации: `lambda` и `alpha`, что поможет нам уменьшить сложность модели и повысить ее производительность\n",
    "\n",
    "4) Понижаем `learning_rate` и повторяем пункты 1-3 до сходимости. Возможно, при понижении `learning_rate` не удасться добиться лучшего качества."
   ]
  },
  {
   "cell_type": "markdown",
   "metadata": {},
   "source": [
    "Для демонстрации данного подхода будем использовать нативный интерфейс `XGBoost`:"
   ]
  },
  {
   "cell_type": "code",
   "execution_count": 33,
   "metadata": {
    "colab": {},
    "colab_type": "code",
    "id": "XvW5EZXhwgRv"
   },
   "outputs": [],
   "source": [
    "xgtrain = xgb.DMatrix(X_train.values, y_train.values)\n",
    "xgtest = xgb.DMatrix(X_test.values, y_test.values)\n",
    "evallist = [(xgtest, 'eval'), (xgtrain, 'train')]"
   ]
  },
  {
   "cell_type": "markdown",
   "metadata": {},
   "source": [
    "### Шаг 1. Настройка параметров бустинга\n",
    "Для настройки параметров бустинга мы должны присовить некоторые начальные значения для всех остальных параметров (дерева и регуляризации):\n",
    "\n",
    "1) `max_depth = 5`. Обычно этот параметр варируется от 3 до 10. Значения 4-6 -- хорошее стартовое приближение\n",
    "\n",
    "2) `min_child_weight = 1`. Здесь логики нет, выбираем исходя из задачи\n",
    "\n",
    "3) `gamma = 0.1`. Обычно этот параметр варьируем от 0 до 0.2. В дальнейшей настройке мы его подберем\n",
    "\n",
    "4) `subsample, colsample_bytree = 0.8`. Это часто используемое начальное приближение. Обычно его варируют от 0.5 до 0.9\n",
    "\n",
    "Обращаем ваше внимание, что все эти параметры являются лишь первоначальной оценкой и будут настроены позже"
   ]
  },
  {
   "cell_type": "markdown",
   "metadata": {},
   "source": [
    "Теперь зафиксируем `learning_rate = 0.1` и найдем оптимальное количество деревьев с помощью кросс-валидации:"
   ]
  },
  {
   "cell_type": "code",
   "execution_count": 34,
   "metadata": {
    "colab": {},
    "colab_type": "code",
    "id": "WZsdJoljwgeB"
   },
   "outputs": [],
   "source": [
    "xgb_params = {\n",
    "    \"num_class\": 4,\n",
    "    \"booster\": \"gbtree\",\n",
    "    \"n_estimators\": 1000,\n",
    "    \"learning_rate\": 0.1,\n",
    "    \"max_depth\": 5,\n",
    "    \"min_child_weight\": 1,\n",
    "    \"gamma\": 0.1,\n",
    "    \"subsample\": 0.8,\n",
    "    \"colsample_bytree\": 0.8\n",
    "}"
   ]
  },
  {
   "cell_type": "code",
   "execution_count": 35,
   "metadata": {
    "colab": {},
    "colab_type": "code",
    "id": "hBLYHWZgwgjf"
   },
   "outputs": [],
   "source": [
    "cvresult = xgb.cv(\n",
    "    xgb_params, xgtrain, num_boost_round=xgb_params['n_estimators'], \n",
    "    nfold=5, early_stopping_rounds=30\n",
    ")"
   ]
  },
  {
   "cell_type": "code",
   "execution_count": 36,
   "metadata": {
    "colab": {},
    "colab_type": "code",
    "id": "rPwZ5WDKwgou"
   },
   "outputs": [
    {
     "data": {
      "text/html": [
       "<div>\n",
       "<style scoped>\n",
       "    .dataframe tbody tr th:only-of-type {\n",
       "        vertical-align: middle;\n",
       "    }\n",
       "\n",
       "    .dataframe tbody tr th {\n",
       "        vertical-align: top;\n",
       "    }\n",
       "\n",
       "    .dataframe thead th {\n",
       "        text-align: right;\n",
       "    }\n",
       "</style>\n",
       "<table border=\"1\" class=\"dataframe\">\n",
       "  <thead>\n",
       "    <tr style=\"text-align: right;\">\n",
       "      <th></th>\n",
       "      <th>train-merror-mean</th>\n",
       "      <th>train-merror-std</th>\n",
       "      <th>test-merror-mean</th>\n",
       "      <th>test-merror-std</th>\n",
       "    </tr>\n",
       "  </thead>\n",
       "  <tbody>\n",
       "    <tr>\n",
       "      <th>99</th>\n",
       "      <td>0.0</td>\n",
       "      <td>0.0</td>\n",
       "      <td>0.100000</td>\n",
       "      <td>0.011693</td>\n",
       "    </tr>\n",
       "    <tr>\n",
       "      <th>100</th>\n",
       "      <td>0.0</td>\n",
       "      <td>0.0</td>\n",
       "      <td>0.098750</td>\n",
       "      <td>0.010933</td>\n",
       "    </tr>\n",
       "    <tr>\n",
       "      <th>101</th>\n",
       "      <td>0.0</td>\n",
       "      <td>0.0</td>\n",
       "      <td>0.096875</td>\n",
       "      <td>0.011524</td>\n",
       "    </tr>\n",
       "  </tbody>\n",
       "</table>\n",
       "</div>"
      ],
      "text/plain": [
       "     train-merror-mean  train-merror-std  test-merror-mean  test-merror-std\n",
       "99                 0.0               0.0          0.100000         0.011693\n",
       "100                0.0               0.0          0.098750         0.010933\n",
       "101                0.0               0.0          0.096875         0.011524"
      ]
     },
     "execution_count": 36,
     "metadata": {},
     "output_type": "execute_result"
    }
   ],
   "source": [
    "cvresult[-3:]"
   ]
  },
  {
   "cell_type": "markdown",
   "metadata": {},
   "source": [
    "Видим, что обучение прекратилось при добавлении 101 дерева. Установим параметр `n_estimators=101`"
   ]
  },
  {
   "cell_type": "markdown",
   "metadata": {},
   "source": [
    "## Шаг 2. Настройка параметров дерева\n",
    "\n",
    "### 2.1. Настройка параметров `max_depth` и `min_child_weight`\n",
    "\n",
    "Первыми настраиваем параметры `max_depth` и `min_child_weight`, т.к. они дадут наибольший вклад в финальный результат модели. Здесь все тривиально, настраиваем по сетке (или перебираем руками):"
   ]
  },
  {
   "cell_type": "code",
   "execution_count": 37,
   "metadata": {},
   "outputs": [],
   "source": [
    "param_grid = {\n",
    "    \"max_depth\": range(3, 10),\n",
    "    \"min_child_weight\": range(1, 10),\n",
    "}\n",
    "\n",
    "xgb_params = {\n",
    "    \"num_class\": 4,\n",
    "    \"booster\": \"gbtree\",\n",
    "    \"n_estimators\": 101,\n",
    "    \"learning_rate\": 0.1,\n",
    "    \"gamma\": 0.1,\n",
    "    \"subsample\": 0.8,\n",
    "    \"colsample_bytree\": 0.8\n",
    "}"
   ]
  },
  {
   "cell_type": "code",
   "execution_count": 38,
   "metadata": {},
   "outputs": [],
   "source": [
    "gs = GridSearchCV(xgb.XGBClassifier(**xgb_params), param_grid, \n",
    "                  n_jobs=4, scoring='accuracy', verbose=1, cv=5)"
   ]
  },
  {
   "cell_type": "code",
   "execution_count": 39,
   "metadata": {},
   "outputs": [
    {
     "name": "stdout",
     "output_type": "stream",
     "text": [
      "Fitting 5 folds for each of 63 candidates, totalling 315 fits\n"
     ]
    },
    {
     "name": "stderr",
     "output_type": "stream",
     "text": [
      "[Parallel(n_jobs=4)]: Using backend LokyBackend with 4 concurrent workers.\n",
      "[Parallel(n_jobs=4)]: Done  42 tasks      | elapsed:    5.0s\n",
      "[Parallel(n_jobs=4)]: Done 192 tasks      | elapsed:   30.0s\n",
      "[Parallel(n_jobs=4)]: Done 315 out of 315 | elapsed:   54.5s finished\n"
     ]
    },
    {
     "data": {
      "text/plain": [
       "GridSearchCV(cv=5, error_score='raise-deprecating',\n",
       "             estimator=XGBClassifier(base_score=None, booster='gbtree',\n",
       "                                     colsample_bylevel=None,\n",
       "                                     colsample_bynode=None,\n",
       "                                     colsample_bytree=0.8, gamma=0.1,\n",
       "                                     gpu_id=None, importance_type='gain',\n",
       "                                     interaction_constraints=None,\n",
       "                                     learning_rate=0.1, max_delta_step=None,\n",
       "                                     max_depth=None, min_child_weight=None,\n",
       "                                     missing=nan, monotone_constra...\n",
       "                                     num_parallel_tree=None,\n",
       "                                     objective='binary:logistic',\n",
       "                                     random_state=None, reg_alpha=None,\n",
       "                                     reg_lambda=None, scale_pos_weight=None,\n",
       "                                     subsample=0.8, tree_method=None,\n",
       "                                     validate_parameters=False,\n",
       "                                     verbosity=None),\n",
       "             iid='warn', n_jobs=4,\n",
       "             param_grid={'max_depth': range(3, 10),\n",
       "                         'min_child_weight': range(1, 10)},\n",
       "             pre_dispatch='2*n_jobs', refit=True, return_train_score=False,\n",
       "             scoring='accuracy', verbose=1)"
      ]
     },
     "execution_count": 39,
     "metadata": {},
     "output_type": "execute_result"
    }
   ],
   "source": [
    "gs.fit(X_train, y_train)"
   ]
  },
  {
   "cell_type": "code",
   "execution_count": 40,
   "metadata": {},
   "outputs": [
    {
     "data": {
      "text/plain": [
       "{'max_depth': 4, 'min_child_weight': 2}"
      ]
     },
     "execution_count": 40,
     "metadata": {},
     "output_type": "execute_result"
    }
   ],
   "source": [
    "gs.best_params_"
   ]
  },
  {
   "cell_type": "markdown",
   "metadata": {},
   "source": [
    "Оптимальными параметрами оказались `max_depth = 4`, `min_child_weight = 2`"
   ]
  },
  {
   "cell_type": "markdown",
   "metadata": {},
   "source": [
    "### 2.2. Настраиваем параметр `gamma`\n",
    "\n",
    "Настройка будет происходить для уже подобранных параметров выше. Параметр `gamma` может принимать различные значения в зависимости от задачи. Рекомендуется перебирать от 0 до 0.5:"
   ]
  },
  {
   "cell_type": "code",
   "execution_count": 41,
   "metadata": {},
   "outputs": [],
   "source": [
    "param_grid = {\n",
    "    \"gamma\": [i / 10 for i in range(5)]\n",
    "}\n",
    "\n",
    "xgb_params = {\n",
    "    \"num_class\": 4,\n",
    "    \"booster\": \"gbtree\",\n",
    "    \"n_estimators\": 101,\n",
    "    \"learning_rate\": 0.1,\n",
    "    \"max_depth\": 4,\n",
    "    \"min_child_weight\": 2,\n",
    "    \"subsample\": 0.8,\n",
    "    \"colsample_bytree\": 0.8\n",
    "}"
   ]
  },
  {
   "cell_type": "code",
   "execution_count": 42,
   "metadata": {},
   "outputs": [],
   "source": [
    "gs = GridSearchCV(xgb.XGBClassifier(**xgb_params), param_grid, \n",
    "                  n_jobs=4, scoring='accuracy', verbose=1, cv=5)"
   ]
  },
  {
   "cell_type": "code",
   "execution_count": 43,
   "metadata": {},
   "outputs": [
    {
     "name": "stdout",
     "output_type": "stream",
     "text": [
      "Fitting 5 folds for each of 5 candidates, totalling 25 fits\n"
     ]
    },
    {
     "name": "stderr",
     "output_type": "stream",
     "text": [
      "[Parallel(n_jobs=4)]: Using backend LokyBackend with 4 concurrent workers.\n",
      "[Parallel(n_jobs=4)]: Done  25 out of  25 | elapsed:    4.0s finished\n"
     ]
    },
    {
     "data": {
      "text/plain": [
       "GridSearchCV(cv=5, error_score='raise-deprecating',\n",
       "             estimator=XGBClassifier(base_score=None, booster='gbtree',\n",
       "                                     colsample_bylevel=None,\n",
       "                                     colsample_bynode=None,\n",
       "                                     colsample_bytree=0.8, gamma=None,\n",
       "                                     gpu_id=None, importance_type='gain',\n",
       "                                     interaction_constraints=None,\n",
       "                                     learning_rate=0.1, max_delta_step=None,\n",
       "                                     max_depth=4, min_child_weight=2,\n",
       "                                     missing=nan, monotone_constraints=...\n",
       "                                     n_estimators=101, n_jobs=None, num_class=4,\n",
       "                                     num_parallel_tree=None,\n",
       "                                     objective='binary:logistic',\n",
       "                                     random_state=None, reg_alpha=None,\n",
       "                                     reg_lambda=None, scale_pos_weight=None,\n",
       "                                     subsample=0.8, tree_method=None,\n",
       "                                     validate_parameters=False,\n",
       "                                     verbosity=None),\n",
       "             iid='warn', n_jobs=4,\n",
       "             param_grid={'gamma': [0.0, 0.1, 0.2, 0.3, 0.4]},\n",
       "             pre_dispatch='2*n_jobs', refit=True, return_train_score=False,\n",
       "             scoring='accuracy', verbose=1)"
      ]
     },
     "execution_count": 43,
     "metadata": {},
     "output_type": "execute_result"
    }
   ],
   "source": [
    "gs.fit(X_train, y_train)"
   ]
  },
  {
   "cell_type": "code",
   "execution_count": 44,
   "metadata": {},
   "outputs": [
    {
     "data": {
      "text/plain": [
       "{'gamma': 0.1}"
      ]
     },
     "execution_count": 44,
     "metadata": {},
     "output_type": "execute_result"
    }
   ],
   "source": [
    "gs.best_params_"
   ]
  },
  {
   "cell_type": "markdown",
   "metadata": {},
   "source": [
    "Оптимальным значением оказалась `gamma = 0.1`"
   ]
  },
  {
   "cell_type": "markdown",
   "metadata": {},
   "source": [
    "### 2.3. Настраиваем `subsample` и `colsample_bytree`"
   ]
  },
  {
   "cell_type": "code",
   "execution_count": 45,
   "metadata": {},
   "outputs": [],
   "source": [
    "param_grid = {\n",
    "    \"subsample\": [i / 10 for i in range(4, 11)],\n",
    "    \"colsample_bytree\": [i / 10 for i in range(4, 11)]\n",
    "}\n",
    "\n",
    "xgb_params = {\n",
    "    \"num_class\": 4,\n",
    "    \"booster\": \"gbtree\",\n",
    "    \"n_estimators\": 101,\n",
    "    \"learning_rate\": 0.1,\n",
    "    \"max_depth\": 4,\n",
    "    \"gamma\": 0.1,\n",
    "    \"min_child_weight\": 2\n",
    "}"
   ]
  },
  {
   "cell_type": "code",
   "execution_count": 46,
   "metadata": {},
   "outputs": [],
   "source": [
    "gs = GridSearchCV(xgb.XGBClassifier(**xgb_params), param_grid, \n",
    "                  n_jobs=4, scoring='accuracy', verbose=1, cv=5)"
   ]
  },
  {
   "cell_type": "code",
   "execution_count": 47,
   "metadata": {},
   "outputs": [
    {
     "name": "stdout",
     "output_type": "stream",
     "text": [
      "Fitting 5 folds for each of 49 candidates, totalling 245 fits\n"
     ]
    },
    {
     "name": "stderr",
     "output_type": "stream",
     "text": [
      "[Parallel(n_jobs=4)]: Using backend LokyBackend with 4 concurrent workers.\n",
      "[Parallel(n_jobs=4)]: Done  42 tasks      | elapsed:    4.3s\n",
      "[Parallel(n_jobs=4)]: Done 192 tasks      | elapsed:   24.0s\n",
      "[Parallel(n_jobs=4)]: Done 245 out of 245 | elapsed:   32.6s finished\n"
     ]
    },
    {
     "data": {
      "text/plain": [
       "GridSearchCV(cv=5, error_score='raise-deprecating',\n",
       "             estimator=XGBClassifier(base_score=None, booster='gbtree',\n",
       "                                     colsample_bylevel=None,\n",
       "                                     colsample_bynode=None,\n",
       "                                     colsample_bytree=None, gamma=0.1,\n",
       "                                     gpu_id=None, importance_type='gain',\n",
       "                                     interaction_constraints=None,\n",
       "                                     learning_rate=0.1, max_delta_step=None,\n",
       "                                     max_depth=4, min_child_weight=2,\n",
       "                                     missing=nan, monotone_constraints=...\n",
       "                                     random_state=None, reg_alpha=None,\n",
       "                                     reg_lambda=None, scale_pos_weight=None,\n",
       "                                     subsample=None, tree_method=None,\n",
       "                                     validate_parameters=False,\n",
       "                                     verbosity=None),\n",
       "             iid='warn', n_jobs=4,\n",
       "             param_grid={'colsample_bytree': [0.4, 0.5, 0.6, 0.7, 0.8, 0.9,\n",
       "                                              1.0],\n",
       "                         'subsample': [0.4, 0.5, 0.6, 0.7, 0.8, 0.9, 1.0]},\n",
       "             pre_dispatch='2*n_jobs', refit=True, return_train_score=False,\n",
       "             scoring='accuracy', verbose=1)"
      ]
     },
     "execution_count": 47,
     "metadata": {},
     "output_type": "execute_result"
    }
   ],
   "source": [
    "gs.fit(X_train, y_train)"
   ]
  },
  {
   "cell_type": "code",
   "execution_count": 48,
   "metadata": {},
   "outputs": [
    {
     "data": {
      "text/plain": [
       "{'colsample_bytree': 0.9, 'subsample': 0.4}"
      ]
     },
     "execution_count": 48,
     "metadata": {},
     "output_type": "execute_result"
    }
   ],
   "source": [
    "gs.best_params_"
   ]
  },
  {
   "cell_type": "markdown",
   "metadata": {},
   "source": [
    "Оптимальными параметрами оказались `colsample_bytree = 0.9`, `subsample = 0.4`"
   ]
  },
  {
   "cell_type": "markdown",
   "metadata": {},
   "source": [
    "## Шаг 3. Настройка параметров регуляризации"
   ]
  },
  {
   "cell_type": "code",
   "execution_count": 49,
   "metadata": {},
   "outputs": [],
   "source": [
    "param_grid = {\n",
    "    'alpha': [0, 0.001, 0.005, 0.01, 0.05],\n",
    "    'lambda': [0, 0.001, 0.005, 0.01, 0.05],\n",
    "}\n",
    "\n",
    "xgb_params = {\n",
    "    \"num_class\": 4,\n",
    "    \"booster\": \"gbtree\",\n",
    "    \"n_estimators\": 101,\n",
    "    \"learning_rate\": 0.1,\n",
    "    \"max_depth\": 4,\n",
    "    \"gamma\": 0.1,\n",
    "    \"min_child_weight\": 2,\n",
    "    \"subsample\": 0.4,\n",
    "    \"colsample_bytree\": 0.9,\n",
    "}"
   ]
  },
  {
   "cell_type": "code",
   "execution_count": 50,
   "metadata": {},
   "outputs": [],
   "source": [
    "gs = GridSearchCV(xgb.XGBClassifier(**xgb_params), param_grid, \n",
    "                  n_jobs=4, scoring='accuracy', verbose=1, cv=5)"
   ]
  },
  {
   "cell_type": "code",
   "execution_count": 51,
   "metadata": {},
   "outputs": [
    {
     "name": "stdout",
     "output_type": "stream",
     "text": [
      "Fitting 5 folds for each of 25 candidates, totalling 125 fits\n"
     ]
    },
    {
     "name": "stderr",
     "output_type": "stream",
     "text": [
      "[Parallel(n_jobs=4)]: Using backend LokyBackend with 4 concurrent workers.\n",
      "[Parallel(n_jobs=4)]: Done  42 tasks      | elapsed:    5.9s\n",
      "[Parallel(n_jobs=4)]: Done 125 out of 125 | elapsed:   17.3s finished\n"
     ]
    },
    {
     "data": {
      "text/plain": [
       "GridSearchCV(cv=5, error_score='raise-deprecating',\n",
       "             estimator=XGBClassifier(base_score=None, booster='gbtree',\n",
       "                                     colsample_bylevel=None,\n",
       "                                     colsample_bynode=None,\n",
       "                                     colsample_bytree=0.9, gamma=0.1,\n",
       "                                     gpu_id=None, importance_type='gain',\n",
       "                                     interaction_constraints=None,\n",
       "                                     learning_rate=0.1, max_delta_step=None,\n",
       "                                     max_depth=4, min_child_weight=2,\n",
       "                                     missing=nan, monotone_constraints=N...\n",
       "                                     objective='binary:logistic',\n",
       "                                     random_state=None, reg_alpha=None,\n",
       "                                     reg_lambda=None, scale_pos_weight=None,\n",
       "                                     subsample=0.4, tree_method=None,\n",
       "                                     validate_parameters=False,\n",
       "                                     verbosity=None),\n",
       "             iid='warn', n_jobs=4,\n",
       "             param_grid={'alpha': [0, 0.001, 0.005, 0.01, 0.05],\n",
       "                         'lambda': [0, 0.001, 0.005, 0.01, 0.05]},\n",
       "             pre_dispatch='2*n_jobs', refit=True, return_train_score=False,\n",
       "             scoring='accuracy', verbose=1)"
      ]
     },
     "execution_count": 51,
     "metadata": {},
     "output_type": "execute_result"
    }
   ],
   "source": [
    "gs.fit(X_train, y_train)"
   ]
  },
  {
   "cell_type": "code",
   "execution_count": 52,
   "metadata": {},
   "outputs": [
    {
     "data": {
      "text/plain": [
       "{'alpha': 0.005, 'lambda': 0.01}"
      ]
     },
     "execution_count": 52,
     "metadata": {},
     "output_type": "execute_result"
    }
   ],
   "source": [
    "gs.best_params_"
   ]
  },
  {
   "cell_type": "markdown",
   "metadata": {},
   "source": [
    "Оптимальными параметрами оказались `alpha = 0.005`, `lambda = 0.01`"
   ]
  },
  {
   "cell_type": "code",
   "execution_count": 53,
   "metadata": {},
   "outputs": [
    {
     "data": {
      "text/plain": [
       "0.9"
      ]
     },
     "execution_count": 53,
     "metadata": {},
     "output_type": "execute_result"
    }
   ],
   "source": [
    "best_estimator = gs.best_estimator_\n",
    "best_estimator.fit(X_train, y_train)\n",
    "y_pred_best = best_estimator.predict(X_test)\n",
    "accuracy_score(y_test, y_pred_best)"
   ]
  },
  {
   "cell_type": "markdown",
   "metadata": {},
   "source": [
    "Получили самое высокое качество из всех представленных моделей"
   ]
  },
  {
   "cell_type": "markdown",
   "metadata": {},
   "source": [
    "## Другие бустинги\n",
    "\n",
    "Ниже приведена таблица со сравненением параметров в других популярных бустингах. Подборы гиперпараметров будут происходить аналогично, но исходя из специфики гиперпараметра в данном алгоритме\n",
    "\n",
    "![](https://miro.medium.com/max/3400/1*A0b_ahXOrrijazzJengwYw.png)"
   ]
  }
 ],
 "metadata": {
  "colab": {
   "name": "xgb_tuning.ipynb",
   "provenance": []
  },
  "kernelspec": {
   "display_name": "Python 3",
   "language": "python",
   "name": "python3"
  },
  "language_info": {
   "codemirror_mode": {
    "name": "ipython",
    "version": 3
   },
   "file_extension": ".py",
   "mimetype": "text/x-python",
   "name": "python",
   "nbconvert_exporter": "python",
   "pygments_lexer": "ipython3",
   "version": "3.7.3"
  }
 },
 "nbformat": 4,
 "nbformat_minor": 1
}
