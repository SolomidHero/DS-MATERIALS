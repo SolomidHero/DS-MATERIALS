{
 "cells": [
  {
   "cell_type": "markdown",
   "metadata": {
    "colab_type": "text",
    "id": "IQixwFNDFL-h"
   },
   "source": [
    "## Решающие деревья"
   ]
  },
  {
   "cell_type": "code",
   "execution_count": 1,
   "metadata": {
    "ExecuteTime": {
     "end_time": "2020-03-14T14:38:45.163415Z",
     "start_time": "2020-03-14T14:38:44.355382Z"
    },
    "colab": {},
    "colab_type": "code",
    "id": "vkmdnGJKFL-0"
   },
   "outputs": [],
   "source": [
    "import numpy as np\n",
    "import pandas as pd\n",
    "import warnings\n",
    "\n",
    "from sklearn.base import BaseEstimator\n",
    "from sklearn.metrics import accuracy_score, r2_score\n",
    "from sklearn.model_selection import GridSearchCV, train_test_split\n",
    "\n",
    "import matplotlib.pyplot as plt\n",
    "import seaborn as sns\n",
    "\n",
    "warnings.filterwarnings('ignore')\n",
    "sns.set(font_scale=1.6)"
   ]
  },
  {
   "cell_type": "markdown",
   "metadata": {
    "colab_type": "text",
    "id": "QGzAPeK4FL_E"
   },
   "source": [
    "Вспомним, как именно происходит построение решающего дерева. Для построения дерева в каждой нелистовой вершине происходит разбиение подвыборки на две части по некоторому признаку $x_j$. Этот признак и порог $t$, по которому будет происходить разбиение, мы хотим брать не произвольно, а основываясь на соображениях оптимальности.  Для этого нам необходимо знать некоторый фукционал качества, который будем оптимизировать при построении разбиения. \n",
    "\n",
    "Обозначим через $X_m$ -- множество объектов, попавших в вершину $m$, разбиваемую на данном шаге, а через $X_l$ и $X_r$ -- объекты, попадающие в левое и правое поддерево соответственно при заданном правиле $I\\{x_j < t\\}$. Пусть также $H$ -- используемый критерий информативности (impurity criterion).\n",
    "\n",
    "Выпишите функционал, который необходимо минимизировать при разбиении вершины:"
   ]
  },
  {
   "cell_type": "markdown",
   "metadata": {
    "colab_type": "text",
    "id": "fxYGo5hDFL_f"
   },
   "source": [
    "**Ответ:** $$\\frac{|X_l|}{|X|}H(X_l) + \\frac{|X_r|}{|X|}H(X_r).$$"
   ]
  },
  {
   "cell_type": "markdown",
   "metadata": {
    "colab_type": "text",
    "id": "2dcYnb7TFMAC"
   },
   "source": [
    "**Реализация критериев информативности.**\n"
   ]
  },
  {
   "cell_type": "markdown",
   "metadata": {
    "colab_type": "text",
    "id": "1tSAxVdHFMAM"
   },
   "source": [
    "Вспомните ещё раз, на какой общей идее основаны критерии информативности и какую характеристику выборки они стремятся оптимизировать?\n",
    "\n",
    "**Ответ.** Чем меньше разнообразие целевой переменной, тем меньше должно быть значение критерия информативности - и, соответственно, мы будем пытаться минимизировать его значение. Тогда функционал качества $Q(R_m, j, t)$ будет показывать выигрыш при выборе разбиения по предикату {x^j < t}. Его мы пытаемся максимизировать по всем таким предикатам.\n"
   ]
  },
  {
   "cell_type": "markdown",
   "metadata": {
    "colab_type": "text",
    "id": "_iu3emisFMAf"
   },
   "source": [
    "Перед тем, как непосредственно работать с решающими деревьями, реализуйте критерии информативности. Использовать готовые реализации критериев или классов для решающих деревьев из `sklearn` и из других библиотек **запрещено.** Также при реализации критериев информативности по причине неэффективности **запрещается использовать циклы**. Воспользуйтесь библиотекой `numpy`.\n",
    "\n",
    "Каждая функция принимает на вход одномерный `numpy`-массив размерности `(n,)` из значений отклика."
   ]
  },
  {
   "cell_type": "code",
   "execution_count": 2,
   "metadata": {
    "ExecuteTime": {
     "end_time": "2020-03-14T14:38:45.174510Z",
     "start_time": "2020-03-14T14:38:45.165373Z"
    },
    "colab": {},
    "colab_type": "code",
    "id": "8inXiL3FFMAl"
   },
   "outputs": [],
   "source": [
    "# Код функций, реализующих критерии разбиения. \n",
    "\n",
    "def mean_square_criterion(y):\n",
    "    ''' Критерий для квадратичной функции потерь. '''\n",
    "    \n",
    "    return np.mean((y - np.mean(y))**2)\n",
    "\n",
    "\n",
    "def mean_abs_criterion(y):\n",
    "    ''' Критерий для абсолютной функции потерь. '''\n",
    "    \n",
    "    return np.mean(np.absolute(y - np.median(y)))\n",
    "\n",
    "\n",
    "def get_probs_by_y(y):\n",
    "    ''' Возвращает вектор частот для каждого класса выборки. '''\n",
    "    \n",
    "    _, counts = np.unique(y, return_counts=True)\n",
    "    return counts / np.sum(counts)\n",
    "\n",
    "\n",
    "def gini_criterion(y):\n",
    "    ''' Критерий Джини. '''\n",
    "    \n",
    "    probs = get_probs_by_y(y)\n",
    "    return np.sum(probs * (1 - probs))\n",
    "\n",
    "\n",
    "def entropy_criterion(y):\n",
    "    ''' Энтропийный критерий. '''\n",
    "    \n",
    "    probs = get_probs_by_y(y)\n",
    "    return -np.sum(probs * np.log(probs))"
   ]
  },
  {
   "cell_type": "markdown",
   "metadata": {
    "colab_type": "text",
    "id": "FN5GPd10FMAt"
   },
   "source": [
    "Протестируйте реализованные функции.\n",
    "\n",
    "Тесты для распределения вероятностей на классах."
   ]
  },
  {
   "cell_type": "code",
   "execution_count": 3,
   "metadata": {
    "ExecuteTime": {
     "end_time": "2020-03-14T14:38:45.189161Z",
     "start_time": "2020-03-14T14:38:45.177045Z"
    },
    "colab": {},
    "colab_type": "code",
    "id": "EHZcseUGFMAz"
   },
   "outputs": [],
   "source": [
    "assert np.allclose(get_probs_by_y([1, 1, 2, 2, 7]), \n",
    "                   np.array([0.4, 0.4, 0.2]))\n",
    "assert np.allclose(get_probs_by_y([1]), np.array([1]))"
   ]
  },
  {
   "cell_type": "markdown",
   "metadata": {
    "colab_type": "text",
    "id": "J5isaQy8FMBP"
   },
   "source": [
    "Тесты для критериев разбиения."
   ]
  },
  {
   "cell_type": "code",
   "execution_count": 4,
   "metadata": {
    "ExecuteTime": {
     "end_time": "2020-03-14T14:38:45.197239Z",
     "start_time": "2020-03-14T14:38:45.191295Z"
    },
    "colab": {},
    "colab_type": "code",
    "id": "YfNxjg6zFMBU"
   },
   "outputs": [],
   "source": [
    "assert np.allclose(entropy_criterion([25]), 0)\n",
    "assert np.allclose(gini_criterion([25]), 0)\n",
    "assert np.allclose(mean_square_criterion([10, 10, 10]), 0)\n",
    "assert np.allclose(mean_abs_criterion([10, 10, 10]), 0)"
   ]
  },
  {
   "cell_type": "markdown",
   "metadata": {
    "colab_type": "text",
    "id": "x_2EjJpiFMBo"
   },
   "source": [
    "**Реализация класса решающего дерева.**\n",
    "\n",
    "Для того, чтобы лучше понять, как устроены решающие деревья и как именно устроен процесс их построения, вам предлагается реализавать класс `BaseDecisionTree`, реализующий базовые функции решающего дерева.  Большая часть кода уже написана. \n",
    "\n",
    "Используются следующие классы:\n",
    "\n",
    "**Класс 1**. `BaseDecisionTree` - класс для решающего дерева, в котором реализовано построение дерева. Все вершины дерева хранятся в списке `self.nodes`, при этом вершина с номером 0 - корень.\n",
    "\n",
    "\n",
    "1) `__init__` - инициализация дерева. Здесь сохраняются гиперпараметры дерева: `criterion`, `max_depth`, `min_samples_split` и инициализируется список вершин, состоящий только из одной вершины - корневой,\n",
    "\n",
    "2) `build_` - рекурсивная функция построения дерева. В ней при посещении каждой вершины дерева проверяются условия, стоит ли продолжать разбивать эту вершину. Если да, то перебираются все возможные признаки и пороговые значения и выбирается та пара (признак, значение), которой соответствует наименьшее значение критерия информативности,\n",
    "\n",
    "3) `fit` - функция обучения дерева, принимающая на вход обучающую выборку. В этой функции происходит предподсчёт всех возможных пороговых значений для каждого из признаков, а затем вызывается функция `build_`.\n",
    "\n",
    "**Класс 2**. `Node` - класс вершины дерева. Внутри вершины, помимо раздяляющего признака и порога хранятся `self.left_son`, `self.right_son` - номера дочерних вершин, а также `self.left_prob` и `self.right_prob` - вероятности попадания элемента в каждую из них. При этом в листовых вершиных хранятся также `self.y_values` - значения соответствующих элементов выборки, попавших в вершину.\n",
    "\n",
    "1) `__init__` - инициализация вершины. Принимает в качестве аргументов разделяющий признак и пороговое значение и сохраняет их.\n",
    "\n",
    "**Класс 3**. `DecisionTreeRegressor` - наследник класса `BaseDecisionTree`, в котором реализованы функции для предсказаний при решении задачи регрессии.\n",
    "\n",
    "1) `predict_instance` - получение предсказания для одного элемента выборки. Выполняется посредством спуска по решающему дереву до листовой вершины,\n",
    "\n",
    "2) `predict` - получение предсказаний для всех элементов выборки.\n",
    "\n",
    "\n",
    "**Класс 4**. `DecisionTreeClassifier` - наследник класса `BaseDecisionTree`, в котором реализованы функции для предсказаний при решении задачи классификации.\n",
    "\n",
    "1) `predict_proba_instance` - предсказание распределение вероятностей по классам для одного элемента выборки, \n",
    "\n",
    "2) `predict_proba` - предсказание распределение вероятностей по классам для всех элементов выборки,\n",
    "\n",
    "3) `predict_proba` - предсказание меток классов для всех элементов выборки."
   ]
  },
  {
   "cell_type": "markdown",
   "metadata": {},
   "source": [
    "Перед написанием кода разбиения дерева, ответьте на вопрос, какие пороговые значения для каждого из признаков вы будете перебирать. Почему рассматривать другие значения в качестве пороговых не имеет смысла?"
   ]
  },
  {
   "cell_type": "markdown",
   "metadata": {},
   "source": [
    "**Ответ:** в качестве пороговых значений каждого из признаков нужно перебирать не все возможные действительные числа (тем более, это было бы невозможно, так как тогда пришлось бы перебирать бесконечное число вариантов), а только те значения признаков, которые содержатся в обучающей выборке. Другие значения не имеет смысла рассматривать в качестве пороговых, так как каждое из них будет находится между двумя соседними (в порядке возрастания) значениями признака и это никак не поменяет разбиение выборки на 2 части."
   ]
  },
  {
   "cell_type": "markdown",
   "metadata": {},
   "source": [
    "**Структура решающего дерева**\n",
    "\n",
    "<img src=\"https://i.ibb.co/N2W2Zd4/decision-tree-scheme.png\"/>"
   ]
  },
  {
   "cell_type": "code",
   "execution_count": 5,
   "metadata": {
    "ExecuteTime": {
     "end_time": "2020-03-14T14:38:45.224948Z",
     "start_time": "2020-03-14T14:38:45.198916Z"
    },
    "colab": {},
    "colab_type": "code",
    "id": "mjDSEAWmFMBp"
   },
   "outputs": [],
   "source": [
    "def get_not_nans(arr):\n",
    "    '''\n",
    "    Функция, которая создаёт и возвращает новый массив \n",
    "    из всех элементов переданного массива, не являющихся None.\n",
    "    '''\n",
    "    \n",
    "    return arr.copy()[arr != np.nan]\n",
    "\n",
    "\n",
    "class Node(object):\n",
    "    def __init__(self, split_feature=None, split_threshold=None):\n",
    "        '''\n",
    "        Функция инициализации вершины решающего дерева.\n",
    "        \n",
    "        Параметры.\n",
    "        1) split_feature - номер разделяющего признака\n",
    "        2) split_threshold - пороговое значение\n",
    "        '''\n",
    "        \n",
    "        self.split_feature = split_feature\n",
    "        self.split_threshold = split_threshold\n",
    "        # По умолчанию считаем, что у вершины нет дочерних вершин.\n",
    "        self.left_son, self.right_son = None, None\n",
    "        # Вероятности попадания в каждую из дочерних вершин нужно поддерживать \n",
    "        # для корректной обработки данных с пропусками\n",
    "        self.left_prob, self.right_prob = 0, 0\n",
    "        # Массив значений y. Определён только для листовых вершин дерева\n",
    "        self.y_values = None\n",
    "        \n",
    "\n",
    "class BaseDecisionTree(BaseEstimator):\n",
    "    '''\n",
    "    Здесь содержится реализация всех основных функций для работы\n",
    "    с решающим деревом.\n",
    "    \n",
    "    Наследование от класса BaseEstimator нужно для того, чтобы \n",
    "    в дальнейшем данный   класс можно было использовать в \n",
    "    различных функциях библиотеки sklearn, например, в функциях \n",
    "    для кросс-валидации.\n",
    "    '''\n",
    "    \n",
    "    def __init__(self,\n",
    "                 criterion,\n",
    "                 max_depth=np.inf,\n",
    "                 min_samples_split=2):\n",
    "        '''\n",
    "        Функция инициализации решающего дерева.\n",
    "        \n",
    "        Параметры.\n",
    "        1) criterion - критерий информативности, \n",
    "        2) max_depth - максимальная глубина дерева,\n",
    "        3) min_samples_split - минимальное количество элементов \n",
    "        обучающей выборки,  которое должно попасть в вершину, \n",
    "        чтобы потом происходило разбиение этой вершины.\n",
    "        '''\n",
    "        \n",
    "        self.criterion = criterion\n",
    "        self.max_depth = max_depth\n",
    "        self.min_samples_split = min_samples_split\n",
    "        # Список всех вершин дерева. В самом начале \n",
    "        # работы алгоритма есть только одна \n",
    "        # вершина - корень.\n",
    "        self.nodes = [Node()]\n",
    "        # Количество классов. Актуально только \n",
    "        # при решении задачи классификации.\n",
    "        self.class_count = 1\n",
    "        # Сюда нужно будет записать все значения \n",
    "        # для каждого из признаков датасета.\n",
    "        self.feature_values = None\n",
    "    \n",
    "    def build_(self, v, X, y, depth=0):\n",
    "        '''\n",
    "        Рекурсивная функция построения решающего дерева.\n",
    "        \n",
    "        Параметры.\n",
    "        1) v - номер рассматриваемой вершины\n",
    "        2) X, y - обучающая выборка, попавшая в текущую вершину\n",
    "        3) depth - глубина вершины с номером v\n",
    "        '''\n",
    "            \n",
    "        if depth == self.max_depth or len(y) < self.min_samples_split:\n",
    "            # Еcли строим дерево для классификации, то \n",
    "            # сохраняем метки классов всех элементов выборки,\n",
    "            # попавших в вершину.\n",
    "            if callable(getattr(self, \"set_class_count\", None)):\n",
    "                self.nodes[v].y_values = y.copy()\n",
    "            # Для регрессии сразу вычислим среднее всех \n",
    "            # элементов вершины.\n",
    "            else:\n",
    "                self.nodes[v].y_values = np.mean(y)\n",
    "            return\n",
    "        \n",
    "        best_criterion_value = np.inf\n",
    "        best_feature, best_threshold = 0, 0\n",
    "        sample_size, feature_count = X.shape\n",
    "        \n",
    "        # переберём все возможные признаки и значения порогов,\n",
    "        # найдём оптимальный признак и значение порога \n",
    "        # и запишем их в best_feature, best_threshold\n",
    "        for feature_id in range(feature_count):\n",
    "            for threshold in self.feature_values[feature_id]:\n",
    "                # делим вершину по рассматриваемому признаку \n",
    "                # и пороговому значению\n",
    "                y_l = y[np.nan_to_num(X[:, feature_id], threshold) < threshold]\n",
    "                y_r = y[np.nan_to_num(X[:, feature_id], threshold - 1) >= threshold]\n",
    "                if len(y_l) == 0 or len(y_r) == 0:\n",
    "                    continue\n",
    "     \n",
    "                left_fraction = len(y_l) / float(sample_size)\n",
    "                criterion_left = left_fraction * self.criterion(y_l) \n",
    "                criterion_right = (1 - left_fraction) * self.criterion(y_r)\n",
    "                # если для рассматриваемого признака и \n",
    "                # порога значение критерия лучше, чем для\n",
    "                # всех предыдущих пар (признак, порог),\n",
    "                # то обновляем оптимальный признак и\n",
    "                # порог разбиения\n",
    "                if criterion_left + criterion_right < best_criterion_value:\n",
    "                    best_criterion_value = criterion_left + criterion_right\n",
    "                    best_feature = feature_id\n",
    "                    best_threshold = threshold\n",
    "        \n",
    "        # сохраним найденные параметры в класс текущей вершины\n",
    "        self.nodes[v].split_feature = best_feature\n",
    "        self.nodes[v].split_threshold = best_threshold\n",
    "        # разделим выборку на 2 части по порогу\n",
    "        left_indices = np.nan_to_num(X[:, best_feature], \n",
    "                                     best_threshold) < best_threshold\n",
    "        right_indices = np.nan_to_num(X[:, best_feature], \n",
    "                                      best_threshold - 1) >= best_threshold\n",
    "        left_indices_or_nans = np.logical_or(left_indices, \n",
    "                                             X[:, best_feature] == None)\n",
    "        right_indices_or_nans = np.logical_or(right_indices, \n",
    "                                              X[:, best_feature] == None)\n",
    "        \n",
    "        X_l, y_l = X[left_indices_or_nans, :], y[left_indices_or_nans]\n",
    "        X_r, y_r = X[right_indices_or_nans, :], y[right_indices_or_nans]\n",
    "        self.nodes[v].left_prob = np.sum(left_indices) / len(y)\n",
    "        self.nodes[v].right_prob = np.sum(right_indices) / len(y)\n",
    "        \n",
    "        # создаём левую и правую дочерние вершины,\n",
    "        # и кладём их в массив self.nodes \n",
    "        self.nodes.append(Node())\n",
    "        self.nodes.append(Node())\n",
    "        # сохраняем индексы созданных вершин в \n",
    "        # качестве левого и правого сына вершины v\n",
    "        self.nodes[v].left_son, self.nodes[v].right_son \\\n",
    "            = len(self.nodes)-2, len(self.nodes)-1\n",
    "        # рекурсивно вызываем алгоритм построения\n",
    "        # дерева для дочерних вершин\n",
    "        self.build_(self.nodes[v].left_son, X_l, y_l, depth+1)\n",
    "        self.build_(self.nodes[v].right_son, X_r, y_r, depth+1)\n",
    "    \n",
    "    def fit(self, X, y):\n",
    "        '''\n",
    "        Функция, из которой запускается построение \n",
    "        решающего дерева по обучающей выборке.\n",
    "        \n",
    "        Параметры.\n",
    "        X, y - обучающая выборка\n",
    "        '''\n",
    "        \n",
    "        # сохраним заранее все пороги для каждого\n",
    "        # из признаков обучающей выборки\n",
    "        X, y = np.array(X), np.array(y)\n",
    "        self.feature_values = []\n",
    "        for feature_id in range(X.shape[1]):\n",
    "            self.feature_values.append(\n",
    "                np.unique(get_not_nans(X[:, feature_id]))\n",
    "            )\n",
    "            \n",
    "        set_class_count = getattr(self, \"set_class_count\", None)\n",
    "        # если строится дерево для классификации,\n",
    "        # то нужно посчитать количество классов \n",
    "        if callable(set_class_count):\n",
    "            set_class_count(y)\n",
    "        self.build_(0, X, y)"
   ]
  },
  {
   "cell_type": "markdown",
   "metadata": {
    "colab_type": "text",
    "id": "l9fSmo8bFMBz"
   },
   "source": [
    "Теперь, когда общий код решающего дерева написан, нужно сделать обёртки над `BaseDecisionTree` - `DecisionTreeRegressor` и `DecisionTreeClassifier` для использования решающего дерева в задачах регрессии и классификации соответственно.\n",
    "\n",
    "Допишите функции `predict_instance` и `predict_proba_instance` в классах для регрессии и классификации соответственно. В этих функциях нужно для одного элемента $x$ выборки промоделировать спуск в решающем дереве, а затем по листовой вершине, в которой окажется объект, посчитать для классификации - распределение вероятностей, а для регрессии - число $y$."
   ]
  },
  {
   "cell_type": "code",
   "execution_count": 6,
   "metadata": {
    "ExecuteTime": {
     "end_time": "2020-03-14T14:38:45.235957Z",
     "start_time": "2020-03-14T14:38:45.226877Z"
    },
    "colab": {},
    "colab_type": "code",
    "id": "-TsPfPP2FMB0"
   },
   "outputs": [],
   "source": [
    "class DecisionTreeRegressor(BaseDecisionTree):\n",
    "    def predict_instance(self, x, v):\n",
    "        '''\n",
    "        Рекурсивная функция, предсказывающая значение\n",
    "        y для одного элемента x из выборки.\n",
    "        \n",
    "        Параметры.\n",
    "        1) x - элемент выборки, для которого\n",
    "        требуется предсказать значение y\n",
    "        2) v - рассматриваемая вершина дерева\n",
    "        '''\n",
    "        \n",
    "        if self.nodes[v].left_son == None:\n",
    "            return np.mean(self.nodes[v].y_values)\n",
    "        \n",
    "        # если у объекта x значение признака по\n",
    "        # которому происходит разделение,  меньше \n",
    "        # порогового, то спускаемся в левое поддерево,\n",
    "        # иначе - в правое\n",
    "        if x[self.nodes[v].split_feature] < self.nodes[v].split_threshold:\n",
    "            return self.predict_instance(x, self.nodes[v].left_son)\n",
    "        elif x[self.nodes[v].split_feature] >= self.nodes[v].split_threshold:\n",
    "            return self.predict_instance(x, self.nodes[v].right_son)\n",
    "        # а если у элемента отсутствует значение \n",
    "        # разделяющего признака,  то будем спускаться \n",
    "        # в оба поддерева\n",
    "        else:\n",
    "            left_predict = self.predict_instance(x, self.nodes[v].left_son)\n",
    "            right_predict = self.predict_instance(x, self.nodes[v].right_son)\n",
    "            \n",
    "            return self.nodes[v].left_prob * left_predict +\\\n",
    "                   self.nodes[v].right_prob * right_predict\n",
    "    \n",
    "    def predict(self, X):\n",
    "        '''\n",
    "        Функция, предсказывающая значение\n",
    "        y для всех элементов выборки X.\n",
    "        \n",
    "        Параметры.\n",
    "        X - выборка, для которой требуется\n",
    "        получить вектор предсказаний y\n",
    "        '''\n",
    "        \n",
    "        return [self.predict_instance(x, 0) for x in X]"
   ]
  },
  {
   "cell_type": "markdown",
   "metadata": {
    "colab_type": "text",
    "id": "9AIivcf1HsaO"
   },
   "source": [
    "Для удобства реализации функции `predict_proba_instance` класса `DecisionTreeClassifier` будем считать, что все классы имеют целочисленные метки от 0 до $k-1$, где $k$ - количество классов. Если бы это условие не было выполнено, то нужно было бы сначала сделать предобработку меток классов в датасете."
   ]
  },
  {
   "cell_type": "code",
   "execution_count": 7,
   "metadata": {
    "ExecuteTime": {
     "end_time": "2020-03-14T14:38:45.253501Z",
     "start_time": "2020-03-14T14:38:45.239747Z"
    },
    "colab": {},
    "colab_type": "code",
    "id": "XsUijRoCFMCH"
   },
   "outputs": [],
   "source": [
    "class DecisionTreeClassifier(BaseDecisionTree):\n",
    "    def set_class_count(self, y):\n",
    "        '''\n",
    "        Функция, вычисляющая количество классов \n",
    "        в обучающей выборке.\n",
    "        \n",
    "        Параметры.\n",
    "        y - значения класса в обучающей выборке\n",
    "        '''\n",
    "        \n",
    "        self.class_count = np.max(y) + 1\n",
    "    \n",
    "    def predict_proba_instance(self, x, v):\n",
    "        '''\n",
    "        Рекурсивная функция, предсказывающая вектор\n",
    "        вероятностей принадлежности  объекта x\n",
    "        к классам\n",
    "        \n",
    "        Параметры.\n",
    "        1) x - элемент выборки, для которого \n",
    "        требуется предсказать значение y\n",
    "        2) v - вершина дерева, в которой \n",
    "        находится алгоритм\n",
    "        '''\n",
    "        \n",
    "        if self.nodes[v].left_son == None:\n",
    "            result = np.zeros(self.class_count)\n",
    "            classes, counts = np.unique(self.nodes[v].y_values, \n",
    "                                        return_counts=True)\n",
    "            result[classes.astype(int)] = counts\n",
    "            return result / np.sum(result)\n",
    "\n",
    "        # если у x значение признака по которому происходит разделение, \n",
    "        # меньше порогового, то спускаемся в левое поддерево, иначе - в правое\n",
    "        if x[self.nodes[v].split_feature] < self.nodes[v].split_threshold:\n",
    "            return self.predict_proba_instance(x, self.nodes[v].left_son)\n",
    "        elif x[self.nodes[v].split_feature] >= self.nodes[v].split_threshold:\n",
    "            return self.predict_proba_instance(x, self.nodes[v].right_son)\n",
    "        # а если у элемента отсутствует значение разделяющего признака,\n",
    "        # то будем спускаться в оба дерева\n",
    "        else:\n",
    "            left_predict \\\n",
    "                = self.predict_proba_instance(x, self.nodes[v].left_son)\n",
    "            right_predict = \\\n",
    "                self.predict_proba_instance(x, self.nodes[v].right_son)\n",
    "            \n",
    "            return self.nodes[v].left_prob * left_predict +\\\n",
    "                   self.nodes[v].right_prob * right_predict\n",
    "    \n",
    "    def predict_proba(self, X):\n",
    "        '''\n",
    "        Функция, предсказывающая вектор вероятностей\n",
    "        принадлежности объекта x к классам для \n",
    "        каждого x из X\n",
    "        \n",
    "        Параметры.\n",
    "        X - выборка, для которой требуется получить вектор предсказаний y\n",
    "        '''\n",
    "        \n",
    "        return [self.predict_proba_instance(x, 0) for x in X]\n",
    "    \n",
    "    def predict(self, X):\n",
    "        '''\n",
    "        Функция, предсказывающая метку класса для\n",
    "        всех элементов выборки X.\n",
    "        \n",
    "        Параметры.\n",
    "        X - выборка, для которой требуется получить\n",
    "        вектор предсказаний y\n",
    "        '''\n",
    "        \n",
    "        return np.argmax(self.predict_proba(X), axis=1)"
   ]
  },
  {
   "cell_type": "markdown",
   "metadata": {
    "colab_type": "text",
    "id": "2NujQBMOFMCm"
   },
   "source": [
    "**Подбор параметров.**\n",
    "\n",
    "В этой части задания вам предлагается поработать с написанным решающим деревом, применив его к задачи классификации и регрессии, и в обеих задачах подобрать оптимальные параметры для построения.\n",
    "\n",
    "Не забывайте делать выводы."
   ]
  },
  {
   "cell_type": "markdown",
   "metadata": {
    "colab_type": "text",
    "id": "30x4RTGpFMCt"
   },
   "source": [
    "**1. Задача классификации.**"
   ]
  },
  {
   "cell_type": "markdown",
   "metadata": {
    "colab_type": "text",
    "id": "5I1eks7bFMC6"
   },
   "source": [
    "Теперь - самое время протестировать работу написанного нами решающего дерева. Делать мы это будем на датасете для классификации вина из `sklearn`."
   ]
  },
  {
   "cell_type": "code",
   "execution_count": 8,
   "metadata": {
    "ExecuteTime": {
     "end_time": "2020-03-14T14:38:45.283222Z",
     "start_time": "2020-03-14T14:38:45.258725Z"
    },
    "colab": {},
    "colab_type": "code",
    "id": "NCG-nckIFMC6"
   },
   "outputs": [],
   "source": [
    "from sklearn.datasets import load_wine\n",
    "\n",
    "X, y = load_wine(return_X_y=True)"
   ]
  },
  {
   "cell_type": "markdown",
   "metadata": {
    "colab_type": "text",
    "id": "2yBf3dhQFMDF"
   },
   "source": [
    "Для критерия Джини и энтропийного критерия найдите оптимальные параметры обучения дерева - `max_depth` и `min_samples_split`. Используйте для этого кросс-валидацию."
   ]
  },
  {
   "cell_type": "code",
   "execution_count": 9,
   "metadata": {
    "ExecuteTime": {
     "end_time": "2020-03-14T14:38:45.291115Z",
     "start_time": "2020-03-14T14:38:45.288457Z"
    },
    "colab": {},
    "colab_type": "code",
    "id": "jikaHK36FMDI"
   },
   "outputs": [],
   "source": [
    "classification_criteria = [gini_criterion, entropy_criterion]\n",
    "criterion_names = ['gini', 'entropy']"
   ]
  },
  {
   "cell_type": "markdown",
   "metadata": {
    "colab_type": "text",
    "id": "8mBZ2IYHIO1E"
   },
   "source": [
    "Используя кросс-валидацию, найдите оптимальные параметры на обучающей выборке и выведите их вместе с метрикой качества.\n",
    "\n",
    "С начала надо разбить выборку на train и test."
   ]
  },
  {
   "cell_type": "code",
   "execution_count": 10,
   "metadata": {
    "ExecuteTime": {
     "end_time": "2020-03-14T14:38:45.310443Z",
     "start_time": "2020-03-14T14:38:45.293074Z"
    },
    "colab": {},
    "colab_type": "code",
    "id": "rSu5jiN0FMDe"
   },
   "outputs": [],
   "source": [
    "X_train, X_test, y_train, y_test = train_test_split(X, y, random_state=777)"
   ]
  },
  {
   "cell_type": "markdown",
   "metadata": {},
   "source": [
    "Теперь проведите кросс-валидацию для каждого из критериев разбиения вершин."
   ]
  },
  {
   "cell_type": "code",
   "execution_count": 11,
   "metadata": {
    "ExecuteTime": {
     "end_time": "2020-03-14T14:45:50.737212Z",
     "start_time": "2020-03-14T14:38:45.312034Z"
    },
    "colab": {
     "base_uri": "https://localhost:8080/",
     "height": 85
    },
    "colab_type": "code",
    "id": "miKw2S31FMDV",
    "outputId": "faded1e8-804f-47ac-ad88-96c909a35c04",
    "scrolled": false
   },
   "outputs": [
    {
     "name": "stdout",
     "output_type": "stream",
     "text": [
      "Fitting 5 folds for each of 36 candidates, totalling 180 fits\n"
     ]
    },
    {
     "name": "stderr",
     "output_type": "stream",
     "text": [
      "[Parallel(n_jobs=2)]: Using backend LokyBackend with 2 concurrent workers.\n",
      "[Parallel(n_jobs=2)]: Done  28 tasks      | elapsed:    7.6s\n",
      "[Parallel(n_jobs=2)]: Done 124 tasks      | elapsed:  1.4min\n",
      "[Parallel(n_jobs=2)]: Done 180 out of 180 | elapsed:  3.0min finished\n"
     ]
    },
    {
     "name": "stdout",
     "output_type": "stream",
     "text": [
      "Оптимальные параметры для gini: {'max_depth': 3, 'min_samples_split': 3}\n",
      "Точность на тесте: 0.9333333333333333\n",
      "Fitting 5 folds for each of 36 candidates, totalling 180 fits\n"
     ]
    },
    {
     "name": "stderr",
     "output_type": "stream",
     "text": [
      "[Parallel(n_jobs=2)]: Using backend LokyBackend with 2 concurrent workers.\n",
      "[Parallel(n_jobs=2)]: Done  28 tasks      | elapsed:   12.4s\n",
      "[Parallel(n_jobs=2)]: Done 124 tasks      | elapsed:  2.3min\n",
      "[Parallel(n_jobs=2)]: Done 180 out of 180 | elapsed:  4.0min finished\n"
     ]
    },
    {
     "name": "stdout",
     "output_type": "stream",
     "text": [
      "Оптимальные параметры для entropy: {'max_depth': 4, 'min_samples_split': 3}\n",
      "Точность на тесте: 0.9333333333333333\n"
     ]
    }
   ],
   "source": [
    "for criterion, criterion_name in zip(classification_criteria, \n",
    "                                     criterion_names):\n",
    "    dt = GridSearchCV(\n",
    "        estimator=DecisionTreeClassifier(criterion),\n",
    "        param_grid={\n",
    "            'max_depth': np.arange(2, 11),\n",
    "            'min_samples_split': np.arange(3, 7)\n",
    "        },\n",
    "        scoring='accuracy',\n",
    "        cv=5,  # разбиение выборки на 5 фолдов\n",
    "        verbose=3,  # насколько часто печатать сообщения\n",
    "        n_jobs=2,  # кол-во параллельных процессов\n",
    "    )\n",
    "    \n",
    "    dt.fit(X_train, y_train)\n",
    "    predictions = dt.predict(X_test)\n",
    "    \n",
    "    print('Оптимальные параметры для {}:'.format(criterion_name), \n",
    "          dt.best_params_)\n",
    "    accuracy = accuracy_score(y_test, predictions)\n",
    "    print('Точность на тесте:', accuracy)\n",
    "    assert accuracy >= 0.85, \"Something is wrong with your classifier\""
   ]
  },
  {
   "cell_type": "markdown",
   "metadata": {
    "colab_type": "text",
    "id": "YC0az82xFMDb"
   },
   "source": [
    "**Построение графиков.**\n",
    "\n",
    "Постройте графики зависимости accuracy на обучающей и тестовой выборке от максимальной глубины дерева для каждого критерия на train и на test. В качестве максимальной глубины используйте значения от 3 до 7."
   ]
  },
  {
   "cell_type": "markdown",
   "metadata": {
    "colab_type": "text",
    "id": "1CDTRo4XFMDl"
   },
   "source": [
    "Поскольку при кросс-валидации наилучшее значение `min_samples_split` для обоих критериев равно 3, будем строить графики зависимости `accuracy` от `max_depth` при фиксации `min_samples_split`=3."
   ]
  },
  {
   "cell_type": "code",
   "execution_count": 12,
   "metadata": {
    "ExecuteTime": {
     "end_time": "2020-03-14T14:45:50.746267Z",
     "start_time": "2020-03-14T14:45:50.739451Z"
    },
    "colab": {},
    "colab_type": "code",
    "id": "5lW2Z2doFMDl"
   },
   "outputs": [],
   "source": [
    "def plot_graphs(tree_estimator, criterions, scorer, title,\n",
    "                max_depth_list=np.arange(3, 7), min_samples_split=3):\n",
    "    '''\n",
    "    Функция для рисования графиков.\n",
    "    \n",
    "    Параметры.\n",
    "    1) tree_estimator - экземпляр класса решающего дерева,\n",
    "    2) criterions - критерии разбиения дерева,\n",
    "    3) scorer - метрика качества,\n",
    "    4) title - заголовок графика,\n",
    "    5) max_depth_list - список рассматриваемых значений макс.\n",
    "    глубины дерева,\n",
    "    6) min_samples_split - значение параметра min_samples_split.\n",
    "    '''\n",
    "    \n",
    "    plt.figure(figsize=(10, 6))\n",
    "    \n",
    "    for criterion in criterions:\n",
    "        score_train = []\n",
    "        score_test = []\n",
    "        \n",
    "        for max_depth in max_depth_list:\n",
    "            estimator = tree_estimator(criterion[0], max_depth=max_depth, \n",
    "                                       min_samples_split=min_samples_split)\n",
    "            estimator.fit(X_train, y_train)\n",
    "            score_train.append(scorer(estimator.predict(X_train), y_train))\n",
    "            score_test.append(scorer(estimator.predict(X_test), y_test))\n",
    "\n",
    "        plt.plot(max_depth_list, score_train, \n",
    "                 lw=5, alpha=0.7, label='train {}'.format(criterion[1]))\n",
    "        plt.plot(max_depth_list, score_test, \n",
    "                 lw=5, alpha=0.7, label='test {}'.format(criterion[1]))\n",
    "    \n",
    "    plt.xlabel('Максимальная глубина')\n",
    "    plt.ylabel('Значение метрики')\n",
    "    plt.legend()\n",
    "    plt.title(title, fontsize=20)\n",
    "    plt.show()"
   ]
  },
  {
   "cell_type": "code",
   "execution_count": 13,
   "metadata": {
    "ExecuteTime": {
     "end_time": "2020-03-14T14:46:07.333026Z",
     "start_time": "2020-03-14T14:45:50.748246Z"
    },
    "colab": {
     "base_uri": "https://localhost:8080/",
     "height": 410
    },
    "colab_type": "code",
    "id": "FpHqUk4WFMDx",
    "outputId": "d72a11e1-1177-44de-ffc7-435210dc6963"
   },
   "outputs": [
    {
     "data": {
      "image/png": "[encoded data removed]",
      "text/plain": [
       "<Figure size 720x432 with 1 Axes>"
      ]
     },
     "metadata": {
      "needs_background": "light"
     },
     "output_type": "display_data"
    }
   ],
   "source": [
    "plot_graphs(DecisionTreeClassifier, \n",
    "            [(gini_criterion, 'gini'), (entropy_criterion, 'entropy')],\n",
    "            accuracy_score,\n",
    "            'Классификация с использованием критерия Джини\\n' \\\n",
    "            + 'и энтропийного критерия')"
   ]
  },
  {
   "cell_type": "markdown",
   "metadata": {},
   "source": [
    "Сделайте выводы. Почему графики получились такими? Как соотносятся оптимальные значения параметров на обучающей и на тестовой выборках?"
   ]
  },
  {
   "cell_type": "markdown",
   "metadata": {
    "colab_type": "text",
    "id": "j6egUzfSFMD_"
   },
   "source": [
    "**Вывод.**\n",
    "\n",
    "На обоих графиках видно, что с некоторого значения максимальной глубины точность классификации на тестовой выборке перестаёт расти. Это указывает на то, что, возможно, при больших значениях макс. глубины, чем это, происходит переобучение дерева.\n",
    "\n",
    "Решающее дерево, использующее энтропийный критерий при разбиении, дало более высокий результат как на тестовой, так и на обучающей выборке."
   ]
  },
  {
   "cell_type": "markdown",
   "metadata": {
    "colab_type": "text",
    "id": "4-quuqTZFMD_"
   },
   "source": [
    "**2. Задача регрессии.**\n",
    "\n",
    "Проделайте аналогичные шаги для задачи регрессии. В качестве датасете возьмите `boston` из `sklearn`, а в качестве критерия качества возьмите r2_score. Рассмотрим более широкий диапозон значений для `max_depth`: от 3 до 14."
   ]
  },
  {
   "cell_type": "code",
   "execution_count": 14,
   "metadata": {
    "ExecuteTime": {
     "end_time": "2020-03-14T14:46:07.349657Z",
     "start_time": "2020-03-14T14:46:07.335294Z"
    },
    "colab": {},
    "colab_type": "code",
    "id": "3Izzr-GmFMEB"
   },
   "outputs": [],
   "source": [
    "from sklearn.datasets import load_boston\n",
    "\n",
    "boston_X, boston_y = load_boston(return_X_y=True)"
   ]
  },
  {
   "cell_type": "code",
   "execution_count": 15,
   "metadata": {
    "ExecuteTime": {
     "end_time": "2020-03-14T14:46:07.363368Z",
     "start_time": "2020-03-14T14:46:07.356150Z"
    },
    "colab": {},
    "colab_type": "code",
    "id": "s07grx98FMEF"
   },
   "outputs": [],
   "source": [
    "regression_criteria = [mean_square_criterion, mean_abs_criterion]\n",
    "criterion_names = ['mean_square', 'mean_abs']"
   ]
  },
  {
   "cell_type": "markdown",
   "metadata": {},
   "source": [
    "Разобьём выборку на обучение и тест."
   ]
  },
  {
   "cell_type": "code",
   "execution_count": 16,
   "metadata": {
    "ExecuteTime": {
     "end_time": "2020-03-14T14:46:07.374829Z",
     "start_time": "2020-03-14T14:46:07.367616Z"
    },
    "colab": {},
    "colab_type": "code",
    "id": "b-iVP6WRFMEX"
   },
   "outputs": [],
   "source": [
    "X_train, X_test, y_train, y_test = train_test_split(boston_X, boston_y, \n",
    "                                                    random_state=777)"
   ]
  },
  {
   "cell_type": "markdown",
   "metadata": {},
   "source": [
    "Проведите эксперименты, аналогичны тем, что были сделаны для задачи классификации."
   ]
  },
  {
   "cell_type": "code",
   "execution_count": 17,
   "metadata": {
    "ExecuteTime": {
     "end_time": "2020-03-14T14:55:21.570353Z",
     "start_time": "2020-03-14T14:46:07.379603Z"
    },
    "colab": {
     "base_uri": "https://localhost:8080/",
     "height": 85
    },
    "colab_type": "code",
    "id": "8pApK_-dFMEV",
    "outputId": "a074a9b3-0b03-4441-8689-f4bbfd9e9120",
    "scrolled": false
   },
   "outputs": [
    {
     "name": "stdout",
     "output_type": "stream",
     "text": [
      "Fitting 5 folds for each of 9 candidates, totalling 45 fits\n"
     ]
    },
    {
     "name": "stderr",
     "output_type": "stream",
     "text": [
      "[Parallel(n_jobs=2)]: Using backend LokyBackend with 2 concurrent workers.\n",
      "[Parallel(n_jobs=2)]: Done  28 tasks      | elapsed:  1.2min\n",
      "[Parallel(n_jobs=2)]: Done  45 out of  45 | elapsed:  4.0min finished\n"
     ]
    },
    {
     "name": "stdout",
     "output_type": "stream",
     "text": [
      "Оптимальные параметры для mean_square: {'max_depth': 4, 'min_samples_split': 3}\n",
      "r2_score на тесте: 0.6752210376459766\n",
      "Fitting 5 folds for each of 9 candidates, totalling 45 fits\n"
     ]
    },
    {
     "name": "stderr",
     "output_type": "stream",
     "text": [
      "[Parallel(n_jobs=2)]: Using backend LokyBackend with 2 concurrent workers.\n",
      "[Parallel(n_jobs=2)]: Done  28 tasks      | elapsed:  1.6min\n",
      "[Parallel(n_jobs=2)]: Done  45 out of  45 | elapsed:  5.1min finished\n"
     ]
    },
    {
     "name": "stdout",
     "output_type": "stream",
     "text": [
      "Оптимальные параметры для mean_abs: {'max_depth': 4, 'min_samples_split': 3}\n",
      "r2_score на тесте: 0.6397486631555982\n"
     ]
    }
   ],
   "source": [
    "for criterion, criterion_name in zip(regression_criteria, criterion_names):\n",
    "    dt_regressor = GridSearchCV(\n",
    "        estimator=DecisionTreeRegressor(criterion),\n",
    "        param_grid={\n",
    "            'max_depth': np.arange(2, 11)\n",
    "        },\n",
    "        scoring='r2',\n",
    "        cv=5,  # разбиение выборки на 5 фолдов\n",
    "        verbose=3,  # насколько часто печатать сообщения\n",
    "        n_jobs=2,  # кол-во параллельных процессов\n",
    "    )\n",
    "    \n",
    "    dt_regressor.fit(X_train, y_train)\n",
    "    predictions = dt_regressor.predict(X_test)\n",
    "    \n",
    "    print('Оптимальные параметры для {}:'.format(criterion_name), \n",
    "          dt.best_params_)\n",
    "    print('r2_score на тесте:', r2_score(y_test, predictions))"
   ]
  },
  {
   "cell_type": "markdown",
   "metadata": {
    "colab_type": "text",
    "id": "hOjLid-LFMEX"
   },
   "source": [
    "**Вывод.** \n",
    "\n",
    "В данном случае оптимальные параметры для обоих критериев разбиения совпадают. Однако, видно, что критерий, основанный на mse, даёт гораздо более высокий результат."
   ]
  },
  {
   "cell_type": "code",
   "execution_count": 18,
   "metadata": {
    "ExecuteTime": {
     "end_time": "2020-03-14T14:56:25.754256Z",
     "start_time": "2020-03-14T14:55:21.572411Z"
    },
    "colab": {
     "base_uri": "https://localhost:8080/",
     "height": 410
    },
    "colab_type": "code",
    "id": "ALrDG3RIFMEb",
    "outputId": "ff7a46ae-a125-4b63-a4a8-7aaa28c8a307"
   },
   "outputs": [
    {
     "data": {
      "image/png": "[encoded data removed]",
      "text/plain": [
       "<Figure size 720x432 with 1 Axes>"
      ]
     },
     "metadata": {
      "needs_background": "light"
     },
     "output_type": "display_data"
    }
   ],
   "source": [
    "plot_graphs(DecisionTreeRegressor, \n",
    "            [(mean_square_criterion, 'mse'), (mean_abs_criterion, 'mae')], \n",
    "            r2_score,\n",
    "            'Регрессия с использованием критериев MSE и MAE',\n",
    "            max_depth_list=range(3, 8))"
   ]
  },
  {
   "cell_type": "markdown",
   "metadata": {},
   "source": [
    "Сделайте вывод, в котором объясните, почему графики получились такими.\n",
    "\n",
    "Скорее всего, вы заметили, что дерево в этих экспериментах строится довольно медленно. Как можно ускорить его построение? Можно ли ускорить нахождение оптимального разбиения по некоторому вещественному признаку?"
   ]
  },
  {
   "cell_type": "markdown",
   "metadata": {
    "colab_type": "text",
    "id": "w6JQ-G7RFMEh"
   },
   "source": [
    "**Вывод.**\n",
    "\n",
    "Качество результатов, выдаваемых решающим деревом, построенным с использованием mae критерия, оказалось значительно выше, чем даёт дерево, использующее mse критерий. Но, тем не менее, на втором графике видно, что при `max_depth > 5` решающее дерево  начинает переобучаться, так как `score` на обучающей выборке растёт, а на тестовой - падает.\n",
    "\n",
    "Можно ускорить пострение решающего дерева, снизив асимптотику разбиения по признаку с $O(u^2)$ до $O(u)$, где $u$ - количество различных значений признака."
   ]
  },
  {
   "cell_type": "markdown",
   "metadata": {},
   "source": [
    "### Обработка пропусков с использованием решающих деревьев."
   ]
  },
  {
   "cell_type": "markdown",
   "metadata": {},
   "source": [
    "А теперь рассмотрим датасет, в котором часть данных пропущена. В качестве примера возьмём датасет https://archive.ics.uci.edu/ml/datasets/Adult для определения категории дохода работников, по таким признакам, как возраст, образование, специальность, класс работы, пол, кол-во отрабатываемых часов в неделю и некоторым другим."
   ]
  },
  {
   "cell_type": "code",
   "execution_count": 19,
   "metadata": {
    "ExecuteTime": {
     "end_time": "2020-03-14T14:56:25.758501Z",
     "start_time": "2020-03-14T14:56:25.755795Z"
    }
   },
   "outputs": [],
   "source": [
    "column_names = [\n",
    "    'age', 'workclass', 'fnlwgt', 'education1', \n",
    "    'education2', 'marital-status', 'occupation', \n",
    "    'relationship', 'race', 'sex', 'capital-gain',\n",
    "    'capital-loss', 'hours-per-week', 'native-country', 'target'\n",
    "]"
   ]
  },
  {
   "cell_type": "markdown",
   "metadata": {},
   "source": [
    "Поскольку предсказание в дереве на данных с пропусками часто занимает сильно больше времени, чем в случае отсутствия пропусков (так как часто приходится спускаться разу в 2 поддерева), то для экономии времени сократим датасет, взяв из него только первые 2000 строк данных."
   ]
  },
  {
   "cell_type": "code",
   "execution_count": 20,
   "metadata": {
    "ExecuteTime": {
     "end_time": "2020-03-14T14:56:25.935213Z",
     "start_time": "2020-03-14T14:56:25.760121Z"
    }
   },
   "outputs": [
    {
     "data": {
      "text/html": [
       "<div>\n",
       "<style scoped>\n",
       "    .dataframe tbody tr th:only-of-type {\n",
       "        vertical-align: middle;\n",
       "    }\n",
       "\n",
       "    .dataframe tbody tr th {\n",
       "        vertical-align: top;\n",
       "    }\n",
       "\n",
       "    .dataframe thead th {\n",
       "        text-align: right;\n",
       "    }\n",
       "</style>\n",
       "<table border=\"1\" class=\"dataframe\">\n",
       "  <thead>\n",
       "    <tr style=\"text-align: right;\">\n",
       "      <th></th>\n",
       "      <th>age</th>\n",
       "      <th>workclass</th>\n",
       "      <th>fnlwgt</th>\n",
       "      <th>education1</th>\n",
       "      <th>education2</th>\n",
       "      <th>marital-status</th>\n",
       "      <th>occupation</th>\n",
       "      <th>relationship</th>\n",
       "      <th>race</th>\n",
       "      <th>sex</th>\n",
       "      <th>capital-gain</th>\n",
       "      <th>capital-loss</th>\n",
       "      <th>hours-per-week</th>\n",
       "      <th>native-country</th>\n",
       "    </tr>\n",
       "  </thead>\n",
       "  <tbody>\n",
       "    <tr>\n",
       "      <th>0</th>\n",
       "      <td>39</td>\n",
       "      <td>State-gov</td>\n",
       "      <td>77516</td>\n",
       "      <td>Bachelors</td>\n",
       "      <td>13</td>\n",
       "      <td>Never-married</td>\n",
       "      <td>Adm-clerical</td>\n",
       "      <td>Not-in-family</td>\n",
       "      <td>White</td>\n",
       "      <td>Male</td>\n",
       "      <td>2174</td>\n",
       "      <td>0</td>\n",
       "      <td>40</td>\n",
       "      <td>United-States</td>\n",
       "    </tr>\n",
       "    <tr>\n",
       "      <th>1</th>\n",
       "      <td>50</td>\n",
       "      <td>Self-emp-not-inc</td>\n",
       "      <td>83311</td>\n",
       "      <td>Bachelors</td>\n",
       "      <td>13</td>\n",
       "      <td>Married-civ-spouse</td>\n",
       "      <td>Exec-managerial</td>\n",
       "      <td>Husband</td>\n",
       "      <td>White</td>\n",
       "      <td>Male</td>\n",
       "      <td>0</td>\n",
       "      <td>0</td>\n",
       "      <td>13</td>\n",
       "      <td>United-States</td>\n",
       "    </tr>\n",
       "    <tr>\n",
       "      <th>2</th>\n",
       "      <td>38</td>\n",
       "      <td>Private</td>\n",
       "      <td>215646</td>\n",
       "      <td>HS-grad</td>\n",
       "      <td>9</td>\n",
       "      <td>Divorced</td>\n",
       "      <td>Handlers-cleaners</td>\n",
       "      <td>Not-in-family</td>\n",
       "      <td>White</td>\n",
       "      <td>Male</td>\n",
       "      <td>0</td>\n",
       "      <td>0</td>\n",
       "      <td>40</td>\n",
       "      <td>United-States</td>\n",
       "    </tr>\n",
       "    <tr>\n",
       "      <th>3</th>\n",
       "      <td>53</td>\n",
       "      <td>Private</td>\n",
       "      <td>234721</td>\n",
       "      <td>11th</td>\n",
       "      <td>7</td>\n",
       "      <td>Married-civ-spouse</td>\n",
       "      <td>Handlers-cleaners</td>\n",
       "      <td>Husband</td>\n",
       "      <td>Black</td>\n",
       "      <td>Male</td>\n",
       "      <td>0</td>\n",
       "      <td>0</td>\n",
       "      <td>40</td>\n",
       "      <td>United-States</td>\n",
       "    </tr>\n",
       "    <tr>\n",
       "      <th>4</th>\n",
       "      <td>28</td>\n",
       "      <td>Private</td>\n",
       "      <td>338409</td>\n",
       "      <td>Bachelors</td>\n",
       "      <td>13</td>\n",
       "      <td>Married-civ-spouse</td>\n",
       "      <td>Prof-specialty</td>\n",
       "      <td>Wife</td>\n",
       "      <td>Black</td>\n",
       "      <td>Female</td>\n",
       "      <td>0</td>\n",
       "      <td>0</td>\n",
       "      <td>40</td>\n",
       "      <td>Cuba</td>\n",
       "    </tr>\n",
       "  </tbody>\n",
       "</table>\n",
       "</div>"
      ],
      "text/plain": [
       "   age          workclass  fnlwgt  education1  education2  \\\n",
       "0   39          State-gov   77516   Bachelors          13   \n",
       "1   50   Self-emp-not-inc   83311   Bachelors          13   \n",
       "2   38            Private  215646     HS-grad           9   \n",
       "3   53            Private  234721        11th           7   \n",
       "4   28            Private  338409   Bachelors          13   \n",
       "\n",
       "        marital-status          occupation    relationship    race      sex  \\\n",
       "0        Never-married        Adm-clerical   Not-in-family   White     Male   \n",
       "1   Married-civ-spouse     Exec-managerial         Husband   White     Male   \n",
       "2             Divorced   Handlers-cleaners   Not-in-family   White     Male   \n",
       "3   Married-civ-spouse   Handlers-cleaners         Husband   Black     Male   \n",
       "4   Married-civ-spouse      Prof-specialty            Wife   Black   Female   \n",
       "\n",
       "   capital-gain  capital-loss  hours-per-week  native-country  \n",
       "0          2174             0              40   United-States  \n",
       "1             0             0              13   United-States  \n",
       "2             0             0              40   United-States  \n",
       "3             0             0              40   United-States  \n",
       "4             0             0              40            Cuba  "
      ]
     },
     "execution_count": 20,
     "metadata": {},
     "output_type": "execute_result"
    }
   ],
   "source": [
    "adult_df = pd.read_csv('adult.data', header=None)[:2000]\n",
    "adult_df.columns = column_names\n",
    "target = adult_df['target'] == ' >50K'\n",
    "adult_df = adult_df.drop(['target'], axis=1)\n",
    "adult_df.head()"
   ]
  },
  {
   "cell_type": "code",
   "execution_count": 21,
   "metadata": {
    "ExecuteTime": {
     "end_time": "2020-03-14T14:56:25.941222Z",
     "start_time": "2020-03-14T14:56:25.938622Z"
    }
   },
   "outputs": [
    {
     "data": {
      "text/plain": [
       "(2000, 14)"
      ]
     },
     "execution_count": 21,
     "metadata": {},
     "output_type": "execute_result"
    }
   ],
   "source": [
    "adult_df.shape"
   ]
  },
  {
   "cell_type": "markdown",
   "metadata": {},
   "source": [
    "Предобработаем датасет, заменив категориальные признаки one-hot векторами."
   ]
  },
  {
   "cell_type": "code",
   "execution_count": 22,
   "metadata": {
    "ExecuteTime": {
     "end_time": "2020-03-14T14:56:25.980660Z",
     "start_time": "2020-03-14T14:56:25.942704Z"
    }
   },
   "outputs": [
    {
     "data": {
      "text/html": [
       "<div>\n",
       "<style scoped>\n",
       "    .dataframe tbody tr th:only-of-type {\n",
       "        vertical-align: middle;\n",
       "    }\n",
       "\n",
       "    .dataframe tbody tr th {\n",
       "        vertical-align: top;\n",
       "    }\n",
       "\n",
       "    .dataframe thead th {\n",
       "        text-align: right;\n",
       "    }\n",
       "</style>\n",
       "<table border=\"1\" class=\"dataframe\">\n",
       "  <thead>\n",
       "    <tr style=\"text-align: right;\">\n",
       "      <th></th>\n",
       "      <th>age</th>\n",
       "      <th>fnlwgt</th>\n",
       "      <th>education2</th>\n",
       "      <th>capital-gain</th>\n",
       "      <th>capital-loss</th>\n",
       "      <th>hours-per-week</th>\n",
       "      <th>workclass_ ?</th>\n",
       "      <th>workclass_ Federal-gov</th>\n",
       "      <th>workclass_ Local-gov</th>\n",
       "      <th>workclass_ Private</th>\n",
       "      <th>...</th>\n",
       "      <th>native-country_ Poland</th>\n",
       "      <th>native-country_ Portugal</th>\n",
       "      <th>native-country_ Puerto-Rico</th>\n",
       "      <th>native-country_ Scotland</th>\n",
       "      <th>native-country_ South</th>\n",
       "      <th>native-country_ Taiwan</th>\n",
       "      <th>native-country_ Thailand</th>\n",
       "      <th>native-country_ Trinadad&amp;Tobago</th>\n",
       "      <th>native-country_ United-States</th>\n",
       "      <th>native-country_ Yugoslavia</th>\n",
       "    </tr>\n",
       "  </thead>\n",
       "  <tbody>\n",
       "    <tr>\n",
       "      <th>0</th>\n",
       "      <td>39</td>\n",
       "      <td>77516</td>\n",
       "      <td>13</td>\n",
       "      <td>2174</td>\n",
       "      <td>0</td>\n",
       "      <td>40</td>\n",
       "      <td>0</td>\n",
       "      <td>0</td>\n",
       "      <td>0</td>\n",
       "      <td>0</td>\n",
       "      <td>...</td>\n",
       "      <td>0</td>\n",
       "      <td>0</td>\n",
       "      <td>0</td>\n",
       "      <td>0</td>\n",
       "      <td>0</td>\n",
       "      <td>0</td>\n",
       "      <td>0</td>\n",
       "      <td>0</td>\n",
       "      <td>1</td>\n",
       "      <td>0</td>\n",
       "    </tr>\n",
       "    <tr>\n",
       "      <th>1</th>\n",
       "      <td>50</td>\n",
       "      <td>83311</td>\n",
       "      <td>13</td>\n",
       "      <td>0</td>\n",
       "      <td>0</td>\n",
       "      <td>13</td>\n",
       "      <td>0</td>\n",
       "      <td>0</td>\n",
       "      <td>0</td>\n",
       "      <td>0</td>\n",
       "      <td>...</td>\n",
       "      <td>0</td>\n",
       "      <td>0</td>\n",
       "      <td>0</td>\n",
       "      <td>0</td>\n",
       "      <td>0</td>\n",
       "      <td>0</td>\n",
       "      <td>0</td>\n",
       "      <td>0</td>\n",
       "      <td>1</td>\n",
       "      <td>0</td>\n",
       "    </tr>\n",
       "    <tr>\n",
       "      <th>2</th>\n",
       "      <td>38</td>\n",
       "      <td>215646</td>\n",
       "      <td>9</td>\n",
       "      <td>0</td>\n",
       "      <td>0</td>\n",
       "      <td>40</td>\n",
       "      <td>0</td>\n",
       "      <td>0</td>\n",
       "      <td>0</td>\n",
       "      <td>1</td>\n",
       "      <td>...</td>\n",
       "      <td>0</td>\n",
       "      <td>0</td>\n",
       "      <td>0</td>\n",
       "      <td>0</td>\n",
       "      <td>0</td>\n",
       "      <td>0</td>\n",
       "      <td>0</td>\n",
       "      <td>0</td>\n",
       "      <td>1</td>\n",
       "      <td>0</td>\n",
       "    </tr>\n",
       "    <tr>\n",
       "      <th>3</th>\n",
       "      <td>53</td>\n",
       "      <td>234721</td>\n",
       "      <td>7</td>\n",
       "      <td>0</td>\n",
       "      <td>0</td>\n",
       "      <td>40</td>\n",
       "      <td>0</td>\n",
       "      <td>0</td>\n",
       "      <td>0</td>\n",
       "      <td>1</td>\n",
       "      <td>...</td>\n",
       "      <td>0</td>\n",
       "      <td>0</td>\n",
       "      <td>0</td>\n",
       "      <td>0</td>\n",
       "      <td>0</td>\n",
       "      <td>0</td>\n",
       "      <td>0</td>\n",
       "      <td>0</td>\n",
       "      <td>1</td>\n",
       "      <td>0</td>\n",
       "    </tr>\n",
       "    <tr>\n",
       "      <th>4</th>\n",
       "      <td>28</td>\n",
       "      <td>338409</td>\n",
       "      <td>13</td>\n",
       "      <td>0</td>\n",
       "      <td>0</td>\n",
       "      <td>40</td>\n",
       "      <td>0</td>\n",
       "      <td>0</td>\n",
       "      <td>0</td>\n",
       "      <td>1</td>\n",
       "      <td>...</td>\n",
       "      <td>0</td>\n",
       "      <td>0</td>\n",
       "      <td>0</td>\n",
       "      <td>0</td>\n",
       "      <td>0</td>\n",
       "      <td>0</td>\n",
       "      <td>0</td>\n",
       "      <td>0</td>\n",
       "      <td>0</td>\n",
       "      <td>0</td>\n",
       "    </tr>\n",
       "  </tbody>\n",
       "</table>\n",
       "<p>5 rows × 102 columns</p>\n",
       "</div>"
      ],
      "text/plain": [
       "   age  fnlwgt  education2  capital-gain  capital-loss  hours-per-week  \\\n",
       "0   39   77516          13          2174             0              40   \n",
       "1   50   83311          13             0             0              13   \n",
       "2   38  215646           9             0             0              40   \n",
       "3   53  234721           7             0             0              40   \n",
       "4   28  338409          13             0             0              40   \n",
       "\n",
       "   workclass_ ?  workclass_ Federal-gov  workclass_ Local-gov  \\\n",
       "0             0                       0                     0   \n",
       "1             0                       0                     0   \n",
       "2             0                       0                     0   \n",
       "3             0                       0                     0   \n",
       "4             0                       0                     0   \n",
       "\n",
       "   workclass_ Private  ...  native-country_ Poland  native-country_ Portugal  \\\n",
       "0                   0  ...                       0                         0   \n",
       "1                   0  ...                       0                         0   \n",
       "2                   1  ...                       0                         0   \n",
       "3                   1  ...                       0                         0   \n",
       "4                   1  ...                       0                         0   \n",
       "\n",
       "   native-country_ Puerto-Rico  native-country_ Scotland  \\\n",
       "0                            0                         0   \n",
       "1                            0                         0   \n",
       "2                            0                         0   \n",
       "3                            0                         0   \n",
       "4                            0                         0   \n",
       "\n",
       "   native-country_ South  native-country_ Taiwan  native-country_ Thailand  \\\n",
       "0                      0                       0                         0   \n",
       "1                      0                       0                         0   \n",
       "2                      0                       0                         0   \n",
       "3                      0                       0                         0   \n",
       "4                      0                       0                         0   \n",
       "\n",
       "   native-country_ Trinadad&Tobago  native-country_ United-States  \\\n",
       "0                                0                              1   \n",
       "1                                0                              1   \n",
       "2                                0                              1   \n",
       "3                                0                              1   \n",
       "4                                0                              0   \n",
       "\n",
       "   native-country_ Yugoslavia  \n",
       "0                           0  \n",
       "1                           0  \n",
       "2                           0  \n",
       "3                           0  \n",
       "4                           0  \n",
       "\n",
       "[5 rows x 102 columns]"
      ]
     },
     "execution_count": 22,
     "metadata": {},
     "output_type": "execute_result"
    }
   ],
   "source": [
    "adult_df = pd.get_dummies(adult_df)\n",
    "adult_df.head()"
   ]
  },
  {
   "cell_type": "markdown",
   "metadata": {},
   "source": [
    "Поскольку все пропущенные значения относились к категориальным признакам и помечались в датасете знаком `?`, то для каждого категориального признака `feature` исходного датасета надо выполнить следующую процедуру: рассмотреть признак `feature_?` нового датасета и для всех строк, для которых выполнено `feature_?=1`, значениях всех признаков с префиксом `feature` установить в `None`. "
   ]
  },
  {
   "cell_type": "code",
   "execution_count": 23,
   "metadata": {
    "ExecuteTime": {
     "end_time": "2020-03-14T14:56:26.094482Z",
     "start_time": "2020-03-14T14:56:25.985597Z"
    },
    "scrolled": false
   },
   "outputs": [],
   "source": [
    "for feature in column_names:\n",
    "    if f'{feature}_ ?' in adult_df.columns:\n",
    "        none_indices = np.arange(adult_df.shape[0])[\n",
    "            adult_df[f'{feature}_ ?'] == 1\n",
    "        ]\n",
    "        \n",
    "        for dummy_feature in adult_df.columns:\n",
    "            if dummy_feature.startswith(f'{feature}_ ') \\\n",
    "                and dummy_feature != f'{feature}_ ?':\n",
    "                adult_df[dummy_feature][none_indices] = np.nan\n",
    "                \n",
    "        adult_df = adult_df.drop(f'{feature}_ ?', axis=1)"
   ]
  },
  {
   "cell_type": "markdown",
   "metadata": {},
   "source": [
    "Посмотрим на распределение пропущенных значений по признакам."
   ]
  },
  {
   "cell_type": "code",
   "execution_count": 24,
   "metadata": {
    "ExecuteTime": {
     "end_time": "2020-03-14T14:56:26.104206Z",
     "start_time": "2020-03-14T14:56:26.096207Z"
    }
   },
   "outputs": [
    {
     "data": {
      "text/plain": [
       "age                                 0\n",
       "fnlwgt                              0\n",
       "education2                          0\n",
       "capital-gain                        0\n",
       "capital-loss                        0\n",
       "                                   ..\n",
       "native-country_ Taiwan             39\n",
       "native-country_ Thailand           39\n",
       "native-country_ Trinadad&Tobago    39\n",
       "native-country_ United-States      39\n",
       "native-country_ Yugoslavia         39\n",
       "Length: 99, dtype: int64"
      ]
     },
     "execution_count": 24,
     "metadata": {},
     "output_type": "execute_result"
    }
   ],
   "source": [
    "np.sum(adult_df.isnull(), axis=0)"
   ]
  },
  {
   "cell_type": "markdown",
   "metadata": {},
   "source": [
    "Разобьём данные на обучающую и тестовую выборки в отношении 3:1."
   ]
  },
  {
   "cell_type": "code",
   "execution_count": 25,
   "metadata": {
    "ExecuteTime": {
     "end_time": "2020-03-14T14:56:26.115913Z",
     "start_time": "2020-03-14T14:56:26.105947Z"
    }
   },
   "outputs": [],
   "source": [
    "X_train, X_test, y_train, y_test = train_test_split(\n",
    "    adult_df.values, target.values, random_state=777\n",
    ")"
   ]
  },
  {
   "cell_type": "markdown",
   "metadata": {},
   "source": [
    "При помощи кросс-валидации найдём оптимальные гиперпараметры для каждого из критериев разбиения для классификации."
   ]
  },
  {
   "cell_type": "code",
   "execution_count": 26,
   "metadata": {
    "ExecuteTime": {
     "end_time": "2020-03-14T15:38:23.789617Z",
     "start_time": "2020-03-14T14:56:26.118040Z"
    }
   },
   "outputs": [
    {
     "name": "stdout",
     "output_type": "stream",
     "text": [
      "Fitting 5 folds for each of 32 candidates, totalling 160 fits\n"
     ]
    },
    {
     "name": "stderr",
     "output_type": "stream",
     "text": [
      "[Parallel(n_jobs=2)]: Using backend LokyBackend with 2 concurrent workers.\n",
      "[Parallel(n_jobs=2)]: Done  28 tasks      | elapsed:   28.1s\n",
      "[Parallel(n_jobs=2)]: Done 124 tasks      | elapsed: 10.3min\n",
      "[Parallel(n_jobs=2)]: Done 160 out of 160 | elapsed: 19.1min finished\n"
     ]
    },
    {
     "name": "stdout",
     "output_type": "stream",
     "text": [
      "Оптимальные параметры для mean_square: {'max_depth': 4, 'min_samples_split': 3}\n",
      "Точность на тесте: 0.832\n",
      "Fitting 5 folds for each of 32 candidates, totalling 160 fits\n"
     ]
    },
    {
     "name": "stderr",
     "output_type": "stream",
     "text": [
      "[Parallel(n_jobs=2)]: Using backend LokyBackend with 2 concurrent workers.\n",
      "[Parallel(n_jobs=2)]: Done  28 tasks      | elapsed:   25.8s\n",
      "[Parallel(n_jobs=2)]: Done 124 tasks      | elapsed:  9.9min\n",
      "[Parallel(n_jobs=2)]: Done 160 out of 160 | elapsed: 22.6min finished\n"
     ]
    },
    {
     "name": "stdout",
     "output_type": "stream",
     "text": [
      "Оптимальные параметры для mean_abs: {'max_depth': 4, 'min_samples_split': 3}\n",
      "Точность на тесте: 0.832\n"
     ]
    }
   ],
   "source": [
    "for criterion, criterion_name in zip(classification_criteria, \n",
    "                                     criterion_names):\n",
    "    dt_classifier = GridSearchCV(\n",
    "        estimator=DecisionTreeClassifier(criterion),\n",
    "        param_grid={\n",
    "            'max_depth': np.arange(2, 10),\n",
    "            'min_samples_split': np.arange(3, 7)\n",
    "        },\n",
    "        scoring='accuracy',\n",
    "        cv=5,  # разбиение выборки на 5 фолдов\n",
    "        verbose=3,  # насколько часто печатать сообщения\n",
    "        n_jobs=2,  # кол-во параллельных процессов\n",
    "    )\n",
    "    \n",
    "    dt_classifier.fit(X_train, y_train)\n",
    "    predictions = dt_classifier.predict(X_test)\n",
    "    \n",
    "    print('Оптимальные параметры для {}:'.format(criterion_name), \n",
    "          dt.best_params_)\n",
    "    accuracy = accuracy_score(y_test, predictions)\n",
    "    print('Точность на тесте:', accuracy)"
   ]
  },
  {
   "cell_type": "markdown",
   "metadata": {},
   "source": [
    "Проведите эксперименты c построением графиков, аналогичные тем, что были сделаны в предыдущем пункте для задач классификации и регрессии."
   ]
  },
  {
   "cell_type": "code",
   "execution_count": 27,
   "metadata": {
    "ExecuteTime": {
     "end_time": "2020-03-14T15:39:41.290417Z",
     "start_time": "2020-03-14T15:38:23.803214Z"
    }
   },
   "outputs": [
    {
     "data": {
      "image/png": "[encoded data removed]",
      "text/plain": [
       "<Figure size 720x432 with 1 Axes>"
      ]
     },
     "metadata": {
      "needs_background": "light"
     },
     "output_type": "display_data"
    }
   ],
   "source": [
    "plot_graphs(\n",
    "    DecisionTreeClassifier, \n",
    "    [(gini_criterion, 'gini'), (entropy_criterion, 'entropy')],\n",
    "    accuracy_score, \n",
    "    'Классификация с использованием критерия Джини\\n'\n",
    "    'и энтропийного критерия по данным с пропусками'\n",
    ")"
   ]
  },
  {
   "cell_type": "markdown",
   "metadata": {},
   "source": [
    "**Вывод.**\n",
    "\n",
    "По графикам видно, что дерево начинается переобучаться для макс. глубины >= 5. Также можно заметить, что использование критерия Джини даёт лучшие результаты как на обучающей, так и на тестовой выборке."
   ]
  }
 ],
 "metadata": {
  "colab": {
   "collapsed_sections": [],
   "name": "decision_tree1_solution.ipynb",
   "provenance": []
  },
  "kernelspec": {
   "display_name": "Python 3",
   "language": "python",
   "name": "python3"
  },
  "language_info": {
   "codemirror_mode": {
    "name": "ipython",
    "version": 3
   },
   "file_extension": ".py",
   "mimetype": "text/x-python",
   "name": "python",
   "nbconvert_exporter": "python",
   "pygments_lexer": "ipython3",
   "version": "3.7.3"
  }
 },
 "nbformat": 4,
 "nbformat_minor": 1
}
